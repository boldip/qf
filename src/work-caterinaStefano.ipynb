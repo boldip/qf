{
 "cells": [
  {
   "cell_type": "code",
   "execution_count": 1,
   "id": "d4364c55",
   "metadata": {},
   "outputs": [],
   "source": [
    "from hypergraphs import *\n",
    "from kegg import *\n",
    "import pandas as pd\n",
    "import os\n",
    "import logging\n",
    "\n",
    "from Bio.KEGG.KGML.KGML_parser import read\n",
    "from ast import literal_eval\n",
    "from urllib.request import urlopen\n",
    "from urllib.parse import quote_plus\n",
    "from bs4 import BeautifulSoup\n",
    "import requests\n",
    "from Levenshtein import ratio\n",
    "import scipy.stats\n",
    "import pathlib\n",
    "from qf.cc import cardon_crochemore_colored, cardon_crochemore\n",
    "import random"
   ]
  },
  {
   "cell_type": "code",
   "execution_count": 2,
   "id": "6b13e6bf",
   "metadata": {},
   "outputs": [],
   "source": [
    "organismDict = {\"hsa\": \"Homo sapiens (human)\"}\n",
    "outputDirectory = \"/Users/boldi/Desktop/pw/\"\n",
    "inputDirectory = \"../../LaTeX/Data/KEGG-Pathways/Nov2023/\"\n",
    "dataDirectory = \"../../LaTeX/Data/KEGG-Pathways\""
   ]
  },
  {
   "cell_type": "code",
   "execution_count": 3,
   "id": "3e6caae5",
   "metadata": {},
   "outputs": [],
   "source": [
    "pws = pd.read_csv(os.path.join(inputDirectory, \"KEGG-pathways.txt\"), header=0, \n",
    "            names=[\"Pathway ID\", \"Pathway type\", \"Pathway name\"], dtype=\"string\", keep_default_na=False)\n"
   ]
  },
  {
   "cell_type": "code",
   "execution_count": 4,
   "id": "199b2487",
   "metadata": {},
   "outputs": [],
   "source": [
    "superpathwayDict = {\n",
    "    \"Involved\": [(x,y) for x,y in zip(pws[\"Pathway ID\"], pws[\"Pathway name\"])]\n",
    "}"
   ]
  },
  {
   "cell_type": "code",
   "execution_count": 5,
   "id": "bce1e1d2",
   "metadata": {},
   "outputs": [],
   "source": [
    "superpathway = \"Involved\"\n",
    "organism = \"hsa\""
   ]
  },
  {
   "cell_type": "code",
   "execution_count": 6,
   "id": "cb8e2d96",
   "metadata": {},
   "outputs": [],
   "source": [
    "safeSuperpathway = makesafe(superpathway)"
   ]
  },
  {
   "cell_type": "code",
   "execution_count": 7,
   "id": "47a38c39",
   "metadata": {},
   "outputs": [],
   "source": [
    "def words2set(words):\n",
    "    \"\"\"\n",
    "        Given a space-separated list of words, returns it as a set of words\n",
    "    \"\"\"\n",
    "    return set(words.split())"
   ]
  },
  {
   "cell_type": "code",
   "execution_count": 8,
   "id": "8e0a74d1",
   "metadata": {},
   "outputs": [],
   "source": [
    "from typing import NamedTuple\n",
    "\n",
    "class Relation(NamedTuple):\n",
    "    \"\"\"\n",
    "        Represents a relation. It is characterized by:\n",
    "        - a type (e.g. \"PPRel\") \n",
    "        - a list of subtypes (e.g. [('activation', '-->'), ('indirect effect', '..>')])\n",
    "        - a set of components (source)\n",
    "        - a list of sets of components (target)\n",
    "    \"\"\"\n",
    "    relType: str\n",
    "    relSubtypes: list\n",
    "    source: set\n",
    "    target: list\n",
    "\n",
    "    @classmethod\n",
    "    def fromKEGG(cls, relation, pathway):\n",
    "        \"\"\"\n",
    "            Constructor: builds a Relation from a KEGG relation\n",
    "        \"\"\"\n",
    "        if relation.entry2.name == \"undefined\":\n",
    "            s = []\n",
    "            for component in relation.entry2.components:\n",
    "                s += [words2set(pathway.entries[component.id].name)]\n",
    "        else:\n",
    "            s = [words2set(relation.entry2.name)]\n",
    "        return cls(relation.type, relation.subtypes, words2set(relation.entry1.name), s)\n",
    "        "
   ]
  },
  {
   "cell_type": "code",
   "execution_count": 9,
   "id": "5ba5d2e0",
   "metadata": {},
   "outputs": [],
   "source": [
    "def relationsFromKEGGpathway(pathway):\n",
    "    \"\"\"\n",
    "        Given a KEGG pathway, returns the list of relations it contains (represented as Relation).\n",
    "    \"\"\"\n",
    "    return [Relation.fromKEGG(r, pathway) for r in pathway.relations]\n",
    "    "
   ]
  },
  {
   "cell_type": "code",
   "execution_count": 10,
   "id": "751bc16c",
   "metadata": {},
   "outputs": [],
   "source": [
    "def pathwayFromFile(dataDirectory, organism, pathwayID):\n",
    "    return KGML_parser.read(open(os.path.join(dataDirectory, organism, organism+pathwayID+\".xml\"), \"r\"))"
   ]
  },
  {
   "cell_type": "code",
   "execution_count": 11,
   "id": "bd27fdc2",
   "metadata": {},
   "outputs": [],
   "source": [
    "def relationsFromFile(dataDirectory, organism, pathwayID):\n",
    "    \"\"\"\n",
    "        Given a pathway file (specified by a root dataDirectory, the name of the organism subdirectory, and the name\n",
    "        of the file [organism+pathwayID.xml]), reads it and returns the list of its relations.\n",
    "    \"\"\"\n",
    "    pathway = pathwayFromFile(dataDirectory, organism, pathwayID)\n",
    "    return relationsFromKEGGpathway(pathway)"
   ]
  },
  {
   "cell_type": "code",
   "execution_count": 12,
   "id": "eaa01766",
   "metadata": {},
   "outputs": [],
   "source": [
    "def relationsForSuperpathway(dataDirectory, organism, superpathwayDict, superpathway):\n",
    "    \"\"\"\n",
    "        Given a superpathDict (whose keys are superpathway names and whose values are list of\n",
    "        pairs (pathwayID, pathwayName)), reads all the pathway file for a specific superpathway name\n",
    "        and returns a dictionary whose keys are the pathwayID's and whose values are the list of relations.\n",
    "    \"\"\"\n",
    "    rel = {}\n",
    "    for k,v in superpathwayDict[superpathway]:\n",
    "        #logging.info(\"Reading\", k, v)\n",
    "        rel[k] = relationsFromFile(dataDirectory, organism, k)\n",
    "    return rel"
   ]
  },
  {
   "cell_type": "code",
   "execution_count": 13,
   "id": "15479a1c",
   "metadata": {},
   "outputs": [],
   "source": [
    "def subtypes(rel):\n",
    "    \"\"\"\n",
    "        Given a map whose values are relations, accumulate all subtypes appearing and assign them a number.\n",
    "        The result is a map from subtype string to number.\n",
    "    \"\"\"\n",
    "    all_subtypes = set([])\n",
    "    for pathwayid, relations in rel.items():\n",
    "        for relation in relations:\n",
    "            all_subtypes |= set([str(relation.relSubtypes)])\n",
    "        \n",
    "    s = sorted(list(all_subtypes))\n",
    "    subtype2color = {v:k for k,v in enumerate(s)}\n",
    "\n",
    "    return subtype2color"
   ]
  },
  {
   "cell_type": "code",
   "execution_count": 14,
   "id": "1e229eaf-d667-466c-8238-8205257b0ccc",
   "metadata": {},
   "outputs": [],
   "source": [
    "def set2can(s):\n",
    "    \"\"\"\n",
    "        Convert a set to a string in a canonical way.\n",
    "    \"\"\"\n",
    "    return str(sorted(list(s)))\n",
    "\n",
    "def can2set(c):\n",
    "    \"\"\"\n",
    "        Does the converse of set2can.\n",
    "    \"\"\"\n",
    "    return set(literal_eval(c))"
   ]
  },
  {
   "cell_type": "code",
   "execution_count": 15,
   "id": "75b272b9-b220-492b-adf6-509f9952842f",
   "metadata": {},
   "outputs": [],
   "source": [
    "def indices(rel):\n",
    "    \"\"\"\n",
    "        Given a map whose values are lists of relations, it considers all the relations one by one, and attributes a unique id \n",
    "        to each element (i.e., set of components appearing as source or in the target of some relation) and block (the set of\n",
    "        element id appearing as target of some relation).\n",
    "        This function returns the dictionaries to move from/to an element or block to the corresponding id.\n",
    "        Elements are string representations of sorted lists of strings.\n",
    "        Blocks are string representations of sorted lists of ints.\n",
    "    \"\"\"\n",
    "    element2id = {}\n",
    "    id2element = {}\n",
    "    block2id = {}\n",
    "    id2block = {}\n",
    "\n",
    "    for relations in rel.values():\n",
    "        for relation in relations:\n",
    "            s = set2can(relation.source)\n",
    "            if s not in element2id.keys():\n",
    "                element2id[s] = len(element2id)\n",
    "            targetset = set([])\n",
    "            for targ in relation.target:\n",
    "                t = set2can(targ)\n",
    "                if t not in element2id.keys():\n",
    "                    element2id[t] = len(element2id)\n",
    "                targetset |= set([element2id[t]])\n",
    "            ts = set2can(targetset)\n",
    "            if ts not in block2id.keys():\n",
    "                block2id[ts] = len(block2id)\n",
    "\n",
    "    for k,v in element2id.items():\n",
    "        id2element[v] = k\n",
    "    for k,v in block2id.items():\n",
    "        id2block[v] = k\n",
    "    return element2id, id2element, block2id, id2block\n"
   ]
  },
  {
   "cell_type": "code",
   "execution_count": 16,
   "id": "f9c3f128-cf97-4bb3-8ce5-65c49f865d98",
   "metadata": {},
   "outputs": [],
   "source": [
    "def search_gene_KEGG(geneID):\n",
    "    \"\"\"\n",
    "        Search for gene on KEGG. \n",
    "        \n",
    "        Returns list of names.\n",
    "    \"\"\"\n",
    "    url1 = \"https://www.kegg.jp/entry/\"+geneID\n",
    "    response1 = requests.get(url1, allow_redirects=False)    \n",
    "    soup = BeautifulSoup(response1.text, \"html.parser\")\n",
    "    tds = [tds for tds in soup.find_all(\"td\", {\"class\": \"td11 defd\"})]\n",
    "    names = tds[0].getText().strip().split(\", \")\n",
    "    return names"
   ]
  },
  {
   "cell_type": "code",
   "execution_count": 17,
   "id": "0a11bbae",
   "metadata": {},
   "outputs": [],
   "source": [
    "rel = relationsForSuperpathway(dataDirectory, organism, superpathwayDict, superpathway)\n",
    "element2id, id2element, block2id, id2block = indices(rel)\n",
    "subtype2color = subtypes(rel)\n",
    "elements = list(set.union(*[can2set(k) for k in element2id.keys()]))"
   ]
  },
  {
   "cell_type": "code",
   "execution_count": 18,
   "id": "a1be8c2d-c5da-4e04-bf67-7e43b1a71b7a",
   "metadata": {},
   "outputs": [
    {
     "name": "stdout",
     "output_type": "stream",
     "text": [
      "Reading gene names\n"
     ]
    }
   ],
   "source": [
    "# name2gene is a function mapping names to gene IDs (hsa:xxxx)\n",
    "# e.g. KCNE3, BRGDA6 etc are all mapped to hsa:10008 (see https://www.kegg.jp/entry/hsa:10008)\n",
    "# This map was produced by scraping kegg, but this has been done only once.\n",
    "# After that, we just read a pkl file\n",
    "\n",
    "name2keggFilename = os.path.join(inputDirectory, \"name2kegg.pkl\")\n",
    "\n",
    "if os.path.exists(name2keggFilename):\n",
    "    print(\"Reading gene names\")\n",
    "    with open(name2keggFilename, \"rb\") as handle:\n",
    "        name2gene = pickle.load(handle)\n",
    "else:\n",
    "    print(\"Producing gene names\")\n",
    "    d = {}\n",
    "    nelements = len(elements)\n",
    "    for count,element in enumerate(elements):\n",
    "        if count % 10 == 0:\n",
    "            print(f\"{count}/{nelements}\")\n",
    "        if element.startswith(\"hsa\"):\n",
    "            names = search_gene_KEGG(element)\n",
    "            for name in names:\n",
    "                d[name] = element\n",
    "    with open(name2keggFilename, \"wb\") as handle:\n",
    "        pickle.dump(d, handle, protocol=pickle.HIGHEST_PROTOCOL)\n",
    "    name2gene = d"
   ]
  },
  {
   "cell_type": "code",
   "execution_count": 19,
   "id": "74d19326",
   "metadata": {},
   "outputs": [
    {
     "name": "stdout",
     "output_type": "stream",
     "text": [
      "Reading patient data\n"
     ]
    }
   ],
   "source": [
    "# Read patient data\n",
    "print(\"Reading patient data\")\n",
    "genes = pd.read_csv(os.path.join(inputDirectory, \"genes.csv\"))\n",
    "patients = genes[\"name\"].values.tolist()\n",
    "classification = pd.read_csv(os.path.join(inputDirectory, \"classification.csv\"))\n",
    "\n",
    "patient2class = {patient: classification.loc[classification[\"name\"]==patient][\"classification\"].values.flatten().tolist()[0] for patient in patients}"
   ]
  },
  {
   "cell_type": "code",
   "execution_count": 20,
   "id": "34acce33",
   "metadata": {},
   "outputs": [],
   "source": [
    "# Dividing genes into two frames (one for healthy individuals and one for diseased individuals)\n",
    "genesHealthy = genes.loc[genes[\"name\"].apply(lambda x: patient2class[x])==\"healthy\"]\n",
    "genesDiseased = genes.loc[genes[\"name\"].apply(lambda x: patient2class[x])==\"diseased\"]"
   ]
  },
  {
   "cell_type": "code",
   "execution_count": 21,
   "id": "1c90f901-1413-4356-bfa8-faf25fc494df",
   "metadata": {},
   "outputs": [
    {
     "name": "stdout",
     "output_type": "stream",
     "text": [
      "Building the relation graph\n"
     ]
    }
   ],
   "source": [
    "# Building the graph of all relations contained in rel values\n",
    "# Nodes are IDs, and node x correspond to the set of genes (and/or compound) id2element[x]\n",
    "print(\"Building the relation graph\")\n",
    "G = nx.DiGraph() \n",
    "for relations in rel.values():\n",
    "    for relation in relations:\n",
    "        source = element2id[set2can(relation.source)]\n",
    "        for targ in relation.target:\n",
    "            target = element2id[set2can(targ)]\n",
    "            G.add_edge(source, target, color=subtype2color[str(relation.relSubtypes)])\n",
    "            \n",
    "\n",
    "# Computing the minimum fibres\n",
    "cc=cardon_crochemore_colored(G)\n",
    "\n",
    "colors = list(matplotlib.colors.CSS4_COLORS.values())\n",
    "usedColors = 0\n",
    "\n",
    "cc2fibresize = {}\n",
    "ccnontrivial = {}\n",
    "nontrivialclass2col = {}\n",
    "\n",
    "\n",
    "for v in set(cc.values()):\n",
    "    fibre = [x for x in G.nodes() if cc[x] == v]\n",
    "    cc2fibresize[v] = len(fibre)\n",
    "    if len(fibre) > 0:\n",
    "        ccnontrivial[v] = cc[v]\n",
    "        nontrivialclass2col[v] = colors[usedColors]\n",
    "        usedColors += 1"
   ]
  },
  {
   "cell_type": "code",
   "execution_count": 22,
   "id": "d51dbd7f-35b9-444a-9238-3af727c06411",
   "metadata": {},
   "outputs": [
    {
     "name": "stdout",
     "output_type": "stream",
     "text": [
      "Mapping genes to columns\n"
     ]
    }
   ],
   "source": [
    "# Build node2columns, mapping each node of G to the list of genes corresponding to it\n",
    "# for which we know a value (in the genes dataframe), sorted\n",
    "#\n",
    "\n",
    "print(\"Mapping genes to columns\")\n",
    "namedGenes = set(name2gene.values())     \n",
    "columns = set(genes.columns.values.tolist()[2:])\n",
    "node2columns = {}\n",
    "for node in G.nodes():\n",
    "    nodeGenes = can2set(id2element[node])\n",
    "    s = []\n",
    "    for gene in nodeGenes & namedGenes:\n",
    "        for k,v in name2gene.items():\n",
    "            if v == gene:\n",
    "                if k in columns:\n",
    "                    s += [k]\n",
    "    node2columns[node]=sorted(s)"
   ]
  },
  {
   "cell_type": "code",
   "execution_count": 23,
   "id": "05b96661",
   "metadata": {},
   "outputs": [],
   "source": [
    "for pair in superpathwayDict[superpathway]:\n",
    "    pathwayID = pair[0]\n",
    "    pathway = pathwayFromFile(dataDirectory, organism, pathwayID)\n",
    "    canvas = KGMLCanvas(pathway)\n",
    "    for k in pathway.entries:\n",
    "        name = pathway.entries[k].name\n",
    "        canonicalName = set2can(words2set(name))\n",
    "        if canonicalName in element2id.keys():\n",
    "            node = element2id[canonicalName]\n",
    "            klass = cc[node]\n",
    "            if klass in nontrivialclass2col:\n",
    "                pathway.entries[k].graphics[0].bgcolor = nontrivialclass2col[klass]\n",
    "                pathway.entries[k].graphics[0].fgcolor = nontrivialclass2col[klass]\n",
    "            else:\n",
    "                pathway.entries[k].graphics[0].bgcolor = \"#FFFFFF\"\n",
    "                pathway.enries[k].graphics[0].fgcolor = \"#FFFFFF\"\n",
    "    canvas.import_imagemap = True\n",
    "    pdfName = organism + pathwayID + \".pdf\"\n",
    "    pathlib.Path(os.path.join(\"/Users/boldi/Desktop/\", organism, safeSuperpathway)).mkdir(parents=True, exist_ok=True)\n",
    "    canvas.draw(os.path.join(\"/Users/boldi/Desktop/\", organism, safeSuperpathway, pdfName))"
   ]
  },
  {
   "cell_type": "code",
   "execution_count": 24,
   "id": "73ce2fd3",
   "metadata": {},
   "outputs": [],
   "source": [
    "def columns2nodes(columns, node2columns, ignoreEmpty = True):\n",
    "    \"\"\"\n",
    "        Returns a map from columns to the nodes where the column appears.\n",
    "    \"\"\"\n",
    "    res = {} \n",
    "    for c in columns:\n",
    "        s = set([])\n",
    "        for no, co in node2columns.items():\n",
    "            if c in co:\n",
    "                s |= set([no])\n",
    "        if len(s) > 0 or not ignoreEmpty:\n",
    "            res[c] = s\n",
    "    return res\n",
    "\n",
    "c2n = columns2nodes(columns, node2columns)\n",
    "usableColumns = list(c2n.keys())"
   ]
  },
  {
   "cell_type": "code",
   "execution_count": 25,
   "id": "17ab34ab",
   "metadata": {},
   "outputs": [],
   "source": [
    "def areRelated(column1, column2, column2nodes, node2color):\n",
    "    nodes1 = column2nodes[column1]\n",
    "    nodes2 = column2nodes[column2]\n",
    "    colors1 = set([node2color[node] for node in nodes1])\n",
    "    colors2 = set([node2color[node] for node in nodes2])\n",
    "    return len(colors1 & colors2) > 0"
   ]
  },
  {
   "cell_type": "code",
   "execution_count": 64,
   "id": "32b16bfb",
   "metadata": {},
   "outputs": [],
   "source": [
    "reltaus = []\n",
    "unreltaus = []\n",
    "\n",
    "for i in range(100000):\n",
    "    gene1 = random.choice(usableColumns)\n",
    "    gene2 = random.choice(usableColumns)\n",
    "    expr1 = genesDiseased.loc[:,gene1].values.tolist()\n",
    "    expr2 = genesDiseased.loc[:,gene2].values.tolist()\n",
    "    tau = scipy.stats.kendalltau(expr1, expr2).statistic\n",
    "    if areRelated(gene1, gene2, c2n, cc):\n",
    "        reltaus += [tau]\n",
    "    else:\n",
    "        unreltaus += [tau]\n"
   ]
  },
  {
   "cell_type": "code",
   "execution_count": 65,
   "id": "c3555373",
   "metadata": {},
   "outputs": [
    {
     "data": {
      "text/plain": [
       "KstestResult(statistic=0.021618514730070093, pvalue=0.0003914472499652708, statistic_location=-0.05892255892255892, statistic_sign=-1)"
      ]
     },
     "execution_count": 65,
     "metadata": {},
     "output_type": "execute_result"
    }
   ],
   "source": [
    "scipy.stats.ks_2samp(reltaus, unreltaus, alternative=\"two-sided\")"
   ]
  },
  {
   "cell_type": "code",
   "execution_count": 66,
   "id": "37e952b0",
   "metadata": {},
   "outputs": [
    {
     "data": {
      "text/plain": [
       "KstestResult(statistic=0.021618514730070093, pvalue=0.00019557445134984312, statistic_location=-0.05892255892255892, statistic_sign=-1)"
      ]
     },
     "execution_count": 66,
     "metadata": {},
     "output_type": "execute_result"
    }
   ],
   "source": [
    "scipy.stats.ks_2samp(reltaus, unreltaus, alternative=\"less\")"
   ]
  },
  {
   "cell_type": "code",
   "execution_count": 67,
   "id": "bd5c8993",
   "metadata": {},
   "outputs": [
    {
     "data": {
      "text/plain": [
       "KstestResult(statistic=0.0005458418701589614, pvalue=0.9941822849349551, statistic_location=-0.46554621848739497, statistic_sign=1)"
      ]
     },
     "execution_count": 67,
     "metadata": {},
     "output_type": "execute_result"
    }
   ],
   "source": [
    "scipy.stats.ks_2samp(reltaus, unreltaus, alternative=\"greater\")"
   ]
  },
  {
   "cell_type": "code",
   "execution_count": 60,
   "id": "690bff08",
   "metadata": {},
   "outputs": [],
   "source": [
    "reltaus = []\n",
    "unreltaus = []\n",
    "\n",
    "for i in range(100000):\n",
    "    gene1 = random.choice(usableColumns)\n",
    "    gene2 = random.choice(usableColumns)\n",
    "    expr1 = genesHealthy.loc[:,gene1].values.tolist()\n",
    "    expr2 = genesHealthy.loc[:,gene2].values.tolist()\n",
    "    tau = scipy.stats.kendalltau(expr1, expr2).statistic\n",
    "    if areRelated(gene1, gene2, c2n, cc):\n",
    "        reltaus += [tau]\n",
    "    else:\n",
    "        unreltaus += [tau]\n"
   ]
  },
  {
   "cell_type": "code",
   "execution_count": 61,
   "id": "378bebf7",
   "metadata": {},
   "outputs": [
    {
     "data": {
      "text/plain": [
       "KstestResult(statistic=0.030802416640844987, pvalue=5.635623881763356e-08, statistic_location=-0.054321153242603365, statistic_sign=-1)"
      ]
     },
     "execution_count": 61,
     "metadata": {},
     "output_type": "execute_result"
    }
   ],
   "source": [
    "scipy.stats.ks_2samp(reltaus, unreltaus, alternative=\"two-sided\")"
   ]
  },
  {
   "cell_type": "code",
   "execution_count": 62,
   "id": "4aab5954",
   "metadata": {},
   "outputs": [
    {
     "data": {
      "text/plain": [
       "KstestResult(statistic=0.030802416640844987, pvalue=2.8197272545478592e-08, statistic_location=-0.054321153242603365, statistic_sign=-1)"
      ]
     },
     "execution_count": 62,
     "metadata": {},
     "output_type": "execute_result"
    }
   ],
   "source": [
    "scipy.stats.ks_2samp(reltaus, unreltaus, alternative=\"less\")"
   ]
  },
  {
   "cell_type": "code",
   "execution_count": 63,
   "id": "02e8912f",
   "metadata": {},
   "outputs": [
    {
     "data": {
      "text/plain": [
       "KstestResult(statistic=8.703008148434841e-05, pvalue=0.9997974928047285, statistic_location=-0.6502463054187192, statistic_sign=1)"
      ]
     },
     "execution_count": 63,
     "metadata": {},
     "output_type": "execute_result"
    }
   ],
   "source": [
    "scipy.stats.ks_2samp(reltaus, unreltaus, alternative=\"greater\")"
   ]
  },
  {
   "cell_type": "code",
   "execution_count": 39,
   "id": "2f6c78a9",
   "metadata": {},
   "outputs": [
    {
     "data": {
      "text/plain": [
       "376"
      ]
     },
     "execution_count": 39,
     "metadata": {},
     "output_type": "execute_result"
    }
   ],
   "source": [
    "G.number_of_edges()"
   ]
  },
  {
   "cell_type": "code",
   "execution_count": null,
   "id": "0221d23b",
   "metadata": {},
   "outputs": [],
   "source": []
  }
 ],
 "metadata": {
  "kernelspec": {
   "display_name": "qf",
   "language": "python",
   "name": "qf"
  },
  "language_info": {
   "codemirror_mode": {
    "name": "ipython",
    "version": 3
   },
   "file_extension": ".py",
   "mimetype": "text/x-python",
   "name": "python",
   "nbconvert_exporter": "python",
   "pygments_lexer": "ipython3",
   "version": "3.9.17"
  }
 },
 "nbformat": 4,
 "nbformat_minor": 5
}
