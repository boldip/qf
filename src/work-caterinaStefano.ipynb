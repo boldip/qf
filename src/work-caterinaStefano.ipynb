{
 "cells": [
  {
   "cell_type": "code",
   "execution_count": 1,
   "id": "d4364c55",
   "metadata": {},
   "outputs": [],
   "source": [
    "from hypergraphs import *\n",
    "from kegg import *\n",
    "import pandas as pd\n",
    "import os"
   ]
  },
  {
   "cell_type": "code",
   "execution_count": 2,
   "id": "6b13e6bf",
   "metadata": {},
   "outputs": [],
   "source": [
    "inputDirectory = \"/Users/boldi/Desktop/data/\"\n",
    "organismDict = {\"hsa\": \"Homo sapiens (human)\"}\n",
    "outputDirectory = \"/Users/boldi/Desktop/pw/\"\n",
    "dataDirectory = \"../../LaTeX/Data/KEGG-Pathways/hsa\""
   ]
  },
  {
   "cell_type": "code",
   "execution_count": 3,
   "id": "3e6caae5",
   "metadata": {},
   "outputs": [],
   "source": [
    "pws = pd.read_csv(os.path.join(inputDirectory, \"KEGG-pathways.txt\"), header=0, \n",
    "            names=[\"Pathway ID\", \"Pathway type\", \"Pathway name\"], dtype=\"string\", keep_default_na=False)\n"
   ]
  },
  {
   "cell_type": "code",
   "execution_count": 4,
   "id": "199b2487",
   "metadata": {},
   "outputs": [],
   "source": [
    "superpathwayDict = {\n",
    "    \"Involved\": [(x,y) for x,y in zip(pws[\"Pathway ID\"], pws[\"Pathway name\"])]\n",
    "}"
   ]
  },
  {
   "cell_type": "code",
   "execution_count": 5,
   "id": "bce1e1d2",
   "metadata": {},
   "outputs": [],
   "source": [
    "superpathway = \"Involved\"\n",
    "organism = \"hsa\""
   ]
  },
  {
   "cell_type": "code",
   "execution_count": 6,
   "id": "cb8e2d96",
   "metadata": {},
   "outputs": [],
   "source": [
    "safeSuperpathway = makesafe(superpathway)"
   ]
  },
  {
   "cell_type": "code",
   "execution_count": 140,
   "id": "3f48d886",
   "metadata": {},
   "outputs": [],
   "source": [
    "from Bio.KEGG.KGML.KGML_parser import read\n",
    "\n",
    "pathway = KGML_parser.read(kegg_get(\"hsa04510\", \"kgml\"))\n"
   ]
  },
  {
   "cell_type": "code",
   "execution_count": 145,
   "id": "47a38c39",
   "metadata": {},
   "outputs": [],
   "source": [
    "a = set([])\n",
    "for p in superpathwayDict[superpathway]:\n",
    "    pathway = KGML_parser.read(kegg_get(organism+p[0], \"kgml\"))\n",
    "    a = a | set([str((relation.type, relation.subtypes)) for relation in pathway.relations])"
   ]
  },
  {
   "cell_type": "code",
   "execution_count": 146,
   "id": "0a11bbae",
   "metadata": {},
   "outputs": [
    {
     "name": "stdout",
     "output_type": "stream",
     "text": [
      "{\"('PPrel', [('phosphorylation', '+p'), ('indirect effect', '..>')])\", \"('PPrel', [('state change', '...')])\", \"('GErel', [('expression', '-->')])\", \"('PCrel', [('activation', '-->')])\", \"('PPrel', [('inhibition', '--|'), ('indirect effect', '..>')])\", \"('PCrel', [('inhibition', '--|')])\", \"('PCrel', [('activation', '-->'), ('indirect effect', '..>')])\", \"('PPrel', [('compound', 277), ('activation', '-->')])\", \"('PPrel', [('compound', 24)])\", \"('PPrel', [('compound', 25)])\", \"('PPrel', [('inhibition', '--|'), ('dephosphorylation', '-p')])\", \"('PPrel', [])\", \"('PPrel', [('inhibition', '--|')])\", \"('PCrel', [('indirect effect', '..>')])\", \"('PCrel', [('inhibition', '--|'), ('dephosphorylation', '-p')])\", \"('PPrel', [('indirect effect', '..>')])\", \"('ECrel', [('compound', 170), ('activation', '-->'), ('indirect effect', '..>')])\", \"('PPrel', [('inhibition', '--|'), ('phosphorylation', '+p')])\", \"('PPrel', [('activation', '-->'), ('indirect effect', '..>')])\", \"('PPrel', [('binding/association', '---')])\", \"('PPrel', [('activation', '-->')])\", \"('PPrel', [('activation', '-->'), ('phosphorylation', '+p')])\", \"('PPrel', [('phosphorylation', '+p')])\", \"('PPrel', [('inhibition', '--|'), ('ubiquitination', '+u')])\", \"('PPrel', [('activation', '-->'), ('dephosphorylation', '-p')])\"}\n"
     ]
    }
   ],
   "source": [
    "print(a)"
   ]
  },
  {
   "cell_type": "code",
   "execution_count": 103,
   "id": "00ce398f",
   "metadata": {},
   "outputs": [
    {
     "ename": "IndexError",
     "evalue": "list index out of range",
     "output_type": "error",
     "traceback": [
      "\u001b[0;31m---------------------------------------------------------------------------\u001b[0m",
      "\u001b[0;31mIndexError\u001b[0m                                Traceback (most recent call last)",
      "Cell \u001b[0;32mIn[103], line 1\u001b[0m\n\u001b[0;32m----> 1\u001b[0m \u001b[38;5;28mprint\u001b[39m(pathway\u001b[38;5;241m.\u001b[39mentries[\u001b[38;5;28;43mlist\u001b[39;49m\u001b[43m(\u001b[49m\u001b[43mpathway\u001b[49m\u001b[38;5;241;43m.\u001b[39;49m\u001b[43mrelations\u001b[49m\u001b[43m[\u001b[49m\u001b[38;5;241;43m0\u001b[39;49m\u001b[43m]\u001b[49m\u001b[38;5;241;43m.\u001b[39;49m\u001b[43mentry2\u001b[49m\u001b[38;5;241;43m.\u001b[39;49m\u001b[43mcomponents\u001b[49m\u001b[43m)\u001b[49m\u001b[43m[\u001b[49m\u001b[38;5;241;43m0\u001b[39;49m\u001b[43m]\u001b[49m\u001b[38;5;241m.\u001b[39mid]\u001b[38;5;241m.\u001b[39mname)   \u001b[38;5;66;03m# Alpha-1\u001b[39;00m\n\u001b[1;32m      2\u001b[0m \u001b[38;5;28mprint\u001b[39m(pathway\u001b[38;5;241m.\u001b[39mentries[\u001b[38;5;28mlist\u001b[39m(pathway\u001b[38;5;241m.\u001b[39mrelations[\u001b[38;5;241m0\u001b[39m]\u001b[38;5;241m.\u001b[39mentry2\u001b[38;5;241m.\u001b[39mcomponents)[\u001b[38;5;241m1\u001b[39m]\u001b[38;5;241m.\u001b[39mid]\u001b[38;5;241m.\u001b[39mname)   \u001b[38;5;66;03m# Beta-5\u001b[39;00m\n",
      "\u001b[0;31mIndexError\u001b[0m: list index out of range"
     ]
    }
   ],
   "source": [
    "print(pathway.entries[list(pathway.relations[0].entry2.components)[0].id].name)   # Alpha-1\n",
    "print(pathway.entries[list(pathway.relations[0].entry2.components)[1].id].name)   # Beta-5"
   ]
  },
  {
   "cell_type": "code",
   "execution_count": 104,
   "id": "c96b4fec",
   "metadata": {},
   "outputs": [
    {
     "data": {
      "text/plain": [
       "'hsa:5290 hsa:5291 hsa:5293 hsa:5295 hsa:5296 hsa:8503'"
      ]
     },
     "execution_count": 104,
     "metadata": {},
     "output_type": "execute_result"
    }
   ],
   "source": [
    "pathway.relations[1].entry1.name   # Collagens"
   ]
  },
  {
   "cell_type": "code",
   "execution_count": 105,
   "id": "0ad52b1d",
   "metadata": {},
   "outputs": [
    {
     "ename": "IndexError",
     "evalue": "list index out of range",
     "output_type": "error",
     "traceback": [
      "\u001b[0;31m---------------------------------------------------------------------------\u001b[0m",
      "\u001b[0;31mIndexError\u001b[0m                                Traceback (most recent call last)",
      "Cell \u001b[0;32mIn[105], line 1\u001b[0m\n\u001b[0;32m----> 1\u001b[0m \u001b[38;5;28mprint\u001b[39m(pathway\u001b[38;5;241m.\u001b[39mentries[\u001b[38;5;28;43mlist\u001b[39;49m\u001b[43m(\u001b[49m\u001b[43mpathway\u001b[49m\u001b[38;5;241;43m.\u001b[39;49m\u001b[43mrelations\u001b[49m\u001b[43m[\u001b[49m\u001b[38;5;241;43m1\u001b[39;49m\u001b[43m]\u001b[49m\u001b[38;5;241;43m.\u001b[39;49m\u001b[43mentry2\u001b[49m\u001b[38;5;241;43m.\u001b[39;49m\u001b[43mcomponents\u001b[49m\u001b[43m)\u001b[49m\u001b[43m[\u001b[49m\u001b[38;5;241;43m0\u001b[39;49m\u001b[43m]\u001b[49m\u001b[38;5;241m.\u001b[39mid]\u001b[38;5;241m.\u001b[39mname)   \u001b[38;5;66;03m# Alpha-9\u001b[39;00m\n\u001b[1;32m      2\u001b[0m \u001b[38;5;28mprint\u001b[39m(pathway\u001b[38;5;241m.\u001b[39mentries[\u001b[38;5;28mlist\u001b[39m(pathway\u001b[38;5;241m.\u001b[39mrelations[\u001b[38;5;241m1\u001b[39m]\u001b[38;5;241m.\u001b[39mentry2\u001b[38;5;241m.\u001b[39mcomponents)[\u001b[38;5;241m1\u001b[39m]\u001b[38;5;241m.\u001b[39mid]\u001b[38;5;241m.\u001b[39mname)   \u001b[38;5;66;03m# Beta-1\u001b[39;00m\n",
      "\u001b[0;31mIndexError\u001b[0m: list index out of range"
     ]
    }
   ],
   "source": [
    "print(pathway.entries[list(pathway.relations[1].entry2.components)[0].id].name)   # Alpha-9\n",
    "print(pathway.entries[list(pathway.relations[1].entry2.components)[1].id].name)   # Beta-1"
   ]
  },
  {
   "cell_type": "code",
   "execution_count": 100,
   "id": "03c817e0",
   "metadata": {},
   "outputs": [
    {
     "name": "stdout",
     "output_type": "stream",
     "text": [
      "Entry node ID: 84\n",
      "Names: hsa:1277 hsa:1278 hsa:1280 hsa:1282 hsa:1284 hsa:1285 hsa:1286 hsa:1287 hsa:1288 hsa:1291 hsa:1292 hsa:1293 hsa:1297 hsa:1298 hsa:1299 hsa:131873 hsa:256076\n",
      "Type: gene\n",
      "Components: set()\n",
      "Reactions: \n",
      "Graphics elements: 1 [<Bio.KEGG.KGML.KGML_pathway.Graphics object at 0x140dea910>]\n",
      "\n",
      "Entry node ID: 31\n",
      "Names: hsa:10319 hsa:22798 hsa:284217 hsa:3908 hsa:3909 hsa:3910 hsa:3911 hsa:3912 hsa:3913 hsa:3914 hsa:3915 hsa:3918\n",
      "Type: gene\n",
      "Components: set()\n",
      "Reactions: \n",
      "Graphics elements: 1 [<Bio.KEGG.KGML.KGML_pathway.Graphics object at 0x144ebd2e0>]\n",
      "\n",
      "Entry node ID: 66\n",
      "Names: hsa:6696\n",
      "Type: gene\n",
      "Components: set()\n",
      "Reactions: \n",
      "Graphics elements: 1 [<Bio.KEGG.KGML.KGML_pathway.Graphics object at 0x140dc8640>]\n",
      "\n",
      "Entry node ID: 57\n",
      "Names: hsa:3371 hsa:63923 hsa:7143 hsa:7148\n",
      "Type: gene\n",
      "Components: set()\n",
      "Reactions: \n",
      "Graphics elements: 1 [<Bio.KEGG.KGML.KGML_pathway.Graphics object at 0x140dd06a0>]\n",
      "\n"
     ]
    }
   ],
   "source": [
    "for relation in pathway.relations:\n",
    "    components = list(relation.entry2.components)\n",
    "    if {pathway.entries[component.id].name for component in components}=={'hsa:3680', 'hsa:3688'}:\n",
    "        print(pathway.entries[relation.entry1.id])\n"
   ]
  },
  {
   "cell_type": "code",
   "execution_count": 7,
   "id": "2316bcd8",
   "metadata": {},
   "outputs": [
    {
     "name": "stdout",
     "output_type": "stream",
     "text": [
      "../../LaTeX/Data/KEGG-Pathways/hsa/hsa04510-sbml.xml\n",
      "../../LaTeX/Data/KEGG-Pathways/hsa/hsa04151-sbml.xml\n",
      "../../LaTeX/Data/KEGG-Pathways/hsa/hsa04970-sbml.xml\n",
      "../../LaTeX/Data/KEGG-Pathways/hsa/hsa04974-sbml.xml\n",
      "../../LaTeX/Data/KEGG-Pathways/hsa/hsa04066-sbml.xml\n",
      "../../LaTeX/Data/KEGG-Pathways/hsa/hsa05146-sbml.xml\n",
      "../../LaTeX/Data/KEGG-Pathways/hsa/hsa04145-sbml.xml\n",
      "../../LaTeX/Data/KEGG-Pathways/hsa/hsa04611-sbml.xml\n"
     ]
    }
   ],
   "source": [
    "H, sr2r, r2ss, rid2rname, mid2mname = read_hg_from_SBML([os.path.join(f\"{dataDirectory}\", f\"{organism}{x[0]}-sbml.xml\") for x in superpathwayDict[superpathway]])"
   ]
  },
  {
   "cell_type": "code",
   "execution_count": 45,
   "id": "a9cd7f22",
   "metadata": {},
   "outputs": [
    {
     "data": {
      "text/plain": [
       "{}"
      ]
     },
     "execution_count": 45,
     "metadata": {},
     "output_type": "execute_result"
    }
   ],
   "source": [
    "r2ss"
   ]
  },
  {
   "cell_type": "code",
   "execution_count": 6,
   "id": "fc2550ef",
   "metadata": {},
   "outputs": [],
   "source": [
    "dd=hyper_cardon_crochemore(H, proxy=sr2r)"
   ]
  },
  {
   "cell_type": "code",
   "execution_count": 7,
   "id": "80406061",
   "metadata": {},
   "outputs": [
    {
     "data": {
      "text/plain": [
       "[{'rnR04432', 'rnR12356'},\n",
       " {'rnR01648', 'rnR10183'},\n",
       " {'rnR01184', 'rnR01802'},\n",
       " {'rnR02527', 'rnR02530'},\n",
       " {'rnR00709', 'rnR01899'},\n",
       " {'rnR00227', 'rnR00742'},\n",
       " {'rnR01049', 'rnR01051', 'rnR01057'},\n",
       " {'rnR03363', 'rnR05802'},\n",
       " {'rnR00768', 'rnR04779'},\n",
       " {'rnR01431', 'rnR01904'},\n",
       " {'rnR03393', 'rnR05801'},\n",
       " {'rnR03430', 'rnR03434'},\n",
       " {'rnR03478', 'rnR04372'},\n",
       " {'rnR00405', 'rnR00432'},\n",
       " {'rnR00214', 'rnR00216'},\n",
       " {'rnR03427', 'rnR03428', 'rnR03429'},\n",
       " {'rnR00908', 'rnR01000', 'rnR02921', 'rnR02957', 'rnR04215'},\n",
       " {'rnR10928', 'rnR12124'},\n",
       " {'rnR02640', 'rnR02933'},\n",
       " {'rnR01790', 'rnR02111'},\n",
       " {'rnR03394', 'rnR03433', 'rnR05800'},\n",
       " {'rnR04513', 'rnR09827'},\n",
       " {'rnR03469', 'rnR05795', 'rnR11680'},\n",
       " {'rnR02749', 'rnR02750'},\n",
       " {'rnR00945', 'rnR01221', 'rnR01392', 'rnR01394'},\n",
       " {'rnR00022', 'rnR00306', 'rnR01103', 'rnR01175', 'rnR01185', 'rnR01737'},\n",
       " {'rnR00009',\n",
       "  'rnR00010',\n",
       "  'rnR00100',\n",
       "  'rnR00253',\n",
       "  'rnR00261',\n",
       "  'rnR00317',\n",
       "  'rnR00935',\n",
       "  'rnR01176',\n",
       "  'rnR01206',\n",
       "  'rnR01334',\n",
       "  'rnR01519',\n",
       "  'rnR01718',\n",
       "  'rnR01959',\n",
       "  'rnR01961',\n",
       "  'rnR02334',\n",
       "  'rnR02731',\n",
       "  'rnR03161',\n",
       "  'rnR03330',\n",
       "  'rnR03527',\n",
       "  'rnR03688',\n",
       "  'rnR03920',\n",
       "  'rnR08967',\n",
       "  'rnR09979',\n",
       "  'rnR11262',\n",
       "  'rnR11441'},\n",
       " {'rnR02887', 'rnR03634', 'rnR05549'},\n",
       " {'rnR01804', 'rnR02705'},\n",
       " {'rnR00765', 'rnR02058'},\n",
       " {'rnR04404', 'rnR04545'},\n",
       " {'rnR01786', 'rnR01788'},\n",
       " {'rnR00710', 'rnR00711'},\n",
       " {'rnR00746', 'rnR00754'},\n",
       " {'rnR01384', 'rnR08615'},\n",
       " {'rnR00287', 'rnR00292'},\n",
       " {'rnR00303', 'rnR07324'},\n",
       " {'rnR01528', 'rnR10221'},\n",
       " {'rnR00760', 'rnR00866', 'rnR00867'},\n",
       " {'rnR03361', 'rnR03362'},\n",
       " {'rnR01104', 'rnR01329'}]"
      ]
     },
     "execution_count": 7,
     "metadata": {},
     "output_type": "execute_result"
    }
   ],
   "source": [
    "mapKeys(dd, onlyNonTrivial=True, prefOnly=\"r\", keyfamily=r2ss)"
   ]
  },
  {
   "cell_type": "code",
   "execution_count": 8,
   "id": "084e8336",
   "metadata": {},
   "outputs": [
    {
     "data": {
      "text/plain": [
       "[{('C05400', 'C05400'), ('C05401', 'C05401')},\n",
       " {('C00334', 'C00334'), ('C18060', 'C18060')},\n",
       " {('C00026', 'C00026'), ('C05379', 'C05379')},\n",
       " {('C00672', 'C00672'), ('C01801', 'C01801')},\n",
       " {('C00119', 'C00119'), ('C00121', 'C00121'), ('C00620', 'C00620')},\n",
       " {('C00037', 'C00037'), ('C00168', 'C00168')},\n",
       " {('C01204', 'C01204'), ('C04520', 'C04520')},\n",
       " {('C00181', 'C00181'), ('C00312', 'C00312')},\n",
       " {('C00937', 'C00937'), ('C03451', 'C03451')},\n",
       " {('C00203', 'C00203'), ('C00232', 'C00232')},\n",
       " {('C04063', 'C04063'), ('C04477', 'C04477')},\n",
       " {('C00099', 'C00099'),\n",
       "  ('C00109', 'C00109'),\n",
       "  ('C00222', 'C00222'),\n",
       "  ('C00789', 'C00789'),\n",
       "  ('C00818', 'C00818'),\n",
       "  ('C01068', 'C01068'),\n",
       "  ('C02670', 'C02670'),\n",
       "  ('C03410', 'C03410'),\n",
       "  ('C03691', 'C03691'),\n",
       "  ('C05984', 'C05984')},\n",
       " {('C00618', 'C00618'), ('C01040', 'C01040')},\n",
       " {('C01220', 'C01220'), ('C11555', 'C11555')},\n",
       " {('C00014', 'C00014'),\n",
       "  ('C00065', 'C00065'),\n",
       "  ('C00258', 'C00258'),\n",
       "  ('C01146', 'C01146')},\n",
       " {('C00007', 'C00007'),\n",
       "  ('C00058', 'C00058'),\n",
       "  ('C00064', 'C00064'),\n",
       "  ('C00136', 'C00136'),\n",
       "  ('C00185', 'C00185'),\n",
       "  ('C00257', 'C00257'),\n",
       "  ('C00492', 'C00492'),\n",
       "  ('C00999', 'C00999'),\n",
       "  ('C01177', 'C01177'),\n",
       "  ('C01674', 'C01674'),\n",
       "  ('C03827', 'C03827'),\n",
       "  ('C05402', 'C05402'),\n",
       "  ('C20238', 'C20238'),\n",
       "  ('C21384', 'C21384')},\n",
       " {('C00025', 'C00025'),\n",
       "  ('C00027', 'C00027'),\n",
       "  ('C00198', 'C00198'),\n",
       "  ('C00227', 'C00227'),\n",
       "  ('C00246', 'C00246'),\n",
       "  ('C00252', 'C00252'),\n",
       "  ('C00329', 'C00329'),\n",
       "  ('C00461', 'C00461'),\n",
       "  ('C00665', 'C00665'),\n",
       "  ('C00963', 'C00963'),\n",
       "  ('C00988', 'C00988'),\n",
       "  ('C00996', 'C00996'),\n",
       "  ('C01019', 'C01019'),\n",
       "  ('C01083', 'C01083'),\n",
       "  ('C01132', 'C01132'),\n",
       "  ('C01613', 'C01613'),\n",
       "  ('C01720', 'C01720'),\n",
       "  ('C01898', 'C01898'),\n",
       "  ('C01935', 'C01935'),\n",
       "  ('C02336', 'C02336'),\n",
       "  ('C04062', 'C04062'),\n",
       "  ('C05404', 'C05404'),\n",
       "  ('C06002', 'C06002'),\n",
       "  ('C06049', 'C06049'),\n",
       "  ('C18026', 'C18026'),\n",
       "  ('C20934', 'C20934')},\n",
       " {('C00641', 'C00641'), ('C05981', 'C05981')},\n",
       " {('C00190', 'C00190'), ('C03033', 'C03033')},\n",
       " {('C00116', 'C00116'), ('C00159', 'C00159')}]"
      ]
     },
     "execution_count": 8,
     "metadata": {},
     "output_type": "execute_result"
    }
   ],
   "source": [
    "mapKeys(dd, onlyNonTrivial=True, keydesc=mid2mname, prefOnly=\"C\")"
   ]
  },
  {
   "cell_type": "code",
   "execution_count": 9,
   "id": "3857f162",
   "metadata": {},
   "outputs": [
    {
     "data": {
      "text/plain": [
       "{1: 132, 2: 31, 3: 6, 5: 1, 4: 1, 6: 1, 25: 1}"
      ]
     },
     "execution_count": 9,
     "metadata": {},
     "output_type": "execute_result"
    }
   ],
   "source": [
    "classSizeDist(dd, prefOnly=\"r\")"
   ]
  },
  {
   "cell_type": "code",
   "execution_count": 10,
   "id": "46431abf",
   "metadata": {},
   "outputs": [
    {
     "data": {
      "text/plain": [
       "{1: 126, 2: 15, 3: 1, 10: 1, 4: 1, 14: 1, 26: 1}"
      ]
     },
     "execution_count": 10,
     "metadata": {},
     "output_type": "execute_result"
    }
   ],
   "source": [
    "classSizeDist(dd, prefOnly=\"C\")"
   ]
  },
  {
   "cell_type": "code",
   "execution_count": 11,
   "id": "dc97297a",
   "metadata": {},
   "outputs": [],
   "source": [
    "index = []"
   ]
  },
  {
   "cell_type": "code",
   "execution_count": 12,
   "id": "e1870435",
   "metadata": {},
   "outputs": [],
   "source": [
    "writeKEGGHtml(dd, os.path.join(outputDirectory, organism, safeSuperpathway), safeSuperpathway + \"R\", \n",
    "              f\"{organismDict[organism]}, {superpathway}, Reactions group\",\n",
    "              onlyNonTrivial=True, prefOnly=\"r\", cutPref=\"rn\")\n",
    "index = [(f\"{safeSuperpathway}R-cont-0.html\", \"Reaction groups\")]"
   ]
  },
  {
   "cell_type": "code",
   "execution_count": 13,
   "id": "25edc873",
   "metadata": {},
   "outputs": [],
   "source": [
    "writeKEGGHtml(dd, os.path.join(outputDirectory, organism, safeSuperpathway), safeSuperpathway + \"C\", \n",
    "              f\"{organismDict[organism]}, {superpathway}, Compound group\",\n",
    "              onlyNonTrivial=True, prefOnly=\"C\", cutPref=\"\")\n",
    "index += [(f\"{safeSuperpathway}C-cont-0.html\", \"Compound groups\")]"
   ]
  },
  {
   "cell_type": "code",
   "execution_count": 14,
   "id": "b50d8ccc",
   "metadata": {},
   "outputs": [],
   "source": [
    "groupedReactions = mapKeys(dd, prefOnly=\"rn\")\n",
    "r2gr = {}\n",
    "r2grall = {}\n",
    "for i, reactions in enumerate(groupedReactions):\n",
    "    for reaction in reactions:\n",
    "        r2gr[reaction] = i\n",
    "        r2grall[reaction] = reactions"
   ]
  },
  {
   "cell_type": "code",
   "execution_count": 15,
   "id": "f1f72bcf",
   "metadata": {},
   "outputs": [],
   "source": [
    "groupedCompounds = mapKeys(dd, prefOnly=\"C\")\n",
    "c2gc = {}\n",
    "c2gcall = {}\n",
    "for i, compounds in enumerate(groupedCompounds):\n",
    "    for compound in compounds:\n",
    "        c2gc[compound] = i + len(groupedReactions)\n",
    "        c2gcall[compound] = compounds"
   ]
  },
  {
   "cell_type": "code",
   "execution_count": 16,
   "id": "9b3f3357",
   "metadata": {},
   "outputs": [],
   "source": [
    "index += writeKEGGpdf(outputDirectory, organism, superpathway, superpathwayDict, r2gr, r2grall, c2gc, c2gcall)"
   ]
  },
  {
   "cell_type": "code",
   "execution_count": 17,
   "id": "a1bbf009",
   "metadata": {},
   "outputs": [],
   "source": [
    "writeIndex(os.path.join(outputDirectory, organism, safeSuperpathway), index, \n",
    "           f\"{organismDict[organism]}, {superpathway}\")"
   ]
  },
  {
   "cell_type": "code",
   "execution_count": 18,
   "id": "ff1d485b",
   "metadata": {},
   "outputs": [],
   "source": [
    "with open(os.path.join(outputDirectory, organism, safeSuperpathway, \"data.pkl\"), \"wb\") as file:\n",
    "    pickle.dump([dd, sr2r, r2ss, rid2rname, mid2mname], file)"
   ]
  },
  {
   "cell_type": "code",
   "execution_count": 19,
   "id": "ddcb8bf8",
   "metadata": {},
   "outputs": [],
   "source": [
    "writeIndex(os.path.join(outputDirectory, organism), \n",
    "           [(\"{}/index.html\".format(makesafe(k)), k) for k in superpathwayDict.keys()],\n",
    "           f\"{organismDict[organism]}\")"
   ]
  },
  {
   "cell_type": "code",
   "execution_count": 20,
   "id": "8fcb987c",
   "metadata": {},
   "outputs": [],
   "source": [
    "writeIndex(os.path.join(outputDirectory), \n",
    "          [(f\"{k}/index.html\", v) for k,v in organismDict.items()],\n",
    "           \"Pathways\")"
   ]
  },
  {
   "cell_type": "code",
   "execution_count": 21,
   "id": "e4291bd7",
   "metadata": {},
   "outputs": [],
   "source": [
    "with open(os.path.join(outputDirectory, organism, safeSuperpathway, \"data.pkl\"), \"rb\") as file:\n",
    "    dd, sr2r, r2ss, rid2rname, mid2mname = pickle.load(file)"
   ]
  },
  {
   "cell_type": "code",
   "execution_count": null,
   "id": "4ba1d444",
   "metadata": {},
   "outputs": [],
   "source": []
  }
 ],
 "metadata": {
  "kernelspec": {
   "display_name": "qf",
   "language": "python",
   "name": "qf"
  },
  "language_info": {
   "codemirror_mode": {
    "name": "ipython",
    "version": 3
   },
   "file_extension": ".py",
   "mimetype": "text/x-python",
   "name": "python",
   "nbconvert_exporter": "python",
   "pygments_lexer": "ipython3",
   "version": "3.9.17"
  }
 },
 "nbformat": 4,
 "nbformat_minor": 5
}
