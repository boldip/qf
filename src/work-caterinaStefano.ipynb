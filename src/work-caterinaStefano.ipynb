{
 "cells": [
  {
   "cell_type": "code",
   "execution_count": 124,
   "id": "d4364c55",
   "metadata": {},
   "outputs": [],
   "source": [
    "from hypergraphs import *\n",
    "from kegg import *\n",
    "import pandas as pd\n",
    "import os\n",
    "import logging\n",
    "from Bio.KEGG.KGML.KGML_parser import read\n",
    "from ast import literal_eval\n",
    "from urllib.request import urlopen\n",
    "from urllib.parse import quote_plus\n",
    "from bs4 import BeautifulSoup\n",
    "import requests\n",
    "from Levenshtein import ratio\n",
    "import scipy.stats"
   ]
  },
  {
   "cell_type": "code",
   "execution_count": 4,
   "id": "6b13e6bf",
   "metadata": {},
   "outputs": [],
   "source": [
    "organismDict = {\"hsa\": \"Homo sapiens (human)\"}\n",
    "outputDirectory = \"/Users/boldi/Desktop/pw/\"\n",
    "inputDirectory = \"../../LaTeX/Data/KEGG-Pathways/Nov2023/\"\n",
    "dataDirectory = \"../../LaTeX/Data/KEGG-Pathways\""
   ]
  },
  {
   "cell_type": "code",
   "execution_count": 5,
   "id": "3e6caae5",
   "metadata": {},
   "outputs": [],
   "source": [
    "pws = pd.read_csv(os.path.join(inputDirectory, \"KEGG-pathways.txt\"), header=0, \n",
    "            names=[\"Pathway ID\", \"Pathway type\", \"Pathway name\"], dtype=\"string\", keep_default_na=False)\n"
   ]
  },
  {
   "cell_type": "code",
   "execution_count": 6,
   "id": "199b2487",
   "metadata": {},
   "outputs": [],
   "source": [
    "superpathwayDict = {\n",
    "    \"Involved\": [(x,y) for x,y in zip(pws[\"Pathway ID\"], pws[\"Pathway name\"])]\n",
    "}"
   ]
  },
  {
   "cell_type": "code",
   "execution_count": 7,
   "id": "bce1e1d2",
   "metadata": {},
   "outputs": [],
   "source": [
    "superpathway = \"Involved\"\n",
    "organism = \"hsa\""
   ]
  },
  {
   "cell_type": "code",
   "execution_count": 8,
   "id": "cb8e2d96",
   "metadata": {},
   "outputs": [],
   "source": [
    "safeSuperpathway = makesafe(superpathway)"
   ]
  },
  {
   "cell_type": "code",
   "execution_count": 9,
   "id": "47a38c39",
   "metadata": {},
   "outputs": [],
   "source": [
    "def words2set(words):\n",
    "    \"\"\"\n",
    "        Given a space-separated list of words, returns it as a set of words\n",
    "    \"\"\"\n",
    "    return set(words.split())"
   ]
  },
  {
   "cell_type": "code",
   "execution_count": 10,
   "id": "8e0a74d1",
   "metadata": {},
   "outputs": [],
   "source": [
    "from typing import NamedTuple\n",
    "\n",
    "class Relation(NamedTuple):\n",
    "    \"\"\"\n",
    "        Represents a relation. It is characterized by:\n",
    "        - a type (e.g. \"PPRel\") \n",
    "        - a list of subtypes (e.g. [('activation', '-->'), ('indirect effect', '..>')])\n",
    "        - a set of components (source)\n",
    "        - a list of sets of components (target)\n",
    "    \"\"\"\n",
    "    relType: str\n",
    "    relSubtypes: list\n",
    "    source: set\n",
    "    target: list\n",
    "\n",
    "    @classmethod\n",
    "    def fromKEGG(cls, relation, pathway):\n",
    "        \"\"\"\n",
    "            Constructor: builds a Relation from a KEGG relation\n",
    "        \"\"\"\n",
    "        if relation.entry2.name == \"undefined\":\n",
    "            s = []\n",
    "            for component in relation.entry2.components:\n",
    "                s += [words2set(pathway.entries[component.id].name)]\n",
    "        else:\n",
    "            s = [words2set(relation.entry2.name)]\n",
    "        return cls(relation.type, relation.subtypes, words2set(relation.entry1.name), s)\n",
    "        "
   ]
  },
  {
   "cell_type": "code",
   "execution_count": 11,
   "id": "5ba5d2e0",
   "metadata": {},
   "outputs": [],
   "source": [
    "def relationsFromKEGGpathway(pathway):\n",
    "    \"\"\"\n",
    "        Given a KEGG pathway, returns the list of relations it contains (represented as Relation).\n",
    "    \"\"\"\n",
    "    return [Relation.fromKEGG(r, pathway) for r in pathway.relations]\n",
    "    "
   ]
  },
  {
   "cell_type": "code",
   "execution_count": 52,
   "id": "751bc16c",
   "metadata": {},
   "outputs": [],
   "source": [
    "def pathwayFromFile(dataDirectory, organism, pathwayID):\n",
    "    return KGML_parser.read(open(os.path.join(dataDirectory, organism, organism+pathwayID+\".xml\"), \"r\"))"
   ]
  },
  {
   "cell_type": "code",
   "execution_count": 53,
   "id": "bd27fdc2",
   "metadata": {},
   "outputs": [],
   "source": [
    "def relationsFromFile(dataDirectory, organism, pathwayID):\n",
    "    \"\"\"\n",
    "        Given a pathway file (specified by a root dataDirectory, the name of the organism subdirectory, and the name\n",
    "        of the file [organism+pathwayID.xml]), reads it and returns the list of its relations.\n",
    "    \"\"\"\n",
    "    pathway = pathwayFromFile(dataDirectory, organism, pathwayID)\n",
    "    return relationsFromKEGGpathway(pathway)"
   ]
  },
  {
   "cell_type": "code",
   "execution_count": 54,
   "id": "eaa01766",
   "metadata": {},
   "outputs": [],
   "source": [
    "def relationsForSuperpathway(dataDirectory, organism, superpathwayDict, superpathway):\n",
    "    \"\"\"\n",
    "        Given a superpathDict (whose keys are superpathway names and whose values are list of\n",
    "        pairs (pathwayID, pathwayName)), reads all the pathway file for a specific superpathway name\n",
    "        and returns a dictionary whose keys are the pathwayID's and whose values are the list of relations.\n",
    "    \"\"\"\n",
    "    rel = {}\n",
    "    for k,v in superpathwayDict[superpathway]:\n",
    "        #logging.info(\"Reading\", k, v)\n",
    "        rel[k] = relationsFromFile(dataDirectory, organism, k)\n",
    "    return rel"
   ]
  },
  {
   "cell_type": "code",
   "execution_count": 55,
   "id": "15479a1c",
   "metadata": {},
   "outputs": [],
   "source": [
    "def subtypes(rel):\n",
    "    \"\"\"\n",
    "        Given a map whose values are relations, accumulate all subtypes appearing and assign them a number.\n",
    "        The result is a map from subtype string to number.\n",
    "    \"\"\"\n",
    "    all_subtypes = set([])\n",
    "    for pathwayid, relations in rel.items():\n",
    "        for relation in relations:\n",
    "            all_subtypes |= set([str(relation.relSubtypes)])\n",
    "        \n",
    "    s = sorted(list(all_subtypes))\n",
    "    subtype2color = {v:k for k,v in enumerate(s)}\n",
    "\n",
    "    return subtype2color"
   ]
  },
  {
   "cell_type": "code",
   "execution_count": 15,
   "id": "1e229eaf-d667-466c-8238-8205257b0ccc",
   "metadata": {},
   "outputs": [],
   "source": [
    "def set2can(s):\n",
    "    \"\"\"\n",
    "        Convert a set to a string in a canonical way.\n",
    "    \"\"\"\n",
    "    return str(sorted(list(s)))\n",
    "\n",
    "def can2set(c):\n",
    "    \"\"\"\n",
    "        Does the converse of set2can.\n",
    "    \"\"\"\n",
    "    return set(literal_eval(c))"
   ]
  },
  {
   "cell_type": "code",
   "execution_count": 16,
   "id": "75b272b9-b220-492b-adf6-509f9952842f",
   "metadata": {},
   "outputs": [],
   "source": [
    "def indices(rel):\n",
    "    \"\"\"\n",
    "        Given a map whose values are lists of relations, it considers all the relations one by one, and attributes a unique id \n",
    "        to each element (i.e., set of components appearing as source or in the target of some relation) and block (the set of\n",
    "        element id appearing as target of some relation).\n",
    "        This function returns the dictionaries to move from/to an element or block to the corresponding id.\n",
    "        Elements are string representations of sorted lists of strings.\n",
    "        Blocks are string representations of sorted lists of ints.\n",
    "    \"\"\"\n",
    "    element2id = {}\n",
    "    id2element = {}\n",
    "    block2id = {}\n",
    "    id2block = {}\n",
    "\n",
    "    for relations in rel.values():\n",
    "        for relation in relations:\n",
    "            s = set2can(relation.source)\n",
    "            if s not in element2id.keys():\n",
    "                element2id[s] = len(element2id)\n",
    "            targetset = set([])\n",
    "            for targ in relation.target:\n",
    "                t = set2can(targ)\n",
    "                if t not in element2id.keys():\n",
    "                    element2id[t] = len(element2id)\n",
    "                targetset |= set([element2id[t]])\n",
    "            ts = set2can(targetset)\n",
    "            if ts not in block2id.keys():\n",
    "                block2id[ts] = len(block2id)\n",
    "\n",
    "    for k,v in element2id.items():\n",
    "        id2element[v] = k\n",
    "    for k,v in block2id.items():\n",
    "        id2block[v] = k\n",
    "    return element2id, id2element, block2id, id2block\n"
   ]
  },
  {
   "cell_type": "code",
   "execution_count": 17,
   "id": "f9c3f128-cf97-4bb3-8ce5-65c49f865d98",
   "metadata": {},
   "outputs": [],
   "source": [
    "def search_gene_KEGG(geneID):\n",
    "    \"\"\"\n",
    "        Search for gene on KEGG. \n",
    "        \n",
    "        Returns list of names.\n",
    "    \"\"\"\n",
    "    url1 = \"https://www.kegg.jp/entry/\"+geneID\n",
    "    response1 = requests.get(url1, allow_redirects=False)    \n",
    "    soup = BeautifulSoup(response1.text, \"html.parser\")\n",
    "    tds = [tds for tds in soup.find_all(\"td\", {\"class\": \"td11 defd\"})]\n",
    "    names = tds[0].getText().strip().split(\", \")\n",
    "    return names"
   ]
  },
  {
   "cell_type": "code",
   "execution_count": 18,
   "id": "0a11bbae",
   "metadata": {},
   "outputs": [],
   "source": [
    "rel = relationsForSuperpathway(dataDirectory, organism, superpathwayDict, superpathway)\n",
    "element2id, id2element, block2id, id2block = indices(rel)\n",
    "subtype2color = subtypes(rel)\n",
    "elements = list(set.union(*[can2set(k) for k in element2id.keys()]))"
   ]
  },
  {
   "cell_type": "code",
   "execution_count": 19,
   "id": "a1be8c2d-c5da-4e04-bf67-7e43b1a71b7a",
   "metadata": {},
   "outputs": [
    {
     "name": "stdout",
     "output_type": "stream",
     "text": [
      "Reading gene names\n"
     ]
    }
   ],
   "source": [
    "# name2gene is a function mapping names to gene IDs (hsa:xxxx)\n",
    "# e.g. KCNE3, BRGDA6 etc are all mapped to hsa:10008 (see https://www.kegg.jp/entry/hsa:10008)\n",
    "# This map was produced by scraping kegg, but this has been done only once.\n",
    "# After that, we just read a pkl file\n",
    "\n",
    "name2keggFilename = os.path.join(inputDirectory, \"name2kegg.pkl\")\n",
    "\n",
    "if os.path.exists(name2keggFilename):\n",
    "    print(\"Reading gene names\")\n",
    "    with open(name2keggFilename, \"rb\") as handle:\n",
    "        name2gene = pickle.load(handle)\n",
    "else:\n",
    "    print(\"Producing gene names\")\n",
    "    d = {}\n",
    "    nelements = len(elements)\n",
    "    for count,element in enumerate(elements):\n",
    "        if count % 10 == 0:\n",
    "            print(f\"{count}/{nelements}\")\n",
    "        if element.startswith(\"hsa\"):\n",
    "            names = search_gene_KEGG(element)\n",
    "            for name in names:\n",
    "                d[name] = element\n",
    "    with open(name2keggFilename, \"wb\") as handle:\n",
    "        pickle.dump(d, handle, protocol=pickle.HIGHEST_PROTOCOL)\n",
    "    name2gene = d"
   ]
  },
  {
   "cell_type": "code",
   "execution_count": 20,
   "id": "1c90f901-1413-4356-bfa8-faf25fc494df",
   "metadata": {},
   "outputs": [],
   "source": [
    "# Building the graph of all relations contained in rel values\n",
    "# Nodes are IDs, and node x correspond to the set of genes (and/or compound) id2element[x]\n",
    "G = nx.DiGraph() \n",
    "for relations in rel.values():\n",
    "    for relation in relations:\n",
    "        source = element2id[set2can(relation.source)]\n",
    "        for targ in relation.target:\n",
    "            target = element2id[set2can(targ)]\n",
    "            G.add_edge(source, target, color=subtype2color[str(relation.relSubtypes)])"
   ]
  },
  {
   "cell_type": "code",
   "execution_count": 21,
   "id": "e1870435",
   "metadata": {},
   "outputs": [],
   "source": [
    "from qf.cc import cardon_crochemore_colored, cardon_crochemore\n",
    "\n",
    "cc=cardon_crochemore_colored(G)"
   ]
  },
  {
   "cell_type": "code",
   "execution_count": 58,
   "id": "05b96661",
   "metadata": {},
   "outputs": [],
   "source": [
    "pathway = pathwayFromFile(dataDirectory, organism, superpathwayDict[superpathway][0][0])\n",
    "canvas = KGMLCanvas(pathway)\n"
   ]
  },
  {
   "cell_type": "code",
   "execution_count": 22,
   "id": "74d19326",
   "metadata": {},
   "outputs": [],
   "source": [
    "# Read patient data\n",
    "genes = pd.read_csv(os.path.join(inputDirectory, \"genes.csv\"))\n",
    "patients = genes[\"name\"].values.tolist()\n",
    "classification = pd.read_csv(os.path.join(inputDirectory, \"classification.csv\"))\n",
    "patient2class = {patient: classification.loc[classification[\"name\"]==patient][\"classification\"].values.flatten().tolist()[0] for patient in patients}"
   ]
  },
  {
   "cell_type": "code",
   "execution_count": 23,
   "id": "d51dbd7f-35b9-444a-9238-3af727c06411",
   "metadata": {},
   "outputs": [],
   "source": [
    "# Build node2columns, mapping each node of G to the list of genes corresponding to it\n",
    "# for which we know a value (in the genes dataframe), sorted\n",
    "#\n",
    "namedGenes = set(name2gene.values())     \n",
    "columns = set(genes.columns.values.tolist()[2:])\n",
    "node2columns = {}\n",
    "for node in G.nodes():\n",
    "    nodeGenes = can2set(id2element[node])\n",
    "    s = []\n",
    "    for gene in nodeGenes & namedGenes:\n",
    "        for k,v in name2gene.items():\n",
    "            if v == gene:\n",
    "                if k in columns:\n",
    "                    s += [k]\n",
    "    node2columns[node]=sorted(s)"
   ]
  },
  {
   "cell_type": "code",
   "execution_count": 24,
   "id": "f2ee8f07",
   "metadata": {},
   "outputs": [],
   "source": [
    "def mapTranscrToG(G, node2columns, genes, patient):\n",
    "    \"\"\"\n",
    "        Returns a map mapping each node of G to the list of values of genes corresponding to that node\n",
    "        (according to node2columns) for the given patient\n",
    "    \"\"\"\n",
    "    return {node: genes.loc[genes[\"name\"] == patient][node2columns[node]].values.flatten().tolist() for node in G.nodes()}"
   ]
  },
  {
   "cell_type": "code",
   "execution_count": 25,
   "id": "a1cb6028",
   "metadata": {},
   "outputs": [],
   "source": [
    "import statistics\n",
    "import random\n",
    "\n",
    "def mapToAvg(d):\n",
    "    \"\"\"\n",
    "        Given a map from the nodes of a graph to lists of floats, returns a map whose values are the averages\n",
    "        (or nan if the list is empty)\n",
    "    \"\"\"\n",
    "    res = {}\n",
    "    for node in G.nodes():\n",
    "        if len(d[node]) == 0:\n",
    "            res[node] = np.nan\n",
    "        else:\n",
    "            res[node] = statistics.mean(d[node])\n",
    "    return res"
   ]
  },
  {
   "cell_type": "code",
   "execution_count": 26,
   "id": "611cf14c",
   "metadata": {},
   "outputs": [],
   "source": [
    "def sd(d, ks):\n",
    "    \"\"\"\n",
    "        Given a map d whose values are floats or nan, and given a set of keys ks, returns the\n",
    "        standard deviation of the non-nan values of the nodes in ks, and the corresponding size.\n",
    "        Returns nan if all the values are nan, 0 if there is a single datapoint.\n",
    "    \"\"\"\n",
    "    values = [d[k] for k in ks if not np.isnan(d[k])]\n",
    "    if len(values) == 0:\n",
    "        return (np.nan,0)\n",
    "    if len(values) == 1:\n",
    "        return (0,1)\n",
    "    return (statistics.stdev(values), len(values))"
   ]
  },
  {
   "cell_type": "code",
   "execution_count": 27,
   "id": "82235b59",
   "metadata": {},
   "outputs": [],
   "source": [
    "def nsd(d, ks, rep=1000):\n",
    "    \"\"\"\n",
    "        Given a map d (whose values are floats or nans) and a set of keys ks:\n",
    "        1) compute sd(d, ks) (the standard deviation of the values corresponding to ks, ignoring nans)\n",
    "        2) compare this with the sd of sets of keys of the same size as ks, but drawn at random\n",
    "        The experiment (2) is repeated rep times and the non-nan results are averaged.\n",
    "        The ratio between (1) and the average resulting from (2) is returned.\n",
    "        Values larger/smaller than 1 mean \"more overexpressed/underexpress than the average\"\n",
    "    \"\"\" \n",
    "    sigma, k = sd(d, ks)\n",
    "    if sigma == 0:\n",
    "        return 1\n",
    "    v = 0\n",
    "    keys = list(d.keys())\n",
    "    for i in range(rep):\n",
    "        smpl = random.sample(keys, len(ks))\n",
    "        ss, kk = sd(d, smpl)\n",
    "        #print(f\"Trying with sample {smpl}, got {ss}\")\n",
    "        if not np.isnan(ss):\n",
    "            v += ss\n",
    "    sigma0 = v / i\n",
    "    return sigma/sigma0"
   ]
  },
  {
   "cell_type": "code",
   "execution_count": 144,
   "id": "064abac5",
   "metadata": {},
   "outputs": [],
   "source": [
    "from collections import defaultdict \n",
    "\n",
    "healthy = defaultdict(list)\n",
    "diseased = defaultdict(list)\n",
    "\n",
    "for patient in patients:\n",
    "    m=mapTranscrToG(G, node2columns, genes, patient)\n",
    "    ma=mapToAvg(m)\n",
    "    for k in set(cc.values()):\n",
    "        fibre = [x for x in cc.keys() if cc[x]==k]\n",
    "        if len(fibre) > 1:\n",
    "            if patient2class[patient] == \"healthy\":\n",
    "                healthy[k] +=[nsd(ma, fibre)]\n",
    "            else:\n",
    "                diseased[k] += [nsd(ma, fibre)]\n"
   ]
  },
  {
   "cell_type": "code",
   "execution_count": 157,
   "id": "b154281d",
   "metadata": {},
   "outputs": [
    {
     "data": {
      "text/html": [
       "<div>\n",
       "<style scoped>\n",
       "    .dataframe tbody tr th:only-of-type {\n",
       "        vertical-align: middle;\n",
       "    }\n",
       "\n",
       "    .dataframe tbody tr th {\n",
       "        vertical-align: top;\n",
       "    }\n",
       "\n",
       "    .dataframe thead th {\n",
       "        text-align: right;\n",
       "    }\n",
       "</style>\n",
       "<table border=\"1\" class=\"dataframe\">\n",
       "  <thead>\n",
       "    <tr style=\"text-align: right;\">\n",
       "      <th></th>\n",
       "      <th>0</th>\n",
       "    </tr>\n",
       "  </thead>\n",
       "  <tbody>\n",
       "    <tr>\n",
       "      <th>count</th>\n",
       "      <td>29.000000</td>\n",
       "    </tr>\n",
       "    <tr>\n",
       "      <th>mean</th>\n",
       "      <td>1.133259</td>\n",
       "    </tr>\n",
       "    <tr>\n",
       "      <th>std</th>\n",
       "      <td>0.341987</td>\n",
       "    </tr>\n",
       "    <tr>\n",
       "      <th>min</th>\n",
       "      <td>0.411102</td>\n",
       "    </tr>\n",
       "    <tr>\n",
       "      <th>25%</th>\n",
       "      <td>0.890853</td>\n",
       "    </tr>\n",
       "    <tr>\n",
       "      <th>50%</th>\n",
       "      <td>1.167061</td>\n",
       "    </tr>\n",
       "    <tr>\n",
       "      <th>75%</th>\n",
       "      <td>1.288276</td>\n",
       "    </tr>\n",
       "    <tr>\n",
       "      <th>max</th>\n",
       "      <td>1.822055</td>\n",
       "    </tr>\n",
       "  </tbody>\n",
       "</table>\n",
       "</div>"
      ],
      "text/plain": [
       "               0\n",
       "count  29.000000\n",
       "mean    1.133259\n",
       "std     0.341987\n",
       "min     0.411102\n",
       "25%     0.890853\n",
       "50%     1.167061\n",
       "75%     1.288276\n",
       "max     1.822055"
      ]
     },
     "execution_count": 157,
     "metadata": {},
     "output_type": "execute_result"
    }
   ],
   "source": [
    "pd.DataFrame(healthy[61]).describe()"
   ]
  },
  {
   "cell_type": "code",
   "execution_count": 156,
   "id": "d986f7e0-8ac4-4c6f-ab15-e9333a0aa3d8",
   "metadata": {},
   "outputs": [
    {
     "data": {
      "text/html": [
       "<div>\n",
       "<style scoped>\n",
       "    .dataframe tbody tr th:only-of-type {\n",
       "        vertical-align: middle;\n",
       "    }\n",
       "\n",
       "    .dataframe tbody tr th {\n",
       "        vertical-align: top;\n",
       "    }\n",
       "\n",
       "    .dataframe thead th {\n",
       "        text-align: right;\n",
       "    }\n",
       "</style>\n",
       "<table border=\"1\" class=\"dataframe\">\n",
       "  <thead>\n",
       "    <tr style=\"text-align: right;\">\n",
       "      <th></th>\n",
       "      <th>0</th>\n",
       "    </tr>\n",
       "  </thead>\n",
       "  <tbody>\n",
       "    <tr>\n",
       "      <th>count</th>\n",
       "      <td>35.000000</td>\n",
       "    </tr>\n",
       "    <tr>\n",
       "      <th>mean</th>\n",
       "      <td>1.093326</td>\n",
       "    </tr>\n",
       "    <tr>\n",
       "      <th>std</th>\n",
       "      <td>0.303880</td>\n",
       "    </tr>\n",
       "    <tr>\n",
       "      <th>min</th>\n",
       "      <td>0.362203</td>\n",
       "    </tr>\n",
       "    <tr>\n",
       "      <th>25%</th>\n",
       "      <td>0.972095</td>\n",
       "    </tr>\n",
       "    <tr>\n",
       "      <th>50%</th>\n",
       "      <td>1.091370</td>\n",
       "    </tr>\n",
       "    <tr>\n",
       "      <th>75%</th>\n",
       "      <td>1.258650</td>\n",
       "    </tr>\n",
       "    <tr>\n",
       "      <th>max</th>\n",
       "      <td>1.636821</td>\n",
       "    </tr>\n",
       "  </tbody>\n",
       "</table>\n",
       "</div>"
      ],
      "text/plain": [
       "               0\n",
       "count  35.000000\n",
       "mean    1.093326\n",
       "std     0.303880\n",
       "min     0.362203\n",
       "25%     0.972095\n",
       "50%     1.091370\n",
       "75%     1.258650\n",
       "max     1.636821"
      ]
     },
     "execution_count": 156,
     "metadata": {},
     "output_type": "execute_result"
    }
   ],
   "source": [
    "pd.DataFrame(diseased[61]).describe()"
   ]
  },
  {
   "cell_type": "code",
   "execution_count": 150,
   "id": "804fbd5c-8c4d-474e-ad0d-4cce8a8fd640",
   "metadata": {},
   "outputs": [
    {
     "data": {
      "text/plain": [
       "dict_keys([2, 8, 29, 33, 34, 37, 61, 71, 79, 80, 85, 87, 89, 91, 92, 95, 106, 108, 109, 110, 111, 114, 115, 116, 118, 124, 126])"
      ]
     },
     "execution_count": 150,
     "metadata": {},
     "output_type": "execute_result"
    }
   ],
   "source": [
    "healthy.keys()"
   ]
  },
  {
   "cell_type": "code",
   "execution_count": 1,
   "id": "0c9bf820",
   "metadata": {},
   "outputs": [],
   "source": [
    "def writeKEGGpdfcolors(outputDirectory, organism, superpathway, superpathwayDict, compound2color):\n",
    "    \"\"\"\n",
    "    \"\"\"\n",
    "    index = []\n",
    "    safeSuperpathway = makesafe(superpathway)\n",
    "    for pw in superpathwayDict[superpathway]:\n",
    "        countColor = {}\n",
    "        for v in set(compound2color.values()):\n",
    "            countColor[v] = set([])\n",
    "        try:\n",
    "            pathway = KGML_parser.read(kegg_get(organism + pw[0], \"kgml\"))\n",
    "        except:\n",
    "            print(\"Pathway\", pw, \"could not be downloaded: ignoring\")\n",
    "            continue\n",
    "        canvas = KGMLCanvas(pathway)\n",
    "        for k in pathway.entries:\n",
    "            t = pathway.entries[k].type\n",
    "            #pathway.entries[k].graphics[0].bgcolor = \"#FFFFFF\"   \n",
    "            if t == \"compound\" and pathway.entries[k].is_reactant:\n",
    "                compound = pathway.entries[k].name[4:]\n",
    "                if compound in compound2color:\n",
    "                    pathway.entries[k].graphics[0].bgcolor = compound2color[compound]\n",
    "                    pathway.entries[k].graphics[0].fgcolor = compound2color[compound]\n",
    "                    countColor[compound2color[compound]] |= set([compound])\n",
    "                else:\n",
    "                    pathway.entries[k].graphics[0].bgcolor = yellow\n",
    "                    pathway.entries[k].graphics[0].bgcolor = yellow\n",
    "        canvas.import_imagemap = True\n",
    "        pdfName = organism + pw[0] + \".pdf\"\n",
    "        pathlib.Path(os.path.join(outputDirectory, organism, safeSuperpathway)).mkdir(parents=True, exist_ok=True)\n",
    "        canvas.draw(os.path.join(outputDirectory, organism, safeSuperpathway, pdfName))\n",
    "        index += [(pdfName, pw[1], len(countColor[valA]), len(countColor[valB]))]\n",
    "    return index"
   ]
  },
  {
   "cell_type": "code",
   "execution_count": 49,
   "id": "ff9e60e7",
   "metadata": {},
   "outputs": [],
   "source": [
    "pathway = KGML_parser.read(open(os.path.join(dataDirectory, organism, organism+\"04510.xml\"), \"r\"))\n",
    "canvas = KGMLCanvas(pathway)"
   ]
  },
  {
   "cell_type": "code",
   "execution_count": 50,
   "id": "7edf9109",
   "metadata": {},
   "outputs": [
    {
     "name": "stdout",
     "output_type": "stream",
     "text": [
      "['hsa:3688', 'hsa:3690', 'hsa:3691', 'hsa:3693', 'hsa:3694', 'hsa:3695', 'hsa:3696'] 14\n",
      "['hsa:22801', 'hsa:3655', 'hsa:3672', 'hsa:3673', 'hsa:3674', 'hsa:3675', 'hsa:3676', 'hsa:3678', 'hsa:3679', 'hsa:3680', 'hsa:3685', 'hsa:8515', 'hsa:8516'] 13\n",
      "['hsa:2316', 'hsa:2317', 'hsa:2318'] 116\n",
      "['hsa:998'] 116\n",
      "['cpd:C05981'] 54\n",
      "['hsa:340156', 'hsa:4638', 'hsa:85366', 'hsa:91807'] 81\n",
      "['hsa:103910', 'hsa:10398', 'hsa:10627', 'hsa:29895', 'hsa:4633', 'hsa:4636', 'hsa:58498', 'hsa:93408'] 21\n",
      "['hsa:1729'] 33\n",
      "['hsa:4659', 'hsa:4660', 'hsa:54776', 'hsa:5499', 'hsa:5500', 'hsa:5501'] 120\n",
      "['hsa:6093', 'hsa:9475'] 33\n",
      "['hsa:10000', 'hsa:207', 'hsa:208'] 41\n",
      "['hsa:5170'] 42\n",
      "['hsa:29780', 'hsa:55742', 'hsa:64098'] 99\n",
      "['hsa:3611'] 15\n",
      "['hsa:7414'] 100\n",
      "['hsa:7408'] 63\n",
      "['hsa:5728'] 110\n",
      "['hsa:5290', 'hsa:5291', 'hsa:5293', 'hsa:5295', 'hsa:5296', 'hsa:8503'] 35\n",
      "['hsa:7094', 'hsa:83660'] 11\n",
      "['hsa:7791'] 116\n",
      "['hsa:23396', 'hsa:8394', 'hsa:8395'] 33\n",
      "['hsa:81', 'hsa:87'] 12\n",
      "['hsa:5747'] 94\n",
      "['hsa:824'] 70\n",
      "['hsa:5829'] 38\n",
      "['hsa:2909', 'hsa:394'] 57\n",
      "['hsa:5578', 'hsa:5579', 'hsa:5582'] 30\n",
      "['hsa:6714'] 1\n",
      "['hsa:2534'] 98\n",
      "['hsa:387'] 39\n",
      "['hsa:5923'] 71\n",
      "['hsa:10319', 'hsa:1101', 'hsa:1277', 'hsa:1278', 'hsa:1280', 'hsa:1282', 'hsa:1284', 'hsa:1285', 'hsa:1286', 'hsa:1287', 'hsa:1288', 'hsa:1291', 'hsa:1292', 'hsa:1293', 'hsa:1297', 'hsa:1298', 'hsa:1299', 'hsa:1311', 'hsa:131873', 'hsa:22798', 'hsa:2335', 'hsa:256076', 'hsa:284217', 'hsa:3371', 'hsa:3381', 'hsa:3908', 'hsa:3909', 'hsa:3910', 'hsa:3911', 'hsa:3912', 'hsa:3913', 'hsa:3914', 'hsa:3915', 'hsa:3918', 'hsa:5649', 'hsa:63923', 'hsa:6696', 'hsa:7057', 'hsa:7058', 'hsa:7059', 'hsa:7060', 'hsa:7143', 'hsa:7148', 'hsa:7448', 'hsa:7450'] 116\n",
      "['hsa:857', 'hsa:858', 'hsa:859'] 101\n",
      "['hsa:329', 'hsa:330', 'hsa:331'] 16\n",
      "['hsa:572'] 45\n",
      "['hsa:596'] 5\n",
      "['hsa:2002'] 25\n",
      "['hsa:5594', 'hsa:5595'] 46\n",
      "['hsa:595', 'hsa:894', 'hsa:896'] 17\n",
      "['hsa:5604'] 50\n",
      "['hsa:673'] 8\n",
      "['hsa:5894'] 36\n",
      "['hsa:3265'] 34\n",
      "['hsa:6654', 'hsa:6655'] 119\n",
      "['hsa:2885'] 73\n",
      "['hsa:1956', 'hsa:2064', 'hsa:2321', 'hsa:2324', 'hsa:3480', 'hsa:3791', 'hsa:4233', 'hsa:5156', 'hsa:5159'] 113\n",
      "['hsa:1950', 'hsa:2277', 'hsa:3082', 'hsa:3479', 'hsa:5154', 'hsa:5155', 'hsa:5228', 'hsa:56034', 'hsa:7422', 'hsa:7423', 'hsa:7424', 'hsa:80310'] 116\n",
      "['hsa:25759', 'hsa:399694', 'hsa:53358', 'hsa:6464'] 72\n",
      "['hsa:9564'] 71\n",
      "['hsa:1398', 'hsa:1399'] 67\n",
      "['hsa:2889'] 37\n",
      "['hsa:5906', 'hsa:5908'] 31\n",
      "['hsa:1793'] 37\n",
      "['hsa:5599', 'hsa:5601', 'hsa:5602'] 9\n",
      "['hsa:3725'] 64\n",
      "['hsa:10298', 'hsa:106821730', 'hsa:5058', 'hsa:5062', 'hsa:5063', 'hsa:56924', 'hsa:57144'] 82\n",
      "['hsa:5879', 'hsa:5880', 'hsa:5881'] 32\n",
      "['hsa:10451', 'hsa:7409', 'hsa:7410'] 107\n",
      "['hsa:1499'] 126\n",
      "['hsa:2932'] 87\n",
      "['hsa:60', 'hsa:71'] 10\n",
      "['hsa:2013'] 116\n",
      "['hsa:2012'] 116\n",
      "['undefined'] 116\n"
     ]
    }
   ],
   "source": [
    "for k in pathway.entries:\n",
    "    name = pathway.entries[k].name\n",
    "    element = set2can(words2set(name))\n",
    "    if element in element2id.keys():\n",
    "        print(element, cc[element2id[element]])"
   ]
  },
  {
   "cell_type": "code",
   "execution_count": 114,
   "id": "73ce2fd3",
   "metadata": {},
   "outputs": [],
   "source": [
    "def columns2nodes(columns, node2columns, ignoreEmpty = True):\n",
    "    \"\"\"\n",
    "        Returns a map from columns to the nodes where the column appears.\n",
    "    \"\"\"\n",
    "    res = {} \n",
    "    for c in columns:\n",
    "        s = set([])\n",
    "        for no, co in node2columns.items():\n",
    "            if c in co:\n",
    "                s |= set([no])\n",
    "        if len(s) > 0 or not ignoreEmpty:\n",
    "            res[c] = s\n",
    "    return res\n",
    "\n",
    "c2n = columns2nodes(columns, node2columns)\n",
    "usableColumns = list(c2n.keys())"
   ]
  },
  {
   "cell_type": "code",
   "execution_count": 115,
   "id": "17ab34ab",
   "metadata": {},
   "outputs": [],
   "source": [
    "def areRelated(column1, column2, column2nodes, node2color):\n",
    "    nodes1 = column2nodes[column1]\n",
    "    nodes2 = column2nodes[column2]\n",
    "    colors1 = set([node2color[node] for node in nodes1])\n",
    "    colors2 = set([node2color[node] for node in nodes2])\n",
    "    return len(colors1 & colors2) > 0"
   ]
  },
  {
   "cell_type": "code",
   "execution_count": 121,
   "id": "c3075b43",
   "metadata": {},
   "outputs": [
    {
     "data": {
      "text/plain": [
       "[5.701896,\n",
       " 5.733379,\n",
       " 5.67861,\n",
       " 5.807889,\n",
       " 5.697066,\n",
       " 5.575801,\n",
       " 6.042641,\n",
       " 5.927202,\n",
       " 5.545422,\n",
       " 5.786408,\n",
       " 5.95011,\n",
       " 5.815601,\n",
       " 6.012413,\n",
       " 5.793511,\n",
       " 5.677289,\n",
       " 5.933953,\n",
       " 5.947393,\n",
       " 5.899629,\n",
       " 5.804845,\n",
       " 6.092096,\n",
       " 5.745906,\n",
       " 6.011995,\n",
       " 5.825637,\n",
       " 5.731103,\n",
       " 5.582764,\n",
       " 6.190875,\n",
       " 6.344836,\n",
       " 5.856002,\n",
       " 5.713507,\n",
       " 5.768836,\n",
       " 5.985311,\n",
       " 6.517211,\n",
       " 6.108443,\n",
       " 6.185022,\n",
       " 5.65606,\n",
       " 5.917612,\n",
       " 5.835067,\n",
       " 5.781578,\n",
       " 5.544848,\n",
       " 5.642407,\n",
       " 5.81435,\n",
       " 5.645506,\n",
       " 5.881913,\n",
       " 5.876419,\n",
       " 5.987989,\n",
       " 5.584053,\n",
       " 5.692786,\n",
       " 5.765418,\n",
       " 5.750019,\n",
       " 5.693265,\n",
       " 5.830058,\n",
       " 5.323685,\n",
       " 5.832056,\n",
       " 5.38001,\n",
       " 5.618241,\n",
       " 5.939519,\n",
       " 6.120963,\n",
       " 5.823152,\n",
       " 5.869081,\n",
       " 5.845005,\n",
       " 5.974405,\n",
       " 5.862833,\n",
       " 6.207702,\n",
       " 5.702713]"
      ]
     },
     "execution_count": 121,
     "metadata": {},
     "output_type": "execute_result"
    }
   ],
   "source": [
    "genes.loc[:,\"MYB\"].values.tolist()"
   ]
  },
  {
   "cell_type": "code",
   "execution_count": 160,
   "id": "972a3366",
   "metadata": {},
   "outputs": [],
   "source": [
    "reltaus = []\n",
    "unreltaus = []\n",
    "\n",
    "for i in range(100000):\n",
    "    gene1 = random.choice(usableColumns)\n",
    "    gene2 = random.choice(usableColumns)\n",
    "    expr1 = genes.loc[:,gene1].values.tolist()\n",
    "    expr2 = genes.loc[:,gene2].values.tolist()\n",
    "    tau = scipy.stats.kendalltau(expr1, expr2).statistic\n",
    "    if areRelated(gene1, gene2, c2n, cc):\n",
    "        reltaus += [tau]\n",
    "    else:\n",
    "        unreltaus += [tau]\n"
   ]
  },
  {
   "cell_type": "code",
   "execution_count": 161,
   "id": "39eeffee",
   "metadata": {},
   "outputs": [
    {
     "name": "stdout",
     "output_type": "stream",
     "text": [
      "                  0\n",
      "count  10150.000000\n",
      "mean       0.030742\n",
      "std        0.201300\n",
      "min       -0.563492\n",
      "25%       -0.085317\n",
      "50%        0.018849\n",
      "75%        0.114300\n",
      "max        1.000000\n"
     ]
    }
   ],
   "source": [
    "print(pd.DataFrame(reltaus).describe())"
   ]
  },
  {
   "cell_type": "code",
   "execution_count": 162,
   "id": "9864a3a8",
   "metadata": {},
   "outputs": [
    {
     "name": "stdout",
     "output_type": "stream",
     "text": [
      "                  0\n",
      "count  89850.000000\n",
      "mean       0.011626\n",
      "std        0.164281\n",
      "min       -0.627976\n",
      "25%       -0.094246\n",
      "50%        0.006944\n",
      "75%        0.112103\n",
      "max        0.740079\n"
     ]
    }
   ],
   "source": [
    "print(pd.DataFrame(unreltaus).describe())"
   ]
  },
  {
   "cell_type": "code",
   "execution_count": 165,
   "id": "cf538b90",
   "metadata": {},
   "outputs": [
    {
     "data": {
      "text/plain": [
       "KstestResult(statistic=0.03111831158115197, pvalue=2.0866789228662175e-08, statistic_location=0.00546041352661954, statistic_sign=-1)"
      ]
     },
     "execution_count": 165,
     "metadata": {},
     "output_type": "execute_result"
    }
   ],
   "source": [
    "scipy.stats.ks_2samp(reltaus, unreltaus, alternative=\"less\")"
   ]
  },
  {
   "cell_type": "code",
   "execution_count": 147,
   "id": "68eebefc",
   "metadata": {},
   "outputs": [
    {
     "ename": "KeyError",
     "evalue": "\"None of [Index(['GSM1574423', 'GSM1574424', 'GSM1574425', 'GSM1574426', 'GSM1574427',\\n       'GSM1574428', 'GSM1574429', 'GSM1574430', 'GSM1574431', 'GSM1574432',\\n       'GSM1574433', 'GSM1574434', 'GSM1574435', 'GSM1574436', 'GSM1574437',\\n       'GSM1574438', 'GSM1574439', 'GSM1574440', 'GSM1574441', 'GSM1574442',\\n       'GSM1574443', 'GSM1574444', 'GSM1574445', 'GSM1574446', 'GSM1574447',\\n       'GSM1574448', 'GSM1574449', 'GSM1574450', 'GSM1574451', 'GSM1574452',\\n       'GSM1574453', 'GSM1574454', 'GSM1574455', 'GSM1574456', 'GSM1574457',\\n       'GSM1574458', 'GSM1574459', 'GSM1574460', 'GSM1574461', 'GSM1574462',\\n       'GSM1574463', 'GSM1574464', 'GSM1574465', 'GSM1574466', 'GSM1574467',\\n       'GSM1574468', 'GSM1574469', 'GSM1574470', 'GSM1574471', 'GSM1574472',\\n       'GSM1574473', 'GSM1574474', 'GSM1574475', 'GSM1574476', 'GSM1574477',\\n       'GSM1574478', 'GSM1574479', 'GSM1574480', 'GSM1574481', 'GSM1574482',\\n       'GSM1574483', 'GSM1574484', 'GSM1574485', 'GSM1574486'],\\n      dtype='object')] are in the [columns]\"",
     "output_type": "error",
     "traceback": [
      "\u001b[0;31m---------------------------------------------------------------------------\u001b[0m",
      "\u001b[0;31mKeyError\u001b[0m                                  Traceback (most recent call last)",
      "Cell \u001b[0;32mIn[147], line 1\u001b[0m\n\u001b[0;32m----> 1\u001b[0m genes\u001b[38;5;241m.\u001b[39mloc[\u001b[43mclassification\u001b[49m\u001b[43m[\u001b[49m\u001b[43mgenes\u001b[49m\u001b[43m[\u001b[49m\u001b[38;5;124;43m\"\u001b[39;49m\u001b[38;5;124;43mname\u001b[39;49m\u001b[38;5;124;43m\"\u001b[39;49m\u001b[43m]\u001b[49m\u001b[43m]\u001b[49m\u001b[38;5;241m==\u001b[39m\u001b[38;5;124m\"\u001b[39m\u001b[38;5;124mhealthy\u001b[39m\u001b[38;5;124m\"\u001b[39m]\n",
      "File \u001b[0;32m~/.local/share/virtualenvs/HyperFibrations-l1h_g1LE/lib/python3.9/site-packages/pandas/core/frame.py:3767\u001b[0m, in \u001b[0;36mDataFrame.__getitem__\u001b[0;34m(self, key)\u001b[0m\n\u001b[1;32m   3765\u001b[0m     \u001b[38;5;28;01mif\u001b[39;00m is_iterator(key):\n\u001b[1;32m   3766\u001b[0m         key \u001b[38;5;241m=\u001b[39m \u001b[38;5;28mlist\u001b[39m(key)\n\u001b[0;32m-> 3767\u001b[0m     indexer \u001b[38;5;241m=\u001b[39m \u001b[38;5;28;43mself\u001b[39;49m\u001b[38;5;241;43m.\u001b[39;49m\u001b[43mcolumns\u001b[49m\u001b[38;5;241;43m.\u001b[39;49m\u001b[43m_get_indexer_strict\u001b[49m\u001b[43m(\u001b[49m\u001b[43mkey\u001b[49m\u001b[43m,\u001b[49m\u001b[43m \u001b[49m\u001b[38;5;124;43m\"\u001b[39;49m\u001b[38;5;124;43mcolumns\u001b[39;49m\u001b[38;5;124;43m\"\u001b[39;49m\u001b[43m)\u001b[49m[\u001b[38;5;241m1\u001b[39m]\n\u001b[1;32m   3769\u001b[0m \u001b[38;5;66;03m# take() does not accept boolean indexers\u001b[39;00m\n\u001b[1;32m   3770\u001b[0m \u001b[38;5;28;01mif\u001b[39;00m \u001b[38;5;28mgetattr\u001b[39m(indexer, \u001b[38;5;124m\"\u001b[39m\u001b[38;5;124mdtype\u001b[39m\u001b[38;5;124m\"\u001b[39m, \u001b[38;5;28;01mNone\u001b[39;00m) \u001b[38;5;241m==\u001b[39m \u001b[38;5;28mbool\u001b[39m:\n",
      "File \u001b[0;32m~/.local/share/virtualenvs/HyperFibrations-l1h_g1LE/lib/python3.9/site-packages/pandas/core/indexes/base.py:5876\u001b[0m, in \u001b[0;36mIndex._get_indexer_strict\u001b[0;34m(self, key, axis_name)\u001b[0m\n\u001b[1;32m   5873\u001b[0m \u001b[38;5;28;01melse\u001b[39;00m:\n\u001b[1;32m   5874\u001b[0m     keyarr, indexer, new_indexer \u001b[38;5;241m=\u001b[39m \u001b[38;5;28mself\u001b[39m\u001b[38;5;241m.\u001b[39m_reindex_non_unique(keyarr)\n\u001b[0;32m-> 5876\u001b[0m \u001b[38;5;28;43mself\u001b[39;49m\u001b[38;5;241;43m.\u001b[39;49m\u001b[43m_raise_if_missing\u001b[49m\u001b[43m(\u001b[49m\u001b[43mkeyarr\u001b[49m\u001b[43m,\u001b[49m\u001b[43m \u001b[49m\u001b[43mindexer\u001b[49m\u001b[43m,\u001b[49m\u001b[43m \u001b[49m\u001b[43maxis_name\u001b[49m\u001b[43m)\u001b[49m\n\u001b[1;32m   5878\u001b[0m keyarr \u001b[38;5;241m=\u001b[39m \u001b[38;5;28mself\u001b[39m\u001b[38;5;241m.\u001b[39mtake(indexer)\n\u001b[1;32m   5879\u001b[0m \u001b[38;5;28;01mif\u001b[39;00m \u001b[38;5;28misinstance\u001b[39m(key, Index):\n\u001b[1;32m   5880\u001b[0m     \u001b[38;5;66;03m# GH 42790 - Preserve name from an Index\u001b[39;00m\n",
      "File \u001b[0;32m~/.local/share/virtualenvs/HyperFibrations-l1h_g1LE/lib/python3.9/site-packages/pandas/core/indexes/base.py:5935\u001b[0m, in \u001b[0;36mIndex._raise_if_missing\u001b[0;34m(self, key, indexer, axis_name)\u001b[0m\n\u001b[1;32m   5933\u001b[0m     \u001b[38;5;28;01mif\u001b[39;00m use_interval_msg:\n\u001b[1;32m   5934\u001b[0m         key \u001b[38;5;241m=\u001b[39m \u001b[38;5;28mlist\u001b[39m(key)\n\u001b[0;32m-> 5935\u001b[0m     \u001b[38;5;28;01mraise\u001b[39;00m \u001b[38;5;167;01mKeyError\u001b[39;00m(\u001b[38;5;124mf\u001b[39m\u001b[38;5;124m\"\u001b[39m\u001b[38;5;124mNone of [\u001b[39m\u001b[38;5;132;01m{\u001b[39;00mkey\u001b[38;5;132;01m}\u001b[39;00m\u001b[38;5;124m] are in the [\u001b[39m\u001b[38;5;132;01m{\u001b[39;00maxis_name\u001b[38;5;132;01m}\u001b[39;00m\u001b[38;5;124m]\u001b[39m\u001b[38;5;124m\"\u001b[39m)\n\u001b[1;32m   5937\u001b[0m not_found \u001b[38;5;241m=\u001b[39m \u001b[38;5;28mlist\u001b[39m(ensure_index(key)[missing_mask\u001b[38;5;241m.\u001b[39mnonzero()[\u001b[38;5;241m0\u001b[39m]]\u001b[38;5;241m.\u001b[39munique())\n\u001b[1;32m   5938\u001b[0m \u001b[38;5;28;01mraise\u001b[39;00m \u001b[38;5;167;01mKeyError\u001b[39;00m(\u001b[38;5;124mf\u001b[39m\u001b[38;5;124m\"\u001b[39m\u001b[38;5;132;01m{\u001b[39;00mnot_found\u001b[38;5;132;01m}\u001b[39;00m\u001b[38;5;124m not in index\u001b[39m\u001b[38;5;124m\"\u001b[39m)\n",
      "\u001b[0;31mKeyError\u001b[0m: \"None of [Index(['GSM1574423', 'GSM1574424', 'GSM1574425', 'GSM1574426', 'GSM1574427',\\n       'GSM1574428', 'GSM1574429', 'GSM1574430', 'GSM1574431', 'GSM1574432',\\n       'GSM1574433', 'GSM1574434', 'GSM1574435', 'GSM1574436', 'GSM1574437',\\n       'GSM1574438', 'GSM1574439', 'GSM1574440', 'GSM1574441', 'GSM1574442',\\n       'GSM1574443', 'GSM1574444', 'GSM1574445', 'GSM1574446', 'GSM1574447',\\n       'GSM1574448', 'GSM1574449', 'GSM1574450', 'GSM1574451', 'GSM1574452',\\n       'GSM1574453', 'GSM1574454', 'GSM1574455', 'GSM1574456', 'GSM1574457',\\n       'GSM1574458', 'GSM1574459', 'GSM1574460', 'GSM1574461', 'GSM1574462',\\n       'GSM1574463', 'GSM1574464', 'GSM1574465', 'GSM1574466', 'GSM1574467',\\n       'GSM1574468', 'GSM1574469', 'GSM1574470', 'GSM1574471', 'GSM1574472',\\n       'GSM1574473', 'GSM1574474', 'GSM1574475', 'GSM1574476', 'GSM1574477',\\n       'GSM1574478', 'GSM1574479', 'GSM1574480', 'GSM1574481', 'GSM1574482',\\n       'GSM1574483', 'GSM1574484', 'GSM1574485', 'GSM1574486'],\\n      dtype='object')] are in the [columns]\""
     ]
    }
   ],
   "source": [
    "genes.loc[classification[genes[\"name\"]]==\"healthy\"]"
   ]
  },
  {
   "cell_type": "code",
   "execution_count": null,
   "id": "d96c20dd",
   "metadata": {},
   "outputs": [],
   "source": []
  }
 ],
 "metadata": {
  "kernelspec": {
   "display_name": "qf",
   "language": "python",
   "name": "qf"
  },
  "language_info": {
   "codemirror_mode": {
    "name": "ipython",
    "version": 3
   },
   "file_extension": ".py",
   "mimetype": "text/x-python",
   "name": "python",
   "nbconvert_exporter": "python",
   "pygments_lexer": "ipython3",
   "version": "3.9.17"
  }
 },
 "nbformat": 4,
 "nbformat_minor": 5
}
