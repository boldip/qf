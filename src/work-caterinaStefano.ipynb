{
 "cells": [
  {
   "cell_type": "code",
   "execution_count": 35,
   "id": "d4364c55",
   "metadata": {},
   "outputs": [],
   "source": [
    "from hypergraphs import *\n",
    "from kegg import *\n",
    "import pandas as pd\n",
    "import os\n",
    "import logging\n",
    "from Bio.KEGG.KGML.KGML_parser import read"
   ]
  },
  {
   "cell_type": "code",
   "execution_count": 36,
   "id": "6b13e6bf",
   "metadata": {},
   "outputs": [],
   "source": [
    "organismDict = {\"hsa\": \"Homo sapiens (human)\"}\n",
    "outputDirectory = \"/Users/boldi/Desktop/pw/\"\n",
    "inputDirectory = \"../../LaTeX/Data/KEGG-Pathways/Nov2023/\"\n",
    "dataDirectory = \"../../LaTeX/Data/KEGG-Pathways\""
   ]
  },
  {
   "cell_type": "code",
   "execution_count": 37,
   "id": "3e6caae5",
   "metadata": {},
   "outputs": [],
   "source": [
    "pws = pd.read_csv(os.path.join(inputDirectory, \"KEGG-pathways.txt\"), header=0, \n",
    "            names=[\"Pathway ID\", \"Pathway type\", \"Pathway name\"], dtype=\"string\", keep_default_na=False)\n"
   ]
  },
  {
   "cell_type": "code",
   "execution_count": 38,
   "id": "199b2487",
   "metadata": {},
   "outputs": [],
   "source": [
    "superpathwayDict = {\n",
    "    \"Involved\": [(x,y) for x,y in zip(pws[\"Pathway ID\"], pws[\"Pathway name\"])]\n",
    "}"
   ]
  },
  {
   "cell_type": "code",
   "execution_count": 39,
   "id": "bce1e1d2",
   "metadata": {},
   "outputs": [],
   "source": [
    "superpathway = \"Involved\"\n",
    "organism = \"hsa\""
   ]
  },
  {
   "cell_type": "code",
   "execution_count": 40,
   "id": "cb8e2d96",
   "metadata": {},
   "outputs": [],
   "source": [
    "safeSuperpathway = makesafe(superpathway)"
   ]
  },
  {
   "cell_type": "code",
   "execution_count": 41,
   "id": "47a38c39",
   "metadata": {},
   "outputs": [],
   "source": [
    "def words2set(words):\n",
    "    \"\"\"\n",
    "        Given a space-separated list of words, returns it as a set of words\n",
    "    \"\"\"\n",
    "    return set(words.split())"
   ]
  },
  {
   "cell_type": "code",
   "execution_count": 42,
   "id": "8e0a74d1",
   "metadata": {},
   "outputs": [],
   "source": [
    "from typing import NamedTuple\n",
    "\n",
    "class Relation(NamedTuple):\n",
    "    \"\"\"\n",
    "        Represents a relation. It is characterized by:\n",
    "        - a type (e.g. \"PPRel\") \n",
    "        - a list of subtypes (e.g. [('activation', '-->'), ('indirect effect', '..>')])\n",
    "        - a set of components (source)\n",
    "        - a list of sets of components (target)\n",
    "    \"\"\"\n",
    "    relType: str\n",
    "    relSubtypes: list\n",
    "    source: set\n",
    "    target: list\n",
    "\n",
    "    @classmethod\n",
    "    def fromKEGG(cls, relation, pathway):\n",
    "        \"\"\"\n",
    "            Constructor: builds a Relation from a KEGG relation\n",
    "        \"\"\"\n",
    "        if relation.entry2.name == \"undefined\":\n",
    "            s = []\n",
    "            for component in relation.entry2.components:\n",
    "                s += [words2set(pathway.entries[component.id].name)]\n",
    "        else:\n",
    "            s = [words2set(relation.entry2.name)]\n",
    "        return cls(relation.type, relation.subtypes, words2set(relation.entry1.name), s)\n",
    "        "
   ]
  },
  {
   "cell_type": "code",
   "execution_count": 43,
   "id": "5ba5d2e0",
   "metadata": {},
   "outputs": [],
   "source": [
    "def relations(pathway):\n",
    "    \"\"\"\n",
    "        Given a KEGG pathway, returns the list of relations it contains (represented as Relation).\n",
    "    \"\"\"\n",
    "    return [Relation.fromKEGG(r, pathway) for r in pathway.relations]\n",
    "    "
   ]
  },
  {
   "cell_type": "code",
   "execution_count": 44,
   "id": "bd27fdc2",
   "metadata": {},
   "outputs": [],
   "source": [
    "def relationsFromFile(dataDirectory, organism, pathwayID):\n",
    "    \"\"\"\n",
    "        Given a pathway file (specified by a root dataDirectory, the name of the organism subdirectory, and the name\n",
    "        of the file [organism+pathwayID.xml]), reads it and returns the list of its relations.\n",
    "    \"\"\"\n",
    "    pathway = KGML_parser.read(open(os.path.join(dataDirectory, organism, organism+pathwayID+\".xml\"), \"r\"))\n",
    "    return relations(pathway)"
   ]
  },
  {
   "cell_type": "code",
   "execution_count": 45,
   "id": "eaa01766",
   "metadata": {},
   "outputs": [],
   "source": [
    "def relationsForSuperpathway(dataDirectory, organism, superpathwayDict, superpathway):\n",
    "    \"\"\"\n",
    "        Given a superpathDict (whose keys are superpathway names and whose values are list of\n",
    "        pairs (pathwayID, pathwayName)), reads all the pathway file for a specific superpathway name\n",
    "        and returns a dictionary whose keys are the pathwayID's and whose values are the list of relations.\n",
    "    \"\"\"\n",
    "    rel = {}\n",
    "    for k,v in superpathwayDict[superpathway]:\n",
    "        #logging.info(\"Reading\", k, v)\n",
    "        rel[k] = relationsFromFile(dataDirectory, organism, k)\n",
    "    return rel"
   ]
  },
  {
   "cell_type": "code",
   "execution_count": 46,
   "id": "15479a1c",
   "metadata": {},
   "outputs": [],
   "source": [
    "def subtypes(rel):\n",
    "    \"\"\"\n",
    "        Given a map whose values are relations, accumulate all subtypes appearing and assign them a number.\n",
    "        The result is a map from subtype string to number.\n",
    "    \"\"\"\n",
    "    all_subtypes = set([])\n",
    "    for pathwayid, relations in rel.items():\n",
    "        for relation in relations:\n",
    "            all_subtypes |= set([str(relation.relSubtypes)])\n",
    "        \n",
    "    s = sorted(list(all_subtypes))\n",
    "    subtype2color = {v:k for k,v in enumerate(s)}\n",
    "\n",
    "    return subtype2color"
   ]
  },
  {
   "cell_type": "code",
   "execution_count": 47,
   "id": "0a11bbae",
   "metadata": {},
   "outputs": [],
   "source": [
    "rel = relationsForSuperpathway(dataDirectory, organism, superpathwayDict, superpathway)"
   ]
  },
  {
   "cell_type": "code",
   "execution_count": 52,
   "id": "e7645624",
   "metadata": {},
   "outputs": [],
   "source": [
    "subtype2color = subtypes(rel)\n",
    "\n",
    "G = nx.DiGraph()\n",
    "for pathwayID, relations in rel.items():\n",
    "    for relation in relations:\n",
    "        for x in relation.source:\n",
    "            for t in relation.target:\n",
    "                for y in t:\n",
    "                    G.add_edge(x, y, color=subtype2color[str(relation.relSubtypes)])"
   ]
  },
  {
   "cell_type": "code",
   "execution_count": 53,
   "id": "e1870435",
   "metadata": {},
   "outputs": [],
   "source": [
    "cc=cardon_crochemore_colored(G)"
   ]
  },
  {
   "cell_type": "code",
   "execution_count": 56,
   "id": "25edc873",
   "metadata": {},
   "outputs": [
    {
     "data": {
      "text/plain": [
       "634"
      ]
     },
     "execution_count": 56,
     "metadata": {},
     "output_type": "execute_result"
    }
   ],
   "source": [
    "G.number_of_nodes()"
   ]
  },
  {
   "cell_type": "code",
   "execution_count": 58,
   "id": "b50d8ccc",
   "metadata": {},
   "outputs": [
    {
     "data": {
      "text/plain": [
       "144"
      ]
     },
     "execution_count": 58,
     "metadata": {},
     "output_type": "execute_result"
    }
   ],
   "source": [
    "len(set(cc.values()))"
   ]
  },
  {
   "cell_type": "code",
   "execution_count": 59,
   "id": "4ba1d444",
   "metadata": {},
   "outputs": [
    {
     "name": "stdout",
     "output_type": "stream",
     "text": [
      "0 ['hsa:10672']\n",
      "1 ['hsa:5747']\n",
      "2 ['hsa:6714']\n",
      "3 ['hsa:2266', 'hsa:2243', 'hsa:2244']\n",
      "4 ['hsa:5578']\n",
      "5 ['hsa:5582', 'hsa:5579']\n",
      "6 ['hsa:859', 'hsa:858', 'hsa:857']\n",
      "7 ['hsa:894', 'hsa:896']\n",
      "8 ['hsa:595']\n",
      "9 ['hsa:329', 'hsa:330', 'hsa:331']\n",
      "10 ['hsa:2885']\n",
      "11 ['hsa:3667']\n",
      "12 ['hsa:6774']\n",
      "13 ['hsa:5290', 'hsa:5291', 'hsa:8503', 'hsa:5293', 'hsa:5296', 'hsa:5295']\n",
      "14 ['hsa:362']\n",
      "15 ['hsa:3783', 'hsa:3778', 'hsa:54831']\n",
      "16 ['hsa:808', 'hsa:51806', 'hsa:801', 'hsa:805', 'hsa:810', 'hsa:163688', 'hsa:91860', 'hsa:815', 'hsa:818', 'hsa:817', 'hsa:816']\n",
      "17 ['hsa:340156', 'hsa:91807', 'hsa:85366', 'hsa:4638']\n",
      "18 ['hsa:10235', 'hsa:10125']\n",
      "19 ['hsa:2475']\n",
      "20 ['hsa:64223', 'hsa:57521']\n",
      "21 ['hsa:5970', 'hsa:4790']\n",
      "22 ['hsa:2776']\n",
      "23 ['hsa:2778']\n",
      "24 ['hsa:5879']\n",
      "25 ['hsa:5336']\n",
      "26 ['hsa:5335', 'hsa:6915', 'hsa:2771', 'hsa:2773', 'hsa:2770']\n",
      "27 ['cpd:C05981']\n",
      "28 ['hsa:7248', 'hsa:7249']\n",
      "29 ['hsa:4067']\n",
      "30 ['hsa:2207']\n",
      "31 ['hsa:2534']\n",
      "32 ['hsa:3091']\n",
      "33 ['hsa:347688', 'hsa:7280', 'hsa:203068', 'hsa:347733', 'hsa:10381', 'hsa:10382', 'hsa:84617', 'hsa:81027', 'hsa:10383']\n",
      "34 ['hsa:3690']\n",
      "35 ['hsa:3688']\n",
      "36 ['hsa:3674']\n",
      "37 ['hsa:3673']\n",
      "38 ['hsa:3694', 'hsa:3693', 'hsa:3696', 'hsa:3691', 'hsa:3695']\n",
      "39 ['hsa:3678', 'hsa:3679', 'hsa:3675', 'hsa:22801', 'hsa:3676', 'hsa:3672', 'hsa:3655', 'hsa:3685', 'hsa:8515', 'hsa:3680', 'hsa:8516']\n",
      "40 ['hsa:5160', 'hsa:5162', 'hsa:5161']\n",
      "41 ['hsa:2321']\n",
      "42 ['hsa:1956', 'hsa:4233', 'hsa:3791', 'hsa:2324', 'hsa:3480', 'hsa:5156', 'hsa:2064', 'hsa:5159']\n",
      "43 ['hsa:7010']\n",
      "44 ['hsa:3643', 'hsa:2264', 'hsa:2260', 'hsa:2263', 'hsa:4915', 'hsa:2065', 'hsa:2261', 'hsa:1969', 'hsa:1436', 'hsa:4804', 'hsa:2066', 'hsa:3815', 'hsa:2322', 'hsa:4914']\n",
      "45 ['hsa:3455', 'hsa:3559', 'hsa:2057', 'hsa:3575', 'hsa:3566', 'hsa:3560', 'hsa:3570', 'hsa:9180', 'hsa:5618', 'hsa:3454', 'hsa:1441', 'hsa:2690', 'hsa:3561', 'hsa:3563', 'hsa:3717', 'hsa:3718', 'hsa:3716']\n",
      "46 ['cpd:C00076', 'hsa:84876']\n",
      "47 ['hsa:23236', 'hsa:5330', 'hsa:5332', 'hsa:5331']\n",
      "48 ['hsa:60', 'hsa:71']\n",
      "49 ['hsa:5880', 'hsa:5881']\n",
      "50 ['hsa:107']\n",
      "51 ['hsa:207', 'hsa:10000', 'hsa:208']\n",
      "52 ['hsa:1978']\n",
      "53 ['hsa:6009']\n",
      "54 ['hsa:1511']\n",
      "55 ['hsa:572']\n",
      "56 ['hsa:2309']\n",
      "57 ['cpd:C00027']\n",
      "58 ['hsa:7099', 'hsa:155', 'hsa:153', 'hsa:154', 'hsa:147', 'hsa:148', 'hsa:146', 'hsa:1131', 'hsa:5222', 'hsa:643847', 'hsa:643834', 'hsa:3460', 'hsa:3459', 'cpd:C00704', 'hsa:3554', 'hsa:7850', 'cpd:C02198', 'hsa:9002', 'hsa:2149', 'hsa:5028', 'hsa:64805', 'hsa:2814', 'hsa:2815', 'hsa:2812', 'hsa:2811', 'cpd:C05956', 'cpd:C00427', 'hsa:5739']\n",
      "59 ['hsa:5728', 'hsa:5563', 'hsa:5562', 'hsa:5023']\n",
      "60 ['hsa:51206']\n",
      "61 ['hsa:54583', 'hsa:112398', 'hsa:112399']\n",
      "62 ['hsa:5062', 'hsa:5058', 'hsa:5063', 'hsa:57144', 'hsa:10298', 'hsa:106821730', 'hsa:56924']\n",
      "63 ['hsa:23533', 'hsa:5294', 'hsa:146850']\n",
      "64 ['hsa:7846', 'hsa:7278', 'hsa:112714', 'hsa:84790', 'hsa:7277', 'hsa:51807', 'hsa:79861', 'hsa:10376', 'hsa:113457', 'hsa:5289']\n",
      "65 ['hsa:6850']\n",
      "66 ['hsa:87', 'hsa:81']\n",
      "67 ['hsa:1950', 'hsa:7422', 'hsa:2056', 'hsa:284', 'hsa:51378', 'hsa:285', 'hsa:226', 'hsa:230', 'hsa:229', 'hsa:2597', 'hsa:5163', 'hsa:5214', 'hsa:5213', 'hsa:5211', 'hsa:80201', 'hsa:3098', 'hsa:3099', 'hsa:3101', 'hsa:6513', 'hsa:7076', 'hsa:4878', 'hsa:3162', 'hsa:4843', 'hsa:1906', 'hsa:4055', 'hsa:5054', 'hsa:2027', 'hsa:2023', 'hsa:387712', 'hsa:2026', 'hsa:160287', 'hsa:3939', 'hsa:3948', 'hsa:3945', 'hsa:92483', 'hsa:7037', 'hsa:5209', 'hsa:7018', 'hsa:5230', 'hsa:5232']\n",
      "68 ['hsa:1027']\n",
      "69 ['hsa:1026']\n",
      "70 ['hsa:4846']\n",
      "71 ['hsa:596']\n",
      "72 ['hsa:2012', 'hsa:1280', 'hsa:1282', 'hsa:1292', 'hsa:1288', 'hsa:7058', 'hsa:7148', 'hsa:7448', 'hsa:1287', 'hsa:3910', 'hsa:131873', 'hsa:7450', 'hsa:3381', 'hsa:3914', 'hsa:1284', 'hsa:3915', 'hsa:5649', 'hsa:1298', 'hsa:1299', 'hsa:1286', 'hsa:284217', 'hsa:3918', 'hsa:1278', 'hsa:10319', 'hsa:1291', 'hsa:3911', 'hsa:7060', 'hsa:2335', 'hsa:1297', 'hsa:1293', 'hsa:3912', 'hsa:1101', 'hsa:22798', 'hsa:6696', 'hsa:3371', 'hsa:3908', 'hsa:1285', 'hsa:256076', 'hsa:63923', 'hsa:7143', 'hsa:3909', 'hsa:3913', 'hsa:1311', 'hsa:1277', 'hsa:7059', 'hsa:7057', 'hsa:2318', 'hsa:2317', 'hsa:2316', 'hsa:7791', 'hsa:998', 'hsa:3082', 'hsa:7424', 'hsa:5228', 'hsa:2277', 'hsa:7423', 'hsa:5155', 'hsa:5154', 'hsa:56034', 'hsa:3479', 'hsa:80310', 'hsa:2013', 'hsa:7097', 'undefined', 'hsa:1443', 'hsa:3445', 'hsa:3574', 'hsa:5008', 'hsa:3449', 'hsa:2688', 'hsa:3446', 'hsa:5617', 'hsa:3452', 'hsa:1440', 'hsa:1442', 'hsa:3456', 'hsa:3562', 'hsa:2689', 'hsa:3565', 'hsa:3558', 'hsa:3569', 'hsa:3447', 'hsa:3442', 'hsa:3439', 'hsa:3441', 'hsa:3451', 'hsa:3444', 'hsa:3448', 'hsa:3443', 'hsa:3440', 'hsa:7532', 'hsa:7531', 'hsa:7533', 'hsa:7534', 'hsa:10971', 'hsa:7529', 'hsa:200186', 'hsa:23239', 'hsa:23035', 'hsa:28227', 'hsa:5521', 'hsa:5518', 'hsa:5525', 'hsa:55012', 'hsa:5526', 'hsa:5516', 'hsa:5523', 'hsa:5527', 'hsa:5528', 'hsa:5515', 'hsa:5529', 'hsa:55844', 'hsa:5519', 'hsa:5522', 'hsa:5520', 'hsa:54541', 'hsa:117145', 'hsa:4515', 'hsa:8115', 'hsa:9623', 'hsa:3481', 'hsa:2247', 'hsa:27006', 'hsa:2249', 'hsa:8822', 'hsa:2253', 'hsa:627', 'hsa:2248', 'hsa:26291', 'hsa:1945', 'hsa:4254', 'hsa:1943', 'hsa:4909', 'hsa:2069', 'hsa:26281', 'hsa:2246', 'hsa:1946', 'hsa:8074', 'hsa:1435', 'hsa:9965', 'hsa:2255', 'hsa:2252', 'hsa:2250', 'hsa:2254', 'hsa:374', 'hsa:4803', 'hsa:1942', 'hsa:7039', 'hsa:4908', 'hsa:2251', 'hsa:1944', 'hsa:2323', 'hsa:8823', 'hsa:3630', 'hsa:8817', 'hsa:102723407', 'hsa:9863', 'hsa:9223', 'cpd:C00020', 'hsa:6794', 'cpd:C00547', 'cpd:C01996', 'cpd:C01327', 'cpd:C00338', 'hsa:3458', 'hsa:1536', 'cpd:C00007', 'cpd:C14818', 'cpd:C00072', 'cpd:C00026', 'hsa:3684', 'hsa:3689', 'hsa:5272', 'hsa:6318', 'hsa:5269', 'hsa:6317', 'hsa:5275', 'hsa:5273', 'hsa:2774', 'hsa:3553', 'hsa:3315', 'hsa:2767', 'hsa:9630', 'hsa:2769', 'hsa:5052', 'cpd:C01074', 'hsa:83706', 'cpd:C00008', 'cpd:C00002', 'hsa:6786', 'hsa:6916', 'hsa:5742', 'cpd:C01312', 'hsa:2147', 'hsa:1281']\n",
      "73 ['hsa:5906', 'hsa:5908']\n",
      "74 ['hsa:9470', 'hsa:1977', 'hsa:253314']\n",
      "75 ['cpd:C00533']\n",
      "76 ['hsa:1975']\n",
      "77 ['hsa:6194']\n",
      "78 ['hsa:1793', 'hsa:2889']\n",
      "79 ['hsa:5829']\n",
      "80 ['hsa:5894']\n",
      "81 ['hsa:387']\n",
      "82 ['hsa:83660', 'hsa:7094']\n",
      "83 ['hsa:3611']\n",
      "84 ['hsa:3265', 'hsa:3845', 'hsa:4893']\n",
      "85 ['hsa:1387', 'hsa:2033']\n",
      "86 ['hsa:4842']\n",
      "87 ['hsa:10627', 'hsa:103910']\n",
      "88 ['hsa:29895', 'hsa:10398', 'hsa:4636', 'hsa:93408', 'hsa:58498', 'hsa:4633']\n",
      "89 ['hsa:4660', 'hsa:54776']\n",
      "90 ['hsa:5499', 'hsa:5501', 'hsa:5500', 'hsa:4659']\n",
      "91 ['hsa:7414']\n",
      "92 ['cpd:C00942']\n",
      "93 ['hsa:3725']\n",
      "94 ['hsa:5604']\n",
      "95 ['hsa:3709', 'hsa:3710', 'hsa:3708']\n",
      "96 ['hsa:5566', 'hsa:5567', 'hsa:5568']\n",
      "97 ['hsa:673', 'hsa:54518']\n",
      "98 ['hsa:5599', 'hsa:5602', 'hsa:5601']\n",
      "99 ['hsa:5594', 'hsa:5595']\n",
      "100 ['hsa:9475', 'hsa:6093', 'hsa:1729', 'hsa:8394', 'hsa:23396', 'hsa:8395']\n",
      "101 ['hsa:2932', 'hsa:842', 'hsa:3164']\n",
      "102 ['hsa:672']\n",
      "103 ['hsa:468', 'hsa:9586', 'hsa:84699', 'hsa:148327', 'hsa:1388', 'hsa:1386', 'hsa:1385', 'hsa:90993', 'hsa:64764', 'hsa:10488', 'hsa:3551', 'hsa:1147', 'hsa:8517', 'hsa:4193']\n",
      "104 ['hsa:5585', 'hsa:5586', 'hsa:29941', 'hsa:6446', 'hsa:23678', 'hsa:100533105', 'hsa:10110']\n",
      "105 ['hsa:6198', 'hsa:6199']\n",
      "106 ['hsa:6844']\n",
      "107 ['hsa:7408']\n",
      "108 ['hsa:8681', 'hsa:5321', 'hsa:283748', 'hsa:255189', 'hsa:8605', 'hsa:100137049', 'hsa:123745']\n",
      "109 ['hsa:930']\n",
      "110 ['hsa:5605']\n",
      "111 ['hsa:9134', 'hsa:898', 'hsa:1017', 'hsa:1019', 'hsa:1021']\n",
      "112 ['hsa:5934', 'hsa:5105', 'hsa:5106', 'hsa:92579', 'hsa:57818', 'hsa:2538', 'hsa:356', 'hsa:10018']\n",
      "113 ['hsa:598']\n",
      "114 ['hsa:1499', 'hsa:2998', 'hsa:2997', 'hsa:4609']\n",
      "115 ['hsa:6256']\n",
      "116 ['hsa:7157']\n",
      "117 ['hsa:4170']\n",
      "118 ['cpd:C13050']\n",
      "119 ['hsa:5593', 'hsa:5592']\n",
      "120 ['hsa:5584', 'hsa:5590']\n",
      "121 ['hsa:394']\n",
      "122 ['hsa:2909']\n",
      "123 ['hsa:2212']\n",
      "124 ['hsa:6263']\n",
      "125 ['hsa:2002']\n",
      "126 ['hsa:2872', 'hsa:8569']\n",
      "127 ['hsa:399694', 'hsa:25759', 'hsa:53358', 'hsa:6464']\n",
      "128 ['hsa:683', 'hsa:952', 'hsa:5600', 'hsa:6300', 'hsa:5603', 'hsa:1432']\n",
      "129 ['cpd:C00575']\n",
      "130 ['hsa:2982', 'hsa:2983', 'hsa:2977']\n",
      "131 ['cpd:C00165', 'cpd:C01245']\n",
      "132 ['hsa:9138', 'hsa:23365']\n",
      "133 ['hsa:695', 'hsa:3937']\n",
      "134 ['hsa:5170']\n",
      "135 ['hsa:7410', 'hsa:7409', 'hsa:10451']\n",
      "136 ['hsa:824']\n",
      "137 ['hsa:5923', 'hsa:9564']\n",
      "138 ['hsa:6655', 'hsa:6654']\n",
      "139 ['cpd:C00219']\n",
      "140 ['hsa:1398', 'hsa:1399']\n",
      "141 ['hsa:29780', 'hsa:55742', 'hsa:64098']\n",
      "142 ['hsa:4602']\n",
      "143 ['hsa:114', 'hsa:108', 'hsa:115', 'hsa:112', 'hsa:109', 'hsa:111', 'hsa:113', 'hsa:196883']\n"
     ]
    }
   ],
   "source": [
    "for x in set(cc.values()):\n",
    "    print(x,[k for k in cc if cc[k]==x])"
   ]
  },
  {
   "cell_type": "code",
   "execution_count": null,
   "id": "67b5599b",
   "metadata": {},
   "outputs": [],
   "source": []
  }
 ],
 "metadata": {
  "kernelspec": {
   "display_name": "qf",
   "language": "python",
   "name": "qf"
  },
  "language_info": {
   "codemirror_mode": {
    "name": "ipython",
    "version": 3
   },
   "file_extension": ".py",
   "mimetype": "text/x-python",
   "name": "python",
   "nbconvert_exporter": "python",
   "pygments_lexer": "ipython3",
   "version": "3.9.17"
  }
 },
 "nbformat": 4,
 "nbformat_minor": 5
}
