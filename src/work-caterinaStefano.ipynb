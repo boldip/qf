{
 "cells": [
  {
   "cell_type": "code",
   "execution_count": 1,
   "id": "d4364c55",
   "metadata": {},
   "outputs": [],
   "source": [
    "from hypergraphs import *\n",
    "from kegg import *\n",
    "import pandas as pd\n",
    "import os\n",
    "import logging\n",
    "\n",
    "from Bio.KEGG.KGML.KGML_parser import read\n",
    "from ast import literal_eval\n",
    "from urllib.request import urlopen\n",
    "from urllib.parse import quote_plus\n",
    "from bs4 import BeautifulSoup\n",
    "import requests\n",
    "from Levenshtein import ratio\n",
    "import scipy.stats\n",
    "import pathlib\n",
    "from qf.cc import cardon_crochemore_colored, cardon_crochemore\n",
    "import random"
   ]
  },
  {
   "cell_type": "code",
   "execution_count": 2,
   "id": "6b13e6bf",
   "metadata": {},
   "outputs": [],
   "source": [
    "organismDict = {\"hsa\": \"Homo sapiens (human)\"}\n",
    "outputDirectory = \"/Users/boldi/Desktop/pw/\"\n",
    "inputDirectory = \"../../LaTeX/Data/KEGG-Pathways/Nov2023/\"\n",
    "dataDirectory = \"../../LaTeX/Data/KEGG-Pathways\""
   ]
  },
  {
   "cell_type": "code",
   "execution_count": 3,
   "id": "3e6caae5",
   "metadata": {},
   "outputs": [],
   "source": [
    "pws = pd.read_csv(os.path.join(inputDirectory, \"KEGG-pathways.txt\"), header=0, \n",
    "            names=[\"Pathway ID\", \"Pathway type\", \"Pathway name\"], dtype=\"string\", keep_default_na=False)\n"
   ]
  },
  {
   "cell_type": "code",
   "execution_count": 4,
   "id": "199b2487",
   "metadata": {},
   "outputs": [],
   "source": [
    "superpathwayDict = {\n",
    "    \"Involved\": [(x,y) for x,y in zip(pws[\"Pathway ID\"], pws[\"Pathway name\"])]\n",
    "}"
   ]
  },
  {
   "cell_type": "code",
   "execution_count": 5,
   "id": "bce1e1d2",
   "metadata": {},
   "outputs": [],
   "source": [
    "superpathway = \"Involved\"\n",
    "organism = \"hsa\""
   ]
  },
  {
   "cell_type": "code",
   "execution_count": 6,
   "id": "cb8e2d96",
   "metadata": {},
   "outputs": [],
   "source": [
    "safeSuperpathway = makesafe(superpathway)"
   ]
  },
  {
   "cell_type": "code",
   "execution_count": 7,
   "id": "47a38c39",
   "metadata": {},
   "outputs": [],
   "source": [
    "def words2set(words):\n",
    "    \"\"\"\n",
    "        Given a space-separated list of words, returns it as a set of words\n",
    "    \"\"\"\n",
    "    return set(words.split())"
   ]
  },
  {
   "cell_type": "code",
   "execution_count": 8,
   "id": "8e0a74d1",
   "metadata": {},
   "outputs": [],
   "source": [
    "from typing import NamedTuple\n",
    "\n",
    "class Relation(NamedTuple):\n",
    "    \"\"\"\n",
    "        Represents a relation. It is characterized by:\n",
    "        - a type (e.g. \"PPRel\") \n",
    "        - a list of subtypes (e.g. [('activation', '-->'), ('indirect effect', '..>')])\n",
    "        - a set of components (source)\n",
    "        - a list of sets of components (target)\n",
    "    \"\"\"\n",
    "    relType: str\n",
    "    relSubtypes: list\n",
    "    source: set\n",
    "    target: list\n",
    "\n",
    "    @classmethod\n",
    "    def fromKEGG(cls, relation, pathway):\n",
    "        \"\"\"\n",
    "            Constructor: builds a Relation from a KEGG relation\n",
    "        \"\"\"\n",
    "        if relation.entry2.name == \"undefined\":\n",
    "            s = []\n",
    "            for component in relation.entry2.components:\n",
    "                s += [words2set(pathway.entries[component.id].name)]\n",
    "        else:\n",
    "            s = [words2set(relation.entry2.name)]\n",
    "        return cls(relation.type, relation.subtypes, words2set(relation.entry1.name), s)\n",
    "        "
   ]
  },
  {
   "cell_type": "code",
   "execution_count": 9,
   "id": "5ba5d2e0",
   "metadata": {},
   "outputs": [],
   "source": [
    "def relationsFromKEGGpathway(pathway):\n",
    "    \"\"\"\n",
    "        Given a KEGG pathway, returns the list of relations it contains (represented as Relation).\n",
    "    \"\"\"\n",
    "    return [Relation.fromKEGG(r, pathway) for r in pathway.relations]\n",
    "    "
   ]
  },
  {
   "cell_type": "code",
   "execution_count": 10,
   "id": "751bc16c",
   "metadata": {},
   "outputs": [],
   "source": [
    "def pathwayFromFile(dataDirectory, organism, pathwayID):\n",
    "    return KGML_parser.read(open(os.path.join(dataDirectory, organism, organism+pathwayID+\".xml\"), \"r\"))"
   ]
  },
  {
   "cell_type": "code",
   "execution_count": 11,
   "id": "bd27fdc2",
   "metadata": {},
   "outputs": [],
   "source": [
    "def relationsFromFile(dataDirectory, organism, pathwayID):\n",
    "    \"\"\"\n",
    "        Given a pathway file (specified by a root dataDirectory, the name of the organism subdirectory, and the name\n",
    "        of the file [organism+pathwayID.xml]), reads it and returns the list of its relations.\n",
    "    \"\"\"\n",
    "    pathway = pathwayFromFile(dataDirectory, organism, pathwayID)\n",
    "    return relationsFromKEGGpathway(pathway)"
   ]
  },
  {
   "cell_type": "code",
   "execution_count": 12,
   "id": "eaa01766",
   "metadata": {},
   "outputs": [],
   "source": [
    "def relationsForSuperpathway(dataDirectory, organism, superpathwayDict, superpathway):\n",
    "    \"\"\"\n",
    "        Given a superpathDict (whose keys are superpathway names and whose values are list of\n",
    "        pairs (pathwayID, pathwayName)), reads all the pathway file for a specific superpathway name\n",
    "        and returns a dictionary whose keys are the pathwayID's and whose values are the list of relations.\n",
    "    \"\"\"\n",
    "    rel = {}\n",
    "    for k,v in superpathwayDict[superpathway]:\n",
    "        #logging.info(\"Reading\", k, v)\n",
    "        rel[k] = relationsFromFile(dataDirectory, organism, k)\n",
    "    return rel"
   ]
  },
  {
   "cell_type": "code",
   "execution_count": 13,
   "id": "15479a1c",
   "metadata": {},
   "outputs": [],
   "source": [
    "def subtypes(rel):\n",
    "    \"\"\"\n",
    "        Given a map whose values are relations, accumulate all subtypes appearing and assign them a number.\n",
    "        The result is a map from subtype string to number.\n",
    "    \"\"\"\n",
    "    all_subtypes = set([])\n",
    "    for pathwayid, relations in rel.items():\n",
    "        for relation in relations:\n",
    "            all_subtypes |= set([str(relation.relSubtypes)])\n",
    "        \n",
    "    s = sorted(list(all_subtypes))\n",
    "    subtype2color = {v:k for k,v in enumerate(s)}\n",
    "\n",
    "    return subtype2color"
   ]
  },
  {
   "cell_type": "code",
   "execution_count": 14,
   "id": "1e229eaf-d667-466c-8238-8205257b0ccc",
   "metadata": {},
   "outputs": [],
   "source": [
    "def set2can(s):\n",
    "    \"\"\"\n",
    "        Convert a set to a string in a canonical way.\n",
    "    \"\"\"\n",
    "    return str(sorted(list(s)))\n",
    "\n",
    "def can2set(c):\n",
    "    \"\"\"\n",
    "        Does the converse of set2can.\n",
    "    \"\"\"\n",
    "    return set(literal_eval(c))"
   ]
  },
  {
   "cell_type": "code",
   "execution_count": 15,
   "id": "75b272b9-b220-492b-adf6-509f9952842f",
   "metadata": {},
   "outputs": [],
   "source": [
    "def indices(rel):\n",
    "    \"\"\"\n",
    "        Given a map whose values are lists of relations, it considers all the relations one by one, and attributes a unique id \n",
    "        to each element (i.e., set of components appearing as source or in the target of some relation) and block (the set of\n",
    "        element id appearing as target of some relation).\n",
    "        This function returns the dictionaries to move from/to an element or block to the corresponding id.\n",
    "        Elements are string representations of sorted lists of strings.\n",
    "        Blocks are string representations of sorted lists of ints.\n",
    "    \"\"\"\n",
    "    element2id = {}\n",
    "    id2element = {}\n",
    "    block2id = {}\n",
    "    id2block = {}\n",
    "\n",
    "    for relations in rel.values():\n",
    "        for relation in relations:\n",
    "            s = set2can(relation.source)\n",
    "            if s not in element2id.keys():\n",
    "                element2id[s] = len(element2id)\n",
    "            targetset = set([])\n",
    "            for targ in relation.target:\n",
    "                t = set2can(targ)\n",
    "                if t not in element2id.keys():\n",
    "                    element2id[t] = len(element2id)\n",
    "                targetset |= set([element2id[t]])\n",
    "            ts = set2can(targetset)\n",
    "            if ts not in block2id.keys():\n",
    "                block2id[ts] = len(block2id)\n",
    "\n",
    "    for k,v in element2id.items():\n",
    "        id2element[v] = k\n",
    "    for k,v in block2id.items():\n",
    "        id2block[v] = k\n",
    "    return element2id, id2element, block2id, id2block\n"
   ]
  },
  {
   "cell_type": "code",
   "execution_count": 16,
   "id": "f9c3f128-cf97-4bb3-8ce5-65c49f865d98",
   "metadata": {},
   "outputs": [],
   "source": [
    "def search_gene_KEGG(geneID):\n",
    "    \"\"\"\n",
    "        Search for gene on KEGG. \n",
    "        \n",
    "        Returns list of names.\n",
    "    \"\"\"\n",
    "    url1 = \"https://www.kegg.jp/entry/\"+geneID\n",
    "    response1 = requests.get(url1, allow_redirects=False)    \n",
    "    soup = BeautifulSoup(response1.text, \"html.parser\")\n",
    "    tds = [tds for tds in soup.find_all(\"td\", {\"class\": \"td11 defd\"})]\n",
    "    names = tds[0].getText().strip().split(\", \")\n",
    "    return names"
   ]
  },
  {
   "cell_type": "code",
   "execution_count": 17,
   "id": "0a11bbae",
   "metadata": {},
   "outputs": [],
   "source": [
    "rel = relationsForSuperpathway(dataDirectory, organism, superpathwayDict, superpathway)\n",
    "element2id, id2element, block2id, id2block = indices(rel)\n",
    "subtype2color = subtypes(rel)\n",
    "elements = list(set.union(*[can2set(k) for k in element2id.keys()]))"
   ]
  },
  {
   "cell_type": "code",
   "execution_count": 18,
   "id": "a1be8c2d-c5da-4e04-bf67-7e43b1a71b7a",
   "metadata": {},
   "outputs": [
    {
     "name": "stdout",
     "output_type": "stream",
     "text": [
      "Reading gene names\n"
     ]
    }
   ],
   "source": [
    "# name2gene is a function mapping names to gene IDs (hsa:xxxx)\n",
    "# e.g. KCNE3, BRGDA6 etc are all mapped to hsa:10008 (see https://www.kegg.jp/entry/hsa:10008)\n",
    "# This map was produced by scraping kegg, but this has been done only once.\n",
    "# After that, we just read a pkl file\n",
    "\n",
    "name2keggFilename = os.path.join(inputDirectory, \"name2kegg.pkl\")\n",
    "\n",
    "if os.path.exists(name2keggFilename):\n",
    "    print(\"Reading gene names\")\n",
    "    with open(name2keggFilename, \"rb\") as handle:\n",
    "        name2gene = pickle.load(handle)\n",
    "else:\n",
    "    print(\"Producing gene names\")\n",
    "    d = {}\n",
    "    nelements = len(elements)\n",
    "    for count,element in enumerate(elements):\n",
    "        if count % 10 == 0:\n",
    "            print(f\"{count}/{nelements}\")\n",
    "        if element.startswith(\"hsa\"):\n",
    "            names = search_gene_KEGG(element)\n",
    "            for name in names:\n",
    "                d[name] = element\n",
    "    with open(name2keggFilename, \"wb\") as handle:\n",
    "        pickle.dump(d, handle, protocol=pickle.HIGHEST_PROTOCOL)\n",
    "    name2gene = d"
   ]
  },
  {
   "cell_type": "code",
   "execution_count": 19,
   "id": "74d19326",
   "metadata": {},
   "outputs": [
    {
     "name": "stdout",
     "output_type": "stream",
     "text": [
      "Reading patient data\n"
     ]
    }
   ],
   "source": [
    "# Read patient data\n",
    "print(\"Reading patient data\")\n",
    "genes = pd.read_csv(os.path.join(inputDirectory, \"genes.csv\"))\n",
    "patients = genes[\"name\"].values.tolist()\n",
    "classification = pd.read_csv(os.path.join(inputDirectory, \"classification.csv\"))\n",
    "\n",
    "patient2class = {patient: classification.loc[classification[\"name\"]==patient][\"classification\"].values.flatten().tolist()[0] for patient in patients}"
   ]
  },
  {
   "cell_type": "code",
   "execution_count": 20,
   "id": "34acce33",
   "metadata": {},
   "outputs": [],
   "source": [
    "# Dividing genes into two frames (one for healthy individuals and one for diseased individuals)\n",
    "genesHealthy = genes.loc[genes[\"name\"].apply(lambda x: patient2class[x])==\"healthy\"]\n",
    "genesDiseased = genes.loc[genes[\"name\"].apply(lambda x: patient2class[x])==\"diseased\"]"
   ]
  },
  {
   "cell_type": "code",
   "execution_count": 21,
   "id": "1c90f901-1413-4356-bfa8-faf25fc494df",
   "metadata": {},
   "outputs": [
    {
     "name": "stdout",
     "output_type": "stream",
     "text": [
      "Building the relation graph\n"
     ]
    }
   ],
   "source": [
    "# Building the graph of all relations contained in rel values\n",
    "# Nodes are IDs, and node x correspond to the set of genes (and/or compound) id2element[x]\n",
    "print(\"Building the relation graph\")\n",
    "G = nx.DiGraph() \n",
    "for relations in rel.values():\n",
    "    for relation in relations:\n",
    "        source = element2id[set2can(relation.source)]\n",
    "        for targ in relation.target:\n",
    "            target = element2id[set2can(targ)]\n",
    "            G.add_edge(source, target, color=subtype2color[str(relation.relSubtypes)])\n",
    "            \n",
    "\n",
    "# Computing the minimum fibres\n",
    "cc=cardon_crochemore_colored(G)\n",
    "\n",
    "colors = list(matplotlib.colors.CSS4_COLORS.values())\n",
    "usedColors = 0\n",
    "\n",
    "cc2fibresize = {}\n",
    "cc2fibre = {}\n",
    "ccnontrivial = {}\n",
    "nontrivialclass2col = {}\n",
    "\n",
    "fibres = []\n",
    "node2fibre = {}\n",
    "for v in set(cc.values()):\n",
    "    fibre = [x for x in G.nodes() if cc[x] == v]\n",
    "    fibres += [fibre]\n",
    "    for x in fibre:\n",
    "        node2fibre[x] = fibre\n",
    "    cc2fibre[v] = fibre\n",
    "    cc2fibresize[v] = len(fibre)\n",
    "    if len(fibre) > 0:\n",
    "        ccnontrivial[v] = cc[v]\n",
    "        nontrivialclass2col[v] = colors[usedColors]\n",
    "        usedColors += 1"
   ]
  },
  {
   "cell_type": "code",
   "execution_count": 22,
   "id": "d51dbd7f-35b9-444a-9238-3af727c06411",
   "metadata": {},
   "outputs": [
    {
     "name": "stdout",
     "output_type": "stream",
     "text": [
      "Mapping genes to columns\n"
     ]
    }
   ],
   "source": [
    "# Build node2columns, mapping each node of G to the list of genes corresponding to it\n",
    "# for which we know a value (in the genes dataframe), sorted\n",
    "#\n",
    "\n",
    "print(\"Mapping genes to columns\")\n",
    "namedGenes = set(name2gene.values())     \n",
    "columns = set(genes.columns.values.tolist()[2:])\n",
    "node2columns = {}\n",
    "for node in G.nodes():\n",
    "    nodeGenes = can2set(id2element[node])\n",
    "    s = []\n",
    "    for gene in nodeGenes & namedGenes:\n",
    "        for k,v in name2gene.items():\n",
    "            if v == gene:\n",
    "                if k in columns:\n",
    "                    s += [k]\n",
    "    node2columns[node]=sorted(s)"
   ]
  },
  {
   "cell_type": "code",
   "execution_count": 23,
   "id": "05b96661",
   "metadata": {},
   "outputs": [],
   "source": [
    "s = \"\"\n",
    "for pair in superpathwayDict[superpathway]:\n",
    "    pathwayID = pair[0]\n",
    "    pathway = pathwayFromFile(dataDirectory, organism, pathwayID)\n",
    "    canvas = KGMLCanvas(pathway)\n",
    "    for k in pathway.entries:\n",
    "        name = pathway.entries[k].name\n",
    "        canonicalName = set2can(words2set(name))\n",
    "        if canonicalName in element2id.keys():\n",
    "            node = element2id[canonicalName]\n",
    "            klass = cc[node]\n",
    "            if klass in nontrivialclass2col:\n",
    "                pathway.entries[k].graphics[0].bgcolor = nontrivialclass2col[klass]\n",
    "                pathway.entries[k].graphics[0].fgcolor = nontrivialclass2col[klass]\n",
    "            else:\n",
    "                pathway.entries[k].graphics[0].bgcolor = \"#FFFFFF\"\n",
    "                pathway.enries[k].graphics[0].fgcolor = \"#FFFFFF\"\n",
    "            s += pathwayID + \"\\t\" + str(node) + \"\\t\" + str(klass) +\"\\t\"+pathway.entries[k].graphics[0].name+\"\\t\"+canonicalName + \"\\n\"\n",
    "    canvas.import_imagemap = True\n",
    "    pdfName = organism + pathwayID + \".pdf\"\n",
    "    pathlib.Path(os.path.join(\"/Users/boldi/Desktop/\", organism, safeSuperpathway)).mkdir(parents=True, exist_ok=True)\n",
    "    canvas.draw(os.path.join(\"/Users/boldi/Desktop/\", organism, safeSuperpathway, pdfName))\n",
    "with open(os.path.join(\"/Users/boldi/Desktop/\", organism, safeSuperpathway, \"all.tsv\"), \"wt\") as file:\n",
    "    file.write(s)"
   ]
  },
  {
   "cell_type": "code",
   "execution_count": 24,
   "id": "73ce2fd3",
   "metadata": {},
   "outputs": [],
   "source": [
    "def columns2nodes(columns, node2columns, ignoreEmpty = True):\n",
    "    \"\"\"\n",
    "        Returns a map from columns to the nodes where the column appears.\n",
    "    \"\"\"\n",
    "    res = {} \n",
    "    for c in columns:\n",
    "        s = set([])\n",
    "        for no, co in node2columns.items():\n",
    "            if c in co:\n",
    "                s |= set([no])\n",
    "        if len(s) > 0 or not ignoreEmpty:\n",
    "            res[c] = s\n",
    "    return res\n",
    "\n",
    "c2n = columns2nodes(columns, node2columns)\n",
    "usableColumns = list(c2n.keys())"
   ]
  },
  {
   "cell_type": "code",
   "execution_count": 25,
   "id": "17ab34ab",
   "metadata": {},
   "outputs": [],
   "source": [
    "def areRelated(column1, column2, column2nodes, node2color, inDegThreshold = 0):\n",
    "    nodes1 = column2nodes[column1]\n",
    "    nodes2 = column2nodes[column2]\n",
    "    colors1 = set([node2color[node] for node in nodes1])\n",
    "    colors2 = set([node2color[node] for node in nodes2])\n",
    "    commonColors = colors1 & colors2\n",
    "    if len(commonColors) == 0:\n",
    "        return False\n",
    "    maxInDeg = max([G.in_degree(cc2fibre[c][0]) for c in commonColors])\n",
    "    return maxInDeg >= inDegThreshold"
   ]
  },
  {
   "cell_type": "code",
   "execution_count": 63,
   "id": "6cb6bf33",
   "metadata": {},
   "outputs": [
    {
     "data": {
      "text/plain": [
       "(['VWF'], ['GP9'])"
      ]
     },
     "execution_count": 63,
     "metadata": {},
     "output_type": "execute_result"
    }
   ],
   "source": [
    "(node2columns[249],node2columns[253])"
   ]
  },
  {
   "cell_type": "code",
   "execution_count": 68,
   "id": "c7919435",
   "metadata": {},
   "outputs": [
    {
     "name": "stdout",
     "output_type": "stream",
     "text": [
      " 249\t 253\t-0.16± 0.00\t 0.30± 0.00 \t -0.4622268537416605\n",
      "  77\t 112\t 0.51± 0.00\t 0.14± 0.00 \t 0.36765584214504116\n",
      "  98\t  96\t 0.17± 0.05\t-0.19± 0.06 \t 0.35986670530281073\n",
      "  13\t  46\t-0.16± 0.00\t 0.13± 0.00 \t -0.28861199652274705\n",
      " 227\t  10\t-0.01± 0.00\t-0.30± 0.00 \t 0.2860620110113011\n",
      " 198\t 173\t-0.06± 0.00\t 0.20± 0.00 \t -0.25911330049261083\n",
      " 249\t 252\t-0.11± 0.00\t 0.14± 0.00 \t -0.2514994493423496\n",
      "  25\t 231\t 0.05± 0.01\t 0.28± 0.18 \t -0.23309185743262822\n",
      "  23\t  11\t-0.27± 0.11\t-0.04± 0.12 \t -0.2326137351492321\n",
      "  62\t   7\t 0.00± 0.08\t-0.22± 0.04 \t 0.21926977687626775\n",
      " 265\t  49\t 0.24± 0.11\t 0.02± 0.10 \t 0.21706751666183713\n",
      "  27\t  34\t-0.14± 0.12\t-0.34± 0.10 \t 0.20588240172417813\n",
      "  26\t  27\t 0.18± 0.01\t 0.38± 0.07 \t -0.19842893363646308\n",
      " 226\t 227\t-0.06± 0.06\t 0.13± 0.13 \t -0.19681251811069256\n",
      " 133\t 134\t-0.15± 0.14\t 0.04± 0.18 \t -0.19248526997005694\n",
      " 249\t 251\t 0.14± 0.00\t 0.33± 0.00 \t -0.18984279040123606\n",
      " 266\t 226\t-0.08± 0.00\t 0.10± 0.16 \t -0.1813387423935091\n",
      " 258\t 227\t 0.15± 0.34\t-0.03± 0.27 \t 0.17971602434077075\n",
      "  47\t  39\t-0.06± 0.01\t-0.24± 0.17 \t 0.17371776296725588\n",
      "  77\t 229\t 0.11± 0.00\t 0.28± 0.00 \t -0.16256167392068305\n",
      "   7\t 226\t 0.06± 0.04\t 0.22± 0.19 \t -0.15859171254708782\n",
      "  88\t  89\t 0.07± 0.04\t-0.09± 0.06 \t 0.15725876557519558\n",
      "  73\t 103\t-0.02± 0.00\t-0.18± 0.00 \t 0.15520139090118806\n",
      "  13\t  34\t-0.29± 0.00\t-0.14± 0.00 \t -0.15450594030715734\n",
      "  73\t  88\t-0.02± 0.00\t 0.13± 0.00 \t -0.15404230657780354\n",
      "  96\t 100\t 0.04± 0.14\t-0.11± 0.01 \t 0.1511156186612576\n",
      " 232\t 233\t-0.13± 0.17\t 0.02± 0.07 \t -0.14939372990462024\n",
      "  14\t  65\t-0.00± 0.31\t 0.14± 0.30 \t -0.14890369941079878\n",
      " 136\t 144\t 0.03± 0.05\t-0.11± 0.12 \t 0.1454071283685888\n",
      "   0\t   1\t 0.37± 0.09\t 0.23± 0.06 \t 0.14212796029516256\n",
      "  10\t 228\t-0.18± 0.00\t-0.32± 0.00 \t 0.1387423935091278\n",
      " 246\t 247\t 0.25± 0.00\t 0.11± 0.00 \t 0.13370037670240506\n",
      " 128\t 100\t-0.12± 0.00\t 0.01± 0.00 \t -0.12936306769514216\n",
      "   0\t  44\t-0.13± 0.00\t-0.00± 0.00 \t -0.12902226309653236\n",
      "  33\t  35\t 0.10± 0.32\t-0.03± 0.15 \t 0.12553734128833818\n",
      " 206\t  67\t 0.11± 0.06\t 0.23± 0.05 \t -0.12436594013936275\n",
      " 239\t 238\t-0.04± 0.15\t 0.08± 0.20 \t -0.12171292785593295\n",
      "  33\t 265\t-0.01± 0.14\t-0.13± 0.01 \t 0.12123317405561125\n",
      " 122\t  14\t-0.04± 0.11\t-0.16± 0.07 \t 0.11913455037187289\n",
      " 213\t  67\t-0.13± 0.04\t-0.01± 0.10 \t -0.11885777465716525\n",
      "  54\t 123\t-0.25± 0.00\t-0.36± 0.00 \t 0.11503911909591422\n",
      "  23\t   7\t 0.39± 0.02\t 0.50± 0.02 \t -0.10753404810199951\n",
      "  54\t  89\t-0.17± 0.07\t-0.28± 0.11 \t 0.10747609388583024\n",
      " 165\t 120\t 0.04± 0.10\t-0.06± 0.18 \t 0.1013329469718922\n",
      " 108\t 109\t 0.17± 0.09\t 0.06± 0.31 \t 0.10019854863644406\n",
      "  19\t   7\t-0.03± 0.22\t-0.13± 0.15 \t 0.09903409639717958\n",
      "  22\t  85\t-0.08± 0.13\t 0.01± 0.36 \t -0.0971892205157925\n",
      "  27\t  29\t 0.40± 0.15\t 0.50± 0.10 \t -0.09623870557303155\n",
      "  39\t  22\t 0.13± 0.00\t 0.04± 0.00 \t 0.0909881193856853\n",
      "   2\t 238\t 0.03± 0.12\t-0.06± 0.16 \t 0.08977472756562416\n",
      " 134\t 142\t-0.01± 0.16\t 0.08± 0.12 \t -0.08821657621521248\n",
      "  47\t  83\t 0.03± 0.18\t-0.05± 0.26 \t 0.0852796290930165\n",
      " 139\t 129\t-0.01± 0.28\t-0.10± 0.22 \t 0.08516372066067808\n",
      "  73\t 102\t 0.03± 0.00\t 0.11± 0.00 \t -0.0830483917705013\n",
      " 227\t 260\t-0.13± 0.18\t-0.21± 0.29 \t 0.08043911110500634\n",
      " 209\t 153\t-0.07± 0.10\t-0.15± 0.11 \t 0.08001545445764514\n",
      "  28\t  46\t-0.05± 0.25\t 0.03± 0.15 \t -0.07939727615184003\n",
      " 237\t   2\t 0.07± 0.11\t-0.01± 0.08 \t 0.07619530570849029\n",
      "  19\t  11\t 0.06± 0.21\t 0.14± 0.09 \t -0.07612769245629285\n",
      "  24\t  25\t 0.16± 0.33\t 0.09± 0.31 \t 0.0746450304259635\n",
      " 225\t 121\t-0.07± 0.16\t 0.00± 0.14 \t -0.07366666784930428\n",
      "  83\t  22\t 0.06± 0.11\t 0.13± 0.17 \t -0.07306094851733799\n",
      " 260\t   0\t-0.01± 0.31\t 0.06± 0.35 \t -0.07191514085332874\n",
      " 207\t 206\t-0.20± 0.06\t-0.13± 0.03 \t -0.0704599812878006\n",
      "  45\t  88\t 0.03± 0.13\t-0.04± 0.27 \t 0.0665314401622718\n",
      "  89\t  91\t-0.21± 0.21\t-0.27± 0.09 \t 0.06557583711827952\n",
      " 212\t 213\t 0.16± 0.26\t 0.09± 0.02 \t 0.06519849319037957\n",
      " 161\t 162\t 0.02± 0.16\t-0.05± 0.12 \t 0.0639165578785695\n",
      " 219\t 209\t 0.03± 0.05\t 0.10± 0.09 \t -0.06390444650474819\n",
      "  66\t  67\t-0.03± 0.08\t 0.03± 0.16 \t -0.06374959738710548\n",
      "  29\t  19\t 0.04± 0.09\t-0.03± 0.14 \t 0.06245532695836954\n",
      "   9\t  10\t-0.07± 0.20\t-0.01± 0.12 \t -0.06052351975272866\n",
      "  78\t  30\t 0.06± 0.12\t-0.00± 0.23 \t 0.060272384815995346\n",
      "  54\t  14\t 0.12± 0.31\t 0.06± 0.17 \t 0.060001931807205616\n",
      "  16\t 236\t-0.06± 0.24\t 0.00± 0.11 \t -0.0594900028977108\n",
      "  13\t  28\t 0.18± 0.02\t 0.12± 0.05 \t 0.05861103061914423\n",
      "   2\t 165\t 0.01± 0.14\t 0.07± 0.07 \t -0.058272964358157056\n",
      " 232\t 234\t-0.02± 0.22\t 0.03± 0.19 \t -0.0580119468957489\n",
      "  25\t  28\t 0.02± 0.20\t-0.04± 0.13 \t 0.05451559934318553\n",
      "  16\t 229\t-0.00± 0.11\t 0.05± 0.20 \t -0.052883222254419\n",
      " 239\t  33\t 0.09± 0.21\t 0.04± 0.26 \t 0.05082086159982259\n",
      "  40\t  13\t 0.07± 0.12\t 0.02± 0.13 \t 0.04988161077311748\n",
      " 136\t 237\t 0.06± 0.09\t 0.01± 0.08 \t 0.04947841205447695\n",
      " 204\t  67\t 0.19± 0.00\t 0.14± 0.01 \t 0.04915333600916946\n",
      " 162\t  16\t 0.02± 0.16\t-0.02± 0.14 \t 0.047346355598986076\n",
      "  89\t  94\t-0.40± 0.01\t-0.44± 0.17 \t 0.04714575485366568\n",
      "  14\t  66\t 0.12± 0.21\t 0.07± 0.17 \t 0.046394066178594776\n",
      " 105\t  16\t 0.00± 0.18\t-0.04± 0.28 \t 0.04444122476576838\n",
      "  45\t  13\t 0.00± 0.31\t-0.04± 0.13 \t 0.043697478991596636\n",
      "  39\t  16\t-0.03± 0.12\t 0.02± 0.26 \t -0.043378730802665896\n",
      "   6\t   7\t-0.06± 0.28\t-0.02± 0.27 \t -0.042259156240347026\n",
      " 153\t  62\t 0.06± 0.05\t 0.01± 0.13 \t 0.04182362600212497\n",
      " 109\t  16\t-0.05± 0.12\t-0.01± 0.15 \t -0.04111851637206606\n",
      "  75\t 105\t 0.06± 0.18\t 0.02± 0.21 \t 0.04097599805113719\n",
      " 197\t 198\t-0.01± 0.00\t 0.03± 0.00 \t -0.03998840915676615\n",
      " 140\t 141\t 0.01± 0.11\t-0.03± 0.13 \t 0.03916862259178882\n",
      "  54\t 126\t-0.02± 0.31\t 0.01± 0.29 \t -0.03863614411281753\n",
      "  13\t  16\t 0.04± 0.17\t 0.07± 0.09 \t -0.03700376702405101\n",
      "  49\t 226\t-0.03± 0.11\t 0.00± 0.32 \t -0.03538104897131265\n",
      " 263\t 129\t-0.08± 0.23\t-0.11± 0.28 \t 0.03456968994494351\n",
      " 194\t 199\t 0.10± 0.21\t 0.13± 0.23 \t -0.033376962868673976\n",
      " 228\t  77\t 0.36± 0.00\t 0.33± 0.00 \t 0.03328115335983595\n",
      "   0\t   4\t-0.08± 0.04\t-0.04± 0.13 \t -0.03219118364194936\n",
      "  14\t  72\t 0.12± 0.04\t 0.09± 0.15 \t 0.03119865384909906\n",
      " 130\t  45\t 0.06± 0.18\t 0.03± 0.17 \t 0.030672061687667063\n",
      " 261\t 262\t-0.21± 0.11\t-0.18± 0.15 \t -0.030618681732640124\n",
      " 129\t 130\t-0.07± 0.11\t-0.09± 0.12 \t 0.028880491764295524\n",
      "  16\t 235\t 0.03± 0.15\t 0.01± 0.28 \t 0.028059499661933725\n",
      " 264\t  33\t-0.00± 0.26\t 0.02± 0.09 \t -0.02765195092657343\n",
      "   1\t 261\t 0.35± 0.11\t 0.33± 0.11 \t 0.026789528075590652\n",
      "  40\t  28\t 0.01± 0.16\t 0.04± 0.19 \t -0.026480216798464774\n",
      "  23\t  19\t-0.11± 0.20\t-0.14± 0.17 \t 0.024997585240992964\n",
      "  16\t  14\t-0.00± 0.26\t 0.02± 0.16 \t -0.02489777520203484\n",
      "  10\t 254\t 0.13± 0.00\t 0.15± 0.00 \t -0.021501014198783003\n",
      "   9\t  13\t 0.05± 0.07\t 0.03± 0.26 \t 0.020651019028300962\n",
      " 258\t 129\t-0.02± 0.22\t 0.00± 0.24 \t -0.020602723848159955\n",
      " 208\t  16\t-0.05± 0.20\t-0.03± 0.14 \t -0.020052158794552292\n",
      "  27\t  31\t 0.13± 0.21\t 0.11± 0.17 \t 0.019681112838981094\n",
      "  54\t 124\t 0.02± 0.10\t 0.00± 0.08 \t 0.01802376122862939\n",
      "  85\t   2\t-0.07± 0.08\t-0.09± 0.18 \t 0.016748768472906406\n",
      "  50\t  51\t 0.04± 0.17\t 0.02± 0.19 \t 0.016699747988213273\n",
      "  69\t  14\t 0.01± 0.20\t-0.00± 0.14 \t 0.01608551466563636\n",
      " 218\t 130\t-0.03± 0.12\t-0.02± 0.16 \t -0.01596017609355857\n",
      " 230\t 231\t 0.27± 0.00\t 0.25± 0.00 \t 0.015589684149521832\n",
      "  14\t  88\t 0.20± 0.05\t 0.22± 0.15 \t -0.015357867284844978\n",
      " 163\t 174\t-0.12± 0.41\t-0.14± 0.23 \t 0.01514536849222449\n",
      "  12\t 262\t 0.04± 0.11\t 0.05± 0.15 \t -0.01437642271502744\n",
      "  46\t  47\t 0.28± 0.02\t 0.27± 0.16 \t 0.014343668501883455\n",
      " 234\t  16\t 0.02± 0.23\t 0.03± 0.21 \t -0.013570945619627177\n",
      "  50\t   9\t 0.02± 0.18\t 0.01± 0.18 \t 0.013387967176685986\n",
      " 115\t 117\t 0.01± 0.13\t 0.03± 0.15 \t -0.011811276234631784\n",
      "  40\t  16\t 0.00± 0.17\t-0.01± 0.14 \t 0.011296359800141858\n",
      "  75\t  46\t-0.07± 0.20\t-0.06± 0.21 \t -0.01041914511860361\n",
      "  14\t  68\t-0.02± 0.20\t-0.01± 0.20 \t -0.010208983230088441\n",
      "  12\t   6\t 0.03± 0.13\t 0.03± 0.17 \t 0.008718960567159848\n",
      "  31\t  33\t-0.05± 0.06\t-0.05± 0.10 \t 0.007876141340986818\n",
      "  83\t  16\t-0.03± 0.12\t-0.02± 0.19 \t -0.0076982517144788855\n",
      " 162\t  85\t-0.12± 0.20\t-0.12± 0.20 \t 0.006922700607458157\n",
      "  74\t  75\t 0.01± 0.16\t 0.01± 0.16 \t -0.0037759946479074876\n",
      "  18\t  19\t 0.04± 0.11\t 0.04± 0.15 \t 0.003141772473116901\n",
      " 231\t  16\t-0.06± 0.15\t-0.07± 0.23 \t 0.0023664638269100813\n",
      " 116\t  16\t 0.00± 0.27\t-0.00± 0.25 \t 0.002329241795179452\n",
      "  50\t  13\t 0.04± 0.15\t 0.04± 0.14 \t -0.0021328097924124823\n",
      " 115\t 116\t-0.01± 0.10\t-0.01± 0.13 \t 0.0016295569945024187\n",
      "  57\t  40\t 0.02± 0.17\t 0.02± 0.16 \t -1.4520381983219866e-06\n"
     ]
    }
   ],
   "source": [
    "out = []\n",
    "activationColors = set([])\n",
    "for subtype, color in subtype2color.items():\n",
    "    if \"activation\" in subtype:\n",
    "        activationColors |= set([color])\n",
    "for s,t,d in G.edges(data=True):\n",
    "    if d[\"color\"] in activationColors:\n",
    "        tausH = []\n",
    "        tausD = []\n",
    "        for sg in node2columns[s]:\n",
    "            for tg in node2columns[t]:\n",
    "                expr1 = genesHealthy.loc[:,sg].values.tolist()\n",
    "                expr2 = genesHealthy.loc[:,tg].values.tolist()\n",
    "                tausH += [scipy.stats.kendalltau(expr1, expr2).statistic]\n",
    "                expr1 = genesDiseased.loc[:,sg].values.tolist()\n",
    "                expr2 = genesDiseased.loc[:,tg].values.tolist()\n",
    "                tausD += [scipy.stats.kendalltau(expr1, expr2).statistic]\n",
    "        if len(tausH) == 0:\n",
    "            continue\n",
    "        meanH = pd.DataFrame(tausH).mean().values[0]\n",
    "        meanD = pd.DataFrame(tausD).mean().values[0]\n",
    "        if len(tausH) > 1:\n",
    "            stdH = pd.DataFrame(tausH).std().values[0]\n",
    "            stdD = pd.DataFrame(tausD).std().values[0]\n",
    "        else:\n",
    "            stdH = 0\n",
    "            stdD = 0\n",
    "        out += [(\"{:4d}\\t{:4d}\\t{:5.2f}±{:5.2f}\\t{:5.2f}±{:5.2f}\".format(s,t, meanH, stdH, meanD, stdD), meanH-meanD)]\n",
    "out.sort(key=lambda x: abs(x[1]), reverse=True)\n",
    "for o,v in out:\n",
    "    print(o,\"\\t\",v)"
   ]
  },
  {
   "cell_type": "code",
   "execution_count": 84,
   "id": "32b16bfb",
   "metadata": {},
   "outputs": [],
   "source": [
    "reltaus = []\n",
    "unreltaus = []\n",
    "\n",
    "while len(reltaus) < 300 or len(unreltaus) < 300:\n",
    "    gene1 = random.choice(usableColumns)\n",
    "    gene2 = random.choice(usableColumns)\n",
    "    if gene1 == gene2:\n",
    "        continue\n",
    "    expr1 = genesHealthy.loc[:,gene1].values.tolist()\n",
    "    expr2 = genesHealthy.loc[:,gene2].values.tolist()\n",
    "    tau = scipy.stats.kendalltau(expr1, expr2).statistic\n",
    "    if areRelated(gene1, gene2, c2n, cc, 1):\n",
    "        if len(reltaus) < 300:\n",
    "            reltaus += [tau]\n",
    "    else:\n",
    "        if len(unreltaus) < 300:\n",
    "            unreltaus += [tau]\n"
   ]
  },
  {
   "cell_type": "code",
   "execution_count": 64,
   "id": "287979f8-9c9e-45ed-a915-cca9ac3f7c4c",
   "metadata": {},
   "outputs": [
    {
     "data": {
      "text/plain": [
       "300"
      ]
     },
     "execution_count": 64,
     "metadata": {},
     "output_type": "execute_result"
    }
   ],
   "source": [
    "len(reltaus)"
   ]
  },
  {
   "cell_type": "code",
   "execution_count": 65,
   "id": "c3555373",
   "metadata": {},
   "outputs": [
    {
     "data": {
      "text/plain": [
       "KstestResult(statistic=0.06666666666666667, pvalue=0.5182685170344619, statistic_location=0.029556650246305414, statistic_sign=1)"
      ]
     },
     "execution_count": 65,
     "metadata": {},
     "output_type": "execute_result"
    }
   ],
   "source": [
    "scipy.stats.ks_2samp(reltaus, unreltaus, alternative=\"two-sided\")"
   ]
  },
  {
   "cell_type": "code",
   "execution_count": 66,
   "id": "37e952b0",
   "metadata": {},
   "outputs": [
    {
     "data": {
      "text/plain": [
       "KstestResult(statistic=0.03, pvalue=0.7636919236655174, statistic_location=-0.08374384236453201, statistic_sign=-1)"
      ]
     },
     "execution_count": 66,
     "metadata": {},
     "output_type": "execute_result"
    }
   ],
   "source": [
    "scipy.stats.ks_2samp(reltaus, unreltaus, alternative=\"less\")"
   ]
  },
  {
   "cell_type": "code",
   "execution_count": 67,
   "id": "bd5c8993",
   "metadata": {},
   "outputs": [
    {
     "data": {
      "text/plain": [
       "KstestResult(statistic=0.06666666666666667, pvalue=0.26392295576403385, statistic_location=0.029556650246305414, statistic_sign=1)"
      ]
     },
     "execution_count": 67,
     "metadata": {},
     "output_type": "execute_result"
    }
   ],
   "source": [
    "scipy.stats.ks_2samp(reltaus, unreltaus, alternative=\"greater\")"
   ]
  },
  {
   "cell_type": "code",
   "execution_count": 70,
   "id": "690bff08",
   "metadata": {},
   "outputs": [
    {
     "data": {
      "text/html": [
       "<div>\n",
       "<style scoped>\n",
       "    .dataframe tbody tr th:only-of-type {\n",
       "        vertical-align: middle;\n",
       "    }\n",
       "\n",
       "    .dataframe tbody tr th {\n",
       "        vertical-align: top;\n",
       "    }\n",
       "\n",
       "    .dataframe thead th {\n",
       "        text-align: right;\n",
       "    }\n",
       "</style>\n",
       "<table border=\"1\" class=\"dataframe\">\n",
       "  <thead>\n",
       "    <tr style=\"text-align: right;\">\n",
       "      <th></th>\n",
       "      <th>0</th>\n",
       "    </tr>\n",
       "  </thead>\n",
       "  <tbody>\n",
       "    <tr>\n",
       "      <th>count</th>\n",
       "      <td>300.000000</td>\n",
       "    </tr>\n",
       "    <tr>\n",
       "      <th>mean</th>\n",
       "      <td>0.006053</td>\n",
       "    </tr>\n",
       "    <tr>\n",
       "      <th>std</th>\n",
       "      <td>0.181016</td>\n",
       "    </tr>\n",
       "    <tr>\n",
       "      <th>min</th>\n",
       "      <td>-0.458128</td>\n",
       "    </tr>\n",
       "    <tr>\n",
       "      <th>25%</th>\n",
       "      <td>-0.113300</td>\n",
       "    </tr>\n",
       "    <tr>\n",
       "      <th>50%</th>\n",
       "      <td>0.009852</td>\n",
       "    </tr>\n",
       "    <tr>\n",
       "      <th>75%</th>\n",
       "      <td>0.113300</td>\n",
       "    </tr>\n",
       "    <tr>\n",
       "      <th>max</th>\n",
       "      <td>0.541872</td>\n",
       "    </tr>\n",
       "  </tbody>\n",
       "</table>\n",
       "</div>"
      ],
      "text/plain": [
       "                0\n",
       "count  300.000000\n",
       "mean     0.006053\n",
       "std      0.181016\n",
       "min     -0.458128\n",
       "25%     -0.113300\n",
       "50%      0.009852\n",
       "75%      0.113300\n",
       "max      0.541872"
      ]
     },
     "execution_count": 70,
     "metadata": {},
     "output_type": "execute_result"
    }
   ],
   "source": [
    "pd.DataFrame(unreltaus).describe()"
   ]
  },
  {
   "cell_type": "code",
   "execution_count": 69,
   "id": "378bebf7",
   "metadata": {},
   "outputs": [
    {
     "data": {
      "text/plain": [
       "KstestResult(statistic=0.06666666666666667, pvalue=0.5182685170344619, statistic_location=0.029556650246305414, statistic_sign=1)"
      ]
     },
     "execution_count": 69,
     "metadata": {},
     "output_type": "execute_result"
    }
   ],
   "source": [
    "scipy.stats.ks_2samp(reltaus, unreltaus, alternative=\"two-sided\")"
   ]
  },
  {
   "cell_type": "code",
   "execution_count": 32,
   "id": "4aab5954",
   "metadata": {},
   "outputs": [
    {
     "data": {
      "text/plain": [
       "KstestResult(statistic=0.030089771789858444, pvalue=8.370404893436451e-08, statistic_location=-0.06419753086419754, statistic_sign=-1)"
      ]
     },
     "execution_count": 32,
     "metadata": {},
     "output_type": "execute_result"
    }
   ],
   "source": [
    "scipy.stats.ks_2samp(reltaus, unreltaus, alternative=\"less\")"
   ]
  },
  {
   "cell_type": "code",
   "execution_count": 33,
   "id": "02e8912f",
   "metadata": {},
   "outputs": [
    {
     "data": {
      "text/plain": [
       "KstestResult(statistic=0.00322026084251692, pvalue=0.8279876070229103, statistic_location=0.1728400330446471, statistic_sign=1)"
      ]
     },
     "execution_count": 33,
     "metadata": {},
     "output_type": "execute_result"
    }
   ],
   "source": [
    "scipy.stats.ks_2samp(reltaus, unreltaus, alternative=\"greater\")"
   ]
  },
  {
   "cell_type": "code",
   "execution_count": 34,
   "id": "2f6c78a9",
   "metadata": {},
   "outputs": [
    {
     "data": {
      "text/plain": [
       "376"
      ]
     },
     "execution_count": 34,
     "metadata": {},
     "output_type": "execute_result"
    }
   ],
   "source": [
    "G.number_of_edges()"
   ]
  },
  {
   "cell_type": "code",
   "execution_count": 35,
   "id": "0221d23b",
   "metadata": {},
   "outputs": [
    {
     "data": {
      "text/html": [
       "<div>\n",
       "<style scoped>\n",
       "    .dataframe tbody tr th:only-of-type {\n",
       "        vertical-align: middle;\n",
       "    }\n",
       "\n",
       "    .dataframe tbody tr th {\n",
       "        vertical-align: top;\n",
       "    }\n",
       "\n",
       "    .dataframe thead th {\n",
       "        text-align: right;\n",
       "    }\n",
       "</style>\n",
       "<table border=\"1\" class=\"dataframe\">\n",
       "  <thead>\n",
       "    <tr style=\"text-align: right;\">\n",
       "      <th></th>\n",
       "      <th>0</th>\n",
       "    </tr>\n",
       "  </thead>\n",
       "  <tbody>\n",
       "    <tr>\n",
       "      <th>count</th>\n",
       "      <td>9984.000000</td>\n",
       "    </tr>\n",
       "    <tr>\n",
       "      <th>mean</th>\n",
       "      <td>0.027991</td>\n",
       "    </tr>\n",
       "    <tr>\n",
       "      <th>std</th>\n",
       "      <td>0.210601</td>\n",
       "    </tr>\n",
       "    <tr>\n",
       "      <th>min</th>\n",
       "      <td>-0.561576</td>\n",
       "    </tr>\n",
       "    <tr>\n",
       "      <th>25%</th>\n",
       "      <td>-0.098522</td>\n",
       "    </tr>\n",
       "    <tr>\n",
       "      <th>50%</th>\n",
       "      <td>0.014815</td>\n",
       "    </tr>\n",
       "    <tr>\n",
       "      <th>75%</th>\n",
       "      <td>0.128079</td>\n",
       "    </tr>\n",
       "    <tr>\n",
       "      <th>max</th>\n",
       "      <td>1.000000</td>\n",
       "    </tr>\n",
       "  </tbody>\n",
       "</table>\n",
       "</div>"
      ],
      "text/plain": [
       "                 0\n",
       "count  9984.000000\n",
       "mean      0.027991\n",
       "std       0.210601\n",
       "min      -0.561576\n",
       "25%      -0.098522\n",
       "50%       0.014815\n",
       "75%       0.128079\n",
       "max       1.000000"
      ]
     },
     "execution_count": 35,
     "metadata": {},
     "output_type": "execute_result"
    }
   ],
   "source": [
    "pd.DataFrame(reltaus).describe()"
   ]
  },
  {
   "cell_type": "code",
   "execution_count": 36,
   "id": "ffa26841",
   "metadata": {},
   "outputs": [
    {
     "data": {
      "text/html": [
       "<div>\n",
       "<style scoped>\n",
       "    .dataframe tbody tr th:only-of-type {\n",
       "        vertical-align: middle;\n",
       "    }\n",
       "\n",
       "    .dataframe tbody tr th {\n",
       "        vertical-align: top;\n",
       "    }\n",
       "\n",
       "    .dataframe thead th {\n",
       "        text-align: right;\n",
       "    }\n",
       "</style>\n",
       "<table border=\"1\" class=\"dataframe\">\n",
       "  <thead>\n",
       "    <tr style=\"text-align: right;\">\n",
       "      <th></th>\n",
       "      <th>0</th>\n",
       "    </tr>\n",
       "  </thead>\n",
       "  <tbody>\n",
       "    <tr>\n",
       "      <th>count</th>\n",
       "      <td>90016.000000</td>\n",
       "    </tr>\n",
       "    <tr>\n",
       "      <th>mean</th>\n",
       "      <td>0.011352</td>\n",
       "    </tr>\n",
       "    <tr>\n",
       "      <th>std</th>\n",
       "      <td>0.180171</td>\n",
       "    </tr>\n",
       "    <tr>\n",
       "      <th>min</th>\n",
       "      <td>-0.630542</td>\n",
       "    </tr>\n",
       "    <tr>\n",
       "      <th>25%</th>\n",
       "      <td>-0.113300</td>\n",
       "    </tr>\n",
       "    <tr>\n",
       "      <th>50%</th>\n",
       "      <td>0.009852</td>\n",
       "    </tr>\n",
       "    <tr>\n",
       "      <th>75%</th>\n",
       "      <td>0.128079</td>\n",
       "    </tr>\n",
       "    <tr>\n",
       "      <th>max</th>\n",
       "      <td>0.753695</td>\n",
       "    </tr>\n",
       "  </tbody>\n",
       "</table>\n",
       "</div>"
      ],
      "text/plain": [
       "                  0\n",
       "count  90016.000000\n",
       "mean       0.011352\n",
       "std        0.180171\n",
       "min       -0.630542\n",
       "25%       -0.113300\n",
       "50%        0.009852\n",
       "75%        0.128079\n",
       "max        0.753695"
      ]
     },
     "execution_count": 36,
     "metadata": {},
     "output_type": "execute_result"
    }
   ],
   "source": [
    "pd.DataFrame(unreltaus).describe()"
   ]
  },
  {
   "cell_type": "code",
   "execution_count": 55,
   "id": "b4715aca",
   "metadata": {},
   "outputs": [
    {
     "data": {
      "text/plain": [
       "[[225],\n",
       " [260],\n",
       " [13],\n",
       " [7],\n",
       " [14],\n",
       " [17],\n",
       " [170],\n",
       " [29],\n",
       " [23, 26],\n",
       " [33],\n",
       " [139],\n",
       " [230],\n",
       " [129],\n",
       " [151],\n",
       " [64],\n",
       " [74],\n",
       " [123],\n",
       " [96, 105, 124],\n",
       " [86, 87],\n",
       " [67],\n",
       " [68],\n",
       " [62],\n",
       " [44],\n",
       " [61, 70, 78, 126],\n",
       " [8],\n",
       " [102],\n",
       " [41],\n",
       " [21],\n",
       " [0],\n",
       " [45],\n",
       " [22],\n",
       " [232],\n",
       " [236],\n",
       " [10],\n",
       " [138, 192],\n",
       " [130, 134],\n",
       " [133],\n",
       " [120],\n",
       " [149],\n",
       " [43],\n",
       " [229],\n",
       " [51],\n",
       " [217],\n",
       " [241, 242],\n",
       " [48],\n",
       " [50],\n",
       " [5],\n",
       " [104],\n",
       " [101],\n",
       " [11],\n",
       " [4],\n",
       " [30],\n",
       " [9, 20],\n",
       " [27],\n",
       " [93, 137, 169, 178, 189, 223, 228],\n",
       " [147],\n",
       " [100],\n",
       " [19],\n",
       " [71],\n",
       " [246],\n",
       " [231],\n",
       " [18],\n",
       " [153],\n",
       " [150, 152, 154],\n",
       " [156],\n",
       " [221],\n",
       " [103],\n",
       " [12],\n",
       " [47],\n",
       " [166],\n",
       " [90, 91],\n",
       " [224],\n",
       " [113],\n",
       " [59],\n",
       " [85, 88, 92, 94, 95],\n",
       " [25,\n",
       "  66,\n",
       "  98,\n",
       "  110,\n",
       "  111,\n",
       "  132,\n",
       "  136,\n",
       "  145,\n",
       "  155,\n",
       "  159,\n",
       "  177,\n",
       "  193,\n",
       "  198,\n",
       "  201,\n",
       "  202,\n",
       "  208,\n",
       "  214,\n",
       "  227,\n",
       "  235,\n",
       "  237,\n",
       "  239,\n",
       "  240,\n",
       "  251,\n",
       "  254,\n",
       "  258,\n",
       "  259,\n",
       "  262,\n",
       "  263,\n",
       "  264,\n",
       "  265,\n",
       "  267],\n",
       " [83, 253],\n",
       " [162],\n",
       " [37],\n",
       " [3],\n",
       " [220, 222],\n",
       " [54],\n",
       " [160,\n",
       "  163,\n",
       "  165,\n",
       "  168,\n",
       "  172,\n",
       "  173,\n",
       "  174,\n",
       "  175,\n",
       "  176,\n",
       "  179,\n",
       "  180,\n",
       "  182,\n",
       "  183,\n",
       "  184,\n",
       "  185,\n",
       "  186,\n",
       "  187,\n",
       "  188,\n",
       "  190,\n",
       "  191,\n",
       "  194,\n",
       "  196,\n",
       "  199,\n",
       "  204,\n",
       "  205,\n",
       "  207],\n",
       " [89, 210],\n",
       " [112],\n",
       " [15,\n",
       "  40,\n",
       "  46,\n",
       "  52,\n",
       "  53,\n",
       "  56,\n",
       "  60,\n",
       "  63,\n",
       "  65,\n",
       "  82,\n",
       "  84,\n",
       "  97,\n",
       "  107,\n",
       "  108,\n",
       "  109,\n",
       "  114,\n",
       "  117,\n",
       "  119,\n",
       "  121,\n",
       "  122,\n",
       "  125,\n",
       "  128,\n",
       "  131,\n",
       "  144,\n",
       "  158,\n",
       "  161,\n",
       "  164,\n",
       "  167,\n",
       "  171,\n",
       "  195,\n",
       "  197,\n",
       "  200,\n",
       "  203,\n",
       "  206,\n",
       "  209,\n",
       "  211,\n",
       "  212,\n",
       "  213,\n",
       "  215,\n",
       "  216,\n",
       "  218,\n",
       "  219,\n",
       "  234,\n",
       "  248,\n",
       "  250,\n",
       "  252,\n",
       "  255,\n",
       "  256,\n",
       "  257,\n",
       "  261,\n",
       "  266,\n",
       "  268],\n",
       " [58],\n",
       " [57],\n",
       " [1, 2, 6],\n",
       " [28],\n",
       " [49],\n",
       " [24],\n",
       " [142],\n",
       " [148],\n",
       " [34],\n",
       " [181],\n",
       " [247],\n",
       " [36],\n",
       " [31, 244],\n",
       " [249],\n",
       " [38],\n",
       " [143, 245],\n",
       " [233],\n",
       " [16],\n",
       " [146],\n",
       " [115, 116, 118],\n",
       " [75],\n",
       " [99],\n",
       " [106],\n",
       " [32, 72, 73, 76, 127],\n",
       " [79, 80],\n",
       " [243],\n",
       " [135],\n",
       " [77, 81],\n",
       " [141],\n",
       " [55],\n",
       " [157],\n",
       " [140],\n",
       " [226, 238],\n",
       " [39],\n",
       " [42],\n",
       " [35, 69]]"
      ]
     },
     "execution_count": 55,
     "metadata": {},
     "output_type": "execute_result"
    }
   ],
   "source": [
    "fibres"
   ]
  },
  {
   "cell_type": "code",
   "execution_count": 60,
   "id": "d96c9693-5b61-4fcb-9ae1-8a7f839246c9",
   "metadata": {},
   "outputs": [
    {
     "data": {
      "text/plain": [
       "{0: 1,\n",
       " 1: 1,\n",
       " 2: 1,\n",
       " 3: 1,\n",
       " 4: 1,\n",
       " 5: 1,\n",
       " 6: 1,\n",
       " 7: 1,\n",
       " 8: 2,\n",
       " 9: 1,\n",
       " 10: 1,\n",
       " 11: 1,\n",
       " 12: 1,\n",
       " 13: 1,\n",
       " 14: 1,\n",
       " 15: 1,\n",
       " 16: 1,\n",
       " 17: 3,\n",
       " 18: 2,\n",
       " 19: 1,\n",
       " 20: 1,\n",
       " 21: 1,\n",
       " 22: 1,\n",
       " 23: 4,\n",
       " 24: 1,\n",
       " 25: 1,\n",
       " 26: 1,\n",
       " 27: 1,\n",
       " 28: 1,\n",
       " 29: 1,\n",
       " 30: 1,\n",
       " 31: 1,\n",
       " 32: 1,\n",
       " 33: 1,\n",
       " 34: 2,\n",
       " 35: 2,\n",
       " 36: 1,\n",
       " 37: 1,\n",
       " 38: 1,\n",
       " 39: 1,\n",
       " 40: 1,\n",
       " 41: 1,\n",
       " 42: 1,\n",
       " 43: 2,\n",
       " 44: 1,\n",
       " 45: 1,\n",
       " 46: 1,\n",
       " 47: 1,\n",
       " 48: 1,\n",
       " 49: 1,\n",
       " 50: 1,\n",
       " 51: 1,\n",
       " 52: 2,\n",
       " 53: 1,\n",
       " 54: 7,\n",
       " 55: 1,\n",
       " 56: 1,\n",
       " 57: 1,\n",
       " 58: 1,\n",
       " 59: 1,\n",
       " 60: 1,\n",
       " 61: 1,\n",
       " 62: 1,\n",
       " 63: 3,\n",
       " 64: 1,\n",
       " 65: 1,\n",
       " 66: 1,\n",
       " 67: 1,\n",
       " 68: 1,\n",
       " 69: 1,\n",
       " 70: 2,\n",
       " 71: 1,\n",
       " 72: 1,\n",
       " 73: 1,\n",
       " 74: 5,\n",
       " 75: 31,\n",
       " 76: 2,\n",
       " 77: 1,\n",
       " 78: 1,\n",
       " 79: 1,\n",
       " 80: 2,\n",
       " 81: 1,\n",
       " 82: 26,\n",
       " 83: 2,\n",
       " 84: 1,\n",
       " 85: 52,\n",
       " 86: 1,\n",
       " 87: 1,\n",
       " 88: 3,\n",
       " 89: 1,\n",
       " 90: 1,\n",
       " 91: 1,\n",
       " 92: 1,\n",
       " 93: 1,\n",
       " 94: 1,\n",
       " 95: 1,\n",
       " 96: 1,\n",
       " 97: 1,\n",
       " 98: 2,\n",
       " 99: 1,\n",
       " 100: 1,\n",
       " 101: 2,\n",
       " 102: 1,\n",
       " 103: 1,\n",
       " 104: 1,\n",
       " 105: 3,\n",
       " 106: 1,\n",
       " 107: 1,\n",
       " 108: 1,\n",
       " 109: 5,\n",
       " 110: 2,\n",
       " 111: 1,\n",
       " 112: 1,\n",
       " 113: 2,\n",
       " 114: 1,\n",
       " 115: 1,\n",
       " 116: 1,\n",
       " 117: 1,\n",
       " 118: 2,\n",
       " 119: 1,\n",
       " 120: 1,\n",
       " 121: 2}"
      ]
     },
     "execution_count": 60,
     "metadata": {},
     "output_type": "execute_result"
    }
   ],
   "source": [
    "cc2fibresize"
   ]
  },
  {
   "cell_type": "code",
   "execution_count": 58,
   "id": "af86759d-2f1c-467f-ad2a-a165ec3b8945",
   "metadata": {},
   "outputs": [
    {
     "name": "stdout",
     "output_type": "stream",
     "text": [
      "122\n"
     ]
    }
   ],
   "source": [
    "print(len(set(cc.values())))"
   ]
  },
  {
   "cell_type": "code",
   "execution_count": 26,
   "id": "f09cc740-9f21-4f3f-b408-83d05f15e501",
   "metadata": {},
   "outputs": [
    {
     "data": {
      "text/plain": [
       "3"
      ]
     },
     "execution_count": 26,
     "metadata": {},
     "output_type": "execute_result"
    }
   ],
   "source": [
    "subtype2color[str(relation.relSubtypes)]"
   ]
  },
  {
   "cell_type": "code",
   "execution_count": 27,
   "id": "cef5a6cf",
   "metadata": {},
   "outputs": [
    {
     "data": {
      "text/plain": [
       "{\"[('activation', '-->'), ('dephosphorylation', '-p')]\": 0,\n",
       " \"[('activation', '-->'), ('indirect effect', '..>')]\": 1,\n",
       " \"[('activation', '-->'), ('phosphorylation', '+p')]\": 2,\n",
       " \"[('activation', '-->')]\": 3,\n",
       " \"[('binding/association', '---')]\": 4,\n",
       " \"[('compound', 170), ('activation', '-->'), ('indirect effect', '..>')]\": 5,\n",
       " \"[('compound', 24)]\": 6,\n",
       " \"[('compound', 25)]\": 7,\n",
       " \"[('compound', 277), ('activation', '-->')]\": 8,\n",
       " \"[('expression', '-->')]\": 9,\n",
       " \"[('indirect effect', '..>')]\": 10,\n",
       " \"[('inhibition', '--|'), ('dephosphorylation', '-p')]\": 11,\n",
       " \"[('inhibition', '--|'), ('indirect effect', '..>')]\": 12,\n",
       " \"[('inhibition', '--|'), ('phosphorylation', '+p')]\": 13,\n",
       " \"[('inhibition', '--|'), ('ubiquitination', '+u')]\": 14,\n",
       " \"[('inhibition', '--|')]\": 15,\n",
       " \"[('phosphorylation', '+p'), ('indirect effect', '..>')]\": 16,\n",
       " \"[('phosphorylation', '+p')]\": 17,\n",
       " \"[('state change', '...')]\": 18,\n",
       " '[]': 19}"
      ]
     },
     "execution_count": 27,
     "metadata": {},
     "output_type": "execute_result"
    }
   ],
   "source": [
    "subtype2color"
   ]
  },
  {
   "cell_type": "code",
   "execution_count": null,
   "id": "0265091b",
   "metadata": {},
   "outputs": [],
   "source": [
    "for relation in "
   ]
  }
 ],
 "metadata": {
  "kernelspec": {
   "display_name": "qf",
   "language": "python",
   "name": "qf"
  },
  "language_info": {
   "codemirror_mode": {
    "name": "ipython",
    "version": 3
   },
   "file_extension": ".py",
   "mimetype": "text/x-python",
   "name": "python",
   "nbconvert_exporter": "python",
   "pygments_lexer": "ipython3",
   "version": "3.9.17"
  }
 },
 "nbformat": 4,
 "nbformat_minor": 5
}
