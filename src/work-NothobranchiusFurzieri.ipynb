{
 "cells": [
  {
   "cell_type": "code",
   "execution_count": 11,
   "id": "d4364c55",
   "metadata": {},
   "outputs": [],
   "source": [
    "from hypergraphs import *\n",
    "from kegg import *"
   ]
  },
  {
   "cell_type": "code",
   "execution_count": 12,
   "id": "3ec0e09b",
   "metadata": {},
   "outputs": [],
   "source": [
    "superpathwayDict = {\n",
    "    \"Carbohydrate metabolism\":\n",
    "[\n",
    "\t(\"00010\", \"Glycolysis / Gluconeogenesis\"),\n",
    "\t(\"00020\", \"Citrate cycle (TCA cycle)\"),\n",
    "\t(\"00030\", \"Pentose phosphate pathway\"),\n",
    "\t(\"00040\", \"Pentose and glucuronate interconversions\"),\n",
    "\t(\"00051\", \"Fructose and mannose metabolism\"),\n",
    "\t(\"00052\", \"Galactose metabolism\"),\n",
    "\t(\"00053\", \"Ascorbate and aldarate metabolism\"),\n",
    "\t(\"00500\", \"Starch and sucrose metabolism\"),\n",
    "\t(\"00520\", \"Amino sugar and nucleotide sugar metabolism\"),\n",
    "\t(\"00620\", \"Pyruvate metabolism\"),\n",
    "\t(\"00630\", \"Glyoxylate and dicarboxylate metaboliscm\"),\n",
    "\t(\"00640\", \"Propanoate metabolism\"),\n",
    "\t(\"00650\", \"Butanoate metabolism\"),\n",
    "\t(\"00562\", \"Inositol phosphate metabolism\")\n",
    "],\n",
    "\"Energy metabolism\":\n",
    "[\n",
    "\t(\"00190\", \"Oxidative phosphorylation\"),\n",
    "\t(\"00910\", \"Nitrogen metabolism\"),\n",
    "\t(\"00920\", \"Sulfur metabolism\")\n",
    "],\n",
    "\",Lipid metabolism\":\n",
    "[\t(\"00061\", \"Fatty acid biosynthesis\"),\n",
    "\t(\"00062\", \"Fatty acid elongation\"),\t\n",
    "\t(\"00071\", \"Fatty acid degradation\"),\n",
    "\t(\"00100\", \"Steroid biosynthesis\"),\t\n",
    "\t(\"00120\", \"Primary bile acid biosynthesis\"),\n",
    "\t(\"00140\", \"Steroid hormone biosynthesis\"),\n",
    "\t(\"00561\", \"Glycerolipid metabolism\"),\n",
    "\t(\"00564\", \"Glycerophospholipid metabolism\"),\n",
    "\t(\"00565\", \"Ether lipid metabolism\"),\n",
    "\t(\"00600\", \"Sphingolipid metabolism\"),\n",
    "\t(\"00590\", \"Arachidonic acid metabolism\"),\n",
    "\t(\"00591\", \"Linoleic acid metabolism\"),\n",
    "\t(\"00592\", \"alpha-Linolenic acid metabolism\"),\n",
    "\t(\"01040\", \"Biosynthesis of unsaturated fatty acids\")\n",
    "],\n",
    "\"Nucleotide metabolism\":\n",
    "[\n",
    "\t(\"00230\", \"Purine metabolism\"),\n",
    "\t(\"00240\", \"Pyrimidine metabolism\")\n",
    "],\n",
    "\"Amino acid metabolism\":\n",
    "[\n",
    "\t(\"00250\", \"Alanine, aspartate and glutamate metabolism\"),\n",
    "\t(\"00260\", \"Glycine, serine and threonine metabolism\"),\n",
    "\t(\"00270\", \"Cysteine and methionine metabolism\"),\n",
    "\t(\"00280\", \"Valine, leucine and isoleucine degradation\"),\n",
    "\t(\"00290\", \"Valine, leucine and isoleucine biosynthesis\"),\n",
    "\t(\"00310\", \"Lysine degradation\"),\n",
    "\t(\"00220\", \"Arginine biosynthesis\"),\n",
    "\t(\"00330\", \"Arginine and proline metabolism\"),\n",
    "\t(\"00340\", \"Histidine metabolism\"),\n",
    "\t(\"00350\", \"Tyrosine metabolism\"),\n",
    "\t(\"00360\", \"Phenylalanine metabolism\"),\n",
    "\t(\"00380\", \"Tryptophan metabolism\"),\n",
    "\t(\"00400\", \"Phenylalanine, tyrosine and tryptophan biosynthesis\")\n",
    "],\n",
    "\"Metabolism of other amino acids\":\n",
    "[\n",
    "\t(\"00410\", \"beta-Alanine metabolism\"),\n",
    "\t(\"00430\", \"Taurine and hypotaurine metabolism\"),\n",
    "\t(\"00440\", \"Phosphonate and phosphinate metabolism\"),\n",
    "\t(\"00450\", \"Selenocompound metabolism\"),\n",
    "\t(\"00470\", \"D-Amino acid metabolism\"),\n",
    "\t(\"00480\", \"Glutathione metabolism\")\n",
    "],\n",
    "\"Glycan biosynthesis and metabolism\":\n",
    "[\n",
    "\t(\"00510\", \"N-Glycan biosynthesis\"),\n",
    "\t(\"00513\", \"Various types of N-glycan biosynthesis\"),\n",
    "\t(\"00512\", \"Mucin type O-glycan biosynthesis\"),\n",
    "\t(\"00515\", \"Mannose type O-glycan biosynthesis\"),\n",
    "\t(\"00514\", \"Other types of O-glycan biosynthesis\"),\n",
    "\t(\"00532\", \"Glycosaminoglycan biosynthesis - chondroitin sulfate / dermatan sulfate\"),\n",
    "\t(\"00534\", \"Glycosaminoglycan biosynthesis - heparan sulfate / heparin\"),\n",
    "\t(\"00533\", \"Glycosaminoglycan biosynthesis - keratan sulfate\"),\n",
    "\t(\"00531\", \"Glycosaminoglycan degradation\"),\n",
    "\t(\"00563\", \"Glycosylphosphatidylinositol (GPI)-anchor biosynthesis\"),\n",
    "\t(\"00601\", \"Glycosphingolipid biosynthesis - lacto and neolacto series\"),\n",
    "\t(\"00603\", \"Glycosphingolipid biosynthesis - globo and isoglobo series\"),\n",
    "\t(\"00604\", \"Glycosphingolipid biosynthesis - ganglio series\"),\n",
    "\t(\"00511\", \"Other glycan degradation\")\n",
    "],\n",
    "\"Metabolism of cofactors and vitamins\":\n",
    "[\n",
    "\t(\"00730\", \"Thiamine metabolism\"),\n",
    "\t(\"00740\", \"Riboflavin metabolism\"),\n",
    "\t(\"00750\", \"Vitamin B6 metabolism\"),\n",
    "\t(\"00760\", \"Nicotinate and nicotinamide metabolism\"),\n",
    "\t(\"00770\", \"Pantothenate and CoA biosynthesis\"),\n",
    "\t(\"00780\", \"Biotin metabolism\"),\n",
    "\t(\"00785\", \"Lipoic acid metabolism\"),\n",
    "\t(\"00790\", \"Folate biosynthesis\"),\n",
    "\t(\"00670\", \"One carbon pool by folate\"),\n",
    "\t(\"00830\", \"Retinol metabolism\"),\n",
    "\t(\"00860\", \"Porphyrin metabolism\"),\n",
    "\t(\"00130\", \"Ubiquinone and other terpenoid-quinone biosynthesis\")\n",
    "],\n",
    "\"Metabolism of terpenoids and polyketides\":\n",
    "[\n",
    "\t(\"00900\", \"Terpenoid backbone biosynthesis\")\n",
    "],\n",
    "\"Biosynthesis of other secondary metabolites\":\n",
    "[\n",
    "\t(\"00232\", \"Caffeine metabolism\"),\n",
    "\t(\"00524\", \"Neomycin, kanamycin and gentamicin biosynthesis\")\n",
    "],\n",
    "\"Xenobiotics biodegradation and metabolism\":\n",
    "[\n",
    "\t(\"00980\", \"Metabolism of xenobiotics by cytochrome P450\"),\n",
    "\t(\"00982\", \"Drug metabolism - cytochrome P450\"),\n",
    "\t(\"00983\", \"Drug metabolism - other enzymes\")\n",
    "]\n",
    "}"
   ]
  },
  {
   "cell_type": "code",
   "execution_count": 13,
   "id": "22d0a2d6",
   "metadata": {},
   "outputs": [],
   "source": [
    "organismDict = {\"mmu\": \"Mus musculus (house mouse)\", \"dre\": \"Danio rerio (zebrafish)\", \"nfu\": \"Nothobranchius furzeri (turquoise killifish)\"}"
   ]
  },
  {
   "cell_type": "code",
   "execution_count": 17,
   "id": "a4e1f81a",
   "metadata": {},
   "outputs": [],
   "source": [
    "outputDirectory = \"/Users/boldi/Desktop/pw/\"\n",
    "dataDirectory = \"../../LaTeX/Data/KEGG-Pathways/\""
   ]
  },
  {
   "cell_type": "code",
   "execution_count": null,
   "id": "b3e886e4",
   "metadata": {},
   "outputs": [
    {
     "name": "stderr",
     "output_type": "stream",
     "text": [
      "/Users/boldi/.local/share/virtualenvs/qf-BIT_cIX4/lib/python3.8/site-packages/hypernetx/classes/hypergraph.py:968: UserWarning: Cannot add edge. Edge already in hypergraph\n",
      "  warnings.warn(\"Cannot add edge. Edge already in hypergraph\")\n"
     ]
    }
   ],
   "source": [
    "for organism in organismDict.keys():\n",
    "    for superpathway in superpathwayDict.keys():\n",
    "        safeSuperpathway = makesafe(superpathway)\n",
    "        H, sr2r, r2ss, rid2rname, mid2mname = read_hg_from_SBML(\n",
    "            [os.path.join(dataDirectory, organism, f\"{organism}{x[0]}-sbml.xml\") for x in superpathwayDict[superpathway]])\n",
    "        dd=hyper_cardon_crochemore(H, proxy=sr2r)\n",
    "        \n",
    "        groupedReactions = mapKeys(dd, prefOnly=\"rn\")\n",
    "        r2gr = {}\n",
    "        r2grall = {}\n",
    "        for i, reactions in enumerate(groupedReactions):\n",
    "            for reaction in reactions:\n",
    "                r2gr[reaction] = i\n",
    "                r2grall[reaction] = reactions\n",
    "                \n",
    "        groupedCompounds = mapKeys(dd, prefOnly=\"C\")\n",
    "        c2gc = {}\n",
    "        c2gcall = {}\n",
    "        for i, compounds in enumerate(groupedCompounds):\n",
    "            for compound in compounds:\n",
    "                c2gc[compound] = i + len(groupedReactions)\n",
    "                c2gcall[compound] = compounds\n",
    "                \n",
    "        writeKEGGHtml(dd, os.path.join(outputDirectory, organism, safeSuperpathway), safeSuperpathway + \"R\", \n",
    "              f\"{organismDict[organism]}, {superpathway}, Reactions group\",\n",
    "              onlyNonTrivial=True, prefOnly=\"r\", cutPref=\"rn\")\n",
    "        index = [(f\"{safeSuperpathway}R-cont-0.html\", \"Reaction groups\")]\n",
    "        writeKEGGHtml(dd, os.path.join(outputDirectory, organism, safeSuperpathway), safeSuperpathway + \"C\", \n",
    "              f\"{organismDict[organism]}, {superpathway}, Compound group\",\n",
    "              onlyNonTrivial=True, prefOnly=\"C\", cutPref=\"\")\n",
    "        index += [(f\"{safeSuperpathway}C-cont-0.html\", \"Compound groups\")]\n",
    "        \n",
    "        index += writeKEGGpdf(outputDirectory, organism, superpathway, superpathwayDict, r2gr, r2grall, c2gc, c2gcall)\n",
    "        \n",
    "        writeIndex(os.path.join(outputDirectory, organism, safeSuperpathway), index, \n",
    "           f\"{organismDict[organism]}, {superpathway}\")\n",
    "        \n",
    "        with open(os.path.join(outputDirectory, organism, safeSuperpathway, \"data.pkl\"), \"wb\") as file:\n",
    "            pickle.dump([dd, sr2r, r2ss, rid2rname, mid2mname], file)\n",
    "    \n",
    "    writeIndex(os.path.join(outputDirectory, organism), \n",
    "           [(\"{}/index.html\".format(makesafe(k)), k) for k in superpathwayDict.keys()],\n",
    "           f\"{organismDict[organism]}\")\n",
    "    \n",
    "writeIndex(os.path.join(outputDirectory), \n",
    "          [(f\"{k}/index.html\", v) for k,v in organismDict.items()],\n",
    "           \"Pathways\")"
   ]
  },
  {
   "cell_type": "code",
   "execution_count": 2,
   "id": "199b2487",
   "metadata": {},
   "outputs": [],
   "source": [
    "carbohydrateMetabolismPathways = [\"00010\",\"00020\",\"00030\",\"00040\",\"00051\",\"00052\",\"00053\",\"00500\",\"00520\",\"00620\",\"00630\",\"00640\",\"00650\",\"00660\",\"00562\"]\n",
    "outputDirectory = \"/Users/boldi/Desktop/new-hsa-bis\"\n",
    "dataDirectory = \"../../LaTeX/Data/hsa\""
   ]
  },
  {
   "cell_type": "code",
   "execution_count": 3,
   "id": "2316bcd8",
   "metadata": {},
   "outputs": [
    {
     "name": "stderr",
     "output_type": "stream",
     "text": [
      "/Users/boldi/.local/share/virtualenvs/HyperFibrations-Niml-_Xp/lib/python3.9/site-packages/hypernetx/classes/hypergraph.py:968: UserWarning: Cannot add edge. Edge already in hypergraph\n",
      "  warnings.warn(\"Cannot add edge. Edge already in hypergraph\")\n"
     ]
    },
    {
     "name": "stdout",
     "output_type": "stream",
     "text": [
      "Ignoring file ../../LaTeX/Data/hsa/hsa00660-sbml.xml, couldn't get a model out of it\n"
     ]
    }
   ],
   "source": [
    "H, sr2r, r2ss, rid2rname, mid2mname = read_hg_from_SBML([\"{}/hsa{}-sbml.xml\".format(dataDirectory, x) for x in carbohydrateMetabolismPathways])"
   ]
  },
  {
   "cell_type": "code",
   "execution_count": 4,
   "id": "fc2550ef",
   "metadata": {},
   "outputs": [],
   "source": [
    "dd=hyper_cardon_crochemore(H, proxy=sr2r)"
   ]
  },
  {
   "cell_type": "code",
   "execution_count": 5,
   "id": "80406061",
   "metadata": {},
   "outputs": [
    {
     "data": {
      "text/plain": [
       "[{'rnR04432', 'rnR12356'},\n",
       " {'rnR01648', 'rnR10183'},\n",
       " {'rnR01184', 'rnR01802'},\n",
       " {'rnR02527', 'rnR02530'},\n",
       " {'rnR00709', 'rnR01899'},\n",
       " {'rnR00227', 'rnR00742'},\n",
       " {'rnR01049', 'rnR01051', 'rnR01057'},\n",
       " {'rnR03363', 'rnR05802'},\n",
       " {'rnR00768', 'rnR04779'},\n",
       " {'rnR01431', 'rnR01904'},\n",
       " {'rnR03393', 'rnR05801'},\n",
       " {'rnR03430', 'rnR03434'},\n",
       " {'rnR03478', 'rnR04372'},\n",
       " {'rnR00405', 'rnR00432'},\n",
       " {'rnR00214', 'rnR00216'},\n",
       " {'rnR03427', 'rnR03428', 'rnR03429'},\n",
       " {'rnR00908', 'rnR01000', 'rnR02921', 'rnR02957', 'rnR04215'},\n",
       " {'rnR10928', 'rnR12124'},\n",
       " {'rnR02640', 'rnR02933'},\n",
       " {'rnR01790', 'rnR02111'},\n",
       " {'rnR03394', 'rnR03433', 'rnR05800'},\n",
       " {'rnR04513', 'rnR09827'},\n",
       " {'rnR03469', 'rnR05795', 'rnR11680'},\n",
       " {'rnR02749', 'rnR02750'},\n",
       " {'rnR00945', 'rnR01221', 'rnR01392', 'rnR01394'},\n",
       " {'rnR00022', 'rnR00306', 'rnR01103', 'rnR01175', 'rnR01185', 'rnR01737'},\n",
       " {'rnR00009',\n",
       "  'rnR00010',\n",
       "  'rnR00100',\n",
       "  'rnR00253',\n",
       "  'rnR00261',\n",
       "  'rnR00317',\n",
       "  'rnR00935',\n",
       "  'rnR01176',\n",
       "  'rnR01206',\n",
       "  'rnR01334',\n",
       "  'rnR01519',\n",
       "  'rnR01718',\n",
       "  'rnR01959',\n",
       "  'rnR01961',\n",
       "  'rnR02334',\n",
       "  'rnR02731',\n",
       "  'rnR03161',\n",
       "  'rnR03330',\n",
       "  'rnR03527',\n",
       "  'rnR03688',\n",
       "  'rnR03920',\n",
       "  'rnR08967',\n",
       "  'rnR09979',\n",
       "  'rnR11262',\n",
       "  'rnR11441'},\n",
       " {'rnR02887', 'rnR03634', 'rnR05549'},\n",
       " {'rnR01804', 'rnR02705'},\n",
       " {'rnR00765', 'rnR02058'},\n",
       " {'rnR04404', 'rnR04545'},\n",
       " {'rnR01786', 'rnR01788'},\n",
       " {'rnR00710', 'rnR00711'},\n",
       " {'rnR00746', 'rnR00754'},\n",
       " {'rnR01384', 'rnR08615'},\n",
       " {'rnR00287', 'rnR00292'},\n",
       " {'rnR00303', 'rnR07324'},\n",
       " {'rnR01528', 'rnR10221'},\n",
       " {'rnR00760', 'rnR00866', 'rnR00867'},\n",
       " {'rnR03361', 'rnR03362'},\n",
       " {'rnR01104', 'rnR01329'}]"
      ]
     },
     "execution_count": 5,
     "metadata": {},
     "output_type": "execute_result"
    }
   ],
   "source": [
    "mapKeys(dd, onlyNonTrivial=True, prefOnly=\"r\", keyfamily=r2ss)"
   ]
  },
  {
   "cell_type": "code",
   "execution_count": 6,
   "id": "084e8336",
   "metadata": {},
   "outputs": [
    {
     "data": {
      "text/plain": [
       "[{('C05400', 'C05400'), ('C05401', 'C05401')},\n",
       " {('C00334', 'C00334'), ('C18060', 'C18060')},\n",
       " {('C00026', 'C00026'), ('C05379', 'C05379')},\n",
       " {('C00672', 'C00672'), ('C01801', 'C01801')},\n",
       " {('C00119', 'C00119'), ('C00121', 'C00121'), ('C00620', 'C00620')},\n",
       " {('C00037', 'C00037'), ('C00168', 'C00168')},\n",
       " {('C01204', 'C01204'), ('C04520', 'C04520')},\n",
       " {('C00181', 'C00181'), ('C00312', 'C00312')},\n",
       " {('C00937', 'C00937'), ('C03451', 'C03451')},\n",
       " {('C00203', 'C00203'), ('C00232', 'C00232')},\n",
       " {('C04063', 'C04063'), ('C04477', 'C04477')},\n",
       " {('C00099', 'C00099'),\n",
       "  ('C00109', 'C00109'),\n",
       "  ('C00222', 'C00222'),\n",
       "  ('C00789', 'C00789'),\n",
       "  ('C00818', 'C00818'),\n",
       "  ('C01068', 'C01068'),\n",
       "  ('C02670', 'C02670'),\n",
       "  ('C03410', 'C03410'),\n",
       "  ('C03691', 'C03691'),\n",
       "  ('C05984', 'C05984')},\n",
       " {('C00618', 'C00618'), ('C01040', 'C01040')},\n",
       " {('C01220', 'C01220'), ('C11555', 'C11555')},\n",
       " {('C00014', 'C00014'),\n",
       "  ('C00065', 'C00065'),\n",
       "  ('C00258', 'C00258'),\n",
       "  ('C01146', 'C01146')},\n",
       " {('C00007', 'C00007'),\n",
       "  ('C00058', 'C00058'),\n",
       "  ('C00064', 'C00064'),\n",
       "  ('C00136', 'C00136'),\n",
       "  ('C00185', 'C00185'),\n",
       "  ('C00257', 'C00257'),\n",
       "  ('C00492', 'C00492'),\n",
       "  ('C00999', 'C00999'),\n",
       "  ('C01177', 'C01177'),\n",
       "  ('C01674', 'C01674'),\n",
       "  ('C03827', 'C03827'),\n",
       "  ('C05402', 'C05402'),\n",
       "  ('C20238', 'C20238'),\n",
       "  ('C21384', 'C21384')},\n",
       " {('C00025', 'C00025'),\n",
       "  ('C00027', 'C00027'),\n",
       "  ('C00198', 'C00198'),\n",
       "  ('C00227', 'C00227'),\n",
       "  ('C00246', 'C00246'),\n",
       "  ('C00252', 'C00252'),\n",
       "  ('C00329', 'C00329'),\n",
       "  ('C00461', 'C00461'),\n",
       "  ('C00665', 'C00665'),\n",
       "  ('C00963', 'C00963'),\n",
       "  ('C00988', 'C00988'),\n",
       "  ('C00996', 'C00996'),\n",
       "  ('C01019', 'C01019'),\n",
       "  ('C01083', 'C01083'),\n",
       "  ('C01132', 'C01132'),\n",
       "  ('C01613', 'C01613'),\n",
       "  ('C01720', 'C01720'),\n",
       "  ('C01898', 'C01898'),\n",
       "  ('C01935', 'C01935'),\n",
       "  ('C02336', 'C02336'),\n",
       "  ('C04062', 'C04062'),\n",
       "  ('C05404', 'C05404'),\n",
       "  ('C06002', 'C06002'),\n",
       "  ('C06049', 'C06049'),\n",
       "  ('C18026', 'C18026'),\n",
       "  ('C20934', 'C20934')},\n",
       " {('C00641', 'C00641'), ('C05981', 'C05981')},\n",
       " {('C00190', 'C00190'), ('C03033', 'C03033')},\n",
       " {('C00116', 'C00116'), ('C00159', 'C00159')}]"
      ]
     },
     "execution_count": 6,
     "metadata": {},
     "output_type": "execute_result"
    }
   ],
   "source": [
    "mapKeys(dd, onlyNonTrivial=True, keydesc=mid2mname, prefOnly=\"C\")"
   ]
  },
  {
   "cell_type": "code",
   "execution_count": 7,
   "id": "3857f162",
   "metadata": {},
   "outputs": [
    {
     "data": {
      "text/plain": [
       "{1: 132, 2: 31, 3: 6, 5: 1, 4: 1, 6: 1, 25: 1}"
      ]
     },
     "execution_count": 7,
     "metadata": {},
     "output_type": "execute_result"
    }
   ],
   "source": [
    "classSizeDist(dd, prefOnly=\"r\")"
   ]
  },
  {
   "cell_type": "code",
   "execution_count": 8,
   "id": "46431abf",
   "metadata": {},
   "outputs": [
    {
     "data": {
      "text/plain": [
       "{1: 126, 2: 15, 3: 1, 10: 1, 4: 1, 14: 1, 26: 1}"
      ]
     },
     "execution_count": 8,
     "metadata": {},
     "output_type": "execute_result"
    }
   ],
   "source": [
    "classSizeDist(dd, prefOnly=\"C\")"
   ]
  },
  {
   "cell_type": "code",
   "execution_count": 9,
   "id": "47f08124",
   "metadata": {},
   "outputs": [],
   "source": [
    "import math\n",
    "def writeKEGGHtml(m, dirname, basename, title, onlyNonTrivial = True, keyadj = None, \n",
    "                  prefOnly = \"\", cutPref=\"\", addHtmlPrefix=\"https://www.kegg.jp/entry/\", maxPerRow = 3):\n",
    "    \"\"\"\n",
    "    \"\"\"\n",
    "    pageCounter = 0\n",
    "    npages = len(set(m.values()))\n",
    "    for v in set(m.values()):\n",
    "        if keyadj is not None:\n",
    "            eqClass = set([keyadj[k] for k,w in m.items() if w==v and k.startswith(prefOnly)])\n",
    "        else:\n",
    "            eqClass = set([k for k,w in m.items() if w==v and k.startswith(prefOnly)])\n",
    "        if onlyNonTrivial and len(eqClass) <= 1:\n",
    "            continue\n",
    "        out = set([\"{}\".format(k) for k in eqClass])\n",
    "        outn = len(out)\n",
    "        rows = math.ceil(outn/maxPerRow)\n",
    "        fileName = \"{}-cont-{}.html\".format(basename, pageCounter)\n",
    "        prevName = \"{}-cont-{}.html\".format(basename, pageCounter - 1)\n",
    "        nextName = \"{}-cont-{}.html\".format(basename, pageCounter + 1)\n",
    "        headerName = \"{}-header-{}.html\".format(basename, pageCounter)\n",
    "        footerName = \"{}-footer-{}.html\".format(basename, pageCounter)\n",
    "        pageCounter += 1\n",
    "        with open(\"{}/{}\".format(dirname, fileName), \"w\") as file:\n",
    "            file.write(\"<!DOCTYPE html>\\n<html>\\n\\t<frameset rows=\\\"10%,\" +\n",
    "                \",\".join([\"*\"] * rows) +\n",
    "                \",10%\\\">\\n\")\n",
    "            file.write(\"\\n\\t\\t<frame src=\\\"\" + headerName + \"\\\">\\n\")\n",
    "            for i,element in enumerate(out):\n",
    "                if i % maxPerRow == 0:\n",
    "                    file.write(\"\\t\\t<frameset cols=\\\"\" +\n",
    "                        \",\".join([\"*\"] * maxPerRow) +\n",
    "                        \"\\\">\\n\")\n",
    "                file.write(\"\\t\\t\\t<frame src=\\\"{}{}\\\">\\n\".format(addHtmlPrefix, element[len(cutPref):]))\n",
    "                if (i + 1) % maxPerRow == 0 or i == outn - 1:\n",
    "                    file.write(\"\\t\\t</frameset>\\n\")\n",
    "            file.write(\"\\n\\t\\t<frame src=\\\"\" + footerName + \"\\\">\\n\")\n",
    "            file.write(\"\\n\\t</frameset>\\n</html>\")\n",
    "        with open(\"{}/{}\".format(dirname, headerName), \"w\") as file:\n",
    "            file.write(\"<!DOCTYPE html>\\n<html>\\n\\t<h1>{}{}</h1>\\n</html>\".format(title, pageCounter))\n",
    "        with open(\"{}/{}\".format(dirname, footerName), \"w\") as file:\n",
    "            if pageCounter == 1:\n",
    "                file.write(\"<!DOCTYPE html>\\n<html>\\n\" +\n",
    "                       \"\\t<table border=\\\"1\\\" style=\\\"margin-left: auto; margin-right: auto;\\\">\\n\" +\n",
    "                       \"\\t\\t<td style=\\\"padding: 10px;\\\"><a href=\\\"\" + nextName + \"\\\" target=\\\"_top\\\">Next</a></td>\\n\" +\n",
    "                       \"\\t</table>\\n\" +\n",
    "                       \"</html>\")\n",
    "            elif pageCounter == npages:\n",
    "                file.write(\"<!DOCTYPE html>\\n<html>\\n\" +\n",
    "                       \"\\t<table border=\\\"1\\\" style=\\\"margin-left: auto; margin-right: auto;\\\">\\n\" +\n",
    "                       \"\\t\\t<td style=\\\"padding: 10px;\\\"><a href=\\\"\" + prevName + \"\\\" target=\\\"_top\\\">Previous</a></td>\\n\" +\n",
    "                       \"\\t</table>\\n\" +\n",
    "                       \"</html>\")\n",
    "            else:\n",
    "                file.write(\"<!DOCTYPE html>\\n<html>\\n\" +\n",
    "                       \"\\t<table border=\\\"1\\\" style=\\\"margin-left: auto; margin-right: auto;\\\">\\n\" +\n",
    "                       \"\\t\\t<td style=\\\"padding: 10px;\\\"><a href=\\\"\" + prevName + \"\\\" target=\\\"_top\\\">Previous</a></td>\\n\" +\n",
    "                       \"\\t\\t<td style=\\\"padding: 10px;\\\"><a href=\\\"\" + nextName + \"\\\" target=\\\"_top\\\">Next</a></td>\\n\" +\n",
    "                       \"\\t</table>\\n\" +\n",
    "                       \"</html>\")\n"
   ]
  },
  {
   "cell_type": "code",
   "execution_count": 10,
   "id": "dc97297a",
   "metadata": {},
   "outputs": [],
   "source": [
    "index = []"
   ]
  },
  {
   "cell_type": "code",
   "execution_count": 11,
   "id": "e1870435",
   "metadata": {},
   "outputs": [],
   "source": [
    "writeKEGGHtml(dd, outputDirectory, \"carboR\", \"Homo Sapiens, Carbohydrate metabolism, Reactions group \", onlyNonTrivial=True, prefOnly=\"r\", cutPref=\"rn\")\n",
    "index += [(\"carboR-cont-0.html\", \"Reaction groups\")]"
   ]
  },
  {
   "cell_type": "code",
   "execution_count": 12,
   "id": "25edc873",
   "metadata": {},
   "outputs": [],
   "source": [
    "writeKEGGHtml(dd, outputDirectory, \"carboC\", \"Homo Sapiens, Carbohydrate metabolism, Compound group \", onlyNonTrivial=True, prefOnly=\"C\", cutPref=\"\")\n",
    "index += [(\"carboC-cont-0.html\", \"Compound groups\")]"
   ]
  },
  {
   "cell_type": "code",
   "execution_count": 13,
   "id": "98c4d6c5",
   "metadata": {},
   "outputs": [],
   "source": [
    "from Bio import SeqIO\n",
    "from Bio.KEGG.REST import *\n",
    "from Bio.KEGG.KGML import KGML_parser\n",
    "from Bio.Graphics.KGML_vis import KGMLCanvas\n",
    "from Bio.Graphics.ColorSpiral import ColorSpiral\n",
    "\n",
    "from IPython.display import Image, HTML\n",
    "import numpy as np\n",
    "import matplotlib"
   ]
  },
  {
   "cell_type": "code",
   "execution_count": 14,
   "id": "7d41955d",
   "metadata": {},
   "outputs": [],
   "source": [
    "pathwaynames = {}\n",
    "with open(\"../../LaTeX/Data/hsa/hsa-dict.csv\") as file:\n",
    "    for row in csv.reader(file):\n",
    "        pathwaynames[row[0]] = row[1]"
   ]
  },
  {
   "cell_type": "code",
   "execution_count": 15,
   "id": "b50d8ccc",
   "metadata": {},
   "outputs": [],
   "source": [
    "groupedReactions = mapKeys(dd, prefOnly=\"rn\")\n",
    "r2gr = {}\n",
    "for i, reactions in enumerate(groupedReactions):\n",
    "    for reaction in reactions:\n",
    "        r2gr[reaction] = i"
   ]
  },
  {
   "cell_type": "code",
   "execution_count": 16,
   "id": "f1f72bcf",
   "metadata": {},
   "outputs": [],
   "source": [
    "groupedCompounds = mapKeys(dd, prefOnly=\"C\")\n",
    "c2gc = {}\n",
    "for i, compounds in enumerate(groupedCompounds):\n",
    "    for compound in compounds:\n",
    "        c2gc[compound] = i + len(groupedReactions)"
   ]
  },
  {
   "cell_type": "code",
   "execution_count": 17,
   "id": "0b2cb6fb",
   "metadata": {},
   "outputs": [],
   "source": [
    "ncols = len(groupedReactions) + len(groupedCompounds) + 1 \n",
    "rgbCols = plt.cm.get_cmap(\"viridis\", ncols).colors\n",
    "cols = [matplotlib.colors.rgb2hex(c) for c in rgbCols]"
   ]
  },
  {
   "cell_type": "code",
   "execution_count": 18,
   "id": "227e7fa2",
   "metadata": {},
   "outputs": [
    {
     "name": "stdout",
     "output_type": "stream",
     "text": [
      "Pathway 00660 could not be downloaded: ignoring\n"
     ]
    }
   ],
   "source": [
    "for pw in carbohydrateMetabolismPathways:\n",
    "    try:\n",
    "        pathway = KGML_parser.read(kegg_get(\"hsa\" + pw, \"kgml\"))\n",
    "    except:\n",
    "        print(\"Pathway\", pw, \"could not be downloaded: ignoring\")\n",
    "        continue\n",
    "    canvas = KGMLCanvas(pathway)\n",
    "    for k in pathway.entries:\n",
    "        t = pathway.entries[k].type\n",
    "        pathway.entries[k].graphics[0].bgcolor = \"#FFFFFF\"\n",
    "        if t == \"gene\" or t == \"ortholog\":\n",
    "            reaction = \"rn\" + pathway.entries[k].reaction[3:]\n",
    "            if reaction in r2gr:\n",
    "                pathway.entries[k].graphics[0].bgcolor = cols[r2gr[reaction]]\n",
    "                pathway.entries[k].graphics[0].name = \"[R{}] {}\".format(r2gr[reaction], pathway.entries[k].graphics[0].name)\n",
    "        elif t == \"compound\":\n",
    "            compound = pathway.entries[k].name[4:]\n",
    "            if compound in c2gc:\n",
    "                pathway.entries[k].graphics[0].bgcolor = cols[c2gc[compound]]\n",
    "                pathway.entries[k].graphics[0].name = \"[C{}] {}\".format(c2gc[compound], pathway.entries[k].graphics[0].name)\n",
    "    canvas.import_imagemap = True\n",
    "    pathwayName = \"hsa\" + str(pw)\n",
    "    pdfName = pathwayName + \".pdf\"\n",
    "    canvas.draw(\"{}/{}\".format(outputDirectory, pdfName))\n",
    "    index += [(pdfName, pathwaynames[pathwayName])]\n"
   ]
  },
  {
   "cell_type": "code",
   "execution_count": 19,
   "id": "a1bbf009",
   "metadata": {},
   "outputs": [],
   "source": [
    "with open(\"{}/index.html\".format(outputDirectory), \"w\") as file:\n",
    "    file.write(\"<!DOCTYPE html>\\n<html>\\n\")\n",
    "    file.write(\"\\t<h1>Homo Sapiens, Carbohydrate metabolism</h1>\\n\")\n",
    "    file.write(\"\\t<ul>\\n\")\n",
    "    for link, anchor in index:\n",
    "        file.write(\"\\t\\t<li><a href=\\\"{}\\\">{}</a>\\n\".format(link, anchor))\n",
    "    file.write(\"\\t</ul>\\n\")\n",
    "    file.write(\"</html>\\n\")"
   ]
  },
  {
   "cell_type": "code",
   "execution_count": null,
   "id": "8fcb987c",
   "metadata": {},
   "outputs": [],
   "source": []
  },
  {
   "cell_type": "code",
   "execution_count": null,
   "id": "848ab309",
   "metadata": {},
   "outputs": [],
   "source": []
  }
 ],
 "metadata": {
  "kernelspec": {
   "display_name": "qf",
   "language": "python",
   "name": "qf"
  },
  "language_info": {
   "codemirror_mode": {
    "name": "ipython",
    "version": 3
   },
   "file_extension": ".py",
   "mimetype": "text/x-python",
   "name": "python",
   "nbconvert_exporter": "python",
   "pygments_lexer": "ipython3",
   "version": "3.8.2"
  }
 },
 "nbformat": 4,
 "nbformat_minor": 5
}
