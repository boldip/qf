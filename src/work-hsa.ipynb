{
 "cells": [
  {
   "cell_type": "code",
   "execution_count": 2,
   "id": "d4364c55",
   "metadata": {},
   "outputs": [],
   "source": [
    "from hypergraphs import *"
   ]
  },
  {
   "cell_type": "code",
   "execution_count": 3,
   "id": "199b2487",
   "metadata": {},
   "outputs": [],
   "source": [
    "carbohydrateMetabolismPathways = [\"00010\",\"00020\",\"00030\",\"00040\",\"00051\",\"00052\",\"00053\",\"00500\",\"00520\",\"00620\",\"00630\",\"00640\",\"00650\",\"00660\",\"00562\"]"
   ]
  },
  {
   "cell_type": "code",
   "execution_count": 5,
   "id": "2316bcd8",
   "metadata": {},
   "outputs": [
    {
     "name": "stderr",
     "output_type": "stream",
     "text": [
      "/Users/boldi/.local/share/virtualenvs/qf-BIT_cIX4/lib/python3.10/site-packages/hypernetx/classes/hypergraph.py:968: UserWarning: Cannot add edge. Edge already in hypergraph\n",
      "  warnings.warn(\"Cannot add edge. Edge already in hypergraph\")\n"
     ]
    },
    {
     "name": "stdout",
     "output_type": "stream",
     "text": [
      "Ignoring file ../../LaTeX/Data/hsa/hsa00660-sbml.xml, couldn't get a model out of it\n"
     ]
    }
   ],
   "source": [
    "H, sr2r, r2ss, rid2rname, mid2mname = read_hg_from_SBML([\"../../LaTeX/Data/hsa/hsa{}-sbml.xml\".format(x) for x in carbohydrateMetabolismPathways])"
   ]
  },
  {
   "cell_type": "code",
   "execution_count": 6,
   "id": "fc2550ef",
   "metadata": {},
   "outputs": [],
   "source": [
    "dd=hyper_cardon_crochemore(H)"
   ]
  },
  {
   "cell_type": "code",
   "execution_count": 7,
   "id": "80406061",
   "metadata": {},
   "outputs": [
    {
     "name": "stdout",
     "output_type": "stream",
     "text": [
      "{'rnR01529', 'rnR01639'}\n",
      "{'rnR00410', 'rnR00238', 'rnR01975'}\n",
      "{'rnR02740', 'rnR04779', 'rnR03321', 'rnR01819', 'rnR00768'}\n",
      "{'rnR01051', 'rnR01049', 'rnR01056', 'rnR01057'}\n",
      "{'rnR11680', 'rnR05795', 'rnR03469'}\n",
      "{'rnR09827', 'rnR04513'}\n",
      "{'rnR05800', 'rnR03394', 'rnR03433'}\n",
      "{'rnR00658', 'rnR00200'}\n",
      "{'rnR01512', 'rnR01518', 'rnR01516'}\n",
      "{'rnR01104', 'rnR01329'}\n",
      "{'rnR00658', 'rnR01518'}\n",
      "{'rnR01049', 'rnR01051', 'rnR01057'}\n",
      "{'rnR00289', 'rnR00959', 'rnR01660', 'rnR08639'}\n",
      "{'rnR00291', 'rnR00955', 'rnR00503'}\n",
      "{'rnR01104', 'rnR01329'}\n",
      "{'rnR02750', 'rnR02749'}\n",
      "{'rnR00746', 'rnR00754'}\n",
      "{'rnR00875', 'rnR00867', 'rnR00760', 'rnR00866'}\n",
      "{'rnR01394', 'rnR00945', 'rnR01221', 'rnR01392'}\n",
      "{'rnR01896', 'rnR01639'}\n",
      "{'rnR08639', 'rnR00303', 'rnR07324', 'rnR00771'}\n",
      "{'rnR01526', 'rnR01056', 'rnR01529'}\n",
      "{'rnR00405', 'rnR00833', 'rnR00432'}\n",
      "{'rnR02705', 'rnR01804', 'rnR01207'}\n",
      "{'rnR01805', 'rnR04435'}\n",
      "{'rnR02933', 'rnR02640'}\n",
      "{'rnR04780', 'rnR01070'}\n",
      "{'rnR00710', 'rnR00711', 'rnR00316', 'rnR00235'}\n",
      "{'rnR02059', 'rnR08193'}\n",
      "{'rnR00216', 'rnR00703', 'rnR00344', 'rnR00214'}\n",
      "{'rnR01904', 'rnR01431', 'rnR01896'}\n",
      "{'rnR03479', 'rnR05202'}\n",
      "{'rnR01325', 'rnR01900'}\n",
      "{'rnR00709', 'rnR01899', 'rnR00268', 'rnR03534'}\n",
      "{'rnR00709', 'rnR01899', 'rnR01900'}\n",
      "{'rnR01015', 'rnR01066', 'rnR01061'}\n",
      "{'rnR01827', 'rnR01641'}\n",
      "{'rnR03428', 'rnR03427', 'rnR03429'}\n",
      "{'rnR01201', 'rnR01207'}\n",
      "{'rnR01117', 'rnR01811'}\n",
      "{'rnR00416', 'rnR08193'}\n",
      "{'rnR00885', 'rnR01818'}\n",
      "{'rnR09086', 'rnR03321', 'rnR02739', 'rnR02736'}\n",
      "{'rnR00765', 'rnR02058'}\n",
      "{'rnR00959', 'rnR02740', 'rnR01788', 'rnR02739', 'rnR01786'}\n",
      "{'rnR01819', 'rnR01818', 'rnR11439'}\n",
      "{'rnR01904', 'rnR01431', 'rnR01430'}\n",
      "{'rnR02111', 'rnR02112', 'rnR01790'}\n",
      "{'rnR00289', 'rnR00286', 'rnR00291', 'rnR00287', 'rnR00292'}\n",
      "{'rnR01478', 'rnR01383'}\n",
      "{'rnR05801', 'rnR03393'}\n",
      "{'rnR03430', 'rnR03434'}\n",
      "{'rnR01602', 'rnR01600', 'rnR09086'}\n",
      "{'rnR00875', 'rnR01787'}\n",
      "{'rnR00885', 'rnR00888'}\n",
      "{'rnR03478', 'rnR04372'}\n",
      "{'rnR01184', 'rnR01802'}\n",
      "{'rnR02527', 'rnR02530', 'rnR01736'}\n",
      "{'rnR01383', 'rnR00286', 'rnR08615', 'rnR01384'}\n",
      "{'rnR10928', 'rnR12124'}\n",
      "{'rnR03362', 'rnR03361'}\n",
      "{'rnR02527', 'rnR02530'}\n",
      "{'rnR10183', 'rnR01648'}\n",
      "{'rnR00405', 'rnR02164', 'rnR00432'}\n",
      "{'rnR02957', 'rnR04215', 'rnR02921', 'rnR01000', 'rnR00908'}\n",
      "{'rnR04404', 'rnR04545', 'rnR03435'}\n",
      "{'rnR02933', 'rnR02640', 'rnR01481'}\n",
      "{'rnR00342', 'rnR00351'}\n",
      "{'rnR02164', 'rnR01082'}\n",
      "{'rnR01512', 'rnR01061', 'rnR01662'}\n",
      "{'rnR09532', 'rnR01516', 'rnR01662'}\n",
      "{'rnR00710', 'rnR00746', 'rnR00711', 'rnR00754'}\n",
      "{'rnR00236', 'rnR00316'}\n",
      "{'rnR10183', 'rnR01648', 'rnR00713'}\n",
      "{'rnR01066', 'rnR02749', 'rnR02750'}\n",
      "{'rnR01528', 'rnR10221'}\n",
      "{'rnR04432', 'rnR03045', 'rnR12356'}\n",
      "{'rnR00923', 'rnR02765'}\n",
      "{'rnR01354', 'rnR00926'}\n",
      "{'rnR01175', 'rnR01101', 'rnR01185', 'rnR00022', 'rnR01737', 'rnR01103', 'rnR00306'}\n",
      "{'rnR04432', 'rnR00926', 'rnR01859', 'rnR12356'}\n",
      "{'rnR00465', 'rnR00475'}\n",
      "{'rnR00253', 'rnR09979', 'rnR00261', 'rnR00010', 'rnR08967', 'rnR03634', 'rnR00009', 'rnR01519', 'rnR00317', 'rnR01718', 'rnR11262', 'rnR03161', 'rnR01176', 'rnR03688', 'rnR01206', 'rnR01961', 'rnR03527', 'rnR05549', 'rnR00100', 'rnR01334', 'rnR03920', 'rnR02334', 'rnR03330', 'rnR01959', 'rnR00935', 'rnR02731', 'rnR02887', 'rnR11441'}\n",
      "{'rnR00352', 'rnR01325', 'rnR00351'}\n",
      "{'rnR03045', 'rnR03158'}\n",
      "{'rnR00216', 'rnR01082', 'rnR00342', 'rnR00214'}\n",
      "{'rnR00833', 'rnR02765'}\n",
      "{'rnR03363', 'rnR05802'}\n",
      "{'rnR01788', 'rnR01786', 'rnR01787', 'rnR09085', 'rnR01602'}\n",
      "{'rnR03026', 'rnR01975'}\n",
      "{'rnR01361', 'rnR00410', 'rnR01357'}\n",
      "{'rnR00236', 'rnR00238', 'rnR00742', 'rnR00227'}\n",
      "{'rnR00352', 'rnR00351'}\n"
     ]
    }
   ],
   "source": [
    "showMapKeys(dd, onlyNonTrivial=True, keyadj=sr2r, prefOnly=\"r\", keyfamily=r2ss)"
   ]
  },
  {
   "cell_type": "code",
   "execution_count": 8,
   "id": "084e8336",
   "metadata": {},
   "outputs": [
    {
     "name": "stdout",
     "output_type": "stream",
     "text": [
      "{'C04063 (C04063)', 'C04477 (C04477)'}\n",
      "{'C11555 (C11555)', 'C01220 (C01220)'}\n",
      "{'C04520 (C04520)', 'C01204 (C01204)'}\n",
      "{'C00026 (C00026)', 'C05379 (C05379)'}\n",
      "{'C03033 (C03033)', 'C00190 (C00190)'}\n",
      "{'C05981 (C05981)', 'C00641 (C00641)'}\n",
      "{'C00119 (C00119)', 'C00620 (C00620)', 'C00121 (C00121)'}\n",
      "{'C00037 (C00037)', 'C00168 (C00168)'}\n",
      "{'C00065 (C00065)', 'C01146 (C01146)', 'C00258 (C00258)', 'C00014 (C00014)'}\n",
      "{'C00672 (C00672)', 'C01801 (C01801)'}\n",
      "{'C00181 (C00181)', 'C00312 (C00312)'}\n",
      "{'C18060 (C18060)', 'C00334 (C00334)'}\n",
      "{'C00203 (C00203)', 'C00232 (C00232)'}\n",
      "{'C00058 (C00058)', 'C00136 (C00136)', 'C00257 (C00257)', 'C00185 (C00185)', 'C00007 (C00007)', 'C05402 (C05402)', 'C00064 (C00064)', 'C00999 (C00999)', 'C01177 (C01177)', 'C21384 (C21384)', 'C03827 (C03827)', 'C01674 (C01674)', 'C00492 (C00492)', 'C20238 (C20238)'}\n",
      "{'C00963 (C00963)', 'C00246 (C00246)', 'C00461 (C00461)', 'C00252 (C00252)', 'C06049 (C06049)', 'C01720 (C01720)', 'C00027 (C00027)', 'C01935 (C01935)', 'C04062 (C04062)', 'C01019 (C01019)', 'C00665 (C00665)', 'C18026 (C18026)', 'C05404 (C05404)', 'C00198 (C00198)', 'C01613 (C01613)', 'C01132 (C01132)', 'C00227 (C00227)', 'C00025 (C00025)', 'C00329 (C00329)', 'C00996 (C00996)', 'C06002 (C06002)', 'C02336 (C02336)', 'C01083 (C01083)', 'C01898 (C01898)', 'C20934 (C20934)', 'C00988 (C00988)'}\n",
      "{'C00789 (C00789)', 'C03410 (C03410)', 'C05984 (C05984)', 'C02670 (C02670)', 'C01068 (C01068)', 'C03691 (C03691)', 'C00109 (C00109)', 'C00818 (C00818)', 'C00099 (C00099)', 'C00222 (C00222)'}\n",
      "{'C00116 (C00116)', 'C00159 (C00159)'}\n",
      "{'C05400 (C05400)', 'C05401 (C05401)'}\n",
      "{'C03451 (C03451)', 'C00937 (C00937)'}\n",
      "{'C00618 (C00618)', 'C01040 (C01040)'}\n"
     ]
    }
   ],
   "source": [
    "showMapKeys(dd, onlyNonTrivial=True, keydesc=mid2mname, prefOnly=\"C\")"
   ]
  },
  {
   "cell_type": "code",
   "execution_count": 9,
   "id": "3857f162",
   "metadata": {},
   "outputs": [
    {
     "data": {
      "text/plain": [
       "{1: 66, 2: 44, 3: 28, 5: 5, 4: 14, 7: 1, 28: 1}"
      ]
     },
     "execution_count": 9,
     "metadata": {},
     "output_type": "execute_result"
    }
   ],
   "source": [
    "classSizeDist(dd, prefOnly=\"r\", keyadj=sr2r)"
   ]
  },
  {
   "cell_type": "code",
   "execution_count": 10,
   "id": "46431abf",
   "metadata": {},
   "outputs": [
    {
     "data": {
      "text/plain": [
       "{1: 126, 2: 15, 3: 1, 4: 1, 14: 1, 26: 1, 10: 1}"
      ]
     },
     "execution_count": 10,
     "metadata": {},
     "output_type": "execute_result"
    }
   ],
   "source": [
    "classSizeDist(dd, prefOnly=\"C\")"
   ]
  },
  {
   "cell_type": "code",
   "execution_count": 36,
   "id": "47f08124",
   "metadata": {},
   "outputs": [],
   "source": [
    "def writeKEGGHtml(m, basename, onlyNonTrivial = True, keyadj = None, prefOnly = \"\", cutPref=\"\", addHtmlPrefix=\"https://www.kegg.jp/entry/\"):\n",
    "    \"\"\"\n",
    "    \"\"\"\n",
    "    pageCounter = 0\n",
    "    for v in set(m.values()):\n",
    "        if keyadj is not None:\n",
    "            eqClass = set([keyadj[k] for k,w in m.items() if w==v and k.startswith(prefOnly)])\n",
    "        else:\n",
    "            eqClass = set([k for k,w in m.items() if w==v and k.startswith(prefOnly)])\n",
    "        if onlyNonTrivial and len(eqClass) <= 1:\n",
    "            continue\n",
    "        out = set([\"{}\".format(k) for k in eqClass])\n",
    "        outn = len(out)\n",
    "        fileName = \"{}-{}.html\".format(basename, pageCounter)\n",
    "        pageCounter += 1\n",
    "        fileContent = \"<!DOCTYPE html>\\n<html>\\n\\t<frameset cols=\\\"\" + \",\".join([\"*\"] * outn) + \"\\\">\\n\"\n",
    "        for element in out:\n",
    "            fileContent += \"\\t\\t<frame src=\\\"{}{}\\\">\\n\".format(addHtmlPrefix, element[len(cutPref):])\n",
    "        fileContent +=\"\\t</frameset>\\n</html>\"\n",
    "        with open(fileName, \"w\") as file:\n",
    "            file.write(fileContent)"
   ]
  },
  {
   "cell_type": "code",
   "execution_count": 37,
   "id": "e1870435",
   "metadata": {},
   "outputs": [],
   "source": [
    "writeKEGGHtml(dd, \"/Users/boldi/Desktop/cane\", onlyNonTrivial=True, keyadj=sr2r, prefOnly=\"r\", cutPref=\"rn\")"
   ]
  },
  {
   "cell_type": "code",
   "execution_count": null,
   "id": "25edc873",
   "metadata": {},
   "outputs": [],
   "source": []
  }
 ],
 "metadata": {
  "kernelspec": {
   "display_name": "qf",
   "language": "python",
   "name": "qf"
  },
  "language_info": {
   "codemirror_mode": {
    "name": "ipython",
    "version": 3
   },
   "file_extension": ".py",
   "mimetype": "text/x-python",
   "name": "python",
   "nbconvert_exporter": "python",
   "pygments_lexer": "ipython3",
   "version": "3.10.9"
  }
 },
 "nbformat": 4,
 "nbformat_minor": 5
}
