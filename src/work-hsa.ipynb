{
 "cells": [
  {
   "cell_type": "code",
   "execution_count": 7,
   "id": "d4364c55",
   "metadata": {},
   "outputs": [],
   "source": [
    "from hypergraphs import *"
   ]
  },
  {
   "cell_type": "code",
   "execution_count": 8,
   "id": "199b2487",
   "metadata": {},
   "outputs": [],
   "source": [
    "carbohydrateMetabolismPathways = [\"00010\",\"00020\",\"00030\",\"00040\",\"00051\",\"00052\",\"00053\",\"00500\",\"00520\",\"00620\",\"00630\",\"00640\",\"00650\",\"00660\",\"00562\"]"
   ]
  },
  {
   "cell_type": "code",
   "execution_count": 9,
   "id": "2316bcd8",
   "metadata": {},
   "outputs": [
    {
     "name": "stdout",
     "output_type": "stream",
     "text": [
      "Ignoring file ../../LaTeX/Data/hsa/hsa00660-sbml.xml, couldn't get a model out of it\n"
     ]
    }
   ],
   "source": [
    "H, sr2r, r2ss, rid2rname, mid2mname = read_hg_from_SBMLs([\"../../LaTeX/Data/hsa/hsa{}-sbml.xml\".format(x) for x in carbohydrateMetabolismPathways])"
   ]
  },
  {
   "cell_type": "code",
   "execution_count": 10,
   "id": "fc2550ef",
   "metadata": {},
   "outputs": [],
   "source": [
    "dd=hyper_cardon_crochemore(H)"
   ]
  },
  {
   "cell_type": "code",
   "execution_count": 11,
   "id": "80406061",
   "metadata": {},
   "outputs": [
    {
     "name": "stdout",
     "output_type": "stream",
     "text": [
      "{'rnR01639', 'rnR01529'}\n",
      "{'rnR00238', 'rnR01975', 'rnR00410'}\n",
      "{'rnR04779', 'rnR03321', 'rnR01819', 'rnR02740', 'rnR00768'}\n",
      "{'rnR01051', 'rnR01049', 'rnR01056', 'rnR01057'}\n",
      "{'rnR03469', 'rnR05795', 'rnR11680'}\n",
      "{'rnR04513', 'rnR09827'}\n",
      "{'rnR05800', 'rnR03433', 'rnR03394'}\n",
      "{'rnR00658', 'rnR00200'}\n",
      "{'rnR01518', 'rnR01512', 'rnR01516'}\n",
      "{'rnR01104', 'rnR01329'}\n",
      "{'rnR00658', 'rnR01518'}\n",
      "{'rnR01051', 'rnR01049', 'rnR01057'}\n",
      "{'rnR00289', 'rnR00959', 'rnR01660', 'rnR08639'}\n",
      "{'rnR00955', 'rnR00503', 'rnR00291'}\n",
      "{'rnR01104', 'rnR01329'}\n",
      "{'rnR02750', 'rnR02749'}\n",
      "{'rnR00754', 'rnR00746'}\n",
      "{'rnR00760', 'rnR00866', 'rnR00875', 'rnR00867'}\n",
      "{'rnR01392', 'rnR01221', 'rnR01394', 'rnR00945'}\n",
      "{'rnR01639', 'rnR01896'}\n",
      "{'rnR08639', 'rnR00771', 'rnR00303', 'rnR07324'}\n",
      "{'rnR01526', 'rnR01056', 'rnR01529'}\n",
      "{'rnR00405', 'rnR00432', 'rnR00833'}\n",
      "{'rnR02705', 'rnR01804', 'rnR01207'}\n",
      "{'rnR04435', 'rnR01805'}\n",
      "{'rnR02640', 'rnR02933'}\n",
      "{'rnR01070', 'rnR04780'}\n",
      "{'rnR00316', 'rnR00710', 'rnR00711', 'rnR00235'}\n",
      "{'rnR08193', 'rnR02059'}\n",
      "{'rnR00703', 'rnR00344', 'rnR00216', 'rnR00214'}\n",
      "{'rnR01904', 'rnR01431', 'rnR01896'}\n",
      "{'rnR05202', 'rnR03479'}\n",
      "{'rnR01325', 'rnR01900'}\n",
      "{'rnR03534', 'rnR00268', 'rnR00709', 'rnR01899'}\n",
      "{'rnR01900', 'rnR00709', 'rnR01899'}\n",
      "{'rnR01066', 'rnR01061', 'rnR01015'}\n",
      "{'rnR01641', 'rnR01827'}\n",
      "{'rnR03429', 'rnR03427', 'rnR03428'}\n",
      "{'rnR01207', 'rnR01201'}\n",
      "{'rnR01811', 'rnR01117'}\n",
      "{'rnR08193', 'rnR00416'}\n",
      "{'rnR01818', 'rnR00885'}\n",
      "{'rnR02739', 'rnR02736', 'rnR03321', 'rnR09086'}\n",
      "{'rnR00765', 'rnR02058'}\n",
      "{'rnR01788', 'rnR00959', 'rnR02740', 'rnR02739', 'rnR01786'}\n",
      "{'rnR01819', 'rnR01818', 'rnR11439'}\n",
      "{'rnR01904', 'rnR01431', 'rnR01430'}\n",
      "{'rnR01790', 'rnR02111', 'rnR02112'}\n",
      "{'rnR00292', 'rnR00289', 'rnR00286', 'rnR00291', 'rnR00287'}\n",
      "{'rnR01383', 'rnR01478'}\n",
      "{'rnR03393', 'rnR05801'}\n",
      "{'rnR03434', 'rnR03430'}\n",
      "{'rnR01602', 'rnR09086', 'rnR01600'}\n",
      "{'rnR01787', 'rnR00875'}\n",
      "{'rnR00888', 'rnR00885'}\n",
      "{'rnR04372', 'rnR03478'}\n",
      "{'rnR01184', 'rnR01802'}\n",
      "{'rnR01736', 'rnR02530', 'rnR02527'}\n",
      "{'rnR01383', 'rnR00286', 'rnR01384', 'rnR08615'}\n",
      "{'rnR10928', 'rnR12124'}\n",
      "{'rnR03361', 'rnR03362'}\n",
      "{'rnR02530', 'rnR02527'}\n",
      "{'rnR10183', 'rnR01648'}\n",
      "{'rnR00432', 'rnR00405', 'rnR02164'}\n",
      "{'rnR04215', 'rnR02921', 'rnR00908', 'rnR01000', 'rnR02957'}\n",
      "{'rnR04404', 'rnR03435', 'rnR04545'}\n",
      "{'rnR01481', 'rnR02640', 'rnR02933'}\n",
      "{'rnR00342', 'rnR00351'}\n",
      "{'rnR01082', 'rnR02164'}\n",
      "{'rnR01662', 'rnR01512', 'rnR01061'}\n",
      "{'rnR01662', 'rnR01516', 'rnR09532'}\n",
      "{'rnR00710', 'rnR00754', 'rnR00711', 'rnR00746'}\n",
      "{'rnR00316', 'rnR00236'}\n",
      "{'rnR10183', 'rnR00713', 'rnR01648'}\n",
      "{'rnR02750', 'rnR01066', 'rnR02749'}\n",
      "{'rnR01528', 'rnR10221'}\n",
      "{'rnR04432', 'rnR03045', 'rnR12356'}\n",
      "{'rnR02765', 'rnR00923'}\n",
      "{'rnR00926', 'rnR01354'}\n",
      "{'rnR00022', 'rnR01103', 'rnR01185', 'rnR01101', 'rnR00306', 'rnR01737', 'rnR01175'}\n",
      "{'rnR04432', 'rnR01859', 'rnR00926', 'rnR12356'}\n",
      "{'rnR00465', 'rnR00475'}\n",
      "{'rnR00100', 'rnR03330', 'rnR03688', 'rnR03920', 'rnR11262', 'rnR01176', 'rnR01961', 'rnR11441', 'rnR08967', 'rnR02887', 'rnR02334', 'rnR01519', 'rnR05549', 'rnR01206', 'rnR00253', 'rnR01718', 'rnR00317', 'rnR00935', 'rnR01334', 'rnR09979', 'rnR03634', 'rnR02731', 'rnR03527', 'rnR00009', 'rnR03161', 'rnR00010', 'rnR01959', 'rnR00261'}\n",
      "{'rnR00352', 'rnR01325', 'rnR00351'}\n",
      "{'rnR03045', 'rnR03158'}\n",
      "{'rnR00342', 'rnR00216', 'rnR00214', 'rnR01082'}\n",
      "{'rnR02765', 'rnR00833'}\n",
      "{'rnR05802', 'rnR03363'}\n",
      "{'rnR01602', 'rnR09085', 'rnR01788', 'rnR01787', 'rnR01786'}\n",
      "{'rnR03026', 'rnR01975'}\n",
      "{'rnR01361', 'rnR01357', 'rnR00410'}\n",
      "{'rnR00227', 'rnR00238', 'rnR00742', 'rnR00236'}\n",
      "{'rnR00352', 'rnR00351'}\n"
     ]
    }
   ],
   "source": [
    "showMapKeys(dd, onlyNonTrivial=True, keyadj=sr2r, prefOnly=\"r\", keyfamily=r2ss)"
   ]
  },
  {
   "cell_type": "code",
   "execution_count": 13,
   "id": "084e8336",
   "metadata": {},
   "outputs": [
    {
     "name": "stdout",
     "output_type": "stream",
     "text": [
      "{'C04063 (C04063)', 'C04477 (C04477)'}\n",
      "{'C11555 (C11555)', 'C01220 (C01220)'}\n",
      "{'C04520 (C04520)', 'C01204 (C01204)'}\n",
      "{'C00026 (C00026)', 'C05379 (C05379)'}\n",
      "{'C03033 (C03033)', 'C00190 (C00190)'}\n",
      "{'C00641 (C00641)', 'C05981 (C05981)'}\n",
      "{'C00119 (C00119)', 'C00121 (C00121)', 'C00620 (C00620)'}\n",
      "{'C00168 (C00168)', 'C00037 (C00037)'}\n",
      "{'C00014 (C00014)', 'C00258 (C00258)', 'C00065 (C00065)', 'C01146 (C01146)'}\n",
      "{'C00672 (C00672)', 'C01801 (C01801)'}\n",
      "{'C00181 (C00181)', 'C00312 (C00312)'}\n",
      "{'C18060 (C18060)', 'C00334 (C00334)'}\n",
      "{'C00232 (C00232)', 'C00203 (C00203)'}\n",
      "{'C00999 (C00999)', 'C05402 (C05402)', 'C00064 (C00064)', 'C01177 (C01177)', 'C01674 (C01674)', 'C20238 (C20238)', 'C21384 (C21384)', 'C00257 (C00257)', 'C03827 (C03827)', 'C00492 (C00492)', 'C00007 (C00007)', 'C00058 (C00058)', 'C00185 (C00185)', 'C00136 (C00136)'}\n",
      "{'C00198 (C00198)', 'C00227 (C00227)', 'C00665 (C00665)', 'C01935 (C01935)', 'C01083 (C01083)', 'C06002 (C06002)', 'C01898 (C01898)', 'C01720 (C01720)', 'C05404 (C05404)', 'C01019 (C01019)', 'C18026 (C18026)', 'C01613 (C01613)', 'C00027 (C00027)', 'C00252 (C00252)', 'C00996 (C00996)', 'C04062 (C04062)', 'C02336 (C02336)', 'C06049 (C06049)', 'C00246 (C00246)', 'C00025 (C00025)', 'C00461 (C00461)', 'C01132 (C01132)', 'C00988 (C00988)', 'C00963 (C00963)', 'C00329 (C00329)', 'C20934 (C20934)'}\n",
      "{'C00222 (C00222)', 'C05984 (C05984)', 'C00109 (C00109)', 'C03691 (C03691)', 'C01068 (C01068)', 'C02670 (C02670)', 'C00789 (C00789)', 'C00099 (C00099)', 'C00818 (C00818)', 'C03410 (C03410)'}\n",
      "{'C00116 (C00116)', 'C00159 (C00159)'}\n",
      "{'C05401 (C05401)', 'C05400 (C05400)'}\n",
      "{'C00937 (C00937)', 'C03451 (C03451)'}\n",
      "{'C01040 (C01040)', 'C00618 (C00618)'}\n"
     ]
    }
   ],
   "source": [
    "showMapKeys(dd, onlyNonTrivial=True, keydesc=mid2mname, prefOnly=\"C\")"
   ]
  },
  {
   "cell_type": "code",
   "execution_count": 14,
   "id": "3857f162",
   "metadata": {},
   "outputs": [
    {
     "data": {
      "text/plain": [
       "{1: 66, 2: 44, 3: 28, 5: 5, 4: 14, 7: 1, 28: 1}"
      ]
     },
     "execution_count": 14,
     "metadata": {},
     "output_type": "execute_result"
    }
   ],
   "source": [
    "classSizeDist(dd, prefOnly=\"r\", keyadj=sr2r)"
   ]
  },
  {
   "cell_type": "code",
   "execution_count": 15,
   "id": "46431abf",
   "metadata": {},
   "outputs": [
    {
     "data": {
      "text/plain": [
       "{1: 126, 2: 15, 3: 1, 4: 1, 14: 1, 26: 1, 10: 1}"
      ]
     },
     "execution_count": 15,
     "metadata": {},
     "output_type": "execute_result"
    }
   ],
   "source": [
    "classSizeDist(dd, prefOnly=\"C\")"
   ]
  },
  {
   "cell_type": "code",
   "execution_count": null,
   "id": "47f08124",
   "metadata": {},
   "outputs": [],
   "source": []
  }
 ],
 "metadata": {
  "kernelspec": {
   "display_name": "qf",
   "language": "python",
   "name": "qf"
  },
  "language_info": {
   "codemirror_mode": {
    "name": "ipython",
    "version": 3
   },
   "file_extension": ".py",
   "mimetype": "text/x-python",
   "name": "python",
   "nbconvert_exporter": "python",
   "pygments_lexer": "ipython3",
   "version": "3.7.5"
  }
 },
 "nbformat": 4,
 "nbformat_minor": 5
}
