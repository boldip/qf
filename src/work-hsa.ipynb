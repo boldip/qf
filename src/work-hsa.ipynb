{
 "cells": [
  {
   "cell_type": "code",
   "execution_count": 1,
   "id": "d4364c55",
   "metadata": {},
   "outputs": [],
   "source": [
    "from hypergraphs import *\n",
    "from kegg import *"
   ]
  },
  {
   "cell_type": "code",
   "execution_count": 2,
   "id": "199b2487",
   "metadata": {},
   "outputs": [],
   "source": [
    "superpathwayDict = {\n",
    "    \"Carbohydrate metabolism\":\n",
    "    [\n",
    "        (\"00010\", \"Glycolysis / Gluconeogenesis\"),\n",
    "        (\"00020\", \"Citrate cycle (TCA cycle)\"),\n",
    "        (\"00030\", \"Pentose phosphate pathway\"),\n",
    "        (\"00040\", \"Pentose and glucuronate interconversions\"),\n",
    "        (\"00051\", \"Fructose and mannose metabolism\"),\n",
    "        (\"00052\", \"Galactose metabolism\"),\n",
    "        (\"00053\", \"Ascorbate and aldarate metabolism\"),\n",
    "        (\"00500\", \"Starch and sucrose metabolism\"),\n",
    "        (\"00520\", \"Amino sugar and nucleotide sugar metabolism\"),\n",
    "        (\"00620\", \"Pyruvate metabolism\"),\n",
    "        (\"00630\", \"Glyoxylate and dicarboxylate metabolism\"),\n",
    "        (\"00640\", \"Propanoate metabolism\"),\n",
    "        (\"00650\", \"Butanoate metabolism\"),\n",
    "        (\"00562\", \"Inositol phosphate metabolism\")\n",
    "    ]\n",
    "}\n",
    "organismDict = {\"hsa\": \"Homo sapiens (human)\"}\n",
    "outputDirectory = \"/Users/boldi/Desktop/pw/\"\n",
    "dataDirectory = \"../../LaTeX/Data/KEGG-Pathways/hsa\""
   ]
  },
  {
   "cell_type": "code",
   "execution_count": 3,
   "id": "8defe1fd",
   "metadata": {},
   "outputs": [],
   "source": [
    "organism = \"hsa\"\n",
    "superpathway = \"Carbohydrate metabolism\""
   ]
  },
  {
   "cell_type": "code",
   "execution_count": 4,
   "id": "cb8e2d96",
   "metadata": {},
   "outputs": [],
   "source": [
    "safeSuperpathway = makesafe(superpathway)"
   ]
  },
  {
   "cell_type": "code",
   "execution_count": 5,
   "id": "2316bcd8",
   "metadata": {},
   "outputs": [
    {
     "name": "stderr",
     "output_type": "stream",
     "text": [
      "/Users/boldi/.local/share/virtualenvs/qf-BIT_cIX4/lib/python3.8/site-packages/hypernetx/classes/hypergraph.py:968: UserWarning: Cannot add edge. Edge already in hypergraph\n",
      "  warnings.warn(\"Cannot add edge. Edge already in hypergraph\")\n"
     ]
    }
   ],
   "source": [
    "H, sr2r, r2ss, rid2rname, mid2mname = read_hg_from_SBML([os.path.join(f\"{dataDirectory}\", f\"{organism}{x[0]}-sbml.xml\") for x in superpathwayDict[superpathway]])"
   ]
  },
  {
   "cell_type": "code",
   "execution_count": 6,
   "id": "fc2550ef",
   "metadata": {},
   "outputs": [],
   "source": [
    "dd=hyper_cardon_crochemore(H, proxy=sr2r)"
   ]
  },
  {
   "cell_type": "code",
   "execution_count": 7,
   "id": "80406061",
   "metadata": {},
   "outputs": [
    {
     "data": {
      "text/plain": [
       "[{'rnR04432', 'rnR12356'},\n",
       " {'rnR01648', 'rnR10183'},\n",
       " {'rnR01184', 'rnR01802'},\n",
       " {'rnR02527', 'rnR02530'},\n",
       " {'rnR00709', 'rnR01899'},\n",
       " {'rnR00227', 'rnR00742'},\n",
       " {'rnR01049', 'rnR01051', 'rnR01057'},\n",
       " {'rnR03363', 'rnR05802'},\n",
       " {'rnR00768', 'rnR04779'},\n",
       " {'rnR01431', 'rnR01904'},\n",
       " {'rnR03393', 'rnR05801'},\n",
       " {'rnR03430', 'rnR03434'},\n",
       " {'rnR03478', 'rnR04372'},\n",
       " {'rnR00405', 'rnR00432'},\n",
       " {'rnR00214', 'rnR00216'},\n",
       " {'rnR03427', 'rnR03428', 'rnR03429'},\n",
       " {'rnR00908', 'rnR01000', 'rnR02921', 'rnR02957', 'rnR04215'},\n",
       " {'rnR10928', 'rnR12124'},\n",
       " {'rnR02640', 'rnR02933'},\n",
       " {'rnR01790', 'rnR02111'},\n",
       " {'rnR03394', 'rnR03433', 'rnR05800'},\n",
       " {'rnR04513', 'rnR09827'},\n",
       " {'rnR03469', 'rnR05795', 'rnR11680'},\n",
       " {'rnR02749', 'rnR02750'},\n",
       " {'rnR00945', 'rnR01221', 'rnR01392', 'rnR01394'},\n",
       " {'rnR00022', 'rnR00306', 'rnR01103', 'rnR01175', 'rnR01185', 'rnR01737'},\n",
       " {'rnR00009',\n",
       "  'rnR00010',\n",
       "  'rnR00100',\n",
       "  'rnR00253',\n",
       "  'rnR00261',\n",
       "  'rnR00317',\n",
       "  'rnR00935',\n",
       "  'rnR01176',\n",
       "  'rnR01206',\n",
       "  'rnR01334',\n",
       "  'rnR01519',\n",
       "  'rnR01718',\n",
       "  'rnR01959',\n",
       "  'rnR01961',\n",
       "  'rnR02334',\n",
       "  'rnR02731',\n",
       "  'rnR03161',\n",
       "  'rnR03330',\n",
       "  'rnR03527',\n",
       "  'rnR03688',\n",
       "  'rnR03920',\n",
       "  'rnR08967',\n",
       "  'rnR09979',\n",
       "  'rnR11262',\n",
       "  'rnR11441'},\n",
       " {'rnR02887', 'rnR03634', 'rnR05549'},\n",
       " {'rnR01804', 'rnR02705'},\n",
       " {'rnR00765', 'rnR02058'},\n",
       " {'rnR04404', 'rnR04545'},\n",
       " {'rnR01786', 'rnR01788'},\n",
       " {'rnR00710', 'rnR00711'},\n",
       " {'rnR00746', 'rnR00754'},\n",
       " {'rnR01384', 'rnR08615'},\n",
       " {'rnR00287', 'rnR00292'},\n",
       " {'rnR00303', 'rnR07324'},\n",
       " {'rnR01528', 'rnR10221'},\n",
       " {'rnR00760', 'rnR00866', 'rnR00867'},\n",
       " {'rnR03361', 'rnR03362'},\n",
       " {'rnR01104', 'rnR01329'}]"
      ]
     },
     "execution_count": 7,
     "metadata": {},
     "output_type": "execute_result"
    }
   ],
   "source": [
    "mapKeys(dd, onlyNonTrivial=True, prefOnly=\"r\", keyfamily=r2ss)"
   ]
  },
  {
   "cell_type": "code",
   "execution_count": 8,
   "id": "084e8336",
   "metadata": {},
   "outputs": [
    {
     "data": {
      "text/plain": [
       "[{('C05400', 'C05400'), ('C05401', 'C05401')},\n",
       " {('C00334', 'C00334'), ('C18060', 'C18060')},\n",
       " {('C00026', 'C00026'), ('C05379', 'C05379')},\n",
       " {('C00672', 'C00672'), ('C01801', 'C01801')},\n",
       " {('C00119', 'C00119'), ('C00121', 'C00121'), ('C00620', 'C00620')},\n",
       " {('C00037', 'C00037'), ('C00168', 'C00168')},\n",
       " {('C01204', 'C01204'), ('C04520', 'C04520')},\n",
       " {('C00181', 'C00181'), ('C00312', 'C00312')},\n",
       " {('C00937', 'C00937'), ('C03451', 'C03451')},\n",
       " {('C00203', 'C00203'), ('C00232', 'C00232')},\n",
       " {('C04063', 'C04063'), ('C04477', 'C04477')},\n",
       " {('C00099', 'C00099'),\n",
       "  ('C00109', 'C00109'),\n",
       "  ('C00222', 'C00222'),\n",
       "  ('C00789', 'C00789'),\n",
       "  ('C00818', 'C00818'),\n",
       "  ('C01068', 'C01068'),\n",
       "  ('C02670', 'C02670'),\n",
       "  ('C03410', 'C03410'),\n",
       "  ('C03691', 'C03691'),\n",
       "  ('C05984', 'C05984')},\n",
       " {('C00618', 'C00618'), ('C01040', 'C01040')},\n",
       " {('C01220', 'C01220'), ('C11555', 'C11555')},\n",
       " {('C00014', 'C00014'),\n",
       "  ('C00065', 'C00065'),\n",
       "  ('C00258', 'C00258'),\n",
       "  ('C01146', 'C01146')},\n",
       " {('C00007', 'C00007'),\n",
       "  ('C00058', 'C00058'),\n",
       "  ('C00064', 'C00064'),\n",
       "  ('C00136', 'C00136'),\n",
       "  ('C00185', 'C00185'),\n",
       "  ('C00257', 'C00257'),\n",
       "  ('C00492', 'C00492'),\n",
       "  ('C00999', 'C00999'),\n",
       "  ('C01177', 'C01177'),\n",
       "  ('C01674', 'C01674'),\n",
       "  ('C03827', 'C03827'),\n",
       "  ('C05402', 'C05402'),\n",
       "  ('C20238', 'C20238'),\n",
       "  ('C21384', 'C21384')},\n",
       " {('C00025', 'C00025'),\n",
       "  ('C00027', 'C00027'),\n",
       "  ('C00198', 'C00198'),\n",
       "  ('C00227', 'C00227'),\n",
       "  ('C00246', 'C00246'),\n",
       "  ('C00252', 'C00252'),\n",
       "  ('C00329', 'C00329'),\n",
       "  ('C00461', 'C00461'),\n",
       "  ('C00665', 'C00665'),\n",
       "  ('C00963', 'C00963'),\n",
       "  ('C00988', 'C00988'),\n",
       "  ('C00996', 'C00996'),\n",
       "  ('C01019', 'C01019'),\n",
       "  ('C01083', 'C01083'),\n",
       "  ('C01132', 'C01132'),\n",
       "  ('C01613', 'C01613'),\n",
       "  ('C01720', 'C01720'),\n",
       "  ('C01898', 'C01898'),\n",
       "  ('C01935', 'C01935'),\n",
       "  ('C02336', 'C02336'),\n",
       "  ('C04062', 'C04062'),\n",
       "  ('C05404', 'C05404'),\n",
       "  ('C06002', 'C06002'),\n",
       "  ('C06049', 'C06049'),\n",
       "  ('C18026', 'C18026'),\n",
       "  ('C20934', 'C20934')},\n",
       " {('C00641', 'C00641'), ('C05981', 'C05981')},\n",
       " {('C00190', 'C00190'), ('C03033', 'C03033')},\n",
       " {('C00116', 'C00116'), ('C00159', 'C00159')}]"
      ]
     },
     "execution_count": 8,
     "metadata": {},
     "output_type": "execute_result"
    }
   ],
   "source": [
    "mapKeys(dd, onlyNonTrivial=True, keydesc=mid2mname, prefOnly=\"C\")"
   ]
  },
  {
   "cell_type": "code",
   "execution_count": 9,
   "id": "3857f162",
   "metadata": {},
   "outputs": [
    {
     "data": {
      "text/plain": [
       "{1: 132, 2: 31, 3: 6, 5: 1, 4: 1, 6: 1, 25: 1}"
      ]
     },
     "execution_count": 9,
     "metadata": {},
     "output_type": "execute_result"
    }
   ],
   "source": [
    "classSizeDist(dd, prefOnly=\"r\")"
   ]
  },
  {
   "cell_type": "code",
   "execution_count": 10,
   "id": "46431abf",
   "metadata": {},
   "outputs": [
    {
     "data": {
      "text/plain": [
       "{1: 126, 2: 15, 3: 1, 10: 1, 4: 1, 14: 1, 26: 1}"
      ]
     },
     "execution_count": 10,
     "metadata": {},
     "output_type": "execute_result"
    }
   ],
   "source": [
    "classSizeDist(dd, prefOnly=\"C\")"
   ]
  },
  {
   "cell_type": "code",
   "execution_count": 11,
   "id": "dc97297a",
   "metadata": {},
   "outputs": [],
   "source": [
    "index = []"
   ]
  },
  {
   "cell_type": "code",
   "execution_count": 12,
   "id": "e1870435",
   "metadata": {},
   "outputs": [],
   "source": [
    "writeKEGGHtml(dd, os.path.join(outputDirectory, organism, safeSuperpathway), safeSuperpathway + \"R\", \n",
    "              f\"{organismDict[organism]}, {superpathway}, Reactions group\",\n",
    "              onlyNonTrivial=True, prefOnly=\"r\", cutPref=\"rn\")\n",
    "index = [(f\"{safeSuperpathway}R-cont-0.html\", \"Reaction groups\")]"
   ]
  },
  {
   "cell_type": "code",
   "execution_count": 13,
   "id": "25edc873",
   "metadata": {},
   "outputs": [],
   "source": [
    "writeKEGGHtml(dd, os.path.join(outputDirectory, organism, safeSuperpathway), safeSuperpathway + \"C\", \n",
    "              f\"{organismDict[organism]}, {superpathway}, Compound group\",\n",
    "              onlyNonTrivial=True, prefOnly=\"C\", cutPref=\"\")\n",
    "index += [(f\"{safeSuperpathway}C-cont-0.html\", \"Compound groups\")]"
   ]
  },
  {
   "cell_type": "code",
   "execution_count": 14,
   "id": "b50d8ccc",
   "metadata": {},
   "outputs": [],
   "source": [
    "groupedReactions = mapKeys(dd, prefOnly=\"rn\")\n",
    "r2gr = {}\n",
    "r2grall = {}\n",
    "for i, reactions in enumerate(groupedReactions):\n",
    "    for reaction in reactions:\n",
    "        r2gr[reaction] = i\n",
    "        r2grall[reaction] = reactions"
   ]
  },
  {
   "cell_type": "code",
   "execution_count": 15,
   "id": "f1f72bcf",
   "metadata": {},
   "outputs": [],
   "source": [
    "groupedCompounds = mapKeys(dd, prefOnly=\"C\")\n",
    "c2gc = {}\n",
    "c2gcall = {}\n",
    "for i, compounds in enumerate(groupedCompounds):\n",
    "    for compound in compounds:\n",
    "        c2gc[compound] = i + len(groupedReactions)\n",
    "        c2gcall[compound] = compounds"
   ]
  },
  {
   "cell_type": "code",
   "execution_count": 16,
   "id": "9b3f3357",
   "metadata": {},
   "outputs": [],
   "source": [
    "index += writeKEGGpdf(outputDirectory, organism, superpathway, superpathwayDict, r2gr, r2grall, c2gc, c2gcall)"
   ]
  },
  {
   "cell_type": "code",
   "execution_count": 17,
   "id": "a1bbf009",
   "metadata": {},
   "outputs": [],
   "source": [
    "writeIndex(os.path.join(outputDirectory, organism, safeSuperpathway), index, \n",
    "           f\"{organismDict[organism]}, {superpathway}\")"
   ]
  },
  {
   "cell_type": "code",
   "execution_count": 18,
   "id": "ff1d485b",
   "metadata": {},
   "outputs": [],
   "source": [
    "with open(os.path.join(outputDirectory, organism, safeSuperpathway, \"data.pkl\"), \"wb\") as file:\n",
    "    pickle.dump([dd, sr2r, r2ss, rid2rname, mid2mname], file)"
   ]
  },
  {
   "cell_type": "code",
   "execution_count": 19,
   "id": "ddcb8bf8",
   "metadata": {},
   "outputs": [],
   "source": [
    "writeIndex(os.path.join(outputDirectory, organism), \n",
    "           [(\"{}/index.html\".format(makesafe(k)), k) for k in superpathwayDict.keys()],\n",
    "           f\"{organismDict[organism]}\")"
   ]
  },
  {
   "cell_type": "code",
   "execution_count": 20,
   "id": "8fcb987c",
   "metadata": {},
   "outputs": [],
   "source": [
    "writeIndex(os.path.join(outputDirectory), \n",
    "          [(f\"{k}/index.html\", v) for k,v in organismDict.items()],\n",
    "           \"Pathways\")"
   ]
  },
  {
   "cell_type": "code",
   "execution_count": 21,
   "id": "e4291bd7",
   "metadata": {},
   "outputs": [],
   "source": [
    "with open(os.path.join(outputDirectory, organism, safeSuperpathway, \"data.pkl\"), \"rb\") as file:\n",
    "    dd, sr2r, r2ss, rid2rname, mid2mname = pickle.load(file)"
   ]
  },
  {
   "cell_type": "code",
   "execution_count": null,
   "id": "4ba1d444",
   "metadata": {},
   "outputs": [],
   "source": []
  }
 ],
 "metadata": {
  "kernelspec": {
   "display_name": "qf",
   "language": "python",
   "name": "qf"
  },
  "language_info": {
   "codemirror_mode": {
    "name": "ipython",
    "version": 3
   },
   "file_extension": ".py",
   "mimetype": "text/x-python",
   "name": "python",
   "nbconvert_exporter": "python",
   "pygments_lexer": "ipython3",
   "version": "3.8.2"
  }
 },
 "nbformat": 4,
 "nbformat_minor": 5
}
