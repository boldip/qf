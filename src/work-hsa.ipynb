{
 "cells": [
  {
   "cell_type": "code",
   "execution_count": 1,
   "id": "d4364c55",
   "metadata": {},
   "outputs": [],
   "source": [
    "from hypergraphs import *"
   ]
  },
  {
   "cell_type": "code",
   "execution_count": 2,
   "id": "199b2487",
   "metadata": {},
   "outputs": [],
   "source": [
    "carbohydrateMetabolismPathways = [\"00010\",\"00020\",\"00030\",\"00040\",\"00051\",\"00052\",\"00053\",\"00500\",\"00520\",\"00620\",\"00630\",\"00640\",\"00650\",\"00660\",\"00562\"]"
   ]
  },
  {
   "cell_type": "code",
   "execution_count": 3,
   "id": "2316bcd8",
   "metadata": {},
   "outputs": [
    {
     "name": "stderr",
     "output_type": "stream",
     "text": [
      "/Users/boldi/.local/share/virtualenvs/qf-BIT_cIX4/lib/python3.8/site-packages/hypernetx/classes/hypergraph.py:968: UserWarning: Cannot add edge. Edge already in hypergraph\n",
      "  warnings.warn(\"Cannot add edge. Edge already in hypergraph\")\n"
     ]
    },
    {
     "name": "stdout",
     "output_type": "stream",
     "text": [
      "Ignoring file ../../LaTeX/Data/hsa/hsa00660-sbml.xml, couldn't get a model out of it\n"
     ]
    }
   ],
   "source": [
    "H, sr2r, r2ss, rid2rname, mid2mname = read_hg_from_SBML([\"../../LaTeX/Data/hsa/hsa{}-sbml.xml\".format(x) for x in carbohydrateMetabolismPathways])"
   ]
  },
  {
   "cell_type": "code",
   "execution_count": 4,
   "id": "fc2550ef",
   "metadata": {},
   "outputs": [],
   "source": [
    "dd=hyper_cardon_crochemore(H)"
   ]
  },
  {
   "cell_type": "code",
   "execution_count": 5,
   "id": "80406061",
   "metadata": {},
   "outputs": [
    {
     "name": "stdout",
     "output_type": "stream",
     "text": [
      "{'rnR01529', 'rnR01639'}\n",
      "{'rnR00238', 'rnR00410', 'rnR01975'}\n",
      "{'rnR01819', 'rnR02740', 'rnR00768', 'rnR04779', 'rnR03321'}\n",
      "{'rnR01057', 'rnR01051', 'rnR01049', 'rnR01056'}\n",
      "{'rnR03469', 'rnR05795', 'rnR11680'}\n",
      "{'rnR09827', 'rnR04513'}\n",
      "{'rnR03394', 'rnR05800', 'rnR03433'}\n",
      "{'rnR00200', 'rnR00658'}\n",
      "{'rnR01518', 'rnR01512', 'rnR01516'}\n",
      "{'rnR01104', 'rnR01329'}\n",
      "{'rnR01518', 'rnR00658'}\n",
      "{'rnR01057', 'rnR01051', 'rnR01049'}\n",
      "{'rnR08639', 'rnR00289', 'rnR00959', 'rnR01660'}\n",
      "{'rnR00955', 'rnR00503', 'rnR00291'}\n",
      "{'rnR01104', 'rnR01329'}\n",
      "{'rnR02750', 'rnR02749'}\n",
      "{'rnR00746', 'rnR00754'}\n",
      "{'rnR00867', 'rnR00866', 'rnR00760', 'rnR00875'}\n",
      "{'rnR00945', 'rnR01394', 'rnR01221', 'rnR01392'}\n",
      "{'rnR01896', 'rnR01639'}\n",
      "{'rnR07324', 'rnR08639', 'rnR00303', 'rnR00771'}\n",
      "{'rnR01526', 'rnR01529', 'rnR01056'}\n",
      "{'rnR00405', 'rnR00432', 'rnR00833'}\n",
      "{'rnR01804', 'rnR02705', 'rnR01207'}\n",
      "{'rnR01805', 'rnR04435'}\n",
      "{'rnR02640', 'rnR02933'}\n",
      "{'rnR04780', 'rnR01070'}\n",
      "{'rnR00710', 'rnR00711', 'rnR00316', 'rnR00235'}\n",
      "{'rnR08193', 'rnR02059'}\n",
      "{'rnR00703', 'rnR00214', 'rnR00216', 'rnR00344'}\n",
      "{'rnR01896', 'rnR01431', 'rnR01904'}\n",
      "{'rnR05202', 'rnR03479'}\n",
      "{'rnR01900', 'rnR01325'}\n",
      "{'rnR03534', 'rnR00268', 'rnR01899', 'rnR00709'}\n",
      "{'rnR01900', 'rnR01899', 'rnR00709'}\n",
      "{'rnR01061', 'rnR01015', 'rnR01066'}\n",
      "{'rnR01641', 'rnR01827'}\n",
      "{'rnR03429', 'rnR03428', 'rnR03427'}\n",
      "{'rnR01201', 'rnR01207'}\n",
      "{'rnR01117', 'rnR01811'}\n",
      "{'rnR08193', 'rnR00416'}\n",
      "{'rnR00885', 'rnR01818'}\n",
      "{'rnR03321', 'rnR02739', 'rnR02736', 'rnR09086'}\n",
      "{'rnR00765', 'rnR02058'}\n",
      "{'rnR01786', 'rnR02740', 'rnR02739', 'rnR01788', 'rnR00959'}\n",
      "{'rnR01819', 'rnR11439', 'rnR01818'}\n",
      "{'rnR01431', 'rnR01904', 'rnR01430'}\n",
      "{'rnR02112', 'rnR01790', 'rnR02111'}\n",
      "{'rnR00289', 'rnR00291', 'rnR00286', 'rnR00287', 'rnR00292'}\n",
      "{'rnR01478', 'rnR01383'}\n",
      "{'rnR05801', 'rnR03393'}\n",
      "{'rnR03434', 'rnR03430'}\n",
      "{'rnR01602', 'rnR01600', 'rnR09086'}\n",
      "{'rnR01787', 'rnR00875'}\n",
      "{'rnR00885', 'rnR00888'}\n",
      "{'rnR03478', 'rnR04372'}\n",
      "{'rnR01184', 'rnR01802'}\n",
      "{'rnR01736', 'rnR02527', 'rnR02530'}\n",
      "{'rnR08615', 'rnR01383', 'rnR01384', 'rnR00286'}\n",
      "{'rnR12124', 'rnR10928'}\n",
      "{'rnR03361', 'rnR03362'}\n",
      "{'rnR02527', 'rnR02530'}\n",
      "{'rnR10183', 'rnR01648'}\n",
      "{'rnR00405', 'rnR00432', 'rnR02164'}\n",
      "{'rnR00908', 'rnR02921', 'rnR02957', 'rnR04215', 'rnR01000'}\n",
      "{'rnR03435', 'rnR04404', 'rnR04545'}\n",
      "{'rnR02640', 'rnR02933', 'rnR01481'}\n",
      "{'rnR00351', 'rnR00342'}\n",
      "{'rnR01082', 'rnR02164'}\n",
      "{'rnR01061', 'rnR01662', 'rnR01512'}\n",
      "{'rnR01662', 'rnR01516', 'rnR09532'}\n",
      "{'rnR00710', 'rnR00711', 'rnR00746', 'rnR00754'}\n",
      "{'rnR00236', 'rnR00316'}\n",
      "{'rnR10183', 'rnR01648', 'rnR00713'}\n",
      "{'rnR02749', 'rnR02750', 'rnR01066'}\n",
      "{'rnR01528', 'rnR10221'}\n",
      "{'rnR12356', 'rnR03045', 'rnR04432'}\n",
      "{'rnR02765', 'rnR00923'}\n",
      "{'rnR00926', 'rnR01354'}\n",
      "{'rnR01737', 'rnR00022', 'rnR01101', 'rnR01185', 'rnR01175', 'rnR00306', 'rnR01103'}\n",
      "{'rnR00926', 'rnR12356', 'rnR04432', 'rnR01859'}\n",
      "{'rnR00475', 'rnR00465'}\n",
      "{'rnR01334', 'rnR00261', 'rnR05549', 'rnR09979', 'rnR00935', 'rnR03161', 'rnR02731', 'rnR01206', 'rnR01176', 'rnR11262', 'rnR03688', 'rnR03920', 'rnR11441', 'rnR03527', 'rnR02334', 'rnR01961', 'rnR00009', 'rnR00253', 'rnR08967', 'rnR00100', 'rnR03634', 'rnR00317', 'rnR02887', 'rnR00010', 'rnR01718', 'rnR03330', 'rnR01959', 'rnR01519'}\n",
      "{'rnR00351', 'rnR01325', 'rnR00352'}\n",
      "{'rnR03045', 'rnR03158'}\n",
      "{'rnR01082', 'rnR00216', 'rnR00214', 'rnR00342'}\n",
      "{'rnR00833', 'rnR02765'}\n",
      "{'rnR05802', 'rnR03363'}\n",
      "{'rnR01602', 'rnR01786', 'rnR09085', 'rnR01787', 'rnR01788'}\n",
      "{'rnR01975', 'rnR03026'}\n",
      "{'rnR00410', 'rnR01361', 'rnR01357'}\n",
      "{'rnR00238', 'rnR00227', 'rnR00236', 'rnR00742'}\n",
      "{'rnR00351', 'rnR00352'}\n"
     ]
    }
   ],
   "source": [
    "showMapKeys(dd, onlyNonTrivial=True, keyadj=sr2r, prefOnly=\"r\", keyfamily=r2ss)"
   ]
  },
  {
   "cell_type": "code",
   "execution_count": 6,
   "id": "084e8336",
   "metadata": {},
   "outputs": [
    {
     "name": "stdout",
     "output_type": "stream",
     "text": [
      "{'C04063 (C04063)', 'C04477 (C04477)'}\n",
      "{'C11555 (C11555)', 'C01220 (C01220)'}\n",
      "{'C04520 (C04520)', 'C01204 (C01204)'}\n",
      "{'C00026 (C00026)', 'C05379 (C05379)'}\n",
      "{'C00190 (C00190)', 'C03033 (C03033)'}\n",
      "{'C00641 (C00641)', 'C05981 (C05981)'}\n",
      "{'C00119 (C00119)', 'C00620 (C00620)', 'C00121 (C00121)'}\n",
      "{'C00168 (C00168)', 'C00037 (C00037)'}\n",
      "{'C00258 (C00258)', 'C00014 (C00014)', 'C01146 (C01146)', 'C00065 (C00065)'}\n",
      "{'C00672 (C00672)', 'C01801 (C01801)'}\n",
      "{'C00181 (C00181)', 'C00312 (C00312)'}\n",
      "{'C18060 (C18060)', 'C00334 (C00334)'}\n",
      "{'C00232 (C00232)', 'C00203 (C00203)'}\n",
      "{'C01177 (C01177)', 'C00492 (C00492)', 'C01674 (C01674)', 'C00058 (C00058)', 'C00185 (C00185)', 'C00007 (C00007)', 'C03827 (C03827)', 'C00999 (C00999)', 'C00064 (C00064)', 'C00136 (C00136)', 'C00257 (C00257)', 'C21384 (C21384)', 'C05402 (C05402)', 'C20238 (C20238)'}\n",
      "{'C01720 (C01720)', 'C00252 (C00252)', 'C05404 (C05404)', 'C06002 (C06002)', 'C20934 (C20934)', 'C00198 (C00198)', 'C00025 (C00025)', 'C02336 (C02336)', 'C01083 (C01083)', 'C01132 (C01132)', 'C01935 (C01935)', 'C01613 (C01613)', 'C06049 (C06049)', 'C04062 (C04062)', 'C00963 (C00963)', 'C01898 (C01898)', 'C00329 (C00329)', 'C01019 (C01019)', 'C00227 (C00227)', 'C00996 (C00996)', 'C00246 (C00246)', 'C18026 (C18026)', 'C00027 (C00027)', 'C00988 (C00988)', 'C00665 (C00665)', 'C00461 (C00461)'}\n",
      "{'C00789 (C00789)', 'C00818 (C00818)', 'C03691 (C03691)', 'C00222 (C00222)', 'C01068 (C01068)', 'C05984 (C05984)', 'C03410 (C03410)', 'C02670 (C02670)', 'C00099 (C00099)', 'C00109 (C00109)'}\n",
      "{'C00159 (C00159)', 'C00116 (C00116)'}\n",
      "{'C05400 (C05400)', 'C05401 (C05401)'}\n",
      "{'C03451 (C03451)', 'C00937 (C00937)'}\n",
      "{'C01040 (C01040)', 'C00618 (C00618)'}\n"
     ]
    }
   ],
   "source": [
    "showMapKeys(dd, onlyNonTrivial=True, keydesc=mid2mname, prefOnly=\"C\")"
   ]
  },
  {
   "cell_type": "code",
   "execution_count": 7,
   "id": "3857f162",
   "metadata": {},
   "outputs": [
    {
     "data": {
      "text/plain": [
       "{1: 66, 2: 44, 3: 28, 5: 5, 4: 14, 7: 1, 28: 1}"
      ]
     },
     "execution_count": 7,
     "metadata": {},
     "output_type": "execute_result"
    }
   ],
   "source": [
    "classSizeDist(dd, prefOnly=\"r\", keyadj=sr2r)"
   ]
  },
  {
   "cell_type": "code",
   "execution_count": 8,
   "id": "46431abf",
   "metadata": {},
   "outputs": [
    {
     "data": {
      "text/plain": [
       "{1: 126, 2: 15, 3: 1, 4: 1, 14: 1, 26: 1, 10: 1}"
      ]
     },
     "execution_count": 8,
     "metadata": {},
     "output_type": "execute_result"
    }
   ],
   "source": [
    "classSizeDist(dd, prefOnly=\"C\")"
   ]
  },
  {
   "cell_type": "code",
   "execution_count": 47,
   "id": "47f08124",
   "metadata": {},
   "outputs": [],
   "source": [
    "import math\n",
    "def writeKEGGHtml(m, dirname, basename, title, onlyNonTrivial = True, keyadj = None, \n",
    "                  prefOnly = \"\", cutPref=\"\", addHtmlPrefix=\"https://www.kegg.jp/entry/\", maxPerRow = 3):\n",
    "    \"\"\"\n",
    "    \"\"\"\n",
    "    pageCounter = 0\n",
    "    npages = len(set(m.values()))\n",
    "    for v in set(m.values()):\n",
    "        if keyadj is not None:\n",
    "            eqClass = set([keyadj[k] for k,w in m.items() if w==v and k.startswith(prefOnly)])\n",
    "        else:\n",
    "            eqClass = set([k for k,w in m.items() if w==v and k.startswith(prefOnly)])\n",
    "        if onlyNonTrivial and len(eqClass) <= 1:\n",
    "            continue\n",
    "        out = set([\"{}\".format(k) for k in eqClass])\n",
    "        outn = len(out)\n",
    "        rows = math.ceil(outn/maxPerRow)\n",
    "        fileName = \"{}-cont-{}.html\".format(basename, pageCounter)\n",
    "        prevName = \"{}-cont-{}.html\".format(basename, pageCounter - 1)\n",
    "        nextName = \"{}-cont-{}.html\".format(basename, pageCounter + 1)\n",
    "        headerName = \"{}-header-{}.html\".format(basename, pageCounter)\n",
    "        footerName = \"{}-footer-{}.html\".format(basename, pageCounter)\n",
    "        pageCounter += 1\n",
    "        with open(\"{}/{}\".format(dirname, fileName), \"w\") as file:\n",
    "            file.write(\"<!DOCTYPE html>\\n<html>\\n\\t<frameset rows=\\\"10%,\" +\n",
    "                \",\".join([\"*\"] * rows) +\n",
    "                \",10%\\\">\\n\")\n",
    "            file.write(\"\\n\\t\\t<frame src=\\\"\" + headerName + \"\\\">\\n\")\n",
    "            for i,element in enumerate(out):\n",
    "                if i % maxPerRow == 0:\n",
    "                    file.write(\"\\t\\t<frameset cols=\\\"\" +\n",
    "                        \",\".join([\"*\"] * maxPerRow) +\n",
    "                        \"\\\">\\n\")\n",
    "                file.write(\"\\t\\t\\t<frame src=\\\"{}{}\\\">\\n\".format(addHtmlPrefix, element[len(cutPref):]))\n",
    "                if (i + 1) % maxPerRow == 0 or i == outn - 1:\n",
    "                    file.write(\"\\t\\t</frameset>\\n\")\n",
    "            file.write(\"\\n\\t\\t<frame src=\\\"\" + footerName + \"\\\">\\n\")\n",
    "            file.write(\"\\n\\t</frameset>\\n</html>\")\n",
    "        with open(\"{}/{}\".format(dirname, headerName), \"w\") as file:\n",
    "            file.write(\"<!DOCTYPE html>\\n<html>\\n\\t<h1>{}{}</h1>\\n</html>\".format(title, pageCounter))\n",
    "        with open(\"{}/{}\".format(dirname, footerName), \"w\") as file:\n",
    "            if pageCounter == 1:\n",
    "                file.write(\"<!DOCTYPE html>\\n<html>\\n\" +\n",
    "                       \"\\t<table border=\\\"1\\\" style=\\\"margin-left: auto; margin-right: auto;\\\">\\n\" +\n",
    "                       \"\\t\\t<td style=\\\"padding: 10px;\\\"><a href=\\\"\" + nextName + \"\\\" target=\\\"_top\\\">Next</a></td>\\n\" +\n",
    "                       \"\\t</table>\\n\" +\n",
    "                       \"</html>\")\n",
    "            elif pageCounter == npages:\n",
    "                file.write(\"<!DOCTYPE html>\\n<html>\\n\" +\n",
    "                       \"\\t<table border=\\\"1\\\" style=\\\"margin-left: auto; margin-right: auto;\\\">\\n\" +\n",
    "                       \"\\t\\t<td style=\\\"padding: 10px;\\\"><a href=\\\"\" + prevName + \"\\\" target=\\\"_top\\\">Previous</a></td>\\n\" +\n",
    "                       \"\\t</table>\\n\" +\n",
    "                       \"</html>\")\n",
    "            else:\n",
    "                file.write(\"<!DOCTYPE html>\\n<html>\\n\" +\n",
    "                       \"\\t<table border=\\\"1\\\" style=\\\"margin-left: auto; margin-right: auto;\\\">\\n\" +\n",
    "                       \"\\t\\t<td style=\\\"padding: 10px;\\\"><a href=\\\"\" + prevName + \"\\\" target=\\\"_top\\\">Previous</a></td>\\n\" +\n",
    "                       \"\\t\\t<td style=\\\"padding: 10px;\\\"><a href=\\\"\" + nextName + \"\\\" target=\\\"_top\\\">Next</a></td>\\n\" +\n",
    "                       \"\\t</table>\\n\" +\n",
    "                       \"</html>\")\n"
   ]
  },
  {
   "cell_type": "code",
   "execution_count": 48,
   "id": "e1870435",
   "metadata": {},
   "outputs": [],
   "source": [
    "writeKEGGHtml(dd, \"hsa\", \"carboR\", \"Homo Sapiens, Carbohydrate metabolism, Reactions group \", onlyNonTrivial=True, keyadj=sr2r, prefOnly=\"r\", cutPref=\"rn\")"
   ]
  },
  {
   "cell_type": "code",
   "execution_count": 49,
   "id": "25edc873",
   "metadata": {},
   "outputs": [],
   "source": [
    "writeKEGGHtml(dd, \"hsa\", \"carboC\", \"Homo Sapiens, Carbohydrate metabolism, Compound group \", onlyNonTrivial=True, prefOnly=\"C\", cutPref=\"\")"
   ]
  },
  {
   "cell_type": "code",
   "execution_count": null,
   "id": "98c4d6c5",
   "metadata": {},
   "outputs": [],
   "source": []
  }
 ],
 "metadata": {
  "kernelspec": {
   "display_name": "qf",
   "language": "python",
   "name": "qf"
  },
  "language_info": {
   "codemirror_mode": {
    "name": "ipython",
    "version": 3
   },
   "file_extension": ".py",
   "mimetype": "text/x-python",
   "name": "python",
   "nbconvert_exporter": "python",
   "pygments_lexer": "ipython3",
   "version": "3.8.2"
  }
 },
 "nbformat": 4,
 "nbformat_minor": 5
}
