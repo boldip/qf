{
 "cells": [
  {
   "cell_type": "code",
   "execution_count": 1,
   "id": "d4364c55",
   "metadata": {},
   "outputs": [],
   "source": [
    "from hypergraphs import *\n",
    "from kegg import *"
   ]
  },
  {
   "cell_type": "code",
   "execution_count": 2,
   "id": "fa19c64c",
   "metadata": {},
   "outputs": [],
   "source": [
    "from bs4 import BeautifulSoup \n",
    "import pandas as pd"
   ]
  },
  {
   "cell_type": "code",
   "execution_count": 3,
   "id": "8fcb987c",
   "metadata": {},
   "outputs": [],
   "source": [
    "def getSampleAges(filename):\n",
    "    res = {}\n",
    "    with open(filename, \"r\") as file:\n",
    "        data = file.read()\n",
    "    bs_data = BeautifulSoup(data, 'xml') \n",
    "    samples = bs_data.find_all('Sample') \n",
    "    for sample in samples:\n",
    "        identifier = str(sample.find('Title').string).strip()\n",
    "        ages = sample.find('Characteristics', {'tag': 'age'})\n",
    "        res[identifier]=str(ages.string).strip()\n",
    "    return res"
   ]
  },
  {
   "cell_type": "code",
   "execution_count": 4,
   "id": "848ab309",
   "metadata": {},
   "outputs": [],
   "source": [
    "sample_ages = getSampleAges(\"../../LaTeX/Data/KEGG-Pathways/AgeDeregulation/mmu_1.xml\")"
   ]
  },
  {
   "cell_type": "code",
   "execution_count": 6,
   "id": "1d9c2b79",
   "metadata": {},
   "outputs": [],
   "source": [
    "def getGeneCount(filename, sheet_name, sample_column_names, gene_id_column):\n",
    "    df = pd.read_excel(filename, sheet_name = sheet_name)\n",
    "    df.rename(columns = {x: x.strip() for x in df.columns}, inplace=True)\n",
    "    gene_ids = df.loc[:, gene_id_column]\n",
    "    return gene_ids, {sample_column_name: df.loc[:, sample_column_name] \n",
    "            for sample_column_name in sample_column_names\n",
    "            if sample_column_name in df.columns},\n",
    "        "
   ]
  },
  {
   "cell_type": "code",
   "execution_count": 7,
   "id": "527c5e2f",
   "metadata": {},
   "outputs": [],
   "source": [
    "gn, df = getGeneCount(\"../../LaTeX/Data/KEGG-Pathways/AgeDeregulation/mmu_0.xls\", \"counts\",  sample_ages.keys(), \"external_gene_id\")"
   ]
  },
  {
   "cell_type": "code",
   "execution_count": 8,
   "id": "d0154c94",
   "metadata": {},
   "outputs": [
    {
     "data": {
      "text/plain": [
       "0              Gnai3\n",
       "1               Pbsn\n",
       "2              Cdc45\n",
       "3                H19\n",
       "4              Scml2\n",
       "            ...     \n",
       "37310     AC158600.6\n",
       "37311    AC169674.49\n",
       "37312     AC116875.1\n",
       "37313         Gm2964\n",
       "37314     AC158220.1\n",
       "Name: external_gene_id, Length: 37315, dtype: object"
      ]
     },
     "execution_count": 8,
     "metadata": {},
     "output_type": "execute_result"
    }
   ],
   "source": [
    "gn"
   ]
  },
  {
   "cell_type": "code",
   "execution_count": null,
   "id": "e99b4807",
   "metadata": {},
   "outputs": [],
   "source": []
  }
 ],
 "metadata": {
  "kernelspec": {
   "display_name": "qf",
   "language": "python",
   "name": "qf"
  },
  "language_info": {
   "codemirror_mode": {
    "name": "ipython",
    "version": 3
   },
   "file_extension": ".py",
   "mimetype": "text/x-python",
   "name": "python",
   "nbconvert_exporter": "python",
   "pygments_lexer": "ipython3",
   "version": "3.8.2"
  }
 },
 "nbformat": 4,
 "nbformat_minor": 5
}
