{
 "cells": [
  {
   "cell_type": "code",
   "execution_count": 6,
   "id": "d4364c55",
   "metadata": {},
   "outputs": [],
   "source": [
    "from hypergraphs import *\n",
    "from kegg import *\n",
    "import csv"
   ]
  },
  {
   "cell_type": "code",
   "execution_count": 77,
   "id": "1146bfd1",
   "metadata": {},
   "outputs": [],
   "source": [
    "deregulationDir=\"../../LaTeX/Data/KEGG-Pathways/AgeDeregulation/Glycol_First_Try/\"\n",
    "dataDirectory = \"../../LaTeX/Data/KEGG-Pathways/\"\n",
    "\n",
    "organismDict = {\"mmu\": \"Mus musculus (house mouse)\", \"dre\": \"Danio rerio (zebrafish)\", \"nfu\": \"Nothobranchius furzeri (turquoise killifish)\"}\n",
    "tissueList = [\"brain\", \"liver\", \"skin\"]"
   ]
  },
  {
   "cell_type": "code",
   "execution_count": 44,
   "id": "8fcb987c",
   "metadata": {},
   "outputs": [],
   "source": [
    "organism=\"nfu\"\n",
    "tissue=\"skin\"\n",
    "\n",
    "def getDeregulationMap(organism, tissues):\n",
    "    \"\"\"\n",
    "        Get deregulation map for a given organism (e.g., \"mmu\") and a specific tissue (e.g., \"skin\") or list\n",
    "        of tissues.\n",
    "        The map has reactions as keys (e.g., R00103) and its values are a sequence of lists (all of the same size); \n",
    "        each list contains the deregulation values at specific ages.\n",
    "    \"\"\"\n",
    "    der_map = {}\n",
    "    if type(tissues) is not list:\n",
    "        tissues = [tissues]\n",
    "    for tissue in tissues:\n",
    "        with open(os.path.join(deregulationDir,f\"{organism}_RPKM_{tissue}_00010_Normalized.txt\")) as f:\n",
    "            reader = csv.reader(f, delimiter=\"\\t\")\n",
    "            for line in reader:\n",
    "                reaction = \"rn\" + line[0][3:9]   # Duplicate reactions are kept with duplicate names\n",
    "                values = [float(t) for t in line[3:]]\n",
    "                if reaction not in der_map:\n",
    "                    der_map[reaction] = []\n",
    "                der_map[reaction] += [values]\n",
    "    return der_map"
   ]
  },
  {
   "cell_type": "code",
   "execution_count": 37,
   "id": "e99b4807",
   "metadata": {},
   "outputs": [],
   "source": [
    "H, sr2r, r2ss, rid2rname, mid2mname = read_hg_from_SBML([os.path.join(dataDirectory, organism, f\"{organism}00010-sbml.xml\")])\n",
    "G, dd = hg2g(H)"
   ]
  },
  {
   "cell_type": "code",
   "execution_count": 39,
   "id": "1bbe3bda",
   "metadata": {},
   "outputs": [],
   "source": [
    "centrality=nx.betweenness_centrality(G)\n"
   ]
  },
  {
   "cell_type": "code",
   "execution_count": 48,
   "id": "a1136b62",
   "metadata": {},
   "outputs": [
    {
     "data": {
      "text/plain": [
       "0.08718354430379747"
      ]
     },
     "execution_count": 48,
     "metadata": {},
     "output_type": "execute_result"
    }
   ],
   "source": [
    "np.average([centrality[k] for k in sr2r if sr2r[k]==\"rnR00658\"])"
   ]
  },
  {
   "cell_type": "code",
   "execution_count": 46,
   "id": "fa28d67d",
   "metadata": {},
   "outputs": [],
   "source": [
    "der_map = getDeregulationMap(\"nfu\", \"skin\")"
   ]
  },
  {
   "cell_type": "code",
   "execution_count": 72,
   "id": "a2e30fc6",
   "metadata": {},
   "outputs": [],
   "source": [
    "def average_deregulation(sr2r, centrality, der_map):\n",
    "    \"\"\"\n",
    "        For a given sr2r map (map from subreaction names to reactions, e.g., 'rnR00710_R' -> 'rnR00710'),\n",
    "        centrality (dictionary from reactions to centrality values), deregulation map (as returned by getDeregulationMap)\n",
    "        produce the average centrality * deregulation for each time point.\n",
    "    \"\"\"\n",
    "    n_age_points = len(der_map[next(iter(der_map))][0])\n",
    "    t = np.array([0.0] * n_age_points)\n",
    "    count = 0\n",
    "    for k, listvalues in der_map.items():\n",
    "        centr = np.average([centrality[kk] for kk in sr2r if sr2r[kk]==k]) # Centrality of reaction\n",
    "        if np.isnan(centr):\n",
    "            continue\n",
    "        dereg = [np.average([v[i] for v in listvalues]) for i in range(n_age_points)] # Deregulation values (one for each age)\n",
    "        s = centr*np.array(dereg)\n",
    "        count += 1\n",
    "        t += s\n",
    "    return t/count"
   ]
  },
  {
   "cell_type": "code",
   "execution_count": 89,
   "id": "16c2fd9e",
   "metadata": {},
   "outputs": [
    {
     "name": "stdout",
     "output_type": "stream",
     "text": [
      "Mus musculus (house mouse)              \t[13.88287034 13.48423308 14.55791181 13.98416059 13.8065526 ]\n",
      "Danio rerio (zebrafish)                 \t[ 9.78108459  9.99116108 10.49646622  9.73770804  9.0851725 ]\n",
      "Nothobranchius furzeri (turquoise killif\t[8.55653031 8.37344154 8.33470044 7.58287193 7.97215917]\n"
     ]
    }
   ],
   "source": [
    "for organism, organism_name in organismDict.items():\n",
    "    H, sr2r, r2ss, rid2rname, mid2mname = read_hg_from_SBML([os.path.join(dataDirectory, organism, f\"{organism}00010-sbml.xml\")])\n",
    "    G, dd = hg2g(H)\n",
    "    centrality = nx.betweenness_centrality(G)\n",
    "    avgd = average_deregulation(sr2r, centrality, getDeregulationMap(organism, \"brain\"))\n",
    "    print(f\"{organism_name:40.40}\\t{avgd}\")"
   ]
  },
  {
   "cell_type": "code",
   "execution_count": null,
   "id": "5410dd0d",
   "metadata": {},
   "outputs": [],
   "source": []
  }
 ],
 "metadata": {
  "kernelspec": {
   "display_name": "qf",
   "language": "python",
   "name": "qf"
  },
  "language_info": {
   "codemirror_mode": {
    "name": "ipython",
    "version": 3
   },
   "file_extension": ".py",
   "mimetype": "text/x-python",
   "name": "python",
   "nbconvert_exporter": "python",
   "pygments_lexer": "ipython3",
   "version": "3.9.16"
  }
 },
 "nbformat": 4,
 "nbformat_minor": 5
}
