{
 "cells": [
  {
   "cell_type": "code",
   "execution_count": 1,
   "id": "d4364c55",
   "metadata": {},
   "outputs": [],
   "source": [
    "from hypergraphs import *\n",
    "from kegg import *"
   ]
  },
  {
   "cell_type": "code",
   "execution_count": 2,
   "id": "fd849d15",
   "metadata": {},
   "outputs": [],
   "source": [
    "superpathwayDict = {\n",
    "    \"Carbohydrate metabolism\":\n",
    "[\n",
    "\t(\"00010\", \"Glycolysis / Gluconeogenesis\"),\n",
    "\t(\"00020\", \"Citrate cycle (TCA cycle)\"),\n",
    "\t(\"00030\", \"Pentose phosphate pathway\"),\n",
    "\t(\"00040\", \"Pentose and glucuronate interconversions\"),\n",
    "\t(\"00051\", \"Fructose and mannose metabolism\"),\n",
    "\t(\"00052\", \"Galactose metabolism\"),\n",
    "\t(\"00053\", \"Ascorbate and aldarate metabolism\"),\n",
    "\t(\"00500\", \"Starch and sucrose metabolism\"),\n",
    "\t(\"00520\", \"Amino sugar and nucleotide sugar metabolism\"),\n",
    "\t(\"00620\", \"Pyruvate metabolism\"),\n",
    "\t(\"00630\", \"Glyoxylate and dicarboxylate metaboliscm\"),\n",
    "\t(\"00640\", \"Propanoate metabolism\"),\n",
    "\t(\"00650\", \"Butanoate metabolism\"),\n",
    "\t(\"00562\", \"Inositol phosphate metabolism\")\n",
    "],\n",
    "\"Energy metabolism\":\n",
    "[\n",
    "\t(\"00190\", \"Oxidative phosphorylation\"),\n",
    "\t(\"00910\", \"Nitrogen metabolism\"),\n",
    "\t(\"00920\", \"Sulfur metabolism\")\n",
    "],\n",
    "\"Lipid metabolism\":\n",
    "[\t(\"00061\", \"Fatty acid biosynthesis\"),\n",
    "\t(\"00062\", \"Fatty acid elongation\"),\t\n",
    "\t(\"00071\", \"Fatty acid degradation\"),\n",
    "\t(\"00100\", \"Steroid biosynthesis\"),\t\n",
    "\t(\"00120\", \"Primary bile acid biosynthesis\"),\n",
    "\t(\"00140\", \"Steroid hormone biosynthesis\"),\n",
    "\t(\"00561\", \"Glycerolipid metabolism\"),\n",
    "\t(\"00564\", \"Glycerophospholipid metabolism\"),\n",
    "\t(\"00565\", \"Ether lipid metabolism\"),\n",
    "\t(\"00600\", \"Sphingolipid metabolism\"),\n",
    "\t(\"00590\", \"Arachidonic acid metabolism\"),\n",
    "\t(\"00591\", \"Linoleic acid metabolism\"),\n",
    "\t(\"00592\", \"alpha-Linolenic acid metabolism\"),\n",
    "\t(\"01040\", \"Biosynthesis of unsaturated fatty acids\")\n",
    "],\n",
    "\"Nucleotide metabolism\":\n",
    "[\n",
    "\t(\"00230\", \"Purine metabolism\"),\n",
    "\t(\"00240\", \"Pyrimidine metabolism\")\n",
    "],\n",
    "\"Amino acid metabolism\":\n",
    "[\n",
    "\t(\"00250\", \"Alanine, aspartate and glutamate metabolism\"),\n",
    "\t(\"00260\", \"Glycine, serine and threonine metabolism\"),\n",
    "\t(\"00270\", \"Cysteine and methionine metabolism\"),\n",
    "\t(\"00280\", \"Valine, leucine and isoleucine degradation\"),\n",
    "\t(\"00290\", \"Valine, leucine and isoleucine biosynthesis\"),\n",
    "\t(\"00310\", \"Lysine degradation\"),\n",
    "\t(\"00220\", \"Arginine biosynthesis\"),\n",
    "\t(\"00330\", \"Arginine and proline metabolism\"),\n",
    "\t(\"00340\", \"Histidine metabolism\"),\n",
    "\t(\"00350\", \"Tyrosine metabolism\"),\n",
    "\t(\"00360\", \"Phenylalanine metabolism\"),\n",
    "\t(\"00380\", \"Tryptophan metabolism\"),\n",
    "\t(\"00400\", \"Phenylalanine, tyrosine and tryptophan biosynthesis\")\n",
    "],\n",
    "\"Metabolism of other amino acids\":\n",
    "[\n",
    "\t(\"00410\", \"beta-Alanine metabolism\"),\n",
    "\t(\"00430\", \"Taurine and hypotaurine metabolism\"),\n",
    "\t(\"00440\", \"Phosphonate and phosphinate metabolism\"),\n",
    "\t(\"00450\", \"Selenocompound metabolism\"),\n",
    "\t(\"00470\", \"D-Amino acid metabolism\"),\n",
    "\t(\"00480\", \"Glutathione metabolism\")\n",
    "],\n",
    "\"Glycan biosynthesis and metabolism\":\n",
    "[\n",
    "\t(\"00510\", \"N-Glycan biosynthesis\"),\n",
    "\t(\"00513\", \"Various types of N-glycan biosynthesis\"),\n",
    "\t(\"00512\", \"Mucin type O-glycan biosynthesis\"),\n",
    "\t(\"00515\", \"Mannose type O-glycan biosynthesis\"),\n",
    "\t(\"00514\", \"Other types of O-glycan biosynthesis\"),\n",
    "\t(\"00532\", \"Glycosaminoglycan biosynthesis - chondroitin sulfate / dermatan sulfate\"),\n",
    "\t(\"00534\", \"Glycosaminoglycan biosynthesis - heparan sulfate / heparin\"),\n",
    "\t(\"00533\", \"Glycosaminoglycan biosynthesis - keratan sulfate\"),\n",
    "\t(\"00531\", \"Glycosaminoglycan degradation\"),\n",
    "\t(\"00563\", \"Glycosylphosphatidylinositol (GPI)-anchor biosynthesis\"),\n",
    "\t(\"00601\", \"Glycosphingolipid biosynthesis - lacto and neolacto series\"),\n",
    "\t(\"00603\", \"Glycosphingolipid biosynthesis - globo and isoglobo series\"),\n",
    "\t(\"00604\", \"Glycosphingolipid biosynthesis - ganglio series\"),\n",
    "\t(\"00511\", \"Other glycan degradation\")\n",
    "],\n",
    "\"Metabolism of cofactors and vitamins\":\n",
    "[\n",
    "\t(\"00730\", \"Thiamine metabolism\"),\n",
    "\t(\"00740\", \"Riboflavin metabolism\"),\n",
    "\t(\"00750\", \"Vitamin B6 metabolism\"),\n",
    "\t(\"00760\", \"Nicotinate and nicotinamide metabolism\"),\n",
    "\t(\"00770\", \"Pantothenate and CoA biosynthesis\"),\n",
    "\t(\"00780\", \"Biotin metabolism\"),\n",
    "\t(\"00785\", \"Lipoic acid metabolism\"),\n",
    "\t(\"00790\", \"Folate biosynthesis\"),\n",
    "\t(\"00670\", \"One carbon pool by folate\"),\n",
    "\t(\"00830\", \"Retinol metabolism\"),\n",
    "\t(\"00860\", \"Porphyrin metabolism\"),\n",
    "\t(\"00130\", \"Ubiquinone and other terpenoid-quinone biosynthesis\")\n",
    "],\n",
    "\"Metabolism of terpenoids and polyketides\":\n",
    "[\n",
    "\t(\"00900\", \"Terpenoid backbone biosynthesis\")\n",
    "],\n",
    "\"Biosynthesis of other secondary metabolites\":\n",
    "[\n",
    "\t(\"00232\", \"Caffeine metabolism\"),\n",
    "\t(\"00524\", \"Neomycin, kanamycin and gentamicin biosynthesis\")\n",
    "],\n",
    "\"Xenobiotics biodegradation and metabolism\":\n",
    "[\n",
    "\t(\"00980\", \"Metabolism of xenobiotics by cytochrome P450\"),\n",
    "\t(\"00982\", \"Drug metabolism - cytochrome P450\"),\n",
    "\t(\"00983\", \"Drug metabolism - other enzymes\")\n",
    "]\n",
    "}"
   ]
  },
  {
   "cell_type": "code",
   "execution_count": 3,
   "id": "0c93ea88",
   "metadata": {},
   "outputs": [],
   "source": [
    "organismDict = {\"mmu\": \"Mus musculus (house mouse)\", \"dre\": \"Danio rerio (zebrafish)\", \"nfu\": \"Nothobranchius furzeri (turquoise killifish)\"}"
   ]
  },
  {
   "cell_type": "code",
   "execution_count": 4,
   "id": "e45e283f",
   "metadata": {},
   "outputs": [],
   "source": [
    "outputDirectory = \"/Users/boldi/Desktop/pw/\"\n",
    "dataDirectory = \"../../LaTeX/Data/KEGG-Pathways/\""
   ]
  },
  {
   "cell_type": "code",
   "execution_count": 5,
   "id": "8c5928c8",
   "metadata": {},
   "outputs": [
    {
     "name": "stderr",
     "output_type": "stream",
     "text": [
      "/Users/boldi/.local/share/virtualenvs/qf-BIT_cIX4/lib/python3.8/site-packages/hypernetx/classes/hypergraph.py:968: UserWarning: Cannot add edge. Edge already in hypergraph\n",
      "  warnings.warn(\"Cannot add edge. Edge already in hypergraph\")\n"
     ]
    },
    {
     "name": "stdout",
     "output_type": "stream",
     "text": [
      "Pathway ('00190', 'Oxidative phosphorylation') could not be downloaded: ignoring\n"
     ]
    },
    {
     "name": "stderr",
     "output_type": "stream",
     "text": [
      "\n",
      "KeyboardInterrupt\n",
      "\n"
     ]
    }
   ],
   "source": [
    "for organism in organismDict.keys():\n",
    "    for superpathway in superpathwayDict.keys():\n",
    "        safeSuperpathway = makesafe(superpathway)\n",
    "        H, sr2r, r2ss, rid2rname, mid2mname = read_hg_from_SBML(\n",
    "            [os.path.join(dataDirectory, organism, f\"{organism}{x[0]}-sbml.xml\") for x in superpathwayDict[superpathway]])\n",
    "        dd=hyper_cardon_crochemore(H, proxy=sr2r)\n",
    "        \n",
    "        groupedReactions = mapKeys(dd, prefOnly=\"rn\")\n",
    "        r2gr = {}\n",
    "        r2grall = {}\n",
    "        for i, reactions in enumerate(groupedReactions):\n",
    "            for reaction in reactions:\n",
    "                r2gr[reaction] = i\n",
    "                r2grall[reaction] = reactions\n",
    "                \n",
    "        groupedCompounds = mapKeys(dd, prefOnly=\"C\")\n",
    "        c2gc = {}\n",
    "        c2gcall = {}\n",
    "        for i, compounds in enumerate(groupedCompounds):\n",
    "            for compound in compounds:\n",
    "                c2gc[compound] = i + len(groupedReactions)\n",
    "                c2gcall[compound] = compounds\n",
    "                \n",
    "        writeKEGGHtml(dd, os.path.join(outputDirectory, organism, safeSuperpathway), safeSuperpathway + \"R\", \n",
    "              f\"{organismDict[organism]}, {superpathway}, Reactions group\",\n",
    "              onlyNonTrivial=True, prefOnly=\"r\", cutPref=\"rn\")\n",
    "        index = [(f\"{safeSuperpathway}R-cont-0.html\", \"Reaction groups\")]\n",
    "        writeKEGGHtml(dd, os.path.join(outputDirectory, organism, safeSuperpathway), safeSuperpathway + \"C\", \n",
    "              f\"{organismDict[organism]}, {superpathway}, Compound group\",\n",
    "              onlyNonTrivial=True, prefOnly=\"C\", cutPref=\"\")\n",
    "        index += [(f\"{safeSuperpathway}C-cont-0.html\", \"Compound groups\")]\n",
    "        \n",
    "        index += writeKEGGpdf(outputDirectory, organism, superpathway, superpathwayDict, r2gr, r2grall, c2gc, c2gcall)\n",
    "        \n",
    "        writeIndex(os.path.join(outputDirectory, organism, safeSuperpathway), index, \n",
    "           f\"{organismDict[organism]}, {superpathway}\")\n",
    "        \n",
    "        with open(os.path.join(outputDirectory, organism, safeSuperpathway, \"data.pkl\"), \"wb\") as file:\n",
    "            pickle.dump([dd, sr2r, r2ss, rid2rname, mid2mname], file)\n",
    "    \n",
    "    writeIndex(os.path.join(outputDirectory, organism), \n",
    "           [(\"{}/index.html\".format(makesafe(k)), k) for k in superpathwayDict.keys()],\n",
    "           f\"{organismDict[organism]}\")\n",
    "    \n",
    "writeIndex(os.path.join(outputDirectory), \n",
    "          [(f\"{k}/index.html\", v) for k,v in organismDict.items()],\n",
    "           \"Pathways\")"
   ]
  },
  {
   "cell_type": "code",
   "execution_count": null,
   "id": "8fcb987c",
   "metadata": {},
   "outputs": [],
   "source": [
    "H.nodes"
   ]
  },
  {
   "cell_type": "code",
   "execution_count": 6,
   "id": "848ab309",
   "metadata": {},
   "outputs": [],
   "source": [
    "organism=\"mmu\"\n",
    "superpathway=\"Lipid metabolism\"\n",
    "H, sr2r, r2ss, rid2rname, mid2mname = read_hg_from_SBML(\n",
    "            [os.path.join(dataDirectory, organism, f\"{organism}{x[0]}-sbml.xml\") for x in superpathwayDict[superpathway]])"
   ]
  },
  {
   "cell_type": "code",
   "execution_count": 7,
   "id": "10764ce3",
   "metadata": {},
   "outputs": [
    {
     "data": {
      "text/plain": [
       "EntitySet(:Nodes,['C02373', 'C04233', 'C00695', 'C05465', 'C21072', 'C06423', 'C02679', 'C05290', 'C02538', 'C00735', 'C00040_1', 'C00422', 'C06126', 'C00674', 'C21939', 'C11508', 'C02041', 'C05444', 'C01561', 'C00951', 'C04317', 'C05439', 'C05485', 'C21935', 'C03681', 'C00535', 'C04554', 'C14774', 'C05744_1', 'C05446', 'C06424', 'C00570', 'C00410', 'C05479', 'C03917', 'C14748', 'C01194', 'C16162_1', 'C15647', 'C05107', 'C05749', 'C13712', 'C12145', 'C00184', 'C14772', 'C04742', 'C01953', 'C17335', 'C00751', 'C06425', 'C01144', 'C05977', 'C15783', 'C15614', 'C14771', 'C01189', 'C00065', 'C14812', 'C05466', 'C14775', 'C15781', 'C01885', 'C05262', 'C05266', 'C05302', 'C00093', 'C03852', 'C22136', 'C00249', 'C06124', 'C06127', 'C01802', 'C05747', 'C05285', 'C04633', 'C01724', 'C16167', 'C16335', 'C05744', 'C00712', 'C01944', 'C00136', 'C05755', 'C05452', 'C05447', 'C03819', 'C00468', 'C04308', 'C00226', 'C00836', 'C05301', 'C05259', 'C03820', 'C17345', 'C05973', 'C00040', 'C00344', 'C04517', 'C18041', 'C17343', 'C00346', 'C11133', 'C05756', 'C05295', 'C01241', 'C00280', 'C15613', 'C04475', 'C15519', 'C16180', 'C14770', 'C16169', 'C00588', 'C16339', 'C17331', 'C00412', 'C16171', 'C02593', 'C15610', 'C03547', 'C21106', 'C13550', 'C04620', 'C18045', 'C03845', 'C03454', 'C05108', 'C00527', 'C04373', 'C04805', 'C05140', 'C00640', 'C04619', 'C14777', 'C00641', 'C05268', 'C04635', 'C05212', 'C16334', 'C15645', 'C14808', 'C05956', 'C05965', 'C05469', 'C05443', 'C14769', 'C18044', 'C15776', 'C05272', 'C05271', 'C00264', 'C01301', 'C15518', 'C16179', 'C05503', 'C00909', 'C14749', 'C05467', 'C03892', 'C11135', 'C18125', 'C05951', 'C05980', 'C05299', 'C05960', 'C05500', 'C16327', 'C05298', 'C05487', 'C00513', 'C05501', 'C00154', 'C00307', 'C00670', 'C05275', 'C00195', 'C05502', 'C12126', 'C16219', 'C00510_1', 'C11134', 'C05478', 'C17339', 'C15915', 'C04707', 'C03221', 'C20877', 'C14773', 'C18040', 'C00010', 'C05284', 'C00696', 'C05760', 'C16331', 'C05750', 'C05762', 'C02934', 'C11132', 'C05473', 'C05356', 'C05260', 'C03715', 'C02737', 'C00639', 'C05280', 'C16336', 'C15808', 'C02530', 'C01789', 'C02165', 'C04618', 'C00416', 'C14781', 'C05752', 'C22467', 'C05761', 'C20876', 'C11455', 'C00269', 'C14782', 'C00693', 'C05758', 'C00877', 'C01164', 'C05451', 'C04518', 'C05966', 'C06128', 'C00071', 'C05453', 'C05498', 'C11131', 'C05297', 'C02686', 'C01120', 'C14810', 'C05476', 'C02050', 'C05223', 'C03205', 'C04438', 'C05488', 'C00084', 'C02249', 'C05753', 'C05265', 'C14825', 'C01673', 'C14826', 'C08821', 'C11522', 'C04598', 'C04717', 'C16163', 'C16164', 'C05264', 'C05764', 'C05759', 'C17333', 'C01271', 'C01227', 'C00245', 'C05139', 'C01595', 'C01571', 'C05258', 'C05273', 'C20878', 'C00383', 'C05490', 'C01832', 'C16332', 'C04246', 'C20879', 'C03594', 'C01290', 'C07712', 'C05437', 'C05337', 'C12144', 'C15816', 'C00427', 'C18042', 'C05454', 'C00083', 'C06427', 'C03201', 'C03372', 'C01233', 'C01996', 'C02990', 'C05141', 'C04722', 'C01794', 'C05460', 'C00584', 'C15520', 'C03939', 'C05746', 'C18038', 'C00631', 'C18126', 'C14768', 'C01921', 'C00116', 'C17332', 'C00111', 'C00154_1', 'C00024', 'C00550', 'C05757', 'C05103', 'C01780', 'C20859', 'C03428', 'C03692', 'C00658', 'C02528', 'C05279', 'C00189', 'C04688', 'C00577', 'C05274', 'C06125', 'C05748', 'C18129', 'C16530', 'C14813', 'C16172', 'C01054', 'C02198', 'C04295', 'C00332', 'C03405', 'C18231', 'C05276', 'C17337', 'C05269', 'C16338', 'C15777', 'C00523', 'C05261', 'C04230', 'C06341', 'C14823', 'C00350', 'C06037', 'C22112', 'C05138', 'C05497', 'C03595', 'C02843', 'C16162', 'C05270', 'C05122', 'C00114', 'C06429', 'C15782', 'C05471', 'C05448', 'C00187', 'C05294', 'C03035', 'C14807', 'C00681', 'C00762', 'C15780', 'C06426', 'C00173', 'C00510', 'C05974', 'C00219', 'C05763', 'C01530', 'C05489', 'C00319', 'C03772', 'C03242', 'C00162', 'C05751', 'C05109', 'C02140', 'C04756', 'C00448', 'C05293', 'C16165', 'C00037', 'C01209', 'C02960', 'C16330', 'C17346', 'C05754', 'C06428', 'C16168', 'C14814', 'C18043', 'C00229', 'C15646', 'C21937', 'C02166', 'C05499', 'C16300', 'C00258', 'C14778', 'C11136', 'C02050_1', 'C21943', 'C05263', 'C01943', 'C05504', 'C16328', 'C00157', 'C01753', 'C05300', 'C05745', 'C05267', 'C01176', 'C05449', 'C17336', 'C01312', 'C05455', 'C01190', 'C00638', 'C04555', 'C20825', 'C05445'],{'weight': 1.0})"
      ]
     },
     "execution_count": 7,
     "metadata": {},
     "output_type": "execute_result"
    }
   ],
   "source": [
    "H.nodes"
   ]
  },
  {
   "cell_type": "code",
   "execution_count": 11,
   "id": "3ecac452",
   "metadata": {},
   "outputs": [],
   "source": [
    "document = libsbml.readSBMLFromFile(os.path.join(dataDirectory, organism, f\"mmu00590-sbml.xml\"))\n",
    "model = document.getModel()"
   ]
  },
  {
   "cell_type": "code",
   "execution_count": 24,
   "id": "6e996815",
   "metadata": {},
   "outputs": [
    {
     "name": "stdout",
     "output_type": "stream",
     "text": [
      "<ModifierSpeciesReference mod_rnR07053 \"mod_rnR07053\">\n"
     ]
    }
   ],
   "source": [
    "for i in range(model.getNumReactions()):\n",
    "    reaction = model.getReaction(i)\n",
    "    if reaction.name==\"rn:R07053\":\n",
    "        print(reaction.getListOfModifiers()[0])"
   ]
  },
  {
   "cell_type": "code",
   "execution_count": null,
   "id": "8998c4bd",
   "metadata": {},
   "outputs": [],
   "source": []
  }
 ],
 "metadata": {
  "kernelspec": {
   "display_name": "qf",
   "language": "python",
   "name": "qf"
  },
  "language_info": {
   "codemirror_mode": {
    "name": "ipython",
    "version": 3
   },
   "file_extension": ".py",
   "mimetype": "text/x-python",
   "name": "python",
   "nbconvert_exporter": "python",
   "pygments_lexer": "ipython3",
   "version": "3.8.2"
  }
 },
 "nbformat": 4,
 "nbformat_minor": 5
}
