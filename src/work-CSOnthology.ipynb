{
 "cells": [
  {
   "cell_type": "code",
   "execution_count": 3,
   "id": "d4364c55",
   "metadata": {},
   "outputs": [],
   "source": [
    "from hypergraphs import *"
   ]
  },
  {
   "cell_type": "code",
   "execution_count": 5,
   "id": "3d0572e6",
   "metadata": {},
   "outputs": [],
   "source": [
    "H = read_hg_from_csv(\"../../LaTeX/Data/CSO.3.3.csv\", 1000)\n",
    "c = hyper_cardon_crochemore(H, nodes_only=True)"
   ]
  },
  {
   "cell_type": "code",
   "execution_count": 7,
   "id": "7fc95b3f",
   "metadata": {},
   "outputs": [
    {
     "name": "stdout",
     "output_type": "stream",
     "text": [
      "{'<https://cso.kmi.open.ac.uk/topics/decision_diagram>', '<https://cso.kmi.open.ac.uk/topics/decision_diagrams>'}\n",
      "{'<https://cso.kmi.open.ac.uk/topics/boolean_satisfiability>', '<https://cso.kmi.open.ac.uk/topics/sat>'}\n",
      "{'<https://cso.kmi.open.ac.uk/topics/propositional_satisfiability>', '<https://cso.kmi.open.ac.uk/topics/clause_learning>', '<https://cso.kmi.open.ac.uk/topics/boolean_formulae>', '<https://cso.kmi.open.ac.uk/topics/sat_instances>'}\n",
      "{'<https://cso.kmi.open.ac.uk/topics/laser_induced>', '<https://cso.kmi.open.ac.uk/topics/fluences>', '<https://cso.kmi.open.ac.uk/topics/repetition_rate>', '<https://cso.kmi.open.ac.uk/topics/business_intelligence_systems>', '<https://cso.kmi.open.ac.uk/topics/manifold_learning>'}\n",
      "{'<https://cso.kmi.open.ac.uk/topics/pulse_repetition_rate>', '<https://cso.kmi.open.ac.uk/topics/pulse_energies>'}\n",
      "{'<https://cso.kmi.open.ac.uk/topics/pulse_amplifiers>', '<https://cso.kmi.open.ac.uk/topics/mode-locked_fiber_lasers>'}\n",
      "{'<https://cso.kmi.open.ac.uk/topics/femtoseconds>', '<https://cso.kmi.open.ac.uk/topics/femtosecond_laser>', '<https://cso.kmi.open.ac.uk/topics/femtosecond>', '<https://cso.kmi.open.ac.uk/topics/femto-second_laser>'}\n",
      "{'<https://cso.kmi.open.ac.uk/topics/dimensionality_reduction>', '<https://cso.kmi.open.ac.uk/topics/pulse_durations>', '<https://cso.kmi.open.ac.uk/topics/business_rules>', '<https://cso.kmi.open.ac.uk/topics/nonlinear_absorptions>', '<https://cso.kmi.open.ac.uk/topics/two_photon_processes>', '<https://cso.kmi.open.ac.uk/topics/service_management>', '<https://cso.kmi.open.ac.uk/topics/ultrafast_phenomena>', '<https://cso.kmi.open.ac.uk/topics/top_management_support>', '<https://cso.kmi.open.ac.uk/topics/artificial_intelligence>', '<https://cso.kmi.open.ac.uk/topics/strategic_management>', '<https://cso.kmi.open.ac.uk/topics/genetic-fuzzy>', '<https://cso.kmi.open.ac.uk/topics/gear>', '<https://cso.kmi.open.ac.uk/topics/laser_damage>', '<https://cso.kmi.open.ac.uk/topics/industrial_automation_system>', '<https://cso.kmi.open.ac.uk/topics/helical_gears>', '<https://cso.kmi.open.ac.uk/topics/biomedical_text>', '<https://cso.kmi.open.ac.uk/topics/action_recognition>', '<https://cso.kmi.open.ac.uk/topics/numerical_analysis%2C_computer-assisted>', '<https://cso.kmi.open.ac.uk/topics/wave_theory>', '<https://cso.kmi.open.ac.uk/topics/customer_information>', '<https://cso.kmi.open.ac.uk/topics/peak_power>', '<https://cso.kmi.open.ac.uk/topics/subtraction_technique>', '<https://cso.kmi.open.ac.uk/topics/microwave_signals>', '<https://cso.kmi.open.ac.uk/topics/ultrashort_impulse_signals>', '<https://cso.kmi.open.ac.uk/topics/gait_recognition>', '<https://cso.kmi.open.ac.uk/topics/pico-second_pulse>', '<https://cso.kmi.open.ac.uk/topics/laser_systems>', '<https://cso.kmi.open.ac.uk/topics/business_intelligence>'}\n",
      "{'<https://cso.kmi.open.ac.uk/topics/ultrashort_pulses>', '<https://cso.kmi.open.ac.uk/topics/microwave_photonics>', '<https://cso.kmi.open.ac.uk/topics/computer_science>', '<https://cso.kmi.open.ac.uk/topics/electromagnetic_%28em%29>', '<http://cso.kmi.open.ac.uk/schema/cso#superTopicOf>', '<https://cso.kmi.open.ac.uk/topics/automated_pattern_recognition>', '<https://cso.kmi.open.ac.uk/topics/spur_gears>', '<https://cso.kmi.open.ac.uk/topics/genetic_fuzzy_systems>', '<https://cso.kmi.open.ac.uk/topics/biomedical_literature>', '<https://cso.kmi.open.ac.uk/topics/industrial_automation>', '<https://cso.kmi.open.ac.uk/topics/management_science>', '<http://cso.kmi.open.ac.uk/schema/cso#contributesTo>', '<http://cso.kmi.open.ac.uk/schema/cso#relatedEquivalent>'}\n",
      "{'<https://cso.kmi.open.ac.uk/topics/bam_neural_network>', '<https://cso.kmi.open.ac.uk/topics/m-matrix>'}\n",
      "{'<https://cso.kmi.open.ac.uk/topics/linear_cryptanalysis>', '<https://cso.kmi.open.ac.uk/topics/cohen-grossberg_neural_networks>'}\n",
      "{'<https://cso.kmi.open.ac.uk/topics/delay-dependent_robust_stability>', '<https://cso.kmi.open.ac.uk/topics/guaranteed_cost>'}\n",
      "{'<https://cso.kmi.open.ac.uk/topics/satisfiability_problems>', '<https://cso.kmi.open.ac.uk/topics/satisfiability_problem>'}\n",
      "{'<https://cso.kmi.open.ac.uk/topics/satisfiability_modulo_theories>', '<https://cso.kmi.open.ac.uk/topics/sat_solvers>'}\n",
      "{'<https://cso.kmi.open.ac.uk/topics/model_checking_problem>', '<https://cso.kmi.open.ac.uk/topics/linear_temporal_logic>'}\n",
      "{'<https://cso.kmi.open.ac.uk/topics/quantified_boolean_formulas>', '<https://cso.kmi.open.ac.uk/topics/satisfying_assignments>', '<https://cso.kmi.open.ac.uk/topics/cnf_formulas>', '<https://cso.kmi.open.ac.uk/topics/bounded_model_checking>'}\n",
      "{'<https://cso.kmi.open.ac.uk/topics/temporal_operators>', '<https://cso.kmi.open.ac.uk/topics/model_checking_tools>', '<https://cso.kmi.open.ac.uk/topics/model_checking_algorithm>'}\n",
      "{'<https://cso.kmi.open.ac.uk/topics/fuzzy_decision_trees>', '<https://cso.kmi.open.ac.uk/topics/fuzzy_decision_tree>'}\n",
      "{'<https://cso.kmi.open.ac.uk/topics/query_rewritings>', '<https://cso.kmi.open.ac.uk/topics/query_rewriting>'}\n",
      "{'<https://cso.kmi.open.ac.uk/topics/natural_deduction>', '<https://cso.kmi.open.ac.uk/topics/query_containment>', '<https://cso.kmi.open.ac.uk/topics/proof_search>', '<https://cso.kmi.open.ac.uk/topics/cut_elimination>'}\n",
      "{'<https://cso.kmi.open.ac.uk/topics/coalgebras>', '<https://cso.kmi.open.ac.uk/topics/coalgebra>', '<https://cso.kmi.open.ac.uk/topics/coalgebraic>'}\n",
      "{'<https://cso.kmi.open.ac.uk/topics/ontology_language>', '<https://cso.kmi.open.ac.uk/topics/modal_operators>', '<https://cso.kmi.open.ac.uk/topics/epistemic_logic>', '<https://cso.kmi.open.ac.uk/topics/hybrid_logic>', '<https://cso.kmi.open.ac.uk/topics/deontic_logic>', '<https://cso.kmi.open.ac.uk/topics/kripke_model>', '<https://cso.kmi.open.ac.uk/topics/concept_description>', '<https://cso.kmi.open.ac.uk/topics/background_value>', '<https://cso.kmi.open.ac.uk/topics/dynamic_logic>', '<https://cso.kmi.open.ac.uk/topics/kripke_semantics>', '<https://cso.kmi.open.ac.uk/topics/grey_prediction>', '<https://cso.kmi.open.ac.uk/topics/reasoner>', '<https://cso.kmi.open.ac.uk/topics/fuzzy_description_logic>'}\n",
      "{'<https://cso.kmi.open.ac.uk/topics/document_similarity>', '<https://cso.kmi.open.ac.uk/topics/style_sheets>', '<https://cso.kmi.open.ac.uk/topics/word_sense>', '<https://cso.kmi.open.ac.uk/topics/product_reviews>', '<https://cso.kmi.open.ac.uk/topics/document_representation>'}\n",
      "{'<https://cso.kmi.open.ac.uk/topics/correlation_dimensions>', '<https://cso.kmi.open.ac.uk/topics/correlation_dimension>'}\n",
      "{'<https://cso.kmi.open.ac.uk/topics/extreme_learning_machine>', '<https://cso.kmi.open.ac.uk/topics/ordered_weighted_averaging>', '<https://cso.kmi.open.ac.uk/topics/ordered_weighted_averaging_operator>', '<https://cso.kmi.open.ac.uk/topics/feedforward_neural_network>', '<https://cso.kmi.open.ac.uk/topics/lyapunov_exponent>', '<https://cso.kmi.open.ac.uk/topics/lyapunov_exponents>', '<https://cso.kmi.open.ac.uk/topics/extreme_learning_machine_%28elm%29>', '<https://cso.kmi.open.ac.uk/topics/feedforward_neural_networks>'}\n",
      "{'<https://cso.kmi.open.ac.uk/topics/decision_tree_learning>', '<https://cso.kmi.open.ac.uk/topics/decision_tree_classifiers>', '<https://cso.kmi.open.ac.uk/topics/decision_tree_induction>'}\n",
      "{'<https://cso.kmi.open.ac.uk/topics/ensemble_classifiers>', '<https://cso.kmi.open.ac.uk/topics/ensemble_classifier>', '<https://cso.kmi.open.ac.uk/topics/concept_drift>', '<https://cso.kmi.open.ac.uk/topics/concept_drifts>'}\n",
      "{'<https://cso.kmi.open.ac.uk/topics/base_classifiers>', '<https://cso.kmi.open.ac.uk/topics/random_subspaces>'}\n",
      "{'<https://cso.kmi.open.ac.uk/topics/spatial_indices>', '<https://cso.kmi.open.ac.uk/topics/data_streams>', '<https://cso.kmi.open.ac.uk/topics/random_forest>', '<https://cso.kmi.open.ac.uk/topics/ensemble_methods>', '<https://cso.kmi.open.ac.uk/topics/spatial_index>', '<https://cso.kmi.open.ac.uk/topics/sugeno_integral>', '<https://cso.kmi.open.ac.uk/topics/classifier_ensembles>', '<https://cso.kmi.open.ac.uk/topics/ensemble_learning>', '<https://cso.kmi.open.ac.uk/topics/data_stream>', '<https://cso.kmi.open.ac.uk/topics/sugeno_integrals>', '<https://cso.kmi.open.ac.uk/topics/random_forests>', '<https://cso.kmi.open.ac.uk/topics/classifier_ensemble>'}\n",
      "{'<https://cso.kmi.open.ac.uk/topics/spatial_queries>', '<https://cso.kmi.open.ac.uk/topics/multivalued_logic>', '<https://cso.kmi.open.ac.uk/topics/comprehensive_evaluation_model>', '<https://cso.kmi.open.ac.uk/topics/decision_tree_models>', '<https://cso.kmi.open.ac.uk/topics/binary_classification_problems>', '<https://cso.kmi.open.ac.uk/topics/decision_modeling>', '<https://cso.kmi.open.ac.uk/topics/non-additive_measure>', '<https://cso.kmi.open.ac.uk/topics/reversible_circuits>', '<https://cso.kmi.open.ac.uk/topics/multi-class_problems>', '<https://cso.kmi.open.ac.uk/topics/hmm-based_speech_synthesis>', '<https://cso.kmi.open.ac.uk/topics/decision_tree_classification>', '<https://cso.kmi.open.ac.uk/topics/index_structure>', '<https://cso.kmi.open.ac.uk/topics/logic_functions>', '<https://cso.kmi.open.ac.uk/topics/decision-tree_algorithm>', '<https://cso.kmi.open.ac.uk/topics/evaluation_modeling>', '<https://cso.kmi.open.ac.uk/topics/binary_decision_trees>', '<https://cso.kmi.open.ac.uk/topics/fuzzy_evaluation>', '<https://cso.kmi.open.ac.uk/topics/interpretability>', '<https://cso.kmi.open.ac.uk/topics/naive_bayes>', '<https://cso.kmi.open.ac.uk/topics/classification_rules>', '<https://cso.kmi.open.ac.uk/topics/distributed_parameter>', '<https://cso.kmi.open.ac.uk/topics/boosting>'}\n",
      "{'<https://cso.kmi.open.ac.uk/topics/evaluation_model>', '<https://cso.kmi.open.ac.uk/topics/choquet_integral>', '<https://cso.kmi.open.ac.uk/topics/group_decision-making>', '<https://cso.kmi.open.ac.uk/topics/many-valued_logic>', '<https://cso.kmi.open.ac.uk/topics/analytic_network_process>', '<https://cso.kmi.open.ac.uk/topics/excimer>', '<https://cso.kmi.open.ac.uk/topics/choquet_integrals>', '<https://cso.kmi.open.ac.uk/topics/analytic_network_process_%28anp%29>', '<https://cso.kmi.open.ac.uk/topics/many_valued_logics>', '<https://cso.kmi.open.ac.uk/topics/decision_model>', '<https://cso.kmi.open.ac.uk/topics/distributed_parameter_system>', '<https://cso.kmi.open.ac.uk/topics/decision_tree>', '<https://cso.kmi.open.ac.uk/topics/evaluation_models>', '<https://cso.kmi.open.ac.uk/topics/decision_trees>', '<https://cso.kmi.open.ac.uk/topics/distributed_parameter_systems>', '<https://cso.kmi.open.ac.uk/topics/decision_models>', '<https://cso.kmi.open.ac.uk/topics/excimers>', '<https://cso.kmi.open.ac.uk/topics/group_decision>'}\n",
      "{'<https://cso.kmi.open.ac.uk/topics/support_vector_machine>', '<https://cso.kmi.open.ac.uk/topics/support_vector_machines_%28svms%29>', '<https://cso.kmi.open.ac.uk/topics/support_vector_machine_%28svms%29>'}\n",
      "{'<https://cso.kmi.open.ac.uk/topics/regular_tree_languages>', '<https://cso.kmi.open.ac.uk/topics/opinion_mining>', '<https://cso.kmi.open.ac.uk/topics/state_complexity>', '<https://cso.kmi.open.ac.uk/topics/text_data>', '<https://cso.kmi.open.ac.uk/topics/hoare_logic>', '<https://cso.kmi.open.ac.uk/topics/uppaal>', '<https://cso.kmi.open.ac.uk/topics/text_mining_techniques>', '<https://cso.kmi.open.ac.uk/topics/electronic_document>', '<https://cso.kmi.open.ac.uk/topics/text_document>', '<https://cso.kmi.open.ac.uk/topics/local_reasoning>', '<https://cso.kmi.open.ac.uk/topics/document_clustering>', '<https://cso.kmi.open.ac.uk/topics/datalog_programs>', '<https://cso.kmi.open.ac.uk/topics/t_s_models>', '<https://cso.kmi.open.ac.uk/topics/electronic_documents>', '<https://cso.kmi.open.ac.uk/topics/textual_data>', '<https://cso.kmi.open.ac.uk/topics/timed_systems>', '<https://cso.kmi.open.ac.uk/topics/dempster>', '<https://cso.kmi.open.ac.uk/topics/descriptional_complexity>', '<https://cso.kmi.open.ac.uk/topics/word_sense_disambiguation>', '<https://cso.kmi.open.ac.uk/topics/tree_languages>', '<https://cso.kmi.open.ac.uk/topics/program_logic>', '<https://cso.kmi.open.ac.uk/topics/imperative_programs>', '<https://cso.kmi.open.ac.uk/topics/text_representation>'}\n",
      "{'<https://cso.kmi.open.ac.uk/topics/discernibility>', '<https://cso.kmi.open.ac.uk/topics/discernibility_matrix>'}\n",
      "{'<https://cso.kmi.open.ac.uk/topics/weak_learner>', '<https://cso.kmi.open.ac.uk/topics/fuzzy_rule-based_classifier>', '<https://cso.kmi.open.ac.uk/topics/spatial_query_processing>', '<https://cso.kmi.open.ac.uk/topics/synthesized_speech>', '<https://cso.kmi.open.ac.uk/topics/c4.5_algorithm>', '<https://cso.kmi.open.ac.uk/topics/fuzzy_comprehensive_evaluation_method>', '<https://cso.kmi.open.ac.uk/topics/fuzzy_evaluation_method>'}\n",
      "{'<https://cso.kmi.open.ac.uk/topics/laser-induced_damage>', '<https://cso.kmi.open.ac.uk/topics/business_decisions>'}\n",
      "{'<https://cso.kmi.open.ac.uk/topics/logic_synthesis>', '<https://cso.kmi.open.ac.uk/topics/intelligent_controllers>', '<https://cso.kmi.open.ac.uk/topics/controlled_objects>', '<https://cso.kmi.open.ac.uk/topics/systems_design>', '<https://cso.kmi.open.ac.uk/topics/hfo>', '<https://cso.kmi.open.ac.uk/topics/decision_analysis>', '<https://cso.kmi.open.ac.uk/topics/analytic_hierarchies>', '<https://cso.kmi.open.ac.uk/topics/text_processing>', '<https://cso.kmi.open.ac.uk/topics/fuzzy_analytic_hierarchy_process>', '<https://cso.kmi.open.ac.uk/topics/index_weight>', '<https://cso.kmi.open.ac.uk/topics/formation_control>', '<https://cso.kmi.open.ac.uk/topics/grey_system_theory>', '<https://cso.kmi.open.ac.uk/topics/decision-theoretic>', '<https://cso.kmi.open.ac.uk/topics/adaptive_laws>', '<https://cso.kmi.open.ac.uk/topics/human_pose_estimations>', '<https://cso.kmi.open.ac.uk/topics/optical_thin_films>', '<https://cso.kmi.open.ac.uk/topics/ahp_%28analytic_hierarchy_process%29>', '<https://cso.kmi.open.ac.uk/topics/smart_sensors>', '<https://cso.kmi.open.ac.uk/topics/consensus_problems>', '<https://cso.kmi.open.ac.uk/topics/intelligent_decision_support_systems>', '<https://cso.kmi.open.ac.uk/topics/multi-criteria_decision_making>', '<https://cso.kmi.open.ac.uk/topics/fused-silica_capillaries>', '<https://cso.kmi.open.ac.uk/topics/computability_and_decidability>', '<https://cso.kmi.open.ac.uk/topics/linguistic_terms>', '<https://cso.kmi.open.ac.uk/topics/delay_dependents>', '<https://cso.kmi.open.ac.uk/topics/analytic_hierarchy>', '<https://cso.kmi.open.ac.uk/topics/dempster-shafer_theory>', '<https://cso.kmi.open.ac.uk/topics/monocular_image>', '<https://cso.kmi.open.ac.uk/topics/takagi-sugeno>', '<https://cso.kmi.open.ac.uk/topics/argon_lasers>', '<https://cso.kmi.open.ac.uk/topics/control_and_automation>'}\n",
      "{'<https://cso.kmi.open.ac.uk/topics/variable_ordering>', '<https://cso.kmi.open.ac.uk/topics/symbolic_model_checking>', '<https://cso.kmi.open.ac.uk/topics/ordered_binary_decision_diagrams>', '<https://cso.kmi.open.ac.uk/topics/bdd>', '<https://cso.kmi.open.ac.uk/topics/binary_decision>'}\n",
      "{'<https://cso.kmi.open.ac.uk/topics/binary_decision_diagram>', '<https://cso.kmi.open.ac.uk/topics/binary_decision_diagrams>', '<https://cso.kmi.open.ac.uk/topics/binary_decision_diagram_%28bdd%29>'}\n",
      "{'<https://cso.kmi.open.ac.uk/topics/decision_table>', '<https://cso.kmi.open.ac.uk/topics/decision_rules>', '<https://cso.kmi.open.ac.uk/topics/decision_tables>', '<https://cso.kmi.open.ac.uk/topics/decision_rule>'}\n",
      "{'<https://cso.kmi.open.ac.uk/topics/incomplete_information_system>', '<https://cso.kmi.open.ac.uk/topics/incomplete_information_systems>'}\n",
      "{'<https://cso.kmi.open.ac.uk/topics/dominance_relation>', '<https://cso.kmi.open.ac.uk/topics/dominance-based_rough_set_approach>'}\n",
      "{'<https://cso.kmi.open.ac.uk/topics/mode-locked_laser>', '<https://cso.kmi.open.ac.uk/topics/mode-locked_lasers>'}\n",
      "{'<https://cso.kmi.open.ac.uk/topics/silhouette_images>', '<https://cso.kmi.open.ac.uk/topics/gait_features>', '<https://cso.kmi.open.ac.uk/topics/decision_theory>', '<https://cso.kmi.open.ac.uk/topics/rule_engine>', '<https://cso.kmi.open.ac.uk/topics/fused_silica>', '<https://cso.kmi.open.ac.uk/topics/luminescence_of_organic_solids>', '<https://cso.kmi.open.ac.uk/topics/hafnium_oxides>', '<https://cso.kmi.open.ac.uk/topics/optical_coatings>', '<https://cso.kmi.open.ac.uk/topics/natural_language_processing_systems>', '<https://cso.kmi.open.ac.uk/topics/gait_cycles>', '<https://cso.kmi.open.ac.uk/topics/video_representations>', '<https://cso.kmi.open.ac.uk/topics/scatter_matrix>', '<https://cso.kmi.open.ac.uk/topics/damage_threshold>', '<https://cso.kmi.open.ac.uk/topics/dimensionality_reduction_techniques>', '<https://cso.kmi.open.ac.uk/topics/image_subtraction>', '<https://cso.kmi.open.ac.uk/topics/innovative_technologies>', '<https://cso.kmi.open.ac.uk/topics/damage_mechanism>', '<https://cso.kmi.open.ac.uk/topics/laser_induced_damage_thresholds>', '<https://cso.kmi.open.ac.uk/topics/hafnium_compounds>', '<https://cso.kmi.open.ac.uk/topics/gas_lasers>', '<https://cso.kmi.open.ac.uk/topics/latent_variable_models>', '<https://cso.kmi.open.ac.uk/topics/curse_of_dimensionality>', '<https://cso.kmi.open.ac.uk/topics/fluence>', '<https://cso.kmi.open.ac.uk/topics/intelligent_control>', '<https://cso.kmi.open.ac.uk/topics/human_actions>', '<https://cso.kmi.open.ac.uk/topics/human_pose>', '<https://cso.kmi.open.ac.uk/topics/1064_nm>', '<https://cso.kmi.open.ac.uk/topics/fisher_discriminant_analysis>', '<https://cso.kmi.open.ac.uk/topics/high_peak_power>', '<https://cso.kmi.open.ac.uk/topics/dimensionality_reduction_method>'}\n",
      "{'<https://cso.kmi.open.ac.uk/topics/class_information>', '<https://cso.kmi.open.ac.uk/topics/dimensionality_reduction_algorithms>'}\n",
      "{'<https://cso.kmi.open.ac.uk/topics/nonlinear_dimensionality_reduction>', '<https://cso.kmi.open.ac.uk/topics/intrinsic_dimensions>', '<https://cso.kmi.open.ac.uk/topics/locally_linear_embedding>', '<https://cso.kmi.open.ac.uk/topics/low-dimensional_manifolds>', '<https://cso.kmi.open.ac.uk/topics/q_switching>', '<https://cso.kmi.open.ac.uk/topics/pulse_width>', '<https://cso.kmi.open.ac.uk/topics/neighborhood_graphs>', '<https://cso.kmi.open.ac.uk/topics/nonlinear_manifolds>', '<https://cso.kmi.open.ac.uk/topics/manifold_learning_algorithm>', '<https://cso.kmi.open.ac.uk/topics/data_manifolds>', '<https://cso.kmi.open.ac.uk/topics/local_geometry>'}\n",
      "{'<https://cso.kmi.open.ac.uk/topics/femtosecond_pulse>', '<https://cso.kmi.open.ac.uk/topics/transparent_material>'}\n",
      "{'<https://cso.kmi.open.ac.uk/topics/femtosecond_laser_pulse>', '<https://cso.kmi.open.ac.uk/topics/ultrashort_laser_pulse>'}\n",
      "{'<https://cso.kmi.open.ac.uk/topics/positive_region>', '<https://cso.kmi.open.ac.uk/topics/condition_attributes>', '<https://cso.kmi.open.ac.uk/topics/decision_systems>', '<https://cso.kmi.open.ac.uk/topics/knowledge_reduction>'}\n",
      "{'<https://cso.kmi.open.ac.uk/topics/functors>', '<https://cso.kmi.open.ac.uk/topics/coinduction>'}\n",
      "{'<https://cso.kmi.open.ac.uk/topics/locality_preserving_projections>', '<https://cso.kmi.open.ac.uk/topics/locality_preserving_projection>'}\n",
      "{'<https://cso.kmi.open.ac.uk/topics/differential_cryptanalysis>', '<https://cso.kmi.open.ac.uk/topics/control_lyapunov_function>', '<https://cso.kmi.open.ac.uk/topics/van_der_pol_oscillator>', '<https://cso.kmi.open.ac.uk/topics/global_exponential_stability>', '<https://cso.kmi.open.ac.uk/topics/phase_portrait>', '<https://cso.kmi.open.ac.uk/topics/lyapunov_stability_theorem>'}\n",
      "{'<https://cso.kmi.open.ac.uk/topics/largest_lyapunov_exponent>', '<https://cso.kmi.open.ac.uk/topics/chaotic_characteristics>'}\n",
      "{'<https://cso.kmi.open.ac.uk/topics/lyapunov_theory>', '<https://cso.kmi.open.ac.uk/topics/lyapunov_theories>'}\n",
      "{'<https://cso.kmi.open.ac.uk/topics/consensus_protocols>', '<https://cso.kmi.open.ac.uk/topics/reachability_problem>', '<https://cso.kmi.open.ac.uk/topics/interval_temporal_logic>', '<https://cso.kmi.open.ac.uk/topics/basic_probability_assignment>', '<https://cso.kmi.open.ac.uk/topics/transferable_belief_model>', '<https://cso.kmi.open.ac.uk/topics/computability>', '<https://cso.kmi.open.ac.uk/topics/query_answering>', '<https://cso.kmi.open.ac.uk/topics/monadic_second-order_logic>', '<https://cso.kmi.open.ac.uk/topics/separation_logic>', '<https://cso.kmi.open.ac.uk/topics/closure_property>', '<https://cso.kmi.open.ac.uk/topics/takagi-sugeno_models>', '<https://cso.kmi.open.ac.uk/topics/pushdown_systems>', '<https://cso.kmi.open.ac.uk/topics/combination_rules>', '<https://cso.kmi.open.ac.uk/topics/intelligent_sensors>', '<https://cso.kmi.open.ac.uk/topics/datalog>', '<https://cso.kmi.open.ac.uk/topics/technology_mapping>', '<https://cso.kmi.open.ac.uk/topics/complexity_results>', '<https://cso.kmi.open.ac.uk/topics/leader_following>', '<https://cso.kmi.open.ac.uk/topics/word_processing>', '<https://cso.kmi.open.ac.uk/topics/dempster-shafer_theory_of_evidence>', '<https://cso.kmi.open.ac.uk/topics/mass_functions>', '<https://cso.kmi.open.ac.uk/topics/leader-follower>', '<https://cso.kmi.open.ac.uk/topics/infinite_state_systems>', '<https://cso.kmi.open.ac.uk/topics/automata>', '<https://cso.kmi.open.ac.uk/topics/t-s_fuzzy>', '<https://cso.kmi.open.ac.uk/topics/fahp>', '<https://cso.kmi.open.ac.uk/topics/timed_automata>', '<https://cso.kmi.open.ac.uk/topics/tree_automata>', '<https://cso.kmi.open.ac.uk/topics/typechecking>', '<https://cso.kmi.open.ac.uk/topics/multi-criteria_decision_analysis>', '<https://cso.kmi.open.ac.uk/topics/emptiness_problem>', '<https://cso.kmi.open.ac.uk/topics/switching_topology>', '<https://cso.kmi.open.ac.uk/topics/verification_problems>', '<https://cso.kmi.open.ac.uk/topics/text_mining>', '<https://cso.kmi.open.ac.uk/topics/regular_languages>'}\n",
      "{'<https://cso.kmi.open.ac.uk/topics/conjunctive_queries>', '<https://cso.kmi.open.ac.uk/topics/sequent_calculus>'}\n",
      "{'<https://cso.kmi.open.ac.uk/topics/modal_logics>', '<https://cso.kmi.open.ac.uk/topics/gm_%281_%2C_1%29_model>', '<https://cso.kmi.open.ac.uk/topics/description_logic>', '<https://cso.kmi.open.ac.uk/topics/modal_logic>', '<https://cso.kmi.open.ac.uk/topics/description_logics>', '<https://cso.kmi.open.ac.uk/topics/gm_%281_%2C_1%29>', '<https://cso.kmi.open.ac.uk/topics/pushdown_automata>', '<https://cso.kmi.open.ac.uk/topics/push-down_automata>'}\n",
      "{'<https://cso.kmi.open.ac.uk/topics/evidential_reasoning>', '<https://cso.kmi.open.ac.uk/topics/time_delaying>', '<https://cso.kmi.open.ac.uk/topics/satisfiability>'}\n",
      "{'<https://cso.kmi.open.ac.uk/topics/continuous_query>', '<https://cso.kmi.open.ac.uk/topics/continuous_queries>'}\n",
      "{'<https://cso.kmi.open.ac.uk/topics/ensemble_classification>', '<https://cso.kmi.open.ac.uk/topics/data_stream_mining>'}\n",
      "{'<https://cso.kmi.open.ac.uk/topics/streaming_data>', '<https://cso.kmi.open.ac.uk/topics/base_learners>', '<https://cso.kmi.open.ac.uk/topics/data_stream_processing>', '<https://cso.kmi.open.ac.uk/topics/multiple_data_streams>', '<https://cso.kmi.open.ac.uk/topics/stream_data>', '<https://cso.kmi.open.ac.uk/topics/ensemble_models>', '<https://cso.kmi.open.ac.uk/topics/individual_classifiers>', '<https://cso.kmi.open.ac.uk/topics/random_forest_classifier>', '<https://cso.kmi.open.ac.uk/topics/stream_mining>', '<https://cso.kmi.open.ac.uk/topics/random_forest_algorithm>', '<https://cso.kmi.open.ac.uk/topics/sliding_windows>', '<https://cso.kmi.open.ac.uk/topics/continuous_data>', '<https://cso.kmi.open.ac.uk/topics/ensemble_techniques>', '<https://cso.kmi.open.ac.uk/topics/ensemble_algorithms>'}\n",
      "{'<https://cso.kmi.open.ac.uk/topics/human-action_recognition>', '<https://cso.kmi.open.ac.uk/topics/human_action_recognition>'}\n",
      "{'<https://cso.kmi.open.ac.uk/topics/isomap>', '<https://cso.kmi.open.ac.uk/topics/q_switched_lasers>', '<https://cso.kmi.open.ac.uk/topics/diode-pumped>'}\n",
      "{'<https://cso.kmi.open.ac.uk/topics/laplacian_eigenmaps>', '<https://cso.kmi.open.ac.uk/topics/yag>'}\n",
      "{'<https://cso.kmi.open.ac.uk/topics/small_sample_size_problems>', '<https://cso.kmi.open.ac.uk/topics/small_sample_size_problem>', '<https://cso.kmi.open.ac.uk/topics/nonrigid_registration>', '<https://cso.kmi.open.ac.uk/topics/high-dimensional_data>', '<https://cso.kmi.open.ac.uk/topics/random_projection>', '<https://cso.kmi.open.ac.uk/topics/random_projections>', '<https://cso.kmi.open.ac.uk/topics/high_dimensional_data>', '<https://cso.kmi.open.ac.uk/topics/non-rigid_registration>'}\n",
      "{'<https://cso.kmi.open.ac.uk/topics/nonrigid_image_registration>', '<https://cso.kmi.open.ac.uk/topics/rigid_registration>'}\n",
      "{'<https://cso.kmi.open.ac.uk/topics/interval_time-varying_delays>', '<https://cso.kmi.open.ac.uk/topics/interval_time-varying_delay>'}\n",
      "{'<https://cso.kmi.open.ac.uk/topics/robust_h_control>', '<https://cso.kmi.open.ac.uk/topics/filtering_error>', '<https://cso.kmi.open.ac.uk/topics/norm-bounded_uncertainty>', '<https://cso.kmi.open.ac.uk/topics/robust_filtering>'}\n",
      "{'<https://cso.kmi.open.ac.uk/topics/lyapunov_method>', '<https://cso.kmi.open.ac.uk/topics/lyapunov_methods>'}\n",
      "{'<https://cso.kmi.open.ac.uk/topics/stochastic_neural_networks>', '<https://cso.kmi.open.ac.uk/topics/stochastic_neural_network>'}\n",
      "{'<https://cso.kmi.open.ac.uk/topics/guaranteed_cost_control>', '<https://cso.kmi.open.ac.uk/topics/integral_inequalities>', '<https://cso.kmi.open.ac.uk/topics/neutral_systems>', '<https://cso.kmi.open.ac.uk/topics/delay-dependent_stability>', '<https://cso.kmi.open.ac.uk/topics/delay_independent>', '<https://cso.kmi.open.ac.uk/topics/robust_stabilization>', '<https://cso.kmi.open.ac.uk/topics/linear_matrix_inequality_approach>', '<https://cso.kmi.open.ac.uk/topics/free-weighting_matrices>', '<https://cso.kmi.open.ac.uk/topics/markovian_jumping_parameters>'}\n",
      "{'<https://cso.kmi.open.ac.uk/topics/clinical_decision_support>', '<https://cso.kmi.open.ac.uk/topics/networked_control_system>', '<https://cso.kmi.open.ac.uk/topics/clinical_decision_support_system>', '<https://cso.kmi.open.ac.uk/topics/clinical_decision_support_systems>', '<https://cso.kmi.open.ac.uk/topics/networked_control_systems_%28ncss%29>', '<https://cso.kmi.open.ac.uk/topics/networked_control_systems>'}\n",
      "{'<https://cso.kmi.open.ac.uk/topics/stochastic_stability>', '<https://cso.kmi.open.ac.uk/topics/sampling_period>', '<https://cso.kmi.open.ac.uk/topics/networked_systems>', '<https://cso.kmi.open.ac.uk/topics/random_delay>', '<https://cso.kmi.open.ac.uk/topics/communication_constraints>'}\n",
      "{'<https://cso.kmi.open.ac.uk/topics/network-induced_delays>', '<https://cso.kmi.open.ac.uk/topics/network-induced_delay>'}\n",
      "{'<https://cso.kmi.open.ac.uk/topics/networked_control_system_%28ncs%29>', '<https://cso.kmi.open.ac.uk/topics/actuator_failures>'}\n",
      "{'<https://cso.kmi.open.ac.uk/topics/networked_control>', '<https://cso.kmi.open.ac.uk/topics/fault_tolerant_control>', '<https://cso.kmi.open.ac.uk/topics/networked_controls>', '<https://cso.kmi.open.ac.uk/topics/packet_dropout>', '<https://cso.kmi.open.ac.uk/topics/packet_dropouts>', '<https://cso.kmi.open.ac.uk/topics/fault-tolerant_control>'}\n",
      "{'<https://cso.kmi.open.ac.uk/topics/decision_procedures>', '<https://cso.kmi.open.ac.uk/topics/decision_procedure>'}\n"
     ]
    }
   ],
   "source": [
    "showMapKeys(c, onlyNonTrivial=True)"
   ]
  },
  {
   "cell_type": "code",
   "execution_count": null,
   "id": "374523d9",
   "metadata": {},
   "outputs": [],
   "source": []
  }
 ],
 "metadata": {
  "kernelspec": {
   "display_name": "qf",
   "language": "python",
   "name": "qf"
  },
  "language_info": {
   "codemirror_mode": {
    "name": "ipython",
    "version": 3
   },
   "file_extension": ".py",
   "mimetype": "text/x-python",
   "name": "python",
   "nbconvert_exporter": "python",
   "pygments_lexer": "ipython3",
   "version": "3.7.5"
  }
 },
 "nbformat": 4,
 "nbformat_minor": 5
}
