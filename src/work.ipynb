{
 "cells": [
  {
   "cell_type": "markdown",
   "id": "e81169e6",
   "metadata": {},
   "source": [
    "## Experiments with weighted graphs"
   ]
  },
  {
   "cell_type": "code",
   "execution_count": 9,
   "id": "d9484ca1",
   "metadata": {},
   "outputs": [],
   "source": [
    "from __future__ import print_function\n",
    "\n",
    "import qf.cc\n",
    "import qf.graphs\n",
    "import qf.morph\n",
    "import qf.qastar\n",
    "import qf.qzss\n",
    "import qf.util\n",
    "\n",
    "import matplotlib.pyplot as plt\n",
    "from ipywidgets import interact, interactive, fixed, interact_manual\n",
    "import ipywidgets as widgets\n",
    "from mpl_toolkits.axes_grid1 import ImageGrid"
   ]
  },
  {
   "cell_type": "code",
   "execution_count": 10,
   "id": "2898afdc",
   "metadata": {},
   "outputs": [],
   "source": [
    "G = qf.util.read_graph(\"examples/graph.tsv\", coordinates=qf.util.read_coordinates(\"examples/coordinates.txt\"), weights=True)"
   ]
  },
  {
   "cell_type": "code",
   "execution_count": 11,
   "id": "dc29471b",
   "metadata": {},
   "outputs": [],
   "source": [
    "def f(theta):\n",
    "    fig = plt.figure(figsize=(20., 20.))\n",
    "    grid = ImageGrid(fig, 111,  # similar to subplot(111)\n",
    "                 nrows_ncols=(1, 2),  # creates 2x2 grid of axes\n",
    "                 axes_pad=0.1,  # pad between axes in inch.\n",
    "                 )\n",
    "\n",
    "    grid[0].axis(\"off\")\n",
    "    grid[0].imshow(qf.graphs.visualize(G, colors=qf.cc.cardon_crochemore(G), scale=0.5, useplt=True))\n",
    "\n",
    "    grid[1].axis(\"off\")\n",
    "    grid[1].imshow(qf.graphs.visualize(G, colors=qf.cc.cardon_crochemore(qf.graphs.multiplex(G, theta)), scale=0.5, useplt=True))\n",
    "\n",
    "    plt.show()"
   ]
  },
  {
   "cell_type": "code",
   "execution_count": 12,
   "id": "c8c4db03",
   "metadata": {},
   "outputs": [
    {
     "data": {
      "application/vnd.jupyter.widget-view+json": {
       "model_id": "a2ccd30c64c54b98b61205fcab45c1a2",
       "version_major": 2,
       "version_minor": 0
      },
      "text/plain": [
       "interactive(children=(FloatSlider(value=5.0, description='theta', max=10.0, min=0.1), Output()), _dom_classes=…"
      ]
     },
     "metadata": {},
     "output_type": "display_data"
    },
    {
     "data": {
      "text/plain": [
       "<function __main__.f(theta)>"
      ]
     },
     "execution_count": 12,
     "metadata": {},
     "output_type": "execute_result"
    }
   ],
   "source": [
    "interact(f, theta=(0.1,10,0.1))"
   ]
  },
  {
   "cell_type": "code",
   "execution_count": null,
   "id": "92ce341c",
   "metadata": {},
   "outputs": [],
   "source": []
  }
 ],
 "metadata": {
  "kernelspec": {
   "display_name": "qf",
   "language": "python",
   "name": "qf"
  },
  "language_info": {
   "codemirror_mode": {
    "name": "ipython",
    "version": 3
   },
   "file_extension": ".py",
   "mimetype": "text/x-python",
   "name": "python",
   "nbconvert_exporter": "python",
   "pygments_lexer": "ipython3",
   "version": "3.7.13"
  }
 },
 "nbformat": 4,
 "nbformat_minor": 5
}
