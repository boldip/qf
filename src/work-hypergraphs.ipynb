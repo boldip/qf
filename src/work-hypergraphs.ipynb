{
 "cells": [
  {
   "cell_type": "code",
   "execution_count": 108,
   "id": "f41dda39-660f-41cd-b619-af09ec1d5557",
   "metadata": {},
   "outputs": [],
   "source": [
    "from random import randint, sample\n",
    "from hypergraphs import *\n",
    "from qf import graphs\n",
    "import networkx as nx\n",
    "\n",
    "\n",
    "n = 7            # Number of nodes of BH\n",
    "m = 5            # Number of hyperarcs of BH\n",
    "multiplicity = 6 # Maximum size of a fibre over BH\n",
    "\n",
    "BH = hnx.Hypergraph()   # Generate BH\n",
    "\n",
    "for i in range(m):\n",
    "    k = randint(1, n)  # Number of sources\n",
    "    sources = sample(range(0, n), k)\n",
    "    target = randint(0, n)\n",
    "    add_directed_hyperedge(BH, sources, target, f\"h_{i}\")"
   ]
  },
  {
   "cell_type": "code",
   "execution_count": 109,
   "id": "58e74f75",
   "metadata": {},
   "outputs": [],
   "source": [
    "B, dd = hg2g(BH) # Lift every node\n",
    "lifting = {}\n",
    "for x in B.nodes():\n",
    "    if dd[x] == 0: # Node, liftable\n",
    "        lifting[x]=[i for i in range(randint(1, multiplicity))]   # Multiplicity of nodes\n",
    "\n",
    "H = hnx.Hypergraph() # Generate H appropriately\n",
    "for h in BH.edges():\n",
    "    name = str(h)\n",
    "    target = h.props['target']\n",
    "    sources = set([x for x in h.elements])-set([target])\n",
    "    for t in lifting[target]:\n",
    "        ss = []\n",
    "        for s in sources:\n",
    "            s_lift = sample(lifting[s], 1)[0]\n",
    "            ss += [(s, s_lift)]\n",
    "        add_directed_hyperedge(H, ss, (target, t), \"{}_{}\".format(name, t))\n"
   ]
  },
  {
   "cell_type": "code",
   "execution_count": 110,
   "id": "dfa3441f",
   "metadata": {},
   "outputs": [
    {
     "name": "stdout",
     "output_type": "stream",
     "text": [
      "y_0' =  y_0 * y_1 + y_0 * y_4 * y_5 * y_6 * y_7 * y_1\n",
      "y_2' =  y_2 * y_1 + y_8 * y_5 * y_6 * y_2 * y_9 * y_1\n",
      "y_3' =  y_3 * y_1 + y_10 * y_5 * y_11 * y_12 * y_1 * y_3\n",
      "y_13' =  y_5 * y_14 * y_9 * y_12 * y_1 * y_13 * y_3\n",
      "y_11' =  y_10 * y_5 * y_15 * y_11 * y_12 * y_1 * y_3\n",
      "y_16' =  y_0 * y_5 * y_14 * y_16 * y_7 * y_9 * y_1\n",
      "y_17' =  y_8 * y_5 * y_18 * y_2 * y_17 * y_19 * y_1\n",
      "y_20' =  y_5 * y_21 * y_2 * y_15 * y_20 * y_12 * y_1\n",
      "y_6' =  y_4 * y_5 * y_6 * y_15 * y_12 * y_1 * y_3\n",
      "y_5' =  y_9 * y_5 * y_12 * y_1\n",
      "y_22' =  y_18 * y_22 * y_5 * y_3\n",
      "y_23' =  y_18 * y_0 * y_5 * y_23\n",
      "\n",
      "{'x_5_0': 'y_0', 'x_2_0': 'y_1', 'x_5_1': 'y_2', 'x_5_2': 'y_3', 'x_0_5': 'y_4', 'x_1_0': 'y_5', 'x_6_5': 'y_6', 'x_3_2': 'y_7', 'x_3_1': 'y_8', 'x_0_3': 'y_9', 'x_0_4': 'y_10', 'x_6_1': 'y_11', 'x_3_0': 'y_12', 'x_6_0': 'y_13', 'x_4_0': 'y_14', 'x_4_2': 'y_15', 'x_6_2': 'y_16', 'x_6_3': 'y_17', 'x_4_1': 'y_18', 'x_0_2': 'y_19', 'x_6_4': 'y_20', 'x_0_1': 'y_21', 'x_7_0': 'y_22', 'x_7_1': 'y_23'}\n"
     ]
    }
   ],
   "source": [
    "rename = {}\n",
    "s = {}\n",
    "for h in H.edges():\n",
    "    tn = h.props['target']\n",
    "    t = f\"x_{tn[0]}_{tn[1]}\"\n",
    "    if t not in rename:\n",
    "        rename[t] = f\"y_{len(rename)}\"\n",
    "    tr = rename[t]\n",
    "    sources = set([f\"x_{x[0]}_{x[1]}\" for x in h.elements])\n",
    "    zources = []\n",
    "    for z in sources:\n",
    "        if not z in rename:\n",
    "            rename[z] = f\"y_{len(rename)}\"\n",
    "        zources += [rename[z]]\n",
    "    if tr in s:\n",
    "        s[tr] += [zources]\n",
    "    else:\n",
    "        s[tr] = [zources]\n",
    "for k, v in s.items():\n",
    "    print(f\"{k}' = \", \" + \".join([\" * \".join([vv for vv in list(x)]) for x in v]))\n",
    "\n",
    "print()\n",
    "print(rename)"
   ]
  },
  {
   "cell_type": "code",
   "execution_count": 111,
   "id": "f799cbfd-9110-4e66-95d9-1587c5fb1435",
   "metadata": {},
   "outputs": [
    {
     "name": "stdout",
     "output_type": "stream",
     "text": [
      "x_5' =  x_2 * x_5 + x_3 * x_5 * x_0 * x_1 * x_2 * x_6\n",
      "x_6' =  x_3 * x_5 * x_0 * x_1 * x_2 * x_4 * x_6\n",
      "x_1' =  x_3 * x_2 * x_0 * x_1\n",
      "x_7' =  x_5 * x_4 * x_1 * x_7\n"
     ]
    }
   ],
   "source": [
    "s = {}\n",
    "for h in BH.edges():\n",
    "    tn = h.props['target']\n",
    "    tr = f\"x_{tn}\"\n",
    "    sources = set([f\"x_{x}\" for x in h.elements])\n",
    "    if tr in s:\n",
    "        s[tr] += [sources]\n",
    "    else:\n",
    "        s[tr] = [sources]\n",
    "for k, v in s.items():\n",
    "    print(f\"{k}' = \", \" + \".join([\" * \".join([vv for vv in list(x)]) for x in v]))\n"
   ]
  },
  {
   "cell_type": "code",
   "execution_count": null,
   "id": "42a4c62c-a750-45da-9f4b-aec0f03e7cef",
   "metadata": {},
   "outputs": [],
   "source": []
  },
  {
   "cell_type": "code",
   "execution_count": null,
   "id": "48f60ff9-7df1-4b69-8c3c-87b4e3ff4666",
   "metadata": {},
   "outputs": [],
   "source": []
  }
 ],
 "metadata": {
  "kernelspec": {
   "display_name": "qf",
   "language": "python",
   "name": "qf"
  },
  "language_info": {
   "codemirror_mode": {
    "name": "ipython",
    "version": 3
   },
   "file_extension": ".py",
   "mimetype": "text/x-python",
   "name": "python",
   "nbconvert_exporter": "python",
   "pygments_lexer": "ipython3",
   "version": "3.10.11"
  }
 },
 "nbformat": 4,
 "nbformat_minor": 5
}
