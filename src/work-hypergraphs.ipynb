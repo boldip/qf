{
 "cells": [
  {
   "cell_type": "code",
   "execution_count": 1,
   "id": "f41dda39-660f-41cd-b619-af09ec1d5557",
   "metadata": {},
   "outputs": [],
   "source": [
    "from random import randint, sample\n",
    "from hypergraphs import *\n",
    "from qf import graphs\n",
    "import networkx as nx\n",
    "\n",
    "\n",
    "n = 7            # Number of nodes of BH\n",
    "m = 5            # Number of hyperarcs of BH\n",
    "multiplicity = 6 # Maximum size of a fibre over BH\n",
    "\n",
    "BH = hnx.Hypergraph()   # Generate BH\n",
    "\n",
    "for i in range(m):\n",
    "    k = randint(1, n)  # Number of sources\n",
    "    sources = sample(range(0, n), k)\n",
    "    target = randint(0, n)\n",
    "    add_directed_hyperedge(BH, sources, target, f\"h_{i}\")"
   ]
  },
  {
   "cell_type": "code",
   "execution_count": 7,
   "id": "cfc472dd-37e6-431f-8155-437c68c86f41",
   "metadata": {},
   "outputs": [],
   "source": [
    "def gen_hyper(n, m, max_source=-1):\n",
    "    \"\"\"\n",
    "        Returns a directed hypergraph with n nodes and m hyperarcs. Each hyperarc can have up to max_source sources (if unspecified, n).\n",
    "        All hyperarcs are named \"h_{i}\" where i is a consecutive value.\n",
    "    \"\"\"\n",
    "    if max_source < 0:\n",
    "        max_source = n\n",
    "    BH = hnx.Hypergraph()\n",
    "    for i in range(m):\n",
    "        k = randint(1, min(max_source, n))  # Number of sources\n",
    "        sources = sample(range(0, n), k)\n",
    "        target = randint(0, n)\n",
    "        add_directed_hyperedge(BH, sources, target, f\"h_{i}\")    \n",
    "    return BH"
   ]
  },
  {
   "cell_type": "code",
   "execution_count": 20,
   "id": "bbef46ba-c229-4b41-8a76-12bbe095000b",
   "metadata": {},
   "outputs": [],
   "source": [
    "def left_hyper(BH, multiplicity):\n",
    "    \"\"\"\n",
    "        Lifts the hypergraph BH, with fibers of cardinality up to multiplicity.\n",
    "        The resulting graph has:\n",
    "        - nodes are named (x,i) where x is a node of BH and i is in range(k), k being the size of the fiber over k\n",
    "        - hyperarcs are named h_{i} where h is a hyperarc of BH and i is in range(k), k being the size of the fiber over the target of h.\n",
    "        The function returns the lifted hypergraph, and a dictionary mapping the nodes of the result to the nodes of the original graph\n",
    "    \"\"\"\n",
    "    map = {}\n",
    "    B, dd = hg2g(BH) # Lift every node\n",
    "    lifting = {}\n",
    "    for x in B.nodes():\n",
    "        if dd[x] == 0: # Node, liftable\n",
    "            lifting[x]=list(range(randint(1, multiplicity)))   # Multiplicity of nodes\n",
    "\n",
    "    H = hnx.Hypergraph() # Generate H appropriately\n",
    "    for h in BH.edges():\n",
    "        name = str(h)\n",
    "        target = h.props['target']\n",
    "        sources = set([x for x in h.elements])-set([target])\n",
    "        for t in lifting[target]:\n",
    "            ss = []\n",
    "            for s in sources:\n",
    "                s_lift = sample(lifting[s], 1)[0]\n",
    "                ss += [(s, s_lift)]\n",
    "            add_directed_hyperedge(H, ss, (target, t), \"{}_{}\".format(name, t))\n",
    "    return H\n"
   ]
  },
  {
   "cell_type": "code",
   "execution_count": 22,
   "id": "783637e4-5937-4f2f-9b24-17aff440db1c",
   "metadata": {},
   "outputs": [],
   "source": [
    "BH = gen_hyper(3,7)\n",
    "H = left_hyper(BH,3)"
   ]
  },
  {
   "cell_type": "code",
   "execution_count": 15,
   "id": "5f8ee0eb-f034-4841-a2be-bb2aa045648e",
   "metadata": {},
   "outputs": [
    {
     "data": {
      "text/plain": [
       "Hypergraph({'h_0_0': Entity(h_0_0,[(1, 0), (2, 2), (0, 0)],{'weight': 1.0, 'props': {'target': (1, 0)}}), 'h_0_1': Entity(h_0_1,[(1, 1), (2, 0), (0, 0)],{'weight': 1.0, 'props': {'target': (1, 1)}}), 'h_1_0': Entity(h_1_0,[(1, 1), (2, 0), (3, 0), (0, 0)],{'weight': 1.0, 'props': {'target': (3, 0)}}), 'h_2_0': Entity(h_2_0,[(1, 0), (2, 1)],{'weight': 1.0, 'props': {'target': (1, 0)}}), 'h_2_1': Entity(h_2_1,[(1, 1), (2, 2)],{'weight': 1.0, 'props': {'target': (1, 1)}}), 'h_3_0': Entity(h_3_0,[(1, 0), (2, 1), (3, 0), (0, 0)],{'weight': 1.0, 'props': {'target': (3, 0)}}), 'h_4_0': Entity(h_4_0,[(1, 0), (2, 0), (3, 0), (0, 0)],{'weight': 1.0, 'props': {'target': (3, 0)}}), 'h_5_0': Entity(h_5_0,[(1, 1), (2, 1), (0, 0)],{'weight': 1.0, 'props': {'target': (0, 0)}}), 'h_6_0': Entity(h_6_0,[(1, 1), (2, 0)],{'weight': 1.0, 'props': {'target': (2, 0)}}), 'h_6_1': Entity(h_6_1,[(1, 0), (2, 1)],{'weight': 1.0, 'props': {'target': (2, 1)}}), 'h_6_2': Entity(h_6_2,[(1, 0), (2, 2)],{'weight': 1.0, 'props': {'target': (2, 2)}})},name=)"
      ]
     },
     "execution_count": 15,
     "metadata": {},
     "output_type": "execute_result"
    }
   ],
   "source": [
    "H"
   ]
  },
  {
   "cell_type": "code",
   "execution_count": null,
   "id": "09517217-b978-4f13-96fa-c0e2267d8259",
   "metadata": {},
   "outputs": [],
   "source": []
  },
  {
   "cell_type": "code",
   "execution_count": 2,
   "id": "58e74f75",
   "metadata": {},
   "outputs": [],
   "source": [
    "B, dd = hg2g(BH) # Lift every node\n",
    "lifting = {}\n",
    "for x in B.nodes():\n",
    "    if dd[x] == 0: # Node, liftable\n",
    "        lifting[x]=[i for i in range(randint(1, multiplicity))]   # Multiplicity of nodes\n",
    "\n",
    "H = hnx.Hypergraph() # Generate H appropriately\n",
    "for h in BH.edges():\n",
    "    name = str(h)\n",
    "    target = h.props['target']\n",
    "    sources = set([x for x in h.elements])-set([target])\n",
    "    for t in lifting[target]:\n",
    "        ss = []\n",
    "        for s in sources:\n",
    "            s_lift = sample(lifting[s], 1)[0]\n",
    "            ss += [(s, s_lift)]\n",
    "        add_directed_hyperedge(H, ss, (target, t), \"{}_{}\".format(name, t))\n"
   ]
  },
  {
   "cell_type": "code",
   "execution_count": 3,
   "id": "dfa3441f",
   "metadata": {},
   "outputs": [
    {
     "name": "stdout",
     "output_type": "stream",
     "text": [
      "y_0' =  y_0 * y_1 * y_2 * y_3 * y_4 * y_5 * y_6 + y_0 * y_3 * y_4 * y_14 + y_8 * y_0 * y_1 * y_2 * y_3\n",
      "y_7' =  y_8 * y_7 * y_9 * y_10 * y_3 * y_5 * y_6 + y_7 * y_3 * y_4 * y_6 + y_8 * y_17 * y_7 * y_3 * y_18\n",
      "y_11' =  y_11 * y_12 * y_2 * y_13 * y_3 * y_4 * y_5 + y_6 * y_11 * y_3 * y_15 + y_11 * y_2 * y_10 * y_3 * y_4\n",
      "y_3' =  y_16 * y_11 * y_9 * y_3 * y_5\n",
      "y_17' =  y_3 * y_17\n",
      "y_2' =  y_3 * y_2\n",
      "y_9' =  y_9 * y_3\n",
      "\n",
      "{'x_2_0': 'y_0', 'x_4_4': 'y_1', 'x_5_1': 'y_2', 'x_0_0': 'y_3', 'x_1_0': 'y_4', 'x_6_0': 'y_5', 'x_3_3': 'y_6', 'x_2_1': 'y_7', 'x_1_2': 'y_8', 'x_5_2': 'y_9', 'x_4_3': 'y_10', 'x_2_2': 'y_11', 'x_4_1': 'y_12', 'x_3_2': 'y_13', 'x_3_1': 'y_14', 'x_1_1': 'y_15', 'x_4_0': 'y_16', 'x_5_0': 'y_17', 'x_4_2': 'y_18'}\n"
     ]
    }
   ],
   "source": [
    "rename = {}\n",
    "s = {}\n",
    "for h in H.edges():\n",
    "    tn = h.props['target']\n",
    "    t = f\"x_{tn[0]}_{tn[1]}\"\n",
    "    if t not in rename:\n",
    "        rename[t] = f\"y_{len(rename)}\"\n",
    "    tr = rename[t]\n",
    "    sources = set([f\"x_{x[0]}_{x[1]}\" for x in h.elements])\n",
    "    zources = []\n",
    "    for z in sources:\n",
    "        if not z in rename:\n",
    "            rename[z] = f\"y_{len(rename)}\"\n",
    "        zources += [rename[z]]\n",
    "    if tr in s:\n",
    "        s[tr] += [zources]\n",
    "    else:\n",
    "        s[tr] = [zources]\n",
    "for k, v in s.items():\n",
    "    print(f\"{k}' = \", \" + \".join([\" * \".join([vv for vv in list(x)]) for x in v]))\n",
    "\n",
    "print()\n",
    "print(rename)"
   ]
  },
  {
   "cell_type": "code",
   "execution_count": 111,
   "id": "f799cbfd-9110-4e66-95d9-1587c5fb1435",
   "metadata": {},
   "outputs": [
    {
     "name": "stdout",
     "output_type": "stream",
     "text": [
      "x_5' =  x_2 * x_5 + x_3 * x_5 * x_0 * x_1 * x_2 * x_6\n",
      "x_6' =  x_3 * x_5 * x_0 * x_1 * x_2 * x_4 * x_6\n",
      "x_1' =  x_3 * x_2 * x_0 * x_1\n",
      "x_7' =  x_5 * x_4 * x_1 * x_7\n"
     ]
    }
   ],
   "source": [
    "s = {}\n",
    "for h in BH.edges():\n",
    "    tn = h.props['target']\n",
    "    tr = f\"x_{tn}\"\n",
    "    sources = set([f\"x_{x}\" for x in h.elements])\n",
    "    if tr in s:\n",
    "        s[tr] += [sources]\n",
    "    else:\n",
    "        s[tr] = [sources]\n",
    "for k, v in s.items():\n",
    "    print(f\"{k}' = \", \" + \".join([\" * \".join([vv for vv in list(x)]) for x in v]))\n"
   ]
  },
  {
   "cell_type": "code",
   "execution_count": null,
   "id": "42a4c62c-a750-45da-9f4b-aec0f03e7cef",
   "metadata": {},
   "outputs": [],
   "source": []
  },
  {
   "cell_type": "code",
   "execution_count": null,
   "id": "48f60ff9-7df1-4b69-8c3c-87b4e3ff4666",
   "metadata": {},
   "outputs": [],
   "source": []
  }
 ],
 "metadata": {
  "kernelspec": {
   "display_name": "qf",
   "language": "python",
   "name": "qf"
  },
  "language_info": {
   "codemirror_mode": {
    "name": "ipython",
    "version": 3
   },
   "file_extension": ".py",
   "mimetype": "text/x-python",
   "name": "python",
   "nbconvert_exporter": "python",
   "pygments_lexer": "ipython3",
   "version": "3.9.17"
  }
 },
 "nbformat": 4,
 "nbformat_minor": 5
}
