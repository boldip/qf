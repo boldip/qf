{
 "cells": [
  {
   "cell_type": "code",
   "execution_count": 155,
   "id": "f41dda39-660f-41cd-b619-af09ec1d5557",
   "metadata": {},
   "outputs": [],
   "source": [
    "from random import randint, sample\n",
    "from hypergraphs import *\n",
    "from qf import graphs\n",
    "import networkx as nx\n",
    "\n",
    "\n",
    "n = 7            # Number of nodes of BH\n",
    "m = 12            # Number of hyperarcs of BH\n",
    "multiplicity = 6 # Maximum size of a fibre over BH"
   ]
  },
  {
   "cell_type": "code",
   "execution_count": 156,
   "id": "cfc472dd-37e6-431f-8155-437c68c86f41",
   "metadata": {},
   "outputs": [],
   "source": [
    "def gen_hyper(n, m, max_source=-1):\n",
    "    \"\"\"\n",
    "        Returns a directed hypergraph with n nodes and m hyperarcs. Each hyperarc can have up to max_source sources (if unspecified, n).\n",
    "        All hyperarcs are named \"h_{i}\" where i is a consecutive value.\n",
    "    \"\"\"\n",
    "    if max_source < 0:\n",
    "        max_source = n\n",
    "    BH = hnx.Hypergraph()\n",
    "    for i in range(m):\n",
    "        k = randint(1, min(max_source, n))  # Number of sources\n",
    "        sources = sample(range(0, n), k)\n",
    "        target = randint(0, n)\n",
    "        add_directed_hyperedge(BH, sources, target, f\"h_{i}\")    \n",
    "    return BH"
   ]
  },
  {
   "cell_type": "code",
   "execution_count": 157,
   "id": "bbef46ba-c229-4b41-8a76-12bbe095000b",
   "metadata": {},
   "outputs": [],
   "source": [
    "def left_hyper(BH, multiplicity):\n",
    "    \"\"\"\n",
    "        Lifts the hypergraph BH, with fibers of cardinality up to multiplicity.\n",
    "        The resulting graph has:\n",
    "        - nodes are named (x,i) where x is a node of BH and i is in range(k), k being the size of the fiber over k\n",
    "        - hyperarcs are named h_{i} where h is a hyperarc of BH and i is in range(k), k being the size of the fiber over the target of h.\n",
    "        The function returns the lifted hypergraph, and a dictionary mapping the nodes (as strings) of the \n",
    "        result to the nodes of the original graph.\n",
    "    \"\"\"\n",
    "    map = {}\n",
    "    B, dd = hg2g(BH) # Lift every node\n",
    "    resdd = {}\n",
    "    lifting = {}\n",
    "    for x in B.nodes():\n",
    "        if dd[x] == 0: # Node, liftable\n",
    "            lifting[x]=list(range(randint(1, multiplicity)))   # Multiplicity of nodes\n",
    "            for i in lifting[x]:\n",
    "                    resdd[str((x, i))] = x\n",
    "    H = hnx.Hypergraph() # Generate H appropriately\n",
    "    for h in BH.edges():\n",
    "        name = str(h)\n",
    "        target = h.props['target']\n",
    "        sources = set([x for x in h.elements])-set([target])\n",
    "        for t in lifting[target]:\n",
    "            ss = []\n",
    "            for s in sources:\n",
    "                s_lift = sample(lifting[s], 1)[0]\n",
    "                ss += [(s, s_lift)]\n",
    "            add_directed_hyperedge(H, ss, (target, t), \"{}_{}\".format(name, t))\n",
    "    return H, resdd\n"
   ]
  },
  {
   "cell_type": "code",
   "execution_count": 158,
   "id": "5f8ee0eb-f034-4841-a2be-bb2aa045648e",
   "metadata": {},
   "outputs": [],
   "source": [
    "def nodes2id(H):\n",
    "    \"\"\"\n",
    "        Returns a dictionary with one entry for every node of H, which is a monotone minimal perfect hashing. \n",
    "        The entry related to node x has key str(x).\n",
    "    \"\"\"\n",
    "    s = enumerate(sorted([str(x) for x in H.nodes()]))\n",
    "    return {t[1]: t[0] for t in s}"
   ]
  },
  {
   "cell_type": "code",
   "execution_count": 159,
   "id": "783637e4-5937-4f2f-9b24-17aff440db1c",
   "metadata": {},
   "outputs": [],
   "source": [
    "BH = gen_hyper(3,7)\n",
    "H, dd = left_hyper(BH,3)\n",
    "\n",
    "idBH = nodes2id(BH)       # Nodes of BH are mapped to numbers (ids)   \n",
    "idH = nodes2id(H)        # Nodes of H are mapped to numbers (ids)\n",
    "idH2B = [idBH[str(dd[x])] for x in [{v: k for k,v in idH.items()}[i] for i in range(len(idH))]]\n",
    "                         # Maps each id of H to the corresponding id of BH"
   ]
  },
  {
   "cell_type": "code",
   "execution_count": 160,
   "id": "09517217-b978-4f13-96fa-c0e2267d8259",
   "metadata": {},
   "outputs": [],
   "source": [
    "def model_for(H, idH):\n",
    "    \"\"\"\n",
    "        Returns the model for the hypergraph H, using idH for ids (see nodes2id).\n",
    "        This model contains len(idH) variables and equations.\n",
    "        Let y[i] denote the i-th variable. \n",
    "        Let x be a node of H. Then y'[idH[x]] is obtained as follows: for every \n",
    "        hyperarc h with target x, you take the product of y[s] for all sources s of x.\n",
    "        You sum these products\n",
    "    \"\"\"\n",
    "    def model(y, t):\n",
    "        res = [0 for x in range(len(idH))]\n",
    "        for h in H.edges():\n",
    "            target = idH[str(h.props['target'])]\n",
    "            sources = set([idH[str(x)] for x in h.elements])\n",
    "            p = 1\n",
    "            for s in sources:\n",
    "                p *= y[s]\n",
    "            res[target] += p\n",
    "        return res\n",
    "    return model"
   ]
  },
  {
   "cell_type": "code",
   "execution_count": 161,
   "id": "26f7d2c5",
   "metadata": {},
   "outputs": [],
   "source": [
    "mmH = model_for(H, idH)\n",
    "mmB = model_for(BH, idBH)"
   ]
  },
  {
   "cell_type": "code",
   "execution_count": 162,
   "id": "58e74f75",
   "metadata": {},
   "outputs": [],
   "source": [
    "import numpy as np\n",
    "from scipy.integrate import odeint\n",
    "import matplotlib.pyplot as plt\n"
   ]
  },
  {
   "cell_type": "code",
   "execution_count": 163,
   "id": "dfa3441f",
   "metadata": {},
   "outputs": [
    {
     "ename": "IndexError",
     "evalue": "index 6 is out of bounds for axis 0 with size 5",
     "output_type": "error",
     "traceback": [
      "\u001b[0;31m---------------------------------------------------------------------------\u001b[0m",
      "\u001b[0;31mIndexError\u001b[0m                                Traceback (most recent call last)",
      "Cell \u001b[0;32mIn[163], line 16\u001b[0m\n\u001b[1;32m     13\u001b[0m node \u001b[38;5;241m=\u001b[39m \u001b[38;5;241m6\u001b[39m\n\u001b[1;32m     15\u001b[0m \u001b[38;5;66;03m# plot results\u001b[39;00m\n\u001b[0;32m---> 16\u001b[0m plt\u001b[38;5;241m.\u001b[39mplot(t,[yH[i][node] \u001b[38;5;28;01mfor\u001b[39;00m i \u001b[38;5;129;01min\u001b[39;00m \u001b[38;5;28mrange\u001b[39m(\u001b[38;5;28mlen\u001b[39m(t))])\n\u001b[1;32m     17\u001b[0m plt\u001b[38;5;241m.\u001b[39mplot(t,[yB[i][idH2B[node]] \u001b[38;5;28;01mfor\u001b[39;00m i \u001b[38;5;129;01min\u001b[39;00m \u001b[38;5;28mrange\u001b[39m(\u001b[38;5;28mlen\u001b[39m(t))])\n\u001b[1;32m     18\u001b[0m plt\u001b[38;5;241m.\u001b[39mxlabel(\u001b[38;5;124m'\u001b[39m\u001b[38;5;124mtime\u001b[39m\u001b[38;5;124m'\u001b[39m)\n",
      "Cell \u001b[0;32mIn[163], line 16\u001b[0m, in \u001b[0;36m<listcomp>\u001b[0;34m(.0)\u001b[0m\n\u001b[1;32m     13\u001b[0m node \u001b[38;5;241m=\u001b[39m \u001b[38;5;241m6\u001b[39m\n\u001b[1;32m     15\u001b[0m \u001b[38;5;66;03m# plot results\u001b[39;00m\n\u001b[0;32m---> 16\u001b[0m plt\u001b[38;5;241m.\u001b[39mplot(t,[\u001b[43myH\u001b[49m\u001b[43m[\u001b[49m\u001b[43mi\u001b[49m\u001b[43m]\u001b[49m\u001b[43m[\u001b[49m\u001b[43mnode\u001b[49m\u001b[43m]\u001b[49m \u001b[38;5;28;01mfor\u001b[39;00m i \u001b[38;5;129;01min\u001b[39;00m \u001b[38;5;28mrange\u001b[39m(\u001b[38;5;28mlen\u001b[39m(t))])\n\u001b[1;32m     17\u001b[0m plt\u001b[38;5;241m.\u001b[39mplot(t,[yB[i][idH2B[node]] \u001b[38;5;28;01mfor\u001b[39;00m i \u001b[38;5;129;01min\u001b[39;00m \u001b[38;5;28mrange\u001b[39m(\u001b[38;5;28mlen\u001b[39m(t))])\n\u001b[1;32m     18\u001b[0m plt\u001b[38;5;241m.\u001b[39mxlabel(\u001b[38;5;124m'\u001b[39m\u001b[38;5;124mtime\u001b[39m\u001b[38;5;124m'\u001b[39m)\n",
      "\u001b[0;31mIndexError\u001b[0m: index 6 is out of bounds for axis 0 with size 5"
     ]
    }
   ],
   "source": [
    "# initial condition\n",
    "y0B = range(BH.number_of_nodes())\n",
    "y0H = [y0B[idH2B[x]] for x in range(H.number_of_nodes())]\n",
    "\n",
    "# time points\n",
    "t = np.linspace(0,20)\n",
    "\n",
    "# solve ODE\n",
    "yB = odeint(mmB, y0B, t)\n",
    "yH = odeint(mmH, y0H, t)\n",
    "\n",
    "# node of H to look at\n",
    "node = H.number_of_nodes()-\n",
    "\n",
    "# plot results\n",
    "plt.plot(t,[yH[i][node] for i in range(len(t))])\n",
    "plt.plot(t,[yB[i][idH2B[node]] for i in range(len(t))])\n",
    "plt.xlabel('time')\n",
    "plt.ylabel('y(t)')\n",
    "plt.show()"
   ]
  },
  {
   "cell_type": "code",
   "execution_count": 149,
   "id": "42a4c62c-a750-45da-9f4b-aec0f03e7cef",
   "metadata": {},
   "outputs": [
    {
     "data": {
      "text/plain": [
       "[0, 0, 0, 1, 1, 1, 2, 2]"
      ]
     },
     "execution_count": 149,
     "metadata": {},
     "output_type": "execute_result"
    }
   ],
   "source": [
    "idH2B"
   ]
  },
  {
   "cell_type": "code",
   "execution_count": null,
   "id": "48f60ff9-7df1-4b69-8c3c-87b4e3ff4666",
   "metadata": {},
   "outputs": [],
   "source": []
  }
 ],
 "metadata": {
  "kernelspec": {
   "display_name": "qf",
   "language": "python",
   "name": "qf"
  },
  "language_info": {
   "codemirror_mode": {
    "name": "ipython",
    "version": 3
   },
   "file_extension": ".py",
   "mimetype": "text/x-python",
   "name": "python",
   "nbconvert_exporter": "python",
   "pygments_lexer": "ipython3",
   "version": "3.9.17"
  }
 },
 "nbformat": 4,
 "nbformat_minor": 5
}
