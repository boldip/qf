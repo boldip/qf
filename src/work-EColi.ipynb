{
 "cells": [
  {
   "cell_type": "code",
   "execution_count": 1,
   "id": "d4364c55",
   "metadata": {},
   "outputs": [],
   "source": [
    "from hypergraphs import *"
   ]
  },
  {
   "cell_type": "code",
   "execution_count": 2,
   "id": "1e5fd231",
   "metadata": {},
   "outputs": [
    {
     "name": "stdout",
     "output_type": "stream",
     "text": [
      "Ignoring value  -1.496\n",
      "Ignoring value  -3.7478\n",
      "Ignoring value  2\n",
      "Ignoring value  59.81\n",
      "Ignoring value  4.1182\n",
      "Ignoring value  -59.81\n",
      "Ignoring value  3.7478\n",
      "Ignoring value  -0.361\n",
      "Ignoring value  -0.0709\n",
      "Ignoring value  -0.129\n",
      "Ignoring value  -0.205\n",
      "Ignoring value  -0.2557\n",
      "Ignoring value  -4.9414\n",
      "Ignoring value  2\n",
      "Ignoring value  -59.81\n",
      "Ignoring value  3\n",
      "Ignoring value  59.81\n",
      "Ignoring value  -2\n",
      "Ignoring value  2\n",
      "Ignoring value  2\n",
      "Ignoring value  -4\n",
      "Ignoring value  2\n",
      "Ignoring value  2\n",
      "Ignoring value  2\n",
      "Ignoring value  -4\n",
      "Ignoring value  2\n",
      "Ignoring value  -2\n",
      "Ignoring value  -2\n",
      "Ignoring value  3\n",
      "Ignoring value  -2\n",
      "Ignoring value  -2\n",
      "Ignoring value  -3.547\n",
      "Ignoring value  3.547\n",
      "Ignoring value  13.0279\n",
      "Ignoring value  -13.0279\n",
      "Ignoring value  -0.5\n",
      "Ignoring value  -1.7867\n",
      "Ignoring value  -0.5191\n",
      "Ignoring value  59.81\n",
      "Ignoring value  -2.8328\n",
      "Ignoring value  -0.8977\n",
      "ADK1  has no sources\n",
      "Biomass_Ecoli_core  has no sources\n",
      "EX_ac(e)  has no sources\n",
      "EX_acald(e)  has no sources\n",
      "EX_akg(e)  has no sources\n",
      "EX_co2(e)  has no sources\n",
      "EX_etoh(e)  has no sources\n",
      "EX_for(e)  has no sources\n",
      "EX_fru(e)  has no sources\n",
      "EX_fum(e)  has no sources\n",
      "EX_glc(e)  has no sources\n",
      "EX_gln_L(e)  has no sources\n",
      "EX_glu_L(e)  has no sources\n",
      "EX_h(e)  has no sources\n",
      "EX_h2o(e)  has no sources\n",
      "EX_lac_D(e)  has no sources\n",
      "EX_mal_L(e)  has no sources\n",
      "EX_nh4(e)  has no sources\n",
      "EX_o2(e)  has no sources\n",
      "EX_pi(e)  has no sources\n",
      "EX_pyr(e)  has no sources\n",
      "EX_succ(e)  has no sources\n"
     ]
    }
   ],
   "source": [
    "H = read_hg_from_S(\"../../LaTeX/Data/ecoli_core_model.csv\")"
   ]
  },
  {
   "cell_type": "code",
   "execution_count": 3,
   "id": "0132f520",
   "metadata": {},
   "outputs": [],
   "source": [
    "m = hyper_cardon_crochemore(H)"
   ]
  },
  {
   "cell_type": "code",
   "execution_count": 4,
   "id": "1c977d47",
   "metadata": {},
   "outputs": [
    {
     "name": "stdout",
     "output_type": "stream",
     "text": [
      "{'ATPS4r_0', 'ATPS4r_1'}\n",
      "{'PYK_0', 'PYK_1', 'PYK_2'}\n",
      "{'FRD7_1', 'FRD7_0'}\n",
      "{'PFK_0', 'PFK_1'}\n",
      "{'ACKr_0', 'PGK_1', 'PGK_0', 'ACKr_1'}\n",
      "{'PPCK_1', 'PPCK_0'}\n",
      "{'FORt2_0', 'FORt2_1'}\n",
      "{'PGL_0', 'PGL_1'}\n",
      "{'GAPD_2', 'GAPD_0', 'GAPD_1'}\n",
      "{'GLUt2r_0', 'GLUt2r_1'}\n",
      "{'GLUDy_0', 'GLUDy_2', 'GLUDy_1'}\n",
      "{'SUCCt3_1', 'SUCCt3_0'}\n",
      "{'ACt2r_1', 'ACt2r_0'}\n",
      "{'MDH_0', 'MDH_1'}\n",
      "{'AKGt2r_0', 'AKGt2r_1'}\n",
      "{'G6PDH2r_0', 'G6PDH2r_1'}\n",
      "{'ALCD2x_0', 'ALCD2x_1'}\n",
      "{'LDH_D_0', 'LDH_D_1'}\n",
      "{'D-LACt2_0', 'D-LACt2_1'}\n",
      "{'PYRt2r_0', 'PYRt2r_1'}\n",
      "{'ETOHt2r_0', 'ETOHt2r_1'}\n",
      "{'CS_1', 'CS_0', 'CS_2'}\n",
      "{'MALS_0', 'MALS_2', 'MALS_1'}\n",
      "{'PTAr_1', 'PTAr_0'}\n",
      "{'3pg', 'ac'}\n",
      "{'AKGDH_2', 'AKGDH_1', 'AKGDH_0'}\n",
      "{'actp', 'amp', '13dpg', 'succoa', 'o2'}\n",
      "{'ATPM_1', 'ATPM_0'}\n",
      "{'GLNabc_2', 'GLNS_2', 'GLNabc_1', 'GLNS_1', 'GLNS_0', 'GLNabc_0'}\n",
      "{'SUCOAS_1', 'SUCOAS_2', 'SUCOAS_0'}\n",
      "{'PIt2r_0', 'PIt2r_1'}\n",
      "{'PPC_0', 'PPC_1', 'PPC_2'}\n",
      "{'PPS_2', 'PPS_0', 'PPS_1'}\n",
      "{'FBP_1', 'FBP_0'}\n",
      "{'nh4', 'gln-L(e)'}\n",
      "{'GLUN_0', 'GLUN_1'}\n",
      "{'ACONTb_1', 'ACONTb_0'}\n",
      "{'SUCDi_0', 'SUCDi_1'}\n",
      "{'NADH16_1', 'NADH16_0'}\n",
      "{'ACALD_0', 'ACALD_1', 'ACALD_2'}\n",
      "{'PFL_1', 'PFL_0'}\n",
      "{'PDH_0', 'PDH_2', 'PDH_1'}\n",
      "{'GND_0', 'GND_1'}\n",
      "{'TKT1_1', 'TKT1_0'}\n",
      "{'TKT2_0', 'TKT2_1'}\n",
      "{'ICDHyr_0', 'ICDHyr_1'}\n",
      "{'THD2_0', 'THD2_1'}\n",
      "{'ME2_1', 'ME2_0'}\n",
      "{'NADTRHD_0', 'NADTRHD_1'}\n",
      "{'ME1_1', 'ME1_0'}\n",
      "{'GLUSy_2', 'GLUSy_0', 'GLUSy_3', 'GLUSy_1'}\n",
      "{'TALA_1', 'TALA_0'}\n",
      "{'FRUpts2_1', 'FRUpts2_0'}\n",
      "{'FUM_1', 'FUM_0', 'MALt2_2'}\n",
      "{'GLCpts_0', 'GLCpts_1'}\n"
     ]
    }
   ],
   "source": [
    "showMapKeys(m, onlyNonTrivial=True)"
   ]
  },
  {
   "cell_type": "code",
   "execution_count": null,
   "id": "8f5854bb",
   "metadata": {},
   "outputs": [],
   "source": [
    "G, dd = hg2g(H)\n",
    "qf.graphs.visualize(G, m)"
   ]
  },
  {
   "cell_type": "code",
   "execution_count": null,
   "id": "374523d9",
   "metadata": {},
   "outputs": [],
   "source": []
  }
 ],
 "metadata": {
  "kernelspec": {
   "display_name": "qf",
   "language": "python",
   "name": "qf"
  },
  "language_info": {
   "codemirror_mode": {
    "name": "ipython",
    "version": 3
   },
   "file_extension": ".py",
   "mimetype": "text/x-python",
   "name": "python",
   "nbconvert_exporter": "python",
   "pygments_lexer": "ipython3",
   "version": "3.7.5"
  }
 },
 "nbformat": 4,
 "nbformat_minor": 5
}
